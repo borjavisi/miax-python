{
 "cells": [
  {
   "cell_type": "code",
   "execution_count": null,
   "metadata": {},
   "outputs": [],
   "source": [
    "import numpy as np\n",
    "import matplotlib.pyplot as plt\n",
    "%matplotlib inline\n",
    "import urllib.request\n",
    "import pandas as pd"
   ]
  },
  {
   "cell_type": "markdown",
   "metadata": {},
   "source": [
    "# 5.3. Optimización de carteras I"
   ]
  },
  {
   "cell_type": "markdown",
   "metadata": {},
   "source": [
    "- Descarga los datos del último año de algunos activos usando IEX. \n",
    "- Crea un dataframe solo con los datos de cierre.\n",
    "- Calcula un portfolio aleatorio:\n",
    "   - Genera unos pesos aleatorios.\n",
    "   - Calcula el retorno y la desviacion típical del portfolio:\n",
    "       - $R_p = w\\mu_i$ donde $mu_i$ es la media de los retornos diarios del activo $i$.\n",
    "       - $\\sigma_p = \\sqrt{w\\Sigma w^T}$ donde $\\Sigma$ es la matriz de covarianzas de los retornos.\n",
    "   - Repite el procceso $n$ veces por ejemplo 10000, guardando $\\mu$ y $\\sigma$.\n",
    "   - Realiza una figura con todos los puntos.\n",
    "   - Selecciona el punto de máximo ratio sharpe: $S_r = \\frac{R_p - R_f}{\\sigma_p}$ asume que $R_f$ el retorno del activo sin riesgo es 0. Pinta este punto en la figura\n",
    "   \n",
    "   \n",
    "   <center>\n",
    "<img src=\"imgs/harry.jpeg\"  alt=\"drawing\" width=\"300\"/>\n",
    "<br />    Harry Markowitz, Novel 1990\n",
    "</center>\n",
    "\n",
    "  \n",
    "   "
   ]
  },
  {
   "cell_type": "code",
   "execution_count": null,
   "metadata": {},
   "outputs": [],
   "source": []
  },
  {
   "cell_type": "markdown",
   "metadata": {},
   "source": [
    "### Descarga de datos"
   ]
  },
  {
   "cell_type": "code",
   "execution_count": null,
   "metadata": {},
   "outputs": [],
   "source": []
  },
  {
   "cell_type": "markdown",
   "metadata": {},
   "source": [
    "### Random porfolio"
   ]
  },
  {
   "cell_type": "code",
   "execution_count": null,
   "metadata": {},
   "outputs": [],
   "source": []
  }
 ],
 "metadata": {
  "kernelspec": {
   "display_name": "Python 3",
   "language": "python",
   "name": "python3"
  },
  "language_info": {
   "codemirror_mode": {
    "name": "ipython",
    "version": 3
   },
   "file_extension": ".py",
   "mimetype": "text/x-python",
   "name": "python",
   "nbconvert_exporter": "python",
   "pygments_lexer": "ipython3",
   "version": "3.7.3"
  }
 },
 "nbformat": 4,
 "nbformat_minor": 2
}

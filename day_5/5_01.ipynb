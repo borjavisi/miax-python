{
 "cells": [
  {
   "cell_type": "markdown",
   "metadata": {},
   "source": [
    "# 5.1. Obtención de datos financieros\n",
    "- Regístrate en iexcloud: https://iexcloud.io/c\n",
    "- Ve los datos que están disponibles.\n",
    "- Mira las bolsas disponibles.\n",
    "- En una de ellas mira los símbolos."
   ]
  },
  {
   "cell_type": "markdown",
   "metadata": {},
   "source": [
    "- Crea dos funciones:\n",
    " - Una que retorne el open, high, low, close y volumen diario de todos los datos disponibles.\n",
    " - Otra que de los datos diarios de un día completo.\n",
    " - Pinta en una figura de velas ambas."
   ]
  },
  {
   "cell_type": "markdown",
   "metadata": {},
   "source": [
    "## Otros"
   ]
  },
  {
   "cell_type": "markdown",
   "metadata": {},
   "source": [
    "- Podemos usar la librería: https://pypi.org/project/iexfinance/\n",
    "- Datos tick a tick: https://iextrading.com/trading/market-data/\n",
    "- Usar la librería: \n",
    "    - https://github.com/timpalpant/go-iex"
   ]
  }
 ],
 "metadata": {
  "kernelspec": {
   "display_name": "Python 3",
   "language": "python",
   "name": "python3"
  },
  "language_info": {
   "codemirror_mode": {
    "name": "ipython",
    "version": 3
   },
   "file_extension": ".py",
   "mimetype": "text/x-python",
   "name": "python",
   "nbconvert_exporter": "python",
   "pygments_lexer": "ipython3",
   "version": "3.7.3"
  }
 },
 "nbformat": 4,
 "nbformat_minor": 2
}

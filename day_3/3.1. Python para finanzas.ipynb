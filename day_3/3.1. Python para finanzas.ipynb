{
 "cells": [
  {
   "cell_type": "markdown",
   "metadata": {},
   "source": [
    "# Programación en Python para finanzas"
   ]
  },
  {
   "cell_type": "code",
   "execution_count": null,
   "metadata": {
    "collapsed": true
   },
   "outputs": [],
   "source": [
    "import numpy as np\n",
    "import pandas as pd"
   ]
  },
  {
   "cell_type": "markdown",
   "metadata": {},
   "source": [
    "Como ya se ha mencionado, Python es un lenguaje de programación versátil y con gran cantidad de librerías dedicadas a diversos ámbitos, entre los que se encuentran las finanzas."
   ]
  },
  {
   "cell_type": "markdown",
   "metadata": {},
   "source": [
    "### Caso 1: valoración de una opción call Europea con simulación de Monte Carlo"
   ]
  },
  {
   "cell_type": "markdown",
   "metadata": {},
   "source": [
    "Supongamos que tenemos los siguientes parámetros para la valoración:\n",
    "- Nivel inicial del stock index -> S0  = 100\n",
    "- Strike price de la opción de la call European -> K = 105\n",
    "- Time-to-maturity -> T = 1 year\n",
    "- Tipo de interés a corto plazo exento de riesgo, constante -> r = 5%\n",
    "- Volatilidad constante sigma = 20%"
   ]
  },
  {
   "cell_type": "markdown",
   "metadata": {},
   "source": [
    "La ecuación Black-Scholes-Merton a maturity sería:\n",
    "<img src = \"img\\01 bs formula.png\" > \n",
    "\n",
    "Y los pasos serían\n",
    "1. De una distribución normal standard, escoger I números aleatorios z(i), i ∈ [1,2,....,I]\n",
    "2. Calcular los niveles a maturity ST (i) dado z(i) y la ecuación anterior\n",
    "3. Calcular los valores de la opción a maturity como hT(i) = max(ST(i) - K,0)\n",
    "4. Estimar el valor presente de la opción a través del estimador de Monte Carlo dado a continuación\n",
    "\n",
    "Ecuación del estimador de Monte Carlo para una opción Europea: \n",
    "<img src = \"img\\02 mc call_europea formula.png\" > \n"
   ]
  },
  {
   "cell_type": "markdown",
   "metadata": {},
   "source": [
    "Vamos a trasladar este problema a python"
   ]
  },
  {
   "cell_type": "markdown",
   "metadata": {},
   "source": [
    "El primer paso consite en definir las variables"
   ]
  },
  {
   "cell_type": "code",
   "execution_count": null,
   "metadata": {
    "collapsed": true
   },
   "outputs": [],
   "source": [
    "S0 = 100.\n",
    "K = 105.\n",
    "T = 1.0\n",
    "r = 0.05\n",
    "sigma = 0.2"
   ]
  },
  {
   "cell_type": "markdown",
   "metadata": {},
   "source": [
    "A continuación, resolvemos el problema"
   ]
  },
  {
   "cell_type": "code",
   "execution_count": null,
   "metadata": {
    "collapsed": false
   },
   "outputs": [],
   "source": []
  },
  {
   "cell_type": "markdown",
   "metadata": {},
   "source": [
    "Observación: ¿Qué ocurre si ahora cambian los parámetros? ¿Es reutilizable el código?\n",
    "Extra: convierte el código anterior en una función que pueda ser llamada y devuelva el valor de la opción."
   ]
  },
  {
   "cell_type": "markdown",
   "metadata": {},
   "source": [
    "#### Conclusiones\n",
    "\n",
    "- Python tiene una **sintaxis** muy similar a las matemáticas\n",
    "- **Traducir** una función o sentencia algorítmica a una única línea de código en Python es posible en general.\n",
    "- La sintaxis compacta y **vectorizada** de NumPy, que permite 100 K cálculos en una única línea de código es beneficiosa para simulaciones."
   ]
  },
  {
   "cell_type": "markdown",
   "metadata": {},
   "source": [
    "### Caso 2: rápido análisis de cotizaciones"
   ]
  },
  {
   "cell_type": "markdown",
   "metadata": {},
   "source": [
    "Pero Python no sólo destaca por su capacidad para implementar con facilidad funciones matemáticas. También permite realizar análisis de forma limpia y sencilla.  Más adelante profundizaremos en estos estudios, a través de la estadística y la capacidad de visualización."
   ]
  },
  {
   "cell_type": "markdown",
   "metadata": {},
   "source": [
    "Vamos a realizar un rápido análsis sobre la cotización de Amazon. Los pasos son:\n",
    "- Carga de datos\n",
    "- Cálculo de la rentabilidad y la volatilidad\n",
    "- Visualizar los datos"
   ]
  },
  {
   "cell_type": "code",
   "execution_count": null,
   "metadata": {
    "collapsed": true
   },
   "outputs": [],
   "source": [
    "# Carga de datos y comprobación\n",
    "raw = pd.read_csv('data/tr_eikon_eod_data.csv',\n",
    "                   index_col=0, parse_dates=True)\n",
    "amzn = pd.DataFrame(raw['AMZN.O'])\n",
    "amzn.columns = ['Close']\n",
    "amzn.tail()"
   ]
  },
  {
   "cell_type": "code",
   "execution_count": null,
   "metadata": {
    "collapsed": true
   },
   "outputs": [],
   "source": [
    "# Se calcula la rentabilidad y la volatilidad de la serie\n",
    "amzn['Log_Ret'] = np.log(amzn['Close'] / amzn['Close'].shift(1))\n",
    "amzn['Volatility'] = amzn['Log_Ret'].rolling(window=252).std() * np.sqrt(252)"
   ]
  },
  {
   "cell_type": "code",
   "execution_count": null,
   "metadata": {
    "collapsed": true
   },
   "outputs": [],
   "source": [
    "# se pintan los datos\n",
    "%matplotlib inline\n",
    "amzn[['Close', 'Volatility']].plot(subplots=True, color='blue',\n",
    "                                   figsize=(8, 6), grid=True);\n",
    "# title: Amazon closing prices and yearly volatility"
   ]
  },
  {
   "cell_type": "markdown",
   "metadata": {},
   "source": [
    "#### Conclusiones\n",
    "\n",
    "Además de lo anterior hemos observado:\n",
    "- Su **eficiencia**, a través de su rapidez, ahorro de costes y de tiempo\n",
    "- Su **productividad**, permitiendo conseguir más con los mismos recursos, y sin un coste de aprendizaje inicial muy alto\n",
    "- Su **calidad**, permitiendo acceder a paquetes y herramientas que no estarían disponibles en otras plataformas\n"
   ]
  }
 ],
 "metadata": {
  "kernelspec": {
   "display_name": "Python 3",
   "language": "python",
   "name": "python3"
  },
  "language_info": {
   "codemirror_mode": {
    "name": "ipython",
    "version": 3
   },
   "file_extension": ".py",
   "mimetype": "text/x-python",
   "name": "python",
   "nbconvert_exporter": "python",
   "pygments_lexer": "ipython3",
   "version": "3.7.3"
  }
 },
 "nbformat": 4,
 "nbformat_minor": 2
}

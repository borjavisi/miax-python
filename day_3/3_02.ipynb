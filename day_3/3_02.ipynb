{
 "cells": [
  {
   "cell_type": "code",
   "execution_count": null,
   "metadata": {},
   "outputs": [],
   "source": [
    "import pandas as pd\n",
    "import numpy as np"
   ]
  },
  {
   "cell_type": "markdown",
   "metadata": {},
   "source": [
    "# 3.2. Adquisición y guardado de datos."
   ]
  },
  {
   "cell_type": "markdown",
   "metadata": {},
   "source": [
    "## Formatos disponibles para lectura y escritura\n",
    "- Multiples formas de importar y exportar datos en pandas:\n",
    "<center>\n",
    "<img src=\"imgs/data_1.png\"  alt=\"drawing\" width=\"600\"/>\n",
    "<img src=\"imgs/data_2.png\"  alt=\"drawing\" width=\"600\"/>\n",
    "</center>"
   ]
  },
  {
   "cell_type": "markdown",
   "metadata": {},
   "source": [
    "## Ficheros de tipo texto.\n",
    "\n",
    "- Probablemente, una de las formas más recurrentes de trabajo para el análisis de datos\n",
    "- La librería pandas, nos ofrece funciones para trabajar con ficheros en múltiples formatos.\n",
    "\n",
    "### Lectura de ficheros en formato texto.\n",
    "- Para la lectura usamos la función <b>read_csv</b>.\n",
    "- Los parámetros más importantes/comunes de esta funcion son los siguientes:<br/>\n",
    "<ul>\n",
    "<li><b>path:</b> Ruta del fichero del que se va a realizar la lectura.</li>\n",
    "<li><b>sep:</b> Carácter(es) que se utilizan como separador de campos en el fichero.</li>\n",
    "<li><b>header:</b> Índice de la fila que contiene los nombres de las columnas (None en caso de no haber).</li>\n",
    "<li><b>index_col:</b> Índice de la columna o secuencia de índices que se deben usar como índice de filas de los datos.</li>\n",
    "<li><b>names:</b> Secuencia que contiene los nombres de las columnas (usado junto con header=None).</li>\n",
    "<li><b>skiprows:</b> Número de filas o secuencia de índices de fila que se deben ignorar en la carga.</li>\n",
    "<li><b>na_values:</b> Secuencia de valores que, de encontrarse en el fichero, deben ser tratados como NaN.</li>\n",
    "<li><b>dtype:</b> Diccionario en el que las claves serán nombres de columnas y los valores serán tipos de NumPy a los que se debe convertir su contenido.</li>\n",
    "<li><b>parse_dates:</b> Flag que indica si Python debe intentar parsear datos con formato semejante a las fechas como fechas. Puede contenter un listado de nombres de columnas que deberán unirse para el parseo como fecha.</li>\n",
    "<li><b>keep_date_col:</b> Si se unen columnas para parsear como fecha, indica si se deben eliminar del DataFrame resultante las columnas originales.</li>\n",
    "<li><b>converters:</b> Diccionario en el que las claves serán nombres de columnas y los valores funciones que se deberán aplicar al contenido de dichas columnas durante la carga.</li>\n",
    "<li><b>dayfirst:</b> Indica si al parsear fechas se debe esperar el día primero o el mes. </li>\n",
    "<li><b>date_parser:</b> Función a utilizar para tratar de parsear fechas.</li>\n",
    "<li><b>nrows:</b> Número de filas a leer desde el principio del fichero.</li>\n",
    "<li><b>chunksize:</b> Tamaño a utilizar para la lectura incremental del fichero.</li>\n",
    "<li><b>skip_footer:</b> Número de filas a ignorar del final del fichero.</li>\n",
    "<li><b>enconding:</b> Codificación a esperar del fichero leído.</li>\n",
    "<li><b>squeeze:</b> Flag que indica que si los datos leídos sólo contienen una columna el resultado sea una Serie en lugar de un DataFrame.</li>\n",
    "<li><b>thousands:</b> Carácter a utilizar para detectar el separador de miles.</li>\n",
    "<li><b>decimal:</b> Carácter a utilizar para detectar el separador de decimales.</li>\n",
    "<li><b>skip_blank_lines:</b> Flag que indica si se deben ignorar las líneas en blanco.</li>\n",
    "</ul>\n",
    "\n",
    "<center>\n",
    "<img src=\"imgs/data_3.png\"  alt=\"drawing\" width=\"600\"/>\n",
    "<img src=\"imgs/data4.png\"  alt=\"drawing\" width=\"600\"/>\n",
    "</center>\n"
   ]
  },
  {
   "cell_type": "code",
   "execution_count": null,
   "metadata": {
    "collapsed": false,
    "editable": true
   },
   "outputs": [],
   "source": [
    "!cat test_data/ex1.csv"
   ]
  },
  {
   "cell_type": "code",
   "execution_count": null,
   "metadata": {
    "collapsed": false,
    "editable": true
   },
   "outputs": [],
   "source": [
    "df = pd.read_csv('test_data/ex1.csv')\n",
    "df"
   ]
  },
  {
   "cell_type": "code",
   "execution_count": null,
   "metadata": {
    "collapsed": false,
    "editable": true
   },
   "outputs": [],
   "source": [
    "!cat test_data/ex2.csv"
   ]
  },
  {
   "cell_type": "code",
   "execution_count": null,
   "metadata": {
    "collapsed": false,
    "editable": true
   },
   "outputs": [],
   "source": [
    "pd.read_csv('test_data/ex2.csv', header=None)"
   ]
  },
  {
   "cell_type": "code",
   "execution_count": null,
   "metadata": {
    "collapsed": false,
    "editable": true
   },
   "outputs": [],
   "source": [
    "pd.read_csv('test_data/ex2.csv', names=['a', 'b', 'c', 'd', 'message'])"
   ]
  },
  {
   "cell_type": "code",
   "execution_count": null,
   "metadata": {
    "collapsed": false,
    "editable": true
   },
   "outputs": [],
   "source": [
    "names = ['a', 'b', 'c', 'd', 'message']\n",
    "pd.read_csv('test_data/ex2.csv', \n",
    "            names=names, \n",
    "            index_col='message')"
   ]
  },
  {
   "cell_type": "code",
   "execution_count": null,
   "metadata": {},
   "outputs": [],
   "source": [
    "!cat test_data/ex3.txt"
   ]
  },
  {
   "cell_type": "code",
   "execution_count": null,
   "metadata": {},
   "outputs": [],
   "source": [
    "list(open('test_data/ex3.txt'))"
   ]
  },
  {
   "cell_type": "code",
   "execution_count": null,
   "metadata": {
    "collapsed": false,
    "editable": true
   },
   "outputs": [],
   "source": [
    "result = pd.read_csv('test_data/ex3.txt', sep='\\s+')\n",
    "result"
   ]
  },
  {
   "cell_type": "code",
   "execution_count": null,
   "metadata": {
    "collapsed": false,
    "editable": true
   },
   "outputs": [],
   "source": [
    "!cat test_data/ex4.csv"
   ]
  },
  {
   "cell_type": "code",
   "execution_count": null,
   "metadata": {},
   "outputs": [],
   "source": [
    "pd.read_csv('test_data/ex4.csv', skiprows=[0, 2, 3])"
   ]
  },
  {
   "cell_type": "code",
   "execution_count": null,
   "metadata": {
    "collapsed": false,
    "editable": true
   },
   "outputs": [],
   "source": [
    "!cat test_data/ex5.csv"
   ]
  },
  {
   "cell_type": "code",
   "execution_count": null,
   "metadata": {
    "collapsed": false,
    "editable": true
   },
   "outputs": [],
   "source": [
    "result = pd.read_csv('test_data/ex5.csv')\n",
    "result"
   ]
  },
  {
   "cell_type": "code",
   "execution_count": null,
   "metadata": {},
   "outputs": [],
   "source": [
    "pd.isnull(result)"
   ]
  },
  {
   "cell_type": "code",
   "execution_count": null,
   "metadata": {
    "collapsed": false,
    "editable": true
   },
   "outputs": [],
   "source": [
    "result = pd.read_csv('test_data/ex5.csv', na_values=['NULL'])\n",
    "result"
   ]
  },
  {
   "cell_type": "code",
   "execution_count": null,
   "metadata": {
    "collapsed": false,
    "editable": true
   },
   "outputs": [],
   "source": [
    "# Podemos especificar para casa columna los elementos nulos\n",
    "sentinels = {\n",
    "    'message': ['foo', 'NA'], \n",
    "    'something': ['two']\n",
    "}\n",
    "pd.read_csv('test_data/ex5.csv', na_values=sentinels)"
   ]
  },
  {
   "cell_type": "markdown",
   "metadata": {
    "editable": true
   },
   "source": [
    "### Lectura de ficheros grandes por tramos"
   ]
  },
  {
   "cell_type": "code",
   "execution_count": null,
   "metadata": {
    "collapsed": false,
    "editable": true
   },
   "outputs": [],
   "source": [
    "result = pd.read_csv('test_data/ex6.csv')\n",
    "result.tail()"
   ]
  },
  {
   "cell_type": "code",
   "execution_count": null,
   "metadata": {
    "collapsed": false,
    "editable": true
   },
   "outputs": [],
   "source": [
    "pd.read_csv('test_data/ex6.csv', nrows=5)"
   ]
  },
  {
   "cell_type": "code",
   "execution_count": null,
   "metadata": {
    "collapsed": false,
    "editable": true
   },
   "outputs": [],
   "source": [
    "chunker = pd.read_csv('test_data/ex6.csv', chunksize=1000)\n",
    "chunker"
   ]
  },
  {
   "cell_type": "code",
   "execution_count": null,
   "metadata": {
    "collapsed": false,
    "editable": true
   },
   "outputs": [],
   "source": [
    "chunker = pd.read_csv('test_data/ex6.csv', chunksize=1000)\n",
    "tot = pd.Series([])\n",
    "for piece in chunker:\n",
    "    print(piece.shape)\n"
   ]
  },
  {
   "cell_type": "markdown",
   "metadata": {
    "editable": true
   },
   "source": [
    "### Escritura de ficheros en formato texto"
   ]
  },
  {
   "cell_type": "markdown",
   "metadata": {},
   "source": [
    "- Para escribir datos en forma de texto usamos la función <b>to_csv</b>. \n",
    "- Por defecto, el fichero seleccionado será sobreescrito.\n",
    "- Los parámetros más comunes de esta función son:<br/>\n",
    "<ul>\n",
    "<li><b>path:</b> Ruta del fichero que se utilizará para la escritura.</li>\n",
    "<li><b>sep:</b> Carácter utilizado como separador de campos.</li>\n",
    "<li><b>na_rep:</b> Cadena que se deberá utilizar para darle representación a los valores NaN.</li>\n",
    "<li><b>float_format:</b> Indicador de formato para los números en coma flotante.</li>\n",
    "<li><b>columns:</b> Secuencia de selección del conjunto de columnas que se desea volcar al fichero.</li>\n",
    "<li><b>header:</b> Flag o secuencia de cadenas que indica si se debe volcar la cabecera al fichero.</li>\n",
    "<li><b>index:</b> Flag que indica si el índice debe ser incluido o no como una columna más en el fichero.</li>\n",
    "<li><b>index_label:</b> Nombre que se le debe dar a la columna de índice en el fichero.</li>\n",
    "<li><b>mode:</b> Modo de apertura del fichero. Por defecto, \"w\".</li>\n",
    "<li><b>encoding:</b> Codificación a utilizar en la escritura del fichero.</li>\n",
    "<li><b>line_terminator:</b> Carácter(es) a utilizar para indicar una final de registro.</li>\n",
    "<li><b>date_format:</b> Indicador de formato a utilizar para escribir fechas.</li>\n",
    "<li><b>decimal:</b> Carácter a utilizar como separador de decimales</li>\n",
    "</ul>"
   ]
  },
  {
   "cell_type": "code",
   "execution_count": null,
   "metadata": {
    "collapsed": false,
    "editable": true
   },
   "outputs": [],
   "source": [
    "data = pd.read_csv('test_data/ex5.csv')\n",
    "data"
   ]
  },
  {
   "cell_type": "code",
   "execution_count": null,
   "metadata": {
    "collapsed": false,
    "editable": true
   },
   "outputs": [],
   "source": [
    "data.to_csv('out.csv')"
   ]
  },
  {
   "cell_type": "code",
   "execution_count": null,
   "metadata": {},
   "outputs": [],
   "source": [
    "!cat out.csv"
   ]
  },
  {
   "cell_type": "code",
   "execution_count": null,
   "metadata": {
    "collapsed": false,
    "editable": true
   },
   "outputs": [],
   "source": [
    "import sys\n",
    "data.to_csv(sys.stdout, sep='|')"
   ]
  },
  {
   "cell_type": "code",
   "execution_count": null,
   "metadata": {
    "collapsed": false,
    "editable": true
   },
   "outputs": [],
   "source": [
    "data.to_csv(sys.stdout, na_rep='NULL')"
   ]
  },
  {
   "cell_type": "code",
   "execution_count": null,
   "metadata": {
    "collapsed": false,
    "editable": true
   },
   "outputs": [],
   "source": [
    "data.to_csv(sys.stdout, index=False, header=False)"
   ]
  },
  {
   "cell_type": "code",
   "execution_count": null,
   "metadata": {
    "collapsed": false,
    "editable": true
   },
   "outputs": [],
   "source": [
    "data.to_csv(sys.stdout, index=False, columns=['a', 'b', 'c'])"
   ]
  },
  {
   "cell_type": "code",
   "execution_count": null,
   "metadata": {
    "collapsed": false,
    "editable": true
   },
   "outputs": [],
   "source": [
    "dates = pd.date_range('1/1/2000', periods=7)\n",
    "ts = pd.Series(np.arange(7), index=dates)\n",
    "ts"
   ]
  },
  {
   "cell_type": "code",
   "execution_count": null,
   "metadata": {},
   "outputs": [],
   "source": [
    "ts.to_csv('tseries.csv')\n",
    "!cat tseries.csv"
   ]
  },
  {
   "cell_type": "markdown",
   "metadata": {
    "editable": true
   },
   "source": [
    "## Trabajo con otros formatos\n",
    "### Lectura de Ficheros Excel"
   ]
  },
  {
   "cell_type": "code",
   "execution_count": null,
   "metadata": {
    "collapsed": false,
    "editable": true
   },
   "outputs": [],
   "source": [
    "xlsx = pd.ExcelFile('test_data/ex1.xlsx')"
   ]
  },
  {
   "cell_type": "code",
   "execution_count": null,
   "metadata": {
    "collapsed": false,
    "editable": true
   },
   "outputs": [],
   "source": [
    "pd.read_excel(xlsx, 'Sheet1')"
   ]
  },
  {
   "cell_type": "code",
   "execution_count": null,
   "metadata": {
    "collapsed": false,
    "editable": true
   },
   "outputs": [],
   "source": [
    "frame = pd.read_excel('test_data/ex1.xlsx', 'Sheet1')\n",
    "frame"
   ]
  },
  {
   "cell_type": "code",
   "execution_count": null,
   "metadata": {
    "collapsed": false,
    "editable": true
   },
   "outputs": [],
   "source": [
    "writer = pd.ExcelWriter('test_data/ex2.xlsx')\n",
    "frame.to_excel(writer, 'Sheet1')\n",
    "writer.save()"
   ]
  },
  {
   "cell_type": "code",
   "execution_count": null,
   "metadata": {
    "collapsed": false,
    "editable": true
   },
   "outputs": [],
   "source": [
    "# de forma directa\n",
    "frame.to_excel('test_data/ex2.xlsx')"
   ]
  },
  {
   "cell_type": "markdown",
   "metadata": {
    "editable": true
   },
   "source": [
    "### Binary Data: Pickel"
   ]
  },
  {
   "cell_type": "code",
   "execution_count": null,
   "metadata": {
    "collapsed": false,
    "editable": true
   },
   "outputs": [],
   "source": [
    "frame = pd.read_csv('test_data/ex1.csv')\n",
    "frame"
   ]
  },
  {
   "cell_type": "code",
   "execution_count": null,
   "metadata": {
    "collapsed": false,
    "editable": true
   },
   "outputs": [],
   "source": [
    "frame.to_pickle('frame_pickle')"
   ]
  },
  {
   "cell_type": "code",
   "execution_count": null,
   "metadata": {
    "collapsed": false,
    "editable": true
   },
   "outputs": [],
   "source": [
    "pd.read_pickle('frame_pickle')"
   ]
  }
 ],
 "metadata": {
  "kernelspec": {
   "display_name": "Python 3",
   "language": "python",
   "name": "python3"
  },
  "language_info": {
   "codemirror_mode": {
    "name": "ipython",
    "version": 3
   },
   "file_extension": ".py",
   "mimetype": "text/x-python",
   "name": "python",
   "nbconvert_exporter": "python",
   "pygments_lexer": "ipython3",
   "version": "3.7.3"
  }
 },
 "nbformat": 4,
 "nbformat_minor": 2
}

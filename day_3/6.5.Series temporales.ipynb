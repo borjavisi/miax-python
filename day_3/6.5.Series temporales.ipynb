{
 "cells": [
  {
   "cell_type": "markdown",
   "metadata": {},
   "source": [
    "# Series temporales con Pandas"
   ]
  },
  {
   "cell_type": "markdown",
   "metadata": {},
   "source": [
    "Uno de los usos más relevantes de Pandas en entorno financiero son las series de datos temporales. Trabajar con fechas y con series en el tiempo es muy intuitivo con esta librería, como veremos a continuación."
   ]
  },
  {
   "cell_type": "code",
   "execution_count": null,
   "metadata": {},
   "outputs": [],
   "source": [
    "import numpy as np\n",
    "import pandas as pd"
   ]
  },
  {
   "cell_type": "markdown",
   "metadata": {},
   "source": [
    "## Fechas"
   ]
  },
  {
   "cell_type": "markdown",
   "metadata": {},
   "source": [
    "### Dates and times nativos de Python: ``datetime`` and ``dateutil``\n",
    "\n",
    "Los objetos básicos de Python para trabajar con fechas y horas se encuentran en el módulo ``datetime``.\n",
    "Junto con el módulo ``dateutil`` se pueden utilizar conjuntamente para una rápida ejecución de un gran número de funcionalidades.\n",
    "Por ejemplo, puedes construir una fecha manualmente usando el tipo ``datetime``:"
   ]
  },
  {
   "cell_type": "code",
   "execution_count": null,
   "metadata": {},
   "outputs": [],
   "source": [
    "from datetime import datetime\n",
    "datetime(year=2015, month=7, day=4)"
   ]
  },
  {
   "cell_type": "markdown",
   "metadata": {},
   "source": [
    "O, usando el módulo ``dateutil``, puedes parsear fechas de una gran variedad de formatos desde un string:"
   ]
  },
  {
   "cell_type": "code",
   "execution_count": null,
   "metadata": {},
   "outputs": [],
   "source": [
    "from dateutil import parser\n",
    "date = parser.parse(\"4th of July, 2015\")\n",
    "date"
   ]
  },
  {
   "cell_type": "markdown",
   "metadata": {},
   "source": [
    "Una vez tienes un objeto ``datetime``, puedes ejecutar acciones como imprimir el día de la semana:"
   ]
  },
  {
   "cell_type": "code",
   "execution_count": null,
   "metadata": {},
   "outputs": [],
   "source": [
    "date.strftime('%A')"
   ]
  },
  {
   "cell_type": "markdown",
   "metadata": {},
   "source": [
    "En la línea anterior se ha utilizado uno de las codificaciones estándar del formato para imprimir fechas (``\"%A\"``). Puedes ampliar información sobre este punto en la [sección strftime](https://docs.python.org/3/library/datetime.html#strftime-and-strptime-behavior) de la documentación de Python sobre [datetime](https://docs.python.org/3/library/datetime.html).\n",
    "Puedes encontrar documeentación de otras funciones útiles sobre fechas en [la documentación online de dateutil](http://labix.org/python-dateutil).\n",
    "Un paquete relacionado relevante es [``pytz``](http://pytz.sourceforge.net/), que contiene herramientas para trabajar con uno de los elementos más complejos de las series temporale: las zonas horarias.\n",
    "\n",
    "El poder de  ``datetime`` y ``dateutil`` viene dado por su flexibilidad y sintaxis fácil: pueds usar estos objetos y sus métodos para llevar a cabo casi cualquier operación. Su limitación viene al trabajar con vectores grandes: las listas de objetos datetime de Python son menos eficiente comparado con arrays tipados de fechas (igual que las listas de números son subóptimas comparadas con las de Numpy). "
   ]
  },
  {
   "cell_type": "markdown",
   "metadata": {},
   "source": [
    "### Vectores tipados de fechas en Numpy"
   ]
  },
  {
   "cell_type": "markdown",
   "metadata": {},
   "source": [
    "El dtype ``datetime64`` codifica fechas como integers de 64-bit, lo que permite que los arrays de fechas sean muy compactos. Este dtyp requiere un formato input muy específico:"
   ]
  },
  {
   "cell_type": "code",
   "execution_count": null,
   "metadata": {},
   "outputs": [],
   "source": [
    "import numpy as np\n",
    "date = np.array('2015-07-04', dtype=np.datetime64)\n",
    "date"
   ]
  },
  {
   "cell_type": "markdown",
   "metadata": {},
   "source": [
    "Sin embargo, una vez formateado es sencillo y rápido realizar operaciones:"
   ]
  },
  {
   "cell_type": "code",
   "execution_count": null,
   "metadata": {},
   "outputs": [],
   "source": [
    "date + np.arange(12)"
   ]
  },
  {
   "cell_type": "markdown",
   "metadata": {},
   "source": [
    "Debido al tipo uniforme de los vectores de ``datetime64``, este tipo de operacions pueden ser ejecutadas mucho más rápidamente, especialmente para vectores de gran tamaño.\n",
    "\n",
    "NOTA ADICIONAL: Un detalle de los objetos ``datetime64`` y ``timedelta64`` es que se construyen en una *unidad de tiempo fundamental*. Debido a que el objeto ``datetime64`` se limita a una precisión de 64 bits, el rango de tiempos codificables es $2^{64}$ veces la unidad fundamental. Es decir, este tipo impone un trade-off entre *precisión* de la fecha y *tiempo máximo*.\n",
    "Por ejemplo, si se quieren guardar fechas con resolución de un nanosegundo, sólo se podrá tener información suficiente para codificar un rango de $2^{64}$ nanosegundos (por debajo de 600 años).\n",
    "\n",
    "NumPy inferirá la unidad deseada del input. Por ejemplo, una fecha basada en dias:"
   ]
  },
  {
   "cell_type": "code",
   "execution_count": null,
   "metadata": {},
   "outputs": [],
   "source": [
    "np.datetime64('2015-07-04 12:00')"
   ]
  },
  {
   "cell_type": "markdown",
   "metadata": {},
   "source": [
    "Observa que la zona horaria se establece automáticamente según la zona local del ordenador desde el que se ejecuta.\n",
    "\n",
    "Puedes forzar el tipo de una fecha a cualquier unidad fundamental deseada. Por ejemplo, a nanosegundos:"
   ]
  },
  {
   "cell_type": "code",
   "execution_count": null,
   "metadata": {},
   "outputs": [],
   "source": [
    "np.datetime64('2015-07-04 12:59:59.50', 'ns')"
   ]
  },
  {
   "cell_type": "markdown",
   "metadata": {},
   "source": [
    "La siguiente tabla, obtenida de la [doucmentación NumPy datetime64](http://docs.scipy.org/doc/numpy/reference/arrays.datetime.html), lista los formatos disponibles con los límites temporales:"
   ]
  },
  {
   "cell_type": "markdown",
   "metadata": {},
   "source": [
    "|Code    | Meaning     | Time span (relative) | Time span (absolute)   |\n",
    "|--------|-------------|----------------------|------------------------|\n",
    "| ``Y``  | Year\t       | ± 9.2e18 years       | [9.2e18 BC, 9.2e18 AD] |\n",
    "| ``M``  | Month       | ± 7.6e17 years       | [7.6e17 BC, 7.6e17 AD] |\n",
    "| ``W``  | Week\t       | ± 1.7e17 years       | [1.7e17 BC, 1.7e17 AD] |\n",
    "| ``D``  | Day         | ± 2.5e16 years       | [2.5e16 BC, 2.5e16 AD] |\n",
    "| ``h``  | Hour        | ± 1.0e15 years       | [1.0e15 BC, 1.0e15 AD] |\n",
    "| ``m``  | Minute      | ± 1.7e13 years       | [1.7e13 BC, 1.7e13 AD] |\n",
    "| ``s``  | Second      | ± 2.9e12 years       | [ 2.9e9 BC, 2.9e9 AD]  |\n",
    "| ``ms`` | Millisecond | ± 2.9e9 years        | [ 2.9e6 BC, 2.9e6 AD]  |\n",
    "| ``us`` | Microsecond | ± 2.9e6 years        | [290301 BC, 294241 AD] |\n",
    "| ``ns`` | Nanosecond  | ± 292 years          | [ 1678 AD, 2262 AD]    |\n",
    "| ``ps`` | Picosecond  | ± 106 days           | [ 1969 AD, 1970 AD]    |\n",
    "| ``fs`` | Femtosecond | ± 2.6 hours          | [ 1969 AD, 1970 AD]    |\n",
    "| ``as`` | Attosecond  | ± 9.2 seconds        | [ 1969 AD, 1970 AD]    |"
   ]
  },
  {
   "cell_type": "markdown",
   "metadata": {},
   "source": [
    "El tipo por defecto más utilizado  es ``datetime64[ns]``, debido a su rango de precisión suficiente.\n",
    "\n",
    "``datetime64`` también tiene ciertas deficiencias relacionadas con métodos incorporados en ``datetime`` y ``dateutil`` que no se encuentran disponibles en Numpy. Más información en [la documentación de NumPy datetime64](http://docs.scipy.org/doc/numpy/reference/arrays.datetime.html)."
   ]
  },
  {
   "cell_type": "markdown",
   "metadata": {},
   "source": [
    "### Fechas con Pandas: lo mejor de ambos mundos"
   ]
  },
  {
   "cell_type": "markdown",
   "metadata": {},
   "source": [
    "Pandas builds upon all the tools just discussed to provide a ``Timestamp`` object, which combines the ease-of-use of ``datetime`` and ``dateutil`` with the efficient storage and vectorized interface of ``numpy.datetime64``.\n",
    "From a group of these ``Timestamp`` objects, Pandas can construct a ``DatetimeIndex`` that can be used to index data in a ``Series`` or ``DataFrame``; we'll see many examples of this below.\n",
    "\n",
    "For example, we can use Pandas tools to repeat the demonstration from above.\n",
    "We can parse a flexibly formatted string date, and use format codes to output the day of the week:"
   ]
  },
  {
   "cell_type": "code",
   "execution_count": null,
   "metadata": {},
   "outputs": [],
   "source": [
    "import pandas as pd\n",
    "date = pd.to_datetime(\"4th of July, 2015\")\n",
    "date"
   ]
  },
  {
   "cell_type": "code",
   "execution_count": null,
   "metadata": {},
   "outputs": [],
   "source": [
    "date.strftime('%A')"
   ]
  },
  {
   "cell_type": "markdown",
   "metadata": {},
   "source": [
    "Additionally, we can do NumPy-style vectorized operations directly on this same object:"
   ]
  },
  {
   "cell_type": "code",
   "execution_count": null,
   "metadata": {},
   "outputs": [],
   "source": [
    "date + pd.to_timedelta(np.arange(12), 'D')"
   ]
  },
  {
   "cell_type": "markdown",
   "metadata": {},
   "source": [
    "In the next section, we will take a closer look at manipulating time series data with the tools provided by Pandas."
   ]
  },
  {
   "cell_type": "markdown",
   "metadata": {},
   "source": [
    "## Pandas para time series"
   ]
  },
  {
   "cell_type": "markdown",
   "metadata": {},
   "source": [
    "### Indexación "
   ]
  },
  {
   "cell_type": "markdown",
   "metadata": {},
   "source": [
    "Las herramientas de series temporales de Pandas se vuelven realmente útiles al utilizar *indexación*.\n",
    "Por ejemplo, podemos construir un objeto ``Serie`` que tiene un índice temporal:"
   ]
  },
  {
   "cell_type": "code",
   "execution_count": null,
   "metadata": {},
   "outputs": [],
   "source": [
    "index = pd.DatetimeIndex(['2014-07-04', '2014-08-04',\n",
    "                          '2015-07-04', '2015-08-04'])\n",
    "data = pd.Series([0, 1, 2, 3], index=index)\n",
    "data"
   ]
  },
  {
   "cell_type": "markdown",
   "metadata": {},
   "source": [
    "Ahora que se tiene el tiempo en una ``Serie``, se puede hacer uso de cualquier sistema de indexación, pasando valores que pueden ser convertidos en fechas:"
   ]
  },
  {
   "cell_type": "code",
   "execution_count": null,
   "metadata": {},
   "outputs": [],
   "source": [
    "data['2014-07-04':'2015-07-04']"
   ]
  },
  {
   "cell_type": "markdown",
   "metadata": {},
   "source": [
    "Hay operaciones de indexación adicionales disponibles sólo para fechas, como pasar un año para obtener los datos de ese año:"
   ]
  },
  {
   "cell_type": "code",
   "execution_count": null,
   "metadata": {},
   "outputs": [],
   "source": [
    "data['2015']"
   ]
  },
  {
   "cell_type": "markdown",
   "metadata": {},
   "source": [
    "### Estructuras de tiempo "
   ]
  },
  {
   "cell_type": "markdown",
   "metadata": {},
   "source": [
    "Las estructuras de datos fundamentales de Pandas para series temporales son:\n",
    "\n",
    "- ``Timestamp``: reemplazo de ``datetime``, basado en el sistema más eficiente de ``numpy.datetime64``. La estructura del índice asociada será ``DatetimeIndex``.\n",
    "- ``Period``: para periodos de tiempo. La estructura del índice asociado es ``PeriodIndex``.\n",
    "- ``Timedelta``: para variación de tiempo o duración (mas eficiente que ``datetime.timedelta``). La estructura del índice asociado es ``TimedeltaIndex``.\n",
    "\n",
    "Los tipos más básicos son ``Timestamp`` y ``DatetimeIndex``.\n",
    "\n",
    "La forma más común de crear objetos de este tipo es usando la función ``pd.to_datetime()`` , que puede parsear una gran variedad de formatos. Pasar una fecha a esta función produce un ``Timestamp``; pasar una serie de fechas por defecto devuelve un ``DatetimeIndex``:"
   ]
  },
  {
   "cell_type": "code",
   "execution_count": null,
   "metadata": {},
   "outputs": [],
   "source": [
    "dates = pd.to_datetime([datetime(2015, 7, 3), '4th of July, 2015',\n",
    "                       '2015-Jul-6', '07-07-2015', '20150708'])\n",
    "dates"
   ]
  },
  {
   "cell_type": "markdown",
   "metadata": {},
   "source": [
    "Cualquier ``DatetimeIndex`` puede convertirse en un ``PeriodIndex`` con la función ``to_period()``, añadiendo un código de frecuencia ( ``'D'`` = diario) :"
   ]
  },
  {
   "cell_type": "code",
   "execution_count": null,
   "metadata": {},
   "outputs": [],
   "source": [
    "dates.to_period('D')"
   ]
  },
  {
   "cell_type": "markdown",
   "metadata": {},
   "source": [
    "Un ``TimedeltaIndex`` se crea, por ejemplo, cuando restamos una fecha de otra:"
   ]
  },
  {
   "cell_type": "code",
   "execution_count": null,
   "metadata": {},
   "outputs": [],
   "source": [
    "dates - dates[0]"
   ]
  },
  {
   "cell_type": "markdown",
   "metadata": {},
   "source": [
    "### Rangos de fechas: ``pd.date_range()``\n",
    "\n",
    "Igual que las funciones ``range()`` (nativo) y ``np.arange()`` (NumPy) que generan una secuencia tomando un punto de inicio, un punto de fin y un paso, las funciones ``pd.date_range()`` (para fechas) y ``pd.period_range()`` (para duraciones) funcionan de forma similar.\n",
    "Así, para crear un vector de fechas, se usa la función 'date_range'. El uso básico es:\n",
    "- date_range(beginning_date,ending_date), que devolvería una serie temporal diario entre ambas fechas (incluidas),\n",
    "- date_range(beginning_date, periods=periods) que devolvería un rango de fechas desde beginning_date con tantas fechas como se especifiquen en 'periods'. \n",
    "\n",
    "Por defecto, la frecuencia es diaria:"
   ]
  },
  {
   "cell_type": "code",
   "execution_count": null,
   "metadata": {},
   "outputs": [],
   "source": [
    "# Pregunta: el rango incluirá el último día o no?\n",
    "pd.date_range('2015-07-03', '2015-07-10')"
   ]
  },
  {
   "cell_type": "markdown",
   "metadata": {},
   "source": [
    "Usandolo a través de la definición del número de periodos:"
   ]
  },
  {
   "cell_type": "code",
   "execution_count": null,
   "metadata": {},
   "outputs": [],
   "source": [
    "pd.date_range('2015-07-03', periods=8)"
   ]
  },
  {
   "cell_type": "markdown",
   "metadata": {},
   "source": [
    "Además, se puede introducir un atributo ``freq`` para cambiar la frecuencia de las fechas de diaria (``D``) a otras diferentes que se verán en el siguiente apartado. Por ejemplo, a nivel horario: "
   ]
  },
  {
   "cell_type": "code",
   "execution_count": null,
   "metadata": {},
   "outputs": [],
   "source": [
    "pd.date_range('2015-07-03', periods=8, freq='H')"
   ]
  },
  {
   "cell_type": "markdown",
   "metadata": {},
   "source": [
    "Para crear secuencias de ``Period`` o ``Timedelta``, se puede usar igualmente ``pd.period_range()`` y ``pd.timedelta_range()``.\n",
    "Por ejemplo, para periodos mensuales:"
   ]
  },
  {
   "cell_type": "code",
   "execution_count": null,
   "metadata": {},
   "outputs": [],
   "source": [
    "pd.period_range('2015-07', periods=8, freq='M')"
   ]
  },
  {
   "cell_type": "markdown",
   "metadata": {},
   "source": [
    "Y para secuencias de duración incremental de hora en hora:"
   ]
  },
  {
   "cell_type": "code",
   "execution_count": null,
   "metadata": {},
   "outputs": [],
   "source": [
    "pd.timedelta_range(0, periods=10, freq='H')"
   ]
  },
  {
   "cell_type": "markdown",
   "metadata": {},
   "source": [
    "### Frecuencias\n",
    "\n",
    "Ya vimos anteriormente las frecuencias diarias ``D`` y horarias ``H``. La tabla siguiente resume los principales códigos disponibles:"
   ]
  },
  {
   "cell_type": "markdown",
   "metadata": {},
   "source": [
    "| Code   | Description         | Code   | Description          |\n",
    "|--------|---------------------|--------|----------------------|\n",
    "| ``D``  | Calendar day        | ``B``  | Business day         |\n",
    "| ``W``  | Weekly              |        |                      |\n",
    "| ``M``  | Month end           | ``BM`` | Business month end   |\n",
    "| ``Q``  | Quarter end         | ``BQ`` | Business quarter end |\n",
    "| ``A``  | Year end            | ``BA`` | Business year end    |\n",
    "| ``H``  | Hours               | ``BH`` | Business hours       |\n",
    "| ``T``  | Minutes             |        |                      |\n",
    "| ``S``  | Seconds             |        |                      |\n",
    "| ``L``  | Milliseonds         |        |                      |\n",
    "| ``U``  | Microseconds        |        |                      |\n",
    "| ``N``  | nanoseconds         |        |                      |"
   ]
  },
  {
   "cell_type": "markdown",
   "metadata": {},
   "source": [
    "Las frecuencias mensual, trimestral y anual se proporcionan como fecha al final del periodo especificado.\n",
    "Añadiendo una 'S' al final de cada una de estas, la salida será al inicio del periodo."
   ]
  },
  {
   "cell_type": "markdown",
   "metadata": {},
   "source": [
    "| Code    | Description            || Code    | Description            |\n",
    "|---------|------------------------||---------|------------------------|\n",
    "| ``MS``  | Month start            ||``BMS``  | Business month start   |\n",
    "| ``QS``  | Quarter start          ||``BQS``  | Business quarter start |\n",
    "| ``AS``  | Year start             ||``BAS``  | Business year start    |"
   ]
  },
  {
   "cell_type": "markdown",
   "metadata": {},
   "source": [
    "Además se puede cambiar el mes usado en frecuencias trimestrales o anuales añadiendo un código de tres letras al final:\n",
    "\n",
    "- ``Q-JAN``, ``BQ-FEB``, ``QS-MAR``, ``BQS-APR``, etc.\n",
    "- ``A-JAN``, ``BA-FEB``, ``AS-MAR``, ``BAS-APR``, etc.\n",
    "\n",
    "Igualmente se puede realizar con frecuencias semanales:\n",
    "    \n",
    "- ``W-SUN``, ``W-MON``, ``W-TUE``, ``W-WED``, etc.\n",
    "\n",
    "Y más detallado, se puede combinar con números para otras frecuencias. Por ejemplo para frecuencias de 2 horas y 30 minutos, se puede combinar la hora (``H``) y los minutos (``T``) como sigue:"
   ]
  },
  {
   "cell_type": "markdown",
   "metadata": {},
   "source": [
    "pd.timedelta_range(0, periods=9, freq=\"2H30T\")"
   ]
  },
  {
   "cell_type": "markdown",
   "metadata": {},
   "source": [
    "Todos estos códigos pueden encontrarse en el módulo ``pd.tseries.offsets``, y se pueden generar nuevas frecuencias. Por ejemplo, se puede crear un seguimiento de días laborables directamente como se muestra a continuación:"
   ]
  },
  {
   "cell_type": "code",
   "execution_count": null,
   "metadata": {},
   "outputs": [],
   "source": [
    "from pandas.tseries.offsets import BDay\n",
    "pd.date_range('2015-07-01', periods=5, freq=BDay())"
   ]
  },
  {
   "cell_type": "markdown",
   "metadata": {},
   "source": [
    "Para más información, [sección \"DateOffset\"](http://pandas.pydata.org/pandas-docs/stable/timeseries.html#dateoffset-objects) de la documentación de Pandas"
   ]
  },
  {
   "cell_type": "markdown",
   "metadata": {},
   "source": [
    "### Remuestreo, Desplazamiento y generación de ventanas temporales\n",
    "\n",
    "La indexación de Pandas permite operaciones de este tipo con relativa facilidad. Para mostrarlo, vamos a generar un vector de fechas con datos ficticios"
   ]
  },
  {
   "cell_type": "code",
   "execution_count": null,
   "metadata": {},
   "outputs": [],
   "source": [
    "dates=pd.date_range('2015-07-25', periods=15, freq='B')\n",
    "timeser = pd.DataFrame({'close':[10,12,14,15,15,19, 20,17, 15, 14, 12,13,13,14,10]})\n",
    "timeser.index = dates\n",
    "timeser"
   ]
  },
  {
   "cell_type": "markdown",
   "metadata": {},
   "source": [
    "#### Remuestreo\n",
    "\n",
    "Es común necesitar obtener los datos a mayor o menor frecuencia de la disponible. Para ello se puede usar ``resample()`` o ``asfreq()`` (más sencillo).\n",
    "La diferencia principal es que mientras la primera es una agregación de datos, la segunda es una selección de los mismos. Sobre nuestros datos anteriores:"
   ]
  },
  {
   "cell_type": "code",
   "execution_count": null,
   "metadata": {},
   "outputs": [],
   "source": [
    "timeser.resample('BM').mean()"
   ]
  },
  {
   "cell_type": "code",
   "execution_count": null,
   "metadata": {},
   "outputs": [],
   "source": [
    "timeser.asfreq('BM')"
   ]
  },
  {
   "cell_type": "markdown",
   "metadata": {},
   "source": [
    "Mientras que ``resample()`` devuelve la media del periodo, ``asfreq()`` devuelve el último valor (omitiendo el mes en caso de no existir).\n",
    "\n",
    "Una ventaja adicional de ``asfreq()`` es la capacidad de imputar valores."
   ]
  },
  {
   "cell_type": "markdown",
   "metadata": {},
   "source": [
    "#### Desplazamiento\n",
    "\n",
    "Existen dos métodos principales: ``shift()`` and ``tshift()``\n",
    "Mientras ``shift()`` desplaza los datos, ``tshift()`` desplaza el índice.\n",
    "En ambos casos, se especifica por la frecuencia.\n",
    "Cada 2 días:"
   ]
  },
  {
   "cell_type": "code",
   "execution_count": null,
   "metadata": {},
   "outputs": [],
   "source": [
    "timeser.shift(5)"
   ]
  },
  {
   "cell_type": "code",
   "execution_count": null,
   "metadata": {},
   "outputs": [],
   "source": [
    "timeser.tshift(5)"
   ]
  },
  {
   "cell_type": "markdown",
   "metadata": {},
   "source": [
    "#### Ventanas móviles\n",
    "\n",
    "Se utiliza la función ``rolling()``, que funciona de forma similar a ``groupby``, con distintas operaciones de agregación disponibles. Por ejemplo, una media móvil centrada de 3 días:"
   ]
  },
  {
   "cell_type": "code",
   "execution_count": null,
   "metadata": {},
   "outputs": [],
   "source": [
    "timeser.rolling(3, center=True)"
   ]
  }
 ],
 "metadata": {
  "kernelspec": {
   "display_name": "Python 3",
   "language": "python",
   "name": "python3"
  },
  "language_info": {
   "codemirror_mode": {
    "name": "ipython",
    "version": 3
   },
   "file_extension": ".py",
   "mimetype": "text/x-python",
   "name": "python",
   "nbconvert_exporter": "python",
   "pygments_lexer": "ipython3",
   "version": "3.7.3"
  }
 },
 "nbformat": 4,
 "nbformat_minor": 2
}

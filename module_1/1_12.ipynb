{
 "cells": [
  {
   "cell_type": "markdown",
   "metadata": {},
   "source": [
    "# 1.12. Escritura de ficheros de texto y guardado de variables\n",
    "## Escritura de ficheros de texto "
   ]
  },
  {
   "cell_type": "markdown",
   "metadata": {},
   "source": [
    "- Por norma general trabajaréis con csv o pickle, por lo que no necesitáreis trabajar con ficheros en bruto. Pero, por si acaso, lo explicamos:\n",
    "- Se abre el fichero con **open(path, modo)**.\n",
    "- Los modos de apertura son los siguientes:\n",
    "\n",
    "\n",
    "|Modo|Description|\n",
    "|----|---|\n",
    "|`'r'`| Read (default).|\n",
    "|`'w'`| Write (truncate).|\n",
    "|`'x'`| Write or fail if the file already exists.|\n",
    "|`'a'`| Append.|\n",
    "|`'w+'`| Read and write (truncate).|\n",
    "|`'r+'`| Read and write from the start.|\n",
    "|`'a+'`| Read and write from the end.|\n",
    "|`'t'`| Text mode (default).|\n",
    "|`'b'`| Binary mode.|\n",
    "\n",
    "- Cierre del fichero una vez se ha finalizado el trabajo con el mismo, con **fichero.close()**"
   ]
  },
  {
   "cell_type": "code",
   "execution_count": 2,
   "metadata": {},
   "outputs": [],
   "source": [
    "f = open(\"prueba.txt\", \"w\") # Abre un txt existente (borrando el contenido), y si no existe, lo crea.\n",
    "f.write(\"Esto\\n\")\n",
    "f.write(\"es\\n\")\n",
    "f.write(\"una\\n\")\n",
    "f.write(\"prueba\\n\")\n",
    "f.close()"
   ]
  },
  {
   "cell_type": "markdown",
   "metadata": {},
   "source": [
    "- Idealmente se utilizan un *context manager* para no tener que cerrar el fichero explícitamente. Una vez termina de ejecutar se guarda automáticamente."
   ]
  },
  {
   "cell_type": "code",
   "execution_count": 3,
   "metadata": {},
   "outputs": [],
   "source": [
    "with open(\"prueba.txt\", \"w\") as f:\n",
    "    f.write(\"Esto\\n\")\n",
    "    f.write(\"es\\n\")\n",
    "    f.write(\"una\\n\")\n",
    "    f.write(\"prueba\\n\")"
   ]
  },
  {
   "cell_type": "markdown",
   "metadata": {},
   "source": [
    "- Para leer podemos usar los métodos **read()** o **readlines()**:"
   ]
  },
  {
   "cell_type": "code",
   "execution_count": 4,
   "metadata": {},
   "outputs": [
    {
     "name": "stdout",
     "output_type": "stream",
     "text": [
      "Esto\n",
      "\n"
     ]
    }
   ],
   "source": [
    "with open(\"prueba.txt\", \"r\") as f:\n",
    "    line = f.readline()\n",
    "print(line)"
   ]
  },
  {
   "cell_type": "code",
   "execution_count": 5,
   "metadata": {},
   "outputs": [
    {
     "name": "stdout",
     "output_type": "stream",
     "text": [
      "['Esto\\n', 'es\\n', 'una\\n', 'prueba\\n']\n"
     ]
    }
   ],
   "source": [
    "with open(\"prueba.txt\", \"r\") as f:\n",
    "    lines = f.readlines()\n",
    "    \n",
    "print(lines)"
   ]
  },
  {
   "cell_type": "markdown",
   "metadata": {},
   "source": [
    "- Cuando avancemos un poco más utilizaremos librerías, como Pandas, para importar ficheros. \n",
    "- Os dejo un ejemplo, pero de momento lo dejaremos aquí."
   ]
  },
  {
   "cell_type": "code",
   "execution_count": 1,
   "metadata": {},
   "outputs": [],
   "source": [
    "import pandas as pd\n",
    "df = pd.read_csv ('ibex_div.csv')"
   ]
  },
  {
   "cell_type": "markdown",
   "metadata": {},
   "source": [
    "## Guardado de variables con pickle"
   ]
  },
  {
   "cell_type": "markdown",
   "metadata": {},
   "source": [
    "- Las variables se pueden guardar de forma serializada utilizando la librería *pickle*.\n",
    "- Es la forma más sencilla de trabajar con ficheros (aunque depende del sistema operativo, por lo que no siempre es lo más conveniente).\n",
    "- Si vamos a trabajar con otras personas, se suelen utilizar csv o la propia librería de pandas solventa este problema. \n",
    "- Para guardar:"
   ]
  },
  {
   "cell_type": "code",
   "execution_count": 6,
   "metadata": {},
   "outputs": [],
   "source": [
    "import pickle"
   ]
  },
  {
   "cell_type": "code",
   "execution_count": 8,
   "metadata": {},
   "outputs": [],
   "source": [
    "# Voy a querer guardar un objeto del tipo lista\n",
    "v_to_save = ['hola', 'me', 'guardo'] "
   ]
  },
  {
   "cell_type": "code",
   "execution_count": 9,
   "metadata": {},
   "outputs": [],
   "source": [
    "# Abro un fichero, le indico el nombre del fichero y la tipología (escribir binario wb)\n",
    "\n",
    "with open('mis_variables.pkl', 'wb') as f:\n",
    "    pickle.dump(v_to_save, f)"
   ]
  },
  {
   "cell_type": "markdown",
   "metadata": {},
   "source": [
    "- Para leer, para recuperar el fichero:"
   ]
  },
  {
   "cell_type": "code",
   "execution_count": 10,
   "metadata": {},
   "outputs": [],
   "source": [
    "with open('mis_variables.pkl', 'rb') as f:\n",
    "    guardada = pickle.load(f)"
   ]
  },
  {
   "cell_type": "code",
   "execution_count": 11,
   "metadata": {},
   "outputs": [
    {
     "data": {
      "text/plain": [
       "['hola', 'me', 'guardo']"
      ]
     },
     "execution_count": 11,
     "metadata": {},
     "output_type": "execute_result"
    }
   ],
   "source": [
    "guardada"
   ]
  },
  {
   "cell_type": "markdown",
   "metadata": {},
   "source": [
    "___\n",
    "# Ejercicios"
   ]
  },
  {
   "cell_type": "markdown",
   "metadata": {},
   "source": [
    "**1.12.1.** Abre el fichero tickers.txt y obten los tickers únicos. Guarda el resultado en otro fichero txt."
   ]
  },
  {
   "cell_type": "code",
   "execution_count": null,
   "metadata": {},
   "outputs": [],
   "source": []
  },
  {
   "cell_type": "markdown",
   "metadata": {},
   "source": [
    "**1.12.2.** Carga el fichero ibex_div.csv y calcula su precio máximo, mínimo y medio, de la columna close. Guarda los resultados en un pickle.\n",
    "- Si pinchas en el propio csv desde el notebook, se abre y puedes explorarlo (como en R)"
   ]
  },
  {
   "cell_type": "code",
   "execution_count": null,
   "metadata": {},
   "outputs": [],
   "source": []
  }
 ],
 "metadata": {
  "kernelspec": {
   "display_name": "Python 3",
   "language": "python",
   "name": "python3"
  },
  "language_info": {
   "codemirror_mode": {
    "name": "ipython",
    "version": 3
   },
   "file_extension": ".py",
   "mimetype": "text/x-python",
   "name": "python",
   "nbconvert_exporter": "python",
   "pygments_lexer": "ipython3",
   "version": "3.8.3"
  }
 },
 "nbformat": 4,
 "nbformat_minor": 4
}

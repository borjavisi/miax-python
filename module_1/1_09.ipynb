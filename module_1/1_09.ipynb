{
 "cells": [
  {
   "cell_type": "markdown",
   "metadata": {},
   "source": [
    "# 1.9. Exceptions"
   ]
  },
  {
   "cell_type": "markdown",
   "metadata": {},
   "source": [
    "- Los errores en Python se generan en forma de excepciones (objetos en los que se incluye tanto el detalle del error, como la pila de llamadas que han generado dicho error).\n",
    "- Es importante realizar una buena gestión de excepciones, de forma que los errores estén siempre controlados y los programas creados sean robustos (no paren su ejecución de forma prematura por errores no controlados) y claros (presenten a los potenciales usuarios información \"entendible\" y no los errores internos de Python).\n",
    "\n",
    "```python\n",
    "try:\n",
    "    código que queremos ejecutar\n",
    "except <Exception Type> as <variable name>:\n",
    "    Código que queremos ejecutar cuando salta una excepción concreta\n",
    "except:\n",
    "    Código que queremos ejecutar cuando salta cualquier excepción no controlada\n",
    "    "
   ]
  },
  {
   "cell_type": "markdown",
   "metadata": {},
   "source": [
    "Si tenemos un código en producción no podemos permitir que la ejecución se detenga por un error\n",
    "\n",
    "Es por lo tanto, muy importante, realizar una correcta gestión de las excepciones"
   ]
  },
  {
   "cell_type": "code",
   "execution_count": null,
   "metadata": {},
   "outputs": [],
   "source": [
    "# Imaginemos que tenemos un diccionario\n",
    "\n",
    "d = {'mIA': 2}"
   ]
  },
  {
   "cell_type": "code",
   "execution_count": null,
   "metadata": {},
   "outputs": [],
   "source": [
    "# E intentamos acceder a un elemento que no existe: da error y el código se para (nuestro algoritmo no podría seguir)\n",
    "\n",
    "print(d['iia'])"
   ]
  },
  {
   "cell_type": "code",
   "execution_count": null,
   "metadata": {},
   "outputs": [],
   "source": [
    "# Capturamos la excepción y la sacamos por pantalla (el código no se detiene)\n",
    "\n",
    "try:\n",
    "    print(d['mia'])\n",
    "except Exception as e:\n",
    "    print(e) # Somos nosotros los que decidimos qué hacer en estos casos"
   ]
  },
  {
   "cell_type": "code",
   "execution_count": null,
   "metadata": {},
   "outputs": [],
   "source": [
    "# Capturamos la excepción concreta de KeyError (que es el error que salta cuando metemos una clave que no existe en el diccionario)\n",
    "\n",
    "try:\n",
    "    print(d['mia'])\n",
    "except KeyError as e:\n",
    "    print(f'key error: {e}')"
   ]
  },
  {
   "cell_type": "code",
   "execution_count": null,
   "metadata": {},
   "outputs": [],
   "source": [
    "# except KeyError solo captura esta tipología de errores\n",
    "# Si saltase otro, no lo capturaría. Por ejemplo, una división entre cero\n",
    "\n",
    "try:\n",
    "    1/0\n",
    "except KeyError as e:\n",
    "    print(f'key error: {e}')"
   ]
  },
  {
   "cell_type": "code",
   "execution_count": null,
   "metadata": {},
   "outputs": [],
   "source": [
    "# Debemos tener un excep para capturar todos aquellos errores no controlados\n",
    "\n",
    "try:\n",
    "    1/0\n",
    "except KeyError as e:\n",
    "    print(f'key error: {e}')\n",
    "except Exception as e:\n",
    "    print(e)"
   ]
  },
  {
   "cell_type": "markdown",
   "metadata": {},
   "source": [
    "- Tipos de excepciones:\n",
    "<center>\n",
    "<img src=\"./imgs/exception-class-hierarchy.png\"  alt=\"drawing\" width=\"700\"/>\n",
    "</center>"
   ]
  },
  {
   "cell_type": "markdown",
   "metadata": {},
   "source": [
    "- Ejemplos para capturar errores:"
   ]
  },
  {
   "cell_type": "code",
   "execution_count": null,
   "metadata": {},
   "outputs": [],
   "source": [
    "# Intentamos calcular la inversa de los elementos de la lista, pero en el tercer elemento dará un error de K/0\n",
    "\n",
    "try:\n",
    "    for i in [2, 1.5, 0.0, 3]:\n",
    "        inverse = 1.0/i\n",
    "        print(inverse)\n",
    "except: # No nos importa la excepción, capturamos cualquiera\n",
    "    print(\"Cannot calculate inverse\")"
   ]
  },
  {
   "cell_type": "markdown",
   "metadata": {},
   "source": [
    "- Podemos generar nuestras excepciones con **raise**:"
   ]
  },
  {
   "cell_type": "code",
   "execution_count": 18,
   "metadata": {
    "collapsed": false,
    "jupyter": {
     "outputs_hidden": false
    }
   },
   "outputs": [
    {
     "name": "stdout",
     "output_type": "stream",
     "text": [
      "Looping\n",
      "Looping\n",
      "Looping\n",
      "Looping\n",
      "Caught exception: abort\n"
     ]
    }
   ],
   "source": [
    "try:\n",
    "    count = 0\n",
    "    while True:\n",
    "        print(\"Looping\")\n",
    "        count = count + 1\n",
    "        if count > 3:\n",
    "            raise Exception(\"abort\") # Nosotros mismos provocamos una excepción\n",
    "except Exception as e: # Capturamos la excepción. Esto es lo que se ejecuta cuando salta la excepción\n",
    "    print(\"Caught exception:\", e)"
   ]
  },
  {
   "cell_type": "code",
   "execution_count": null,
   "metadata": {},
   "outputs": [],
   "source": [
    "# Podríamos levantar la excepción que quisiéramos\n",
    "\n",
    "try:\n",
    "    count = 0\n",
    "    while True:\n",
    "        print(\"Looping\")\n",
    "        count = count + 1\n",
    "        if count > 3:\n",
    "            raise ZeroDivisionError # Cualquiera de las especificadas en el diagrama\n",
    "except ZeroDivisionError as e: # Capturamos la excepción concreta que hemos levantado\n",
    "    print(\"Caught exception:\", e)"
   ]
  },
  {
   "cell_type": "markdown",
   "metadata": {},
   "source": [
    "___\n",
    "# Ejercicios"
   ]
  },
  {
   "cell_type": "markdown",
   "metadata": {},
   "source": [
    "**1.9.1.** Escribe un programa que guarde en un diccionario los precios de las frutas de la tabla, pregunte al usuario por una fruta, un número de kilos y muestre por pantalla el precio de ese número de kilos de fruta.\n",
    "\n",
    "|Fruta|Precio|\n",
    "|-|-|\n",
    "|Plátano|1.35|\n",
    "|Manzana|0.80|\n",
    "|Pera|0.85|\n",
    "|Naranja|0.70|\n",
    "\n",
    "Añade una excepción para cuando el número de kilos no se pueda convertir."
   ]
  },
  {
   "cell_type": "code",
   "execution_count": null,
   "metadata": {},
   "outputs": [],
   "source": []
  },
  {
   "cell_type": "markdown",
   "metadata": {},
   "source": [
    "**1.9.2.** Escribe un programa que pida al usuario un nombre de usuario y su contraseña\n",
    "\n",
    "- Devuelve si ya esta registrado y si la contraseña es correcta.\n",
    "- En el caso de que la contraeña no sea numérica eleva una excepción que indique \"contraseña no identificada, cuenta bloqueada\"\n",
    "- Usa el siguiente diccionario de punto de partida:\n",
    "\n",
    "```python\n",
    "users_dict = {\n",
    "    \"Fernando\": \"1234\",\n",
    "    \"Guillermo\": \"2453\",\n",
    "    \"Enrique\": \"2334\"\n",
    "}\n",
    "```"
   ]
  },
  {
   "cell_type": "code",
   "execution_count": null,
   "metadata": {},
   "outputs": [],
   "source": []
  }
 ],
 "metadata": {
  "kernelspec": {
   "display_name": "Python 3",
   "language": "python",
   "name": "python3"
  },
  "language_info": {
   "codemirror_mode": {
    "name": "ipython",
    "version": 3
   },
   "file_extension": ".py",
   "mimetype": "text/x-python",
   "name": "python",
   "nbconvert_exporter": "python",
   "pygments_lexer": "ipython3",
   "version": "3.8.3"
  }
 },
 "nbformat": 4,
 "nbformat_minor": 4
}

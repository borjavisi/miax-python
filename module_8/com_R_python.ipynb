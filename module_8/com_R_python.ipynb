{
 "cells": [
  {
   "cell_type": "code",
   "execution_count": 1,
   "metadata": {},
   "outputs": [],
   "source": [
    "import numpy as np"
   ]
  },
  {
   "cell_type": "markdown",
   "metadata": {},
   "source": [
    "### 50.000 combinaciones de lotería. Objetivo: Análisis de rendimiento del programa."
   ]
  },
  {
   "cell_type": "markdown",
   "metadata": {},
   "source": [
    "___"
   ]
  },
  {
   "cell_type": "code",
   "execution_count": 19,
   "metadata": {},
   "outputs": [],
   "source": [
    "combinaciones = 50000\n",
    "n_bolas = 5"
   ]
  },
  {
   "cell_type": "markdown",
   "metadata": {},
   "source": [
    "### Solo usando modulos del lenguaje "
   ]
  },
  {
   "cell_type": "code",
   "execution_count": 9,
   "metadata": {},
   "outputs": [],
   "source": [
    "import random"
   ]
  },
  {
   "cell_type": "code",
   "execution_count": 10,
   "metadata": {},
   "outputs": [],
   "source": [
    "def sacar_bola_slow(combi, n_bola):\n",
    "    \"esta forma pued creo que puede producir bolas repetidas\"\n",
    "    bola = random.randint(0, 50)\n",
    "    for bola_comp in range(n_bola):\n",
    "        if bola == combi[bola_comp]:\n",
    "            bola = random.randint(0, 50)\n",
    "    return bola"
   ]
  },
  {
   "cell_type": "code",
   "execution_count": 11,
   "metadata": {},
   "outputs": [
    {
     "name": "stdout",
     "output_type": "stream",
     "text": [
      "0 : 29229\n",
      "1 : 17303\n",
      "2 : 3228\n",
      "3 : 235\n",
      "4 : 5\n",
      "CPU times: user 1.47 s, sys: 40.7 ms, total: 1.51 s\n",
      "Wall time: 1.57 s\n"
     ]
    }
   ],
   "source": [
    "%%time\n",
    "combi_ganadora = []\n",
    "for i in range(n_bolas):\n",
    "    combi_ganadora.append(sacar_bola_slow(combi_ganadora, i))\n",
    "\n",
    "apuestas = []\n",
    "aciertos = []\n",
    "\n",
    "for combinancion in range(combinaciones):\n",
    "    combi_apostada = []\n",
    "    for n_bola in range(n_bolas):\n",
    "        combi_apostada.append(sacar_bola_slow(combi_apostada, n_bola))\n",
    "    apuestas.append(combi_apostada)\n",
    "    \n",
    "    aciertos_combinacion = 0\n",
    "    for bola_ganadora in combi_ganadora:\n",
    "        for bola_apostada in combi_apostada:\n",
    "            if bola_ganadora == bola_apostada:\n",
    "                aciertos_combinacion += 1\n",
    "    aciertos.append(aciertos_combinacion)\n",
    "\n",
    "for num_aciertos in range(n_bolas):\n",
    "    print(f\"{num_aciertos} : {aciertos.count(num_aciertos)}\")"
   ]
  },
  {
   "cell_type": "markdown",
   "metadata": {},
   "source": [
    "### Podemos mejorar la funcion sacar bola con recursion"
   ]
  },
  {
   "cell_type": "code",
   "execution_count": 14,
   "metadata": {},
   "outputs": [],
   "source": [
    "def sacar_bola(combi):\n",
    "    \"usa recursion, mo produce repetias\"\n",
    "    bola = random.randint(0, 50)\n",
    "    if bola in combi:\n",
    "        bola = sacar_bola(combi)\n",
    "    return bola"
   ]
  },
  {
   "cell_type": "code",
   "execution_count": null,
   "metadata": {},
   "outputs": [],
   "source": [
    "%%time\n",
    "combi_ganadora = []\n",
    "for i in range(n_bolas):\n",
    "    combi_ganadora.append(sacar_bola(combi_ganadora))\n",
    "\n",
    "apuestas = []\n",
    "aciertos = []\n",
    "\n",
    "for combinancion in range(combinaciones):\n",
    "    combi_apostada = []\n",
    "    for n_bola in range(n_bolas):\n",
    "        combi_apostada.append(sacar_bola(combi_apostada))\n",
    "    apuestas.append(combi_apostada)\n",
    "    \n",
    "    aciertos_combinacion = 0\n",
    "    for bola_ganadora in combi_ganadora:\n",
    "        for bola_apostada in combi_apostada:\n",
    "            if bola_ganadora == bola_apostada:\n",
    "                aciertos_combinacion += 1\n",
    "    aciertos.append(aciertos_combinacion)\n",
    "\n",
    "for num_aciertos in range(n_bolas):\n",
    "    print(f\"{num_aciertos} : {aciertos.count(num_aciertos)}\")"
   ]
  },
  {
   "cell_type": "markdown",
   "metadata": {},
   "source": [
    "#### Podemos sustituir por sets los dos bucles del final"
   ]
  },
  {
   "cell_type": "code",
   "execution_count": 21,
   "metadata": {},
   "outputs": [
    {
     "name": "stdout",
     "output_type": "stream",
     "text": [
      "0 : 29077\n",
      "1 : 17434\n",
      "2 : 3276\n",
      "3 : 204\n",
      "4 : 9\n",
      "CPU times: user 1.07 s, sys: 15 ms, total: 1.08 s\n",
      "Wall time: 1.14 s\n"
     ]
    }
   ],
   "source": [
    "%%time\n",
    "combi_ganadora = []\n",
    "for i in range(5):\n",
    "    combi_ganadora.append(sacar_bola(combi_ganadora))\n",
    "\n",
    "apuestas = []\n",
    "aciertos = []\n",
    "\n",
    "for combinancion in range(combinaciones):\n",
    "    combi_apostada = []\n",
    "    for n_bola in range(5):\n",
    "        combi_apostada.append(sacar_bola(combi_apostada))\n",
    "    apuestas.append(combi_apostada)\n",
    "    \n",
    "    aciertos_combinacion = len(set(combi_apostada).intersection(combi_ganadora))\n",
    "    aciertos.append(aciertos_combinacion)\n",
    "\n",
    "for num_aciertos in range(5):\n",
    "    print(f\"{num_aciertos} : {aciertos.count(num_aciertos)}\")"
   ]
  },
  {
   "cell_type": "markdown",
   "metadata": {},
   "source": [
    "### Con numpy"
   ]
  },
  {
   "cell_type": "code",
   "execution_count": 22,
   "metadata": {},
   "outputs": [],
   "source": [
    "import numpy as np"
   ]
  },
  {
   "cell_type": "code",
   "execution_count": 23,
   "metadata": {},
   "outputs": [
    {
     "name": "stdout",
     "output_type": "stream",
     "text": [
      "[0. 1. 2. 3. 4.] [29524 17142  3142   186     6]\n",
      "CPU times: user 2.04 s, sys: 49.5 ms, total: 2.08 s\n",
      "Wall time: 2.07 s\n"
     ]
    }
   ],
   "source": [
    "%%time\n",
    "combinacion = np.random.choice(50, 5, replace=True)\n",
    "combi_ganadora = np.zeros(50)\n",
    "combi_ganadora[combinacion] = 1\n",
    "\n",
    "aciertos = np.zeros(combinaciones)\n",
    "\n",
    "for i in range(combinaciones):\n",
    "    combinacion = np.random.choice(50, 5, replace=True)\n",
    "    combi_apostada = np.zeros(50)\n",
    "    combi_apostada[combinacion] = 1\n",
    "    \n",
    "    aciertos[i] = combi_ganadora@combi_apostada\n",
    "\n",
    "unique, counts = np.unique(aciertos, return_counts=True)\n",
    "print(f\"{unique} {counts}\")"
   ]
  },
  {
   "cell_type": "markdown",
   "metadata": {},
   "source": [
    "Podemos definir las apuestas antes:"
   ]
  },
  {
   "cell_type": "code",
   "execution_count": 30,
   "metadata": {},
   "outputs": [
    {
     "name": "stdout",
     "output_type": "stream",
     "text": [
      "[0. 1. 2. 3. 4.] [28690 17630  3430   246     4]\n"
     ]
    }
   ],
   "source": [
    "combinacion = np.random.choice(50, 5, replace=True)\n",
    "combi_ganadora = np.zeros(50)\n",
    "combi_ganadora[combinacion] = 1\n",
    "\n",
    "apuestas = np.zeros((combinaciones, 50))\n",
    "apuestas[:, :5] = 1\n",
    "[np.random.shuffle(apuesta) for apuesta in apuestas]\n",
    "\n",
    "num_aciertos = apuestas @ combi_ganadora\n",
    "unique, counts = np.unique(num_aciertos, return_counts=True)\n",
    "print(f\"{unique} {counts}\")"
   ]
  },
  {
   "cell_type": "markdown",
   "metadata": {},
   "source": [
    "aun así sigue siendo lento"
   ]
  },
  {
   "cell_type": "markdown",
   "metadata": {},
   "source": [
    "### Lo mas eficiente que se puede hacer con numpy es de la siguiente forma:"
   ]
  },
  {
   "cell_type": "code",
   "execution_count": 47,
   "metadata": {},
   "outputs": [],
   "source": [
    "index = np.tile(np.array([range(combinaciones)]).transpose(), (1, 5))"
   ]
  },
  {
   "cell_type": "code",
   "execution_count": 48,
   "metadata": {},
   "outputs": [
    {
     "data": {
      "text/plain": [
       "array([[    0,     0,     0,     0,     0],\n",
       "       [    1,     1,     1,     1,     1],\n",
       "       [    2,     2,     2,     2,     2],\n",
       "       ...,\n",
       "       [49997, 49997, 49997, 49997, 49997],\n",
       "       [49998, 49998, 49998, 49998, 49998],\n",
       "       [49999, 49999, 49999, 49999, 49999]])"
      ]
     },
     "execution_count": 48,
     "metadata": {},
     "output_type": "execute_result"
    }
   ],
   "source": [
    "index"
   ]
  },
  {
   "cell_type": "code",
   "execution_count": 50,
   "metadata": {},
   "outputs": [
    {
     "data": {
      "text/plain": [
       "(1, 50000)"
      ]
     },
     "execution_count": 50,
     "metadata": {},
     "output_type": "execute_result"
    }
   ],
   "source": [
    "np.array([range(combinaciones)]).shape"
   ]
  },
  {
   "cell_type": "code",
   "execution_count": 54,
   "metadata": {},
   "outputs": [
    {
     "data": {
      "text/plain": [
       "\u001b[0;31mDocstring:\u001b[0m\n",
       "arange([start,] stop[, step,], dtype=None)\n",
       "\n",
       "Return evenly spaced values within a given interval.\n",
       "\n",
       "Values are generated within the half-open interval ``[start, stop)``\n",
       "(in other words, the interval including `start` but excluding `stop`).\n",
       "For integer arguments the function is equivalent to the Python built-in\n",
       "`range` function, but returns an ndarray rather than a list.\n",
       "\n",
       "When using a non-integer step, such as 0.1, the results will often not\n",
       "be consistent.  It is better to use `numpy.linspace` for these cases.\n",
       "\n",
       "Parameters\n",
       "----------\n",
       "start : number, optional\n",
       "    Start of interval.  The interval includes this value.  The default\n",
       "    start value is 0.\n",
       "stop : number\n",
       "    End of interval.  The interval does not include this value, except\n",
       "    in some cases where `step` is not an integer and floating point\n",
       "    round-off affects the length of `out`.\n",
       "step : number, optional\n",
       "    Spacing between values.  For any output `out`, this is the distance\n",
       "    between two adjacent values, ``out[i+1] - out[i]``.  The default\n",
       "    step size is 1.  If `step` is specified as a position argument,\n",
       "    `start` must also be given.\n",
       "dtype : dtype\n",
       "    The type of the output array.  If `dtype` is not given, infer the data\n",
       "    type from the other input arguments.\n",
       "\n",
       "Returns\n",
       "-------\n",
       "arange : ndarray\n",
       "    Array of evenly spaced values.\n",
       "\n",
       "    For floating point arguments, the length of the result is\n",
       "    ``ceil((stop - start)/step)``.  Because of floating point overflow,\n",
       "    this rule may result in the last element of `out` being greater\n",
       "    than `stop`.\n",
       "\n",
       "See Also\n",
       "--------\n",
       "linspace : Evenly spaced numbers with careful handling of endpoints.\n",
       "ogrid: Arrays of evenly spaced numbers in N-dimensions.\n",
       "mgrid: Grid-shaped arrays of evenly spaced numbers in N-dimensions.\n",
       "\n",
       "Examples\n",
       "--------\n",
       ">>> np.arange(3)\n",
       "array([0, 1, 2])\n",
       ">>> np.arange(3.0)\n",
       "array([ 0.,  1.,  2.])\n",
       ">>> np.arange(3,7)\n",
       "array([3, 4, 5, 6])\n",
       ">>> np.arange(3,7,2)\n",
       "array([3, 5])\n",
       "\u001b[0;31mType:\u001b[0m      builtin_function_or_method\n"
      ]
     },
     "metadata": {},
     "output_type": "display_data"
    }
   ],
   "source": [
    "?np.arange"
   ]
  },
  {
   "cell_type": "code",
   "execution_count": 56,
   "metadata": {},
   "outputs": [
    {
     "data": {
      "text/plain": [
       "(1, 50000)"
      ]
     },
     "execution_count": 56,
     "metadata": {},
     "output_type": "execute_result"
    }
   ],
   "source": [
    ".shape"
   ]
  },
  {
   "cell_type": "code",
   "execution_count": 53,
   "metadata": {},
   "outputs": [
    {
     "data": {
      "text/plain": [
       "(50000,)"
      ]
     },
     "execution_count": 53,
     "metadata": {},
     "output_type": "execute_result"
    }
   ],
   "source": [
    ".shape"
   ]
  },
  {
   "cell_type": "code",
   "execution_count": null,
   "metadata": {},
   "outputs": [],
   "source": []
  },
  {
   "cell_type": "code",
   "execution_count": 59,
   "metadata": {},
   "outputs": [
    {
     "name": "stdout",
     "output_type": "stream",
     "text": [
      "CPU times: user 109 ms, sys: 19.1 ms, total: 128 ms\n",
      "Wall time: 127 ms\n"
     ]
    }
   ],
   "source": [
    "%%time\n",
    "combinacion = np.random.choice(50, 5, replace=True)\n",
    "combi_ganadora = np.zeros(50)\n",
    "combi_ganadora[combinacion] = 1\n",
    "\n",
    "apuestas = np.zeros((combinaciones, 50))\n",
    "apuestas_num = np.random.rand(combinaciones, 50).argpartition(5,axis=1)[:,:5]\n",
    "index = np.tile(np.expand_dims(np.arange(combinaciones), axis=0).transpose(), (1, 5))\n",
    "apuestas[index, apuestas_num] = 1\n",
    "\n",
    "num_aciertos = apuestas @ combi_ganadora\n",
    "unique, counts = np.unique(num_aciertos, return_counts=True)"
   ]
  },
  {
   "cell_type": "code",
   "execution_count": 44,
   "metadata": {},
   "outputs": [
    {
     "name": "stdout",
     "output_type": "stream",
     "text": [
      "[0. 1. 2. 3. 4.] [28926 17546  3304   221     3]\n"
     ]
    }
   ],
   "source": [
    "print(f\"{unique} {counts}\")"
   ]
  },
  {
   "cell_type": "markdown",
   "metadata": {},
   "source": [
    "Podemos medirlo varias veces"
   ]
  },
  {
   "cell_type": "code",
   "execution_count": null,
   "metadata": {},
   "outputs": [],
   "source": [
    "%%timeit\n",
    "combinacion = np.random.choice(50, 5, replace=True)\n",
    "combi_ganadora = np.zeros(50)\n",
    "combi_ganadora[combinacion] = 1\n",
    "\n",
    "apuestas = np.zeros((combinaciones, 50))\n",
    "apuestas_num = np.random.rand(combinaciones, 50).argpartition(5,axis=1)[:,:5]\n",
    "index = np.tile(np.expand_dims(np.arange(combinaciones), axis=0).transpose(), (1, 5))\n",
    "apuestas[index, apuestas_num] = 1\n",
    "\n",
    "num_aciertos = apuestas @ combi_ganadora\n",
    "unique, counts = np.unique(num_aciertos, return_counts=True)"
   ]
  },
  {
   "cell_type": "markdown",
   "metadata": {},
   "source": [
    "133ms en mi ordenador aprox"
   ]
  }
 ],
 "metadata": {
  "kernelspec": {
   "display_name": "Python 3",
   "language": "python",
   "name": "python3"
  },
  "language_info": {
   "codemirror_mode": {
    "name": "ipython",
    "version": 3
   },
   "file_extension": ".py",
   "mimetype": "text/x-python",
   "name": "python",
   "nbconvert_exporter": "python",
   "pygments_lexer": "ipython3",
   "version": "3.7.3"
  }
 },
 "nbformat": 4,
 "nbformat_minor": 2
}

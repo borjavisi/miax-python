{
 "cells": [
  {
   "cell_type": "markdown",
   "metadata": {},
   "source": [
    "# 8.4. Interactividad: ipywidgets."
   ]
  },
  {
   "cell_type": "markdown",
   "metadata": {},
   "source": [
    "- ipywidgets nos permite hacer de forma muy sencilla pequeñas aplicaciones dentro de los notebooks.\n",
    "- Usaremos el decorador interact:  https://ipywidgets.readthedocs.io/en/latest/examples/Using%20Interact.html\n",
    "- Puedes ver todos los widgets disponibles en: https://ipywidgets.readthedocs.io/en/latest/examples/Widget%20List.html"
   ]
  },
  {
   "cell_type": "code",
   "execution_count": null,
   "metadata": {},
   "outputs": [],
   "source": [
    "import matplotlib.pyplot as plt\n",
    "import numpy as np\n",
    "\n",
    "from ipywidgets import interact\n",
    "import ipywidgets as widgets"
   ]
  },
  {
   "cell_type": "code",
   "execution_count": null,
   "metadata": {},
   "outputs": [],
   "source": [
    "@interact(x=1.0)\n",
    "def func_to_inter(x):\n",
    "    print(x)"
   ]
  },
  {
   "cell_type": "code",
   "execution_count": null,
   "metadata": {},
   "outputs": [],
   "source": [
    "@interact(x=True, y=1.0)\n",
    "def func_to_inter(x, y):\n",
    "    print(x, y)"
   ]
  },
  {
   "cell_type": "markdown",
   "metadata": {},
   "source": [
    "- Puedes definir más concretamente el widget instanciandolo antes:"
   ]
  },
  {
   "cell_type": "code",
   "execution_count": null,
   "metadata": {},
   "outputs": [],
   "source": [
    "@interact(\n",
    "    x=widgets.IntSlider(min=-10, max=30, step=1, value=10),\n",
    "    y=widgets.Dropdown(options=[('One', 1), ('Two', 2), ('Three', 3)], value=2,description='Number:')\n",
    ")\n",
    "def func_to_inter(x, y):\n",
    "    print(x, y)"
   ]
  },
  {
   "cell_type": "code",
   "execution_count": null,
   "metadata": {},
   "outputs": [],
   "source": [
    "@interact(\n",
    "    a=widgets.FloatSlider(min=1, max=10, step=1, value=1),\n",
    "    f=widgets.FloatSlider(min=1, max=50, step=1, value=1),\n",
    ")\n",
    "def func_to_inter(a, f):\n",
    "    t = np.linspace(0, 1, 1000)\n",
    "    y = a*np.sin(2*np.pi*f*t)  \n",
    "    plt.plot(t, y)\n",
    "    plt.ylim([-10, 10])"
   ]
  }
 ],
 "metadata": {
  "kernelspec": {
   "display_name": "Python 3 (ipykernel)",
   "language": "python",
   "name": "python3"
  },
  "language_info": {
   "codemirror_mode": {
    "name": "ipython",
    "version": 3
   },
   "file_extension": ".py",
   "mimetype": "text/x-python",
   "name": "python",
   "nbconvert_exporter": "python",
   "pygments_lexer": "ipython3",
   "version": "3.7.3"
  }
 },
 "nbformat": 4,
 "nbformat_minor": 4
}

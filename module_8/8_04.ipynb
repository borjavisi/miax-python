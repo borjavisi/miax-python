{
 "cells": [
  {
   "cell_type": "markdown",
   "metadata": {},
   "source": [
    "# 8.4. Interactividad: ipywidgets."
   ]
  },
  {
   "cell_type": "markdown",
   "metadata": {},
   "source": [
    "- ipywidgets nos permite hacer de forma muy sencilla pequeñas aplicaciones, con botones, dentro de los notebooks.\n",
    "- Para ello usaremos el decorador interact:  https://ipywidgets.readthedocs.io/en/latest/examples/Using%20Interact.html\n",
    "- Puedes ver todos los widgets disponibles en: https://ipywidgets.readthedocs.io/en/latest/examples/Widget%20List.html"
   ]
  },
  {
   "cell_type": "code",
   "execution_count": 1,
   "metadata": {},
   "outputs": [],
   "source": [
    "import matplotlib.pyplot as plt\n",
    "import numpy as np\n",
    "\n",
    "from ipywidgets import interact\n",
    "import ipywidgets as widgets"
   ]
  },
  {
   "cell_type": "markdown",
   "metadata": {},
   "source": [
    "¿Cómo funciona?\n",
    "\n",
    "Básicamente, tenemos una función que recibe un parámetro\n",
    "\n",
    "Y ese parámetro queremos que venga de una barra deslizante (por ejemplo)\n",
    "\n",
    "En vez de tener que poner un montón de código, ipywidgets tiene un decorador que importamos @interact, para esta finalidad"
   ]
  },
  {
   "cell_type": "code",
   "execution_count": 2,
   "metadata": {},
   "outputs": [
    {
     "data": {
      "application/vnd.jupyter.widget-view+json": {
       "model_id": "534dadb1cb1a439e86d6a5ebcfe5b5b4",
       "version_major": 2,
       "version_minor": 0
      },
      "text/plain": [
       "interactive(children=(FloatSlider(value=1.0, description='x', max=3.0, min=-1.0), Output()), _dom_classes=('wi…"
      ]
     },
     "metadata": {},
     "output_type": "display_data"
    }
   ],
   "source": [
    "@interact(x=1.0)\n",
    "def func_to_inter(x):\n",
    "    print(x)"
   ]
  },
  {
   "cell_type": "markdown",
   "metadata": {},
   "source": [
    "Cada vez que me deslizo en la barra (cambio su valor), la función se ejecuta de nuevo, arrojando un nuevo output\n",
    "\n",
    "@interact tiene multitud de opciones (ver documentación)\n",
    "\n",
    "Por ejemplo, si la función recibe un booleano, podemos hacer un checkbox para indicar si está a True, o False."
   ]
  },
  {
   "cell_type": "code",
   "execution_count": 3,
   "metadata": {},
   "outputs": [
    {
     "data": {
      "application/vnd.jupyter.widget-view+json": {
       "model_id": "585bf97804aa4ab6bf3ee7c9496c3d03",
       "version_major": 2,
       "version_minor": 0
      },
      "text/plain": [
       "interactive(children=(Checkbox(value=True, description='x'), FloatSlider(value=1.0, description='y', max=3.0, …"
      ]
     },
     "metadata": {},
     "output_type": "display_data"
    }
   ],
   "source": [
    "@interact(x=True, y=1.0)\n",
    "def func_to_inter(x, y):\n",
    "    print(x, y)"
   ]
  },
  {
   "cell_type": "markdown",
   "metadata": {},
   "source": [
    "Podemos definir mejor la funcionalidad del widget, instanciandolo antes:"
   ]
  },
  {
   "cell_type": "code",
   "execution_count": 7,
   "metadata": {},
   "outputs": [
    {
     "data": {
      "application/vnd.jupyter.widget-view+json": {
       "model_id": "99d38ea20770403d85de4b6ad979fbf0",
       "version_major": 2,
       "version_minor": 0
      },
      "text/plain": [
       "interactive(children=(IntSlider(value=10, description='x', max=30, min=-10), Dropdown(description='Y:', index=…"
      ]
     },
     "metadata": {},
     "output_type": "display_data"
    }
   ],
   "source": [
    "@interact(\n",
    "    x=widgets.IntSlider(min=-10, max=30, step=1, value=10),\n",
    "    y=widgets.Dropdown(options=[('One', 1), ('Two', 2), ('Three', 3)], value=2,description='Y:')\n",
    ")\n",
    "def func_to_inter(x, y):\n",
    "    print(x, y)"
   ]
  },
  {
   "cell_type": "code",
   "execution_count": 8,
   "metadata": {},
   "outputs": [
    {
     "data": {
      "application/vnd.jupyter.widget-view+json": {
       "model_id": "ddcca0fb6ba349f48e5b3708e4a263da",
       "version_major": 2,
       "version_minor": 0
      },
      "text/plain": [
       "interactive(children=(FloatSlider(value=1.0, description='a', max=10.0, min=1.0, step=1.0), FloatSlider(value=…"
      ]
     },
     "metadata": {},
     "output_type": "display_data"
    }
   ],
   "source": [
    "@interact(\n",
    "    a=widgets.FloatSlider(min=1, max=10, step=1, value=1), # amplitud\n",
    "    f=widgets.FloatSlider(min=1, max=50, step=1, value=1), # frecuencia\n",
    ")\n",
    "def func_to_inter(a, f):\n",
    "    t = np.linspace(0, 1, 1000)\n",
    "    y = a*np.sin(2*np.pi*f*t)  \n",
    "    plt.plot(t, y)\n",
    "    plt.ylim([-10, 10])"
   ]
  }
 ],
 "metadata": {
  "kernelspec": {
   "display_name": "Python 3 (ipykernel)",
   "language": "python",
   "name": "python3"
  },
  "language_info": {
   "codemirror_mode": {
    "name": "ipython",
    "version": 3
   },
   "file_extension": ".py",
   "mimetype": "text/x-python",
   "name": "python",
   "nbconvert_exporter": "python",
   "pygments_lexer": "ipython3",
   "version": "3.9.7"
  }
 },
 "nbformat": 4,
 "nbformat_minor": 4
}

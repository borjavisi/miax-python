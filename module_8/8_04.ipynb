{
 "cells": [
  {
   "cell_type": "markdown",
   "metadata": {},
   "source": [
    "# 8.4. Interactividad: ipywidgets."
   ]
  },
  {
   "cell_type": "markdown",
   "metadata": {},
   "source": [
    "- ipywidgets nos permite hacer de forma muy sencilla pequeñas aplicaciones, con botones, dentro de los notebooks.\n",
    "- Para ello usaremos el decorador interact:  https://ipywidgets.readthedocs.io/en/latest/examples/Using%20Interact.html\n",
    "- Puedes ver todos los widgets disponibles en: https://ipywidgets.readthedocs.io/en/latest/examples/Widget%20List.html"
   ]
  },
  {
   "cell_type": "code",
   "execution_count": null,
   "metadata": {},
   "outputs": [],
   "source": [
    "import matplotlib.pyplot as plt\n",
    "import numpy as np\n",
    "\n",
    "from ipywidgets import interact\n",
    "import ipywidgets as widgets"
   ]
  },
  {
   "cell_type": "markdown",
   "metadata": {},
   "source": [
    "¿Cómo funciona?\n",
    "\n",
    "Básicamente, tenemos una función que recibe un parámetro\n",
    "\n",
    "Y ese parámetro queremos que venga de una barra deslizante (por ejemplo)\n",
    "\n",
    "En vez de tener que poner un montón de código, ipywidgets tiene un decorador que importamos @interact, para esta finalidad"
   ]
  },
  {
   "cell_type": "code",
   "execution_count": null,
   "metadata": {},
   "outputs": [],
   "source": [
    "@interact(x=1.0)\n",
    "def func_to_inter(x):\n",
    "    print(x)"
   ]
  },
  {
   "cell_type": "markdown",
   "metadata": {},
   "source": [
    "Cada vez que me deslizo en la barra (cambio su valor), la función se ejecuta de nuevo, arrojando un nuevo output\n",
    "\n",
    "@interact tiene multitud de opciones (ver documentación)\n",
    "\n",
    "Por ejemplo, si la función recibe un booleano, podemos hacer un checkbox para indicar si está a True, o False."
   ]
  },
  {
   "cell_type": "code",
   "execution_count": null,
   "metadata": {},
   "outputs": [],
   "source": [
    "@interact(x=True, y=1.0)\n",
    "def func_to_inter(x, y):\n",
    "    print(x, y)"
   ]
  },
  {
   "cell_type": "markdown",
   "metadata": {},
   "source": [
    "Podemos definir mejor la funcionalidad del widget, instanciandolo antes:"
   ]
  },
  {
   "cell_type": "code",
   "execution_count": null,
   "metadata": {},
   "outputs": [],
   "source": [
    "@interact(\n",
    "    x=widgets.IntSlider(min=-10, max=30, step=1, value=10),\n",
    "    y=widgets.Dropdown(options=[('One', 1), ('Two', 2), ('Three', 3)], value=2,description='Y:')\n",
    ")\n",
    "def func_to_inter(x, y):\n",
    "    print(x, y)"
   ]
  },
  {
   "cell_type": "code",
   "execution_count": null,
   "metadata": {},
   "outputs": [],
   "source": [
    "@interact(\n",
    "    a=widgets.FloatSlider(min=1, max=10, step=1, value=1), # amplitud\n",
    "    f=widgets.FloatSlider(min=1, max=50, step=1, value=1), # frecuencia\n",
    ")\n",
    "def func_to_inter(a, f):\n",
    "    t = np.linspace(0, 1, 1000)\n",
    "    y = a*np.sin(2*np.pi*f*t)  \n",
    "    plt.plot(t, y)\n",
    "    plt.ylim([-10, 10])"
   ]
  }
 ],
 "metadata": {
  "kernelspec": {
   "display_name": "Python 3 (ipykernel)",
   "language": "python",
   "name": "python3"
  },
  "language_info": {
   "codemirror_mode": {
    "name": "ipython",
    "version": 3
   },
   "file_extension": ".py",
   "mimetype": "text/x-python",
   "name": "python",
   "nbconvert_exporter": "python",
   "pygments_lexer": "ipython3",
   "version": "3.10.8"
  }
 },
 "nbformat": 4,
 "nbformat_minor": 4
}

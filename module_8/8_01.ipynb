{
 "cells": [
  {
   "cell_type": "markdown",
   "metadata": {},
   "source": [
    "# 8.1. Editores y flujo de trabajo.\n",
    "\n",
    "### Spyder"
   ]
  },
  {
   "cell_type": "markdown",
   "metadata": {},
   "source": [
    "Spyder es un ID muy similar a Rstudio, por lo que \"ya estáis\" familiarizados con él.\n",
    "\n",
    "Está integrado en Anaconda. Para abrirlo, lo único que tenemos que hacer es seleccionarlo"
   ]
  },
  {
   "cell_type": "markdown",
   "metadata": {},
   "source": [
    "<center>\n",
    "<img src=\"./imgs/spyder_anaconda.png\"  alt=\"drawing\" width=\"1000\"/>\n",
    "</center>"
   ]
  },
  {
   "cell_type": "markdown",
   "metadata": {},
   "source": [
    "Una vez abierto, vamos a cargar el fichero loteria.py, incluído dentro de la carpeta del módulo 8"
   ]
  },
  {
   "cell_type": "markdown",
   "metadata": {},
   "source": [
    "<center>\n",
    "<img src=\"./imgs/spyder_visualizacion.png\"  alt=\"drawing\" width=\"1000\"/>\n",
    "</center>"
   ]
  },
  {
   "cell_type": "markdown",
   "metadata": {},
   "source": [
    "- En la parte izquierda tenemos el script (donde programamos)\n",
    "- Arriba a la derecha, el explorador de variables (igual que en Rstudio)\n",
    "- Abajo a la derecha la terminal, donde obtenemos el output del código ejecutado"
   ]
  },
  {
   "cell_type": "markdown",
   "metadata": {},
   "source": [
    "- Para instalar librerías hay que hacerlo en la terminal. Prueba a instalar la librería selenium: pip install selenium\n",
    "- Para ejecutar todo el script: control + intro, o el triángulo verde de la barra de herramientas.\n",
    "- Si queremos ejecutar solo una selección de líneas: F9, o la opción marca en rojo en la barra de herramientas\n",
    "\n",
    "<center>\n",
    "<img src=\"./imgs/barra_herramientas.png\"  alt=\"drawing\" width=\"600\"/>\n",
    "</center>"
   ]
  },
  {
   "cell_type": "markdown",
   "metadata": {},
   "source": [
    "- Podemos crear celdas, al estilo de un notebook, enmarcándolas en #%%\n",
    "\n",
    "<center>\n",
    "<img src=\"./imgs/crear_celdas.png\"  alt=\"drawing\" width=\"600\"/>\n",
    "</center>\n",
    "\n",
    "- Podemos ejecutar cada celda, de manera independiente, con las opciones marcada en rojo en la barra de herramientas\n",
    "\n",
    "<center>\n",
    "<img src=\"./imgs/ejecutar_celdas.png\"  alt=\"drawing\" width=\"600\"/>\n",
    "</center>"
   ]
  },
  {
   "cell_type": "markdown",
   "metadata": {},
   "source": [
    "Como podéis ver, la mayoría de los elementos del ID de Spyder ya los conocéis\n",
    "\n",
    "Lo único que queda por hacer, es programar en Python"
   ]
  },
  {
   "cell_type": "markdown",
   "metadata": {},
   "source": [
    "### Vscode.\n",
    "\n",
    "vscode está integrado en Anaconda. Para abrirlo, lo único que tenemos que hacer es seleccionarlo\n",
    "\n",
    "Otra opción, sería descargarlo diréctamente de su web: https://code.visualstudio.com/"
   ]
  },
  {
   "cell_type": "markdown",
   "metadata": {},
   "source": [
    "<center>\n",
    "<img src=\"./imgs/anaconda_vscode.png\"  alt=\"drawing\" width=\"1000\"/>\n",
    "</center>"
   ]
  },
  {
   "cell_type": "markdown",
   "metadata": {},
   "source": [
    "Al abrirlo por primera vez, esto es lo que vemos"
   ]
  },
  {
   "cell_type": "markdown",
   "metadata": {},
   "source": [
    "<center>\n",
    "<img src=\"./imgs/portada_vs.png\"  alt=\"drawing\" width=\"1000\"/>\n",
    "</center>"
   ]
  },
  {
   "cell_type": "markdown",
   "metadata": {},
   "source": [
    "En VS puedes trabajar de dos modos\n",
    "\n",
    "Puedes abrir un fichero, y programar. \n",
    "\n",
    "O puedes abrir una carpeta, y allí tienes tu directorio de trabajo. Vamos a abrir una carpeta (crea una carpeta nueva en el escritorio)"
   ]
  },
  {
   "cell_type": "markdown",
   "metadata": {},
   "source": [
    "<center>\n",
    "<img src=\"./imgs/abrir_carpeta.png\"  alt=\"drawing\" width=\"400\"/>\n",
    "</center>"
   ]
  },
  {
   "cell_type": "markdown",
   "metadata": {},
   "source": [
    "VS Code es un editor que puede funcionar para casi cualquier lenguaje de programación (Python, R, VBA...)\n",
    "\n",
    "Hay que instalar las extensiones para cada lenguaje: instala la de python"
   ]
  },
  {
   "cell_type": "markdown",
   "metadata": {},
   "source": [
    "<center>\n",
    "<img src=\"./imgs/extensiones.png\"  alt=\"drawing\" width=\"400\"/>\n",
    "</center>"
   ]
  },
  {
   "cell_type": "markdown",
   "metadata": {},
   "source": [
    "Para iniciar la extensión, debemos crear un fichero .py en la carpeta que hemos creado\n",
    "\n",
    "Pincha en el icono de las dos carpetas - nuevo archivo (también puede hacerlo con botón derecho)"
   ]
  },
  {
   "cell_type": "markdown",
   "metadata": {},
   "source": [
    "<center>\n",
    "<img src=\"./imgs/nuevo_fichero.png\"  alt=\"drawing\" width=\"600\"/>\n",
    "</center>"
   ]
  },
  {
   "cell_type": "markdown",
   "metadata": {},
   "source": [
    "Al crear el fichero.py se ha activado la extensión de python"
   ]
  },
  {
   "cell_type": "markdown",
   "metadata": {},
   "source": [
    "<center>\n",
    "<img src=\"./imgs/python_activado.png\"  alt=\"drawing\" width=\"1500\"/>\n",
    "</center>"
   ]
  },
  {
   "cell_type": "markdown",
   "metadata": {},
   "source": [
    "Si pinchamos sobre la versión de python activa, se nos abrirá un desplegable que nos mostrará las distintas versiones de python que tenemos instaladas. \n",
    "\n",
    "En mi caso, la de python que acabo de instalar 3.10\n",
    "\n",
    "Y la versión de anaconda que ya tenía instalada"
   ]
  },
  {
   "cell_type": "markdown",
   "metadata": {},
   "source": [
    "<center>\n",
    "<img src=\"./imgs/versiones_python.png\"  alt=\"drawing\" width=\"500\"/>\n",
    "</center>"
   ]
  },
  {
   "cell_type": "markdown",
   "metadata": {},
   "source": [
    "Es muy importante comprobar siempre que tenemos la versión de python que queremos activa"
   ]
  },
  {
   "cell_type": "markdown",
   "metadata": {},
   "source": [
    "Escribe print(\"Hola\")\n",
    "\n",
    "Con control S guardamos el fichero\n",
    "\n",
    "Si queremos ejecutar código, tenemos varias formas\n",
    "\n",
    "- Dando al play (icono del triángulo arriba a la derecha): Se abrirá una terminal de python donde ejecutará el fichero"
   ]
  },
  {
   "cell_type": "markdown",
   "metadata": {},
   "source": [
    "<center>\n",
    "<img src=\"./imgs/terminal.png\"  alt=\"drawing\" width=\"1500\"/>\n",
    "</center>"
   ]
  },
  {
   "cell_type": "markdown",
   "metadata": {},
   "source": [
    "Otra manera sería crear celdas, como en un notebook (de hecho, VS Code puede abrir notebooks sin problema)\n",
    "\n",
    "Para crear una celda ponemos #%%\n",
    "\n",
    "Cada vez que pongamos #%% se iniciará una celda nueva\n",
    "\n",
    "Para ejecutar una celda en concreto, pinchamos en Run Cell"
   ]
  },
  {
   "cell_type": "markdown",
   "metadata": {},
   "source": [
    "<center>\n",
    "<img src=\"./imgs/celdas.png\"  alt=\"drawing\" width=\"1500\"/>\n",
    "</center>"
   ]
  },
  {
   "cell_type": "markdown",
   "metadata": {},
   "source": [
    "Al ejecutar la celda, se nos abre a la derecha un editor interactivo\n",
    "\n",
    "Ahí podemos mandar la ejecución de las celdas / código que queramos\n",
    "\n",
    "Si nos fijamos, tiene una pestaña de variables. Si pinchamos, se nos abrirá abajo un explorador de variables muy parecido al de R"
   ]
  },
  {
   "cell_type": "markdown",
   "metadata": {},
   "source": [
    "<center>\n",
    "<img src=\"./imgs/variables.png\"  alt=\"drawing\" width=\"700\"/>\n",
    "</center>"
   ]
  },
  {
   "cell_type": "markdown",
   "metadata": {},
   "source": [
    "Si la variable es una matriz o un DF, podemos pinchar sobre él para que se abra y verlo como en R. En incluso editarlo"
   ]
  },
  {
   "cell_type": "markdown",
   "metadata": {},
   "source": [
    "<center>\n",
    "<img src=\"./imgs/editar_df.png\"  alt=\"drawing\" width=\"400\"/>\n",
    "</center>"
   ]
  },
  {
   "cell_type": "markdown",
   "metadata": {},
   "source": [
    "Si graficamos algo en una celda, el gráfico nos aparecerá en el editor de la derecha"
   ]
  },
  {
   "cell_type": "markdown",
   "metadata": {},
   "source": [
    "<center>\n",
    "<img src=\"./imgs/graficar.png\"  alt=\"drawing\" width=\"900\"/>\n",
    "</center>"
   ]
  },
  {
   "cell_type": "markdown",
   "metadata": {},
   "source": [
    "Podemos también ejecutar únicamente la parte del código que seleccionemos (al igual que hacíamos en R)\n",
    "\n",
    "Para ello, solo tenemos que realizar la selección y ejecutar con shift + enter (la ejecución se realizará en el terminal)"
   ]
  },
  {
   "cell_type": "markdown",
   "metadata": {},
   "source": [
    "También podemos seleccionar el código que queramos ejecutar, botón derecho: run selection in interactive window"
   ]
  },
  {
   "cell_type": "markdown",
   "metadata": {},
   "source": [
    "<center>\n",
    "<img src=\"./imgs/run_selection.png\"  alt=\"drawing\" width=\"600\"/>\n",
    "</center>"
   ]
  },
  {
   "cell_type": "markdown",
   "metadata": {},
   "source": [
    "#### Instalar librerías"
   ]
  },
  {
   "cell_type": "markdown",
   "metadata": {},
   "source": [
    "Para instalar librerías debemos hacerlo en la terminal\n",
    "\n",
    "Para ello abrimos una nueva terminal (terminal - nuevo terminal), o en la propia terminal, el botón de +"
   ]
  },
  {
   "cell_type": "markdown",
   "metadata": {},
   "source": [
    "<center>\n",
    "<img src=\"./imgs/nueva_terminal.png\"  alt=\"drawing\" width=\"1500\"/>\n",
    "</center>"
   ]
  },
  {
   "cell_type": "markdown",
   "metadata": {},
   "source": [
    "En la terminal escribid pip install pandas (la librería que necesitéis)\n",
    "\n",
    "Otra manera de hacerlo, desde la propia celda, escribid %pip install pandas (la librería que necesitéis)"
   ]
  },
  {
   "cell_type": "markdown",
   "metadata": {},
   "source": [
    "#### Debugger"
   ]
  },
  {
   "cell_type": "markdown",
   "metadata": {},
   "source": [
    "Podemos poner puntos de parada (como hacíamos en R, o en VBA)"
   ]
  },
  {
   "cell_type": "markdown",
   "metadata": {},
   "source": [
    "<center>\n",
    "<img src=\"./imgs/break_point.png\"  alt=\"drawing\" width=\"600\"/>\n",
    "</center>"
   ]
  },
  {
   "cell_type": "markdown",
   "metadata": {},
   "source": [
    "Podemos pinchar sobre el icono de Run & Debug y se ejecutará hasta llegar al punto de parada\n",
    "\n",
    "Al hacerlo, el entorno cambia, y podemos explorar el valor de las variables, ejecutar hasta el siguiente punto de parada, entrar en una función, ejecutar línea a línea (step over)... lo que necesitemos"
   ]
  },
  {
   "cell_type": "markdown",
   "metadata": {},
   "source": [
    "<center>\n",
    "<img src=\"./imgs/entorno_debug.png\"  alt=\"drawing\" width=\"1500\"/>\n",
    "</center>"
   ]
  },
  {
   "cell_type": "markdown",
   "metadata": {},
   "source": [
    "#### Notebooks"
   ]
  },
  {
   "cell_type": "markdown",
   "metadata": {},
   "source": [
    "VS Code puede abrir los notebooks sin ningún problema. Si tenemos un notebook en nuestra carpeta, podemos abrirlo tan solo haciendo doble clic\n",
    "\n",
    "De hecho, cuenta con un explorador de variables (que tanto hemos echado de menos en Anaconda)"
   ]
  },
  {
   "cell_type": "markdown",
   "metadata": {},
   "source": [
    "<center>\n",
    "<img src=\"./imgs/notebooks.png\"  alt=\"drawing\" width=\"1500\"/>\n",
    "</center>"
   ]
  }
 ],
 "metadata": {
  "kernelspec": {
   "display_name": "Python 3 (ipykernel)",
   "language": "python",
   "name": "python3"
  },
  "language_info": {
   "codemirror_mode": {
    "name": "ipython",
    "version": 3
   },
   "file_extension": ".py",
   "mimetype": "text/x-python",
   "name": "python",
   "nbconvert_exporter": "python",
   "pygments_lexer": "ipython3",
   "version": "3.9.7"
  }
 },
 "nbformat": 4,
 "nbformat_minor": 4
}

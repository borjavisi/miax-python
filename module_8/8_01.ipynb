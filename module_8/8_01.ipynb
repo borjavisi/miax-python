{
 "cells": [
  {
   "cell_type": "markdown",
   "metadata": {},
   "source": [
    "# 8.1. Editores y flujo de trabajo.\n",
    "\n",
    "### Spyder"
   ]
  },
  {
   "cell_type": "markdown",
   "metadata": {},
   "source": [
    "Spyder es un ID muy similar a Rstudio, por lo que \"ya estáis\" familiarizados con él.\n",
    "\n",
    "Está integrado en Anaconda. Para abrirlo, lo único que tenemos que hacer es seleccionarlo"
   ]
  },
  {
   "cell_type": "markdown",
   "metadata": {},
   "source": [
    "<center>\n",
    "<img src=\"./imgs/spyder_anaconda.png\"  alt=\"drawing\" width=\"1000\"/>\n",
    "</center>"
   ]
  },
  {
   "cell_type": "markdown",
   "metadata": {},
   "source": [
    "Una vez abierto, vamos a cargar el fichero loteria.py, incluído dentro de la carpeta del módulo 8"
   ]
  },
  {
   "cell_type": "markdown",
   "metadata": {},
   "source": [
    "<center>\n",
    "<img src=\"./imgs/spyder_visualizacion.png\"  alt=\"drawing\" width=\"1000\"/>\n",
    "</center>"
   ]
  },
  {
   "cell_type": "markdown",
   "metadata": {},
   "source": [
    "- En la parte izquierda tenemos el script (donde programamos)\n",
    "- Arriba a la derecha, el explorador de variables (igual que en Rstudio)\n",
    "- Abajo a la derecha la terminal, donde obtenemos el output del código ejecutado"
   ]
  },
  {
   "cell_type": "markdown",
   "metadata": {},
   "source": [
    "- Para instalar librerías hay que hacerlo en la terminal. Prueba a instalar la librería selenium: pip install selenium\n",
    "- Para ejecutar todo el script: control + intro, o el triángulo verde de la barra de herramientas.\n",
    "- Si queremos ejecutar solo una selección de líneas: F9, o la opción marca en rojo en la barra de herramientas\n",
    "\n",
    "<center>\n",
    "<img src=\"./imgs/barra_herramientas.png\"  alt=\"drawing\" width=\"600\"/>\n",
    "</center>"
   ]
  },
  {
   "cell_type": "markdown",
   "metadata": {},
   "source": [
    "- Podemos crear celdas, al estilo de un notebook, enmarcándolas en #%%\n",
    "\n",
    "<center>\n",
    "<img src=\"./imgs/crear_celdas.png\"  alt=\"drawing\" width=\"600\"/>\n",
    "</center>\n",
    "\n",
    "- Podemos ejecutar cada celda, de manera independiente, con las opciones marcada en rojo en la barra de herramientas\n",
    "\n",
    "<center>\n",
    "<img src=\"./imgs/ejecutar_celdas.png\"  alt=\"drawing\" width=\"600\"/>\n",
    "</center>"
   ]
  },
  {
   "cell_type": "markdown",
   "metadata": {},
   "source": [
    "Como podéis ver, la mayoría de los elementos del ID de Spyder ya los conocéis\n",
    "\n",
    "Lo único que queda por hacer, es programar en Python"
   ]
  },
  {
   "cell_type": "markdown",
   "metadata": {},
   "source": [
    "### Vscode.\n",
    "\n",
    "vscode está integrado en Anaconda. Para abrirlo, lo único que tenemos que hacer es seleccionarlo\n",
    "\n",
    "Otra opción, sería descargarlo diréctamente de su web: https://code.visualstudio.com/"
   ]
  },
  {
   "cell_type": "markdown",
   "metadata": {},
   "source": [
    "<center>\n",
    "<img src=\"./imgs/anaconda_vscode.png\"  alt=\"drawing\" width=\"1000\"/>\n",
    "</center>"
   ]
  },
  {
   "cell_type": "code",
   "execution_count": null,
   "metadata": {},
   "outputs": [],
   "source": []
  },
  {
   "cell_type": "code",
   "execution_count": null,
   "metadata": {},
   "outputs": [],
   "source": []
  },
  {
   "cell_type": "code",
   "execution_count": null,
   "metadata": {},
   "outputs": [],
   "source": []
  }
 ],
 "metadata": {
  "kernelspec": {
   "display_name": "Python 3",
   "language": "python",
   "name": "python3"
  },
  "language_info": {
   "codemirror_mode": {
    "name": "ipython",
    "version": 3
   },
   "file_extension": ".py",
   "mimetype": "text/x-python",
   "name": "python",
   "nbconvert_exporter": "python",
   "pygments_lexer": "ipython3",
   "version": "3.7.6"
  }
 },
 "nbformat": 4,
 "nbformat_minor": 4
}

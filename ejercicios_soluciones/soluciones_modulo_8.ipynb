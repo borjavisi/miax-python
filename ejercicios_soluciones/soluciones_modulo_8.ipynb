{
 "cells": [
  {
   "cell_type": "markdown",
   "metadata": {},
   "source": [
    "___\n",
    "## Módulo 8: Web Scraping I.\n",
    "___"
   ]
  },
  {
   "cell_type": "markdown",
   "metadata": {},
   "source": [
    "## 8.2. Temas avanzados.\n",
    "**8.2.1** De la página de bolsa de madrid: https://www.bolsamadrid.es/esp/aspx/Indices/Resumen.aspx obten un daframe con los contenidos de la tabla."
   ]
  },
  {
   "cell_type": "code",
   "execution_count": null,
   "metadata": {},
   "outputs": [],
   "source": [
    "from bs4 import BeautifulSoup\n",
    "import requests\n",
    "import pandas as pd"
   ]
  },
  {
   "cell_type": "code",
   "execution_count": null,
   "metadata": {},
   "outputs": [],
   "source": [
    "headers = {'User-Agent': 'Firefox'}\n",
    "# la url puede ser de cualquier página y será el objetivo de nuestro web-scrapper\n",
    "url = 'https://www.bolsamadrid.es/esp/aspx/Indices/Resumen.aspx'"
   ]
  },
  {
   "cell_type": "code",
   "execution_count": null,
   "metadata": {},
   "outputs": [],
   "source": [
    "re = requests.get(url,headers=headers)\n",
    "\n",
    "soup = BeautifulSoup( re.text, 'html.parser')\n",
    "table = soup.find_all('table', {'class' : 'TblPort'})\n",
    "table = table[0]\n",
    "\n",
    "trs = table.find_all('tr')\n",
    "ths = table.find_all('th')\n",
    "\n",
    "columns = []\n",
    "for th in ths:\n",
    "    print(th.string)\n",
    "    columns.append(th.string)\n",
    "\n",
    "rows = []\n",
    "for tr in trs:\n",
    "    print(tr)\n",
    "    print(\" \")\n",
    "    \n",
    "    tds = tr.find_all('td')\n",
    "    print()\n",
    "    print(\" \")\n",
    "    \n",
    "    data_row = []\n",
    "    for td in tds:\n",
    "        print(td.string)\n",
    "        print(\" \")\n",
    "        data_row.append(td.string)\n",
    "    rows.append(data_row)"
   ]
  },
  {
   "cell_type": "code",
   "execution_count": null,
   "metadata": {},
   "outputs": [],
   "source": [
    "df = pd.DataFrame(rows[1:], columns=columns)\n",
    "df = df.set_index('Nombre')"
   ]
  },
  {
   "cell_type": "code",
   "execution_count": null,
   "metadata": {},
   "outputs": [],
   "source": [
    "df"
   ]
  }
 ],
 "metadata": {
  "kernelspec": {
   "display_name": "Python 3",
   "language": "python",
   "name": "python3"
  },
  "language_info": {
   "codemirror_mode": {
    "name": "ipython",
    "version": 3
   },
   "file_extension": ".py",
   "mimetype": "text/x-python",
   "name": "python",
   "nbconvert_exporter": "python",
   "pygments_lexer": "ipython3",
   "version": "3.7.3"
  }
 },
 "nbformat": 4,
 "nbformat_minor": 2
}

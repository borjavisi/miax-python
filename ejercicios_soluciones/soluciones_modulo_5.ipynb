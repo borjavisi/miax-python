{
 "cells": [
  {
   "cell_type": "markdown",
   "metadata": {},
   "source": [
    "___\n",
    "## Módulo 5: Tratamiento de series temporales.\n",
    "___"
   ]
  },
  {
   "cell_type": "code",
   "execution_count": null,
   "metadata": {},
   "outputs": [],
   "source": [
    "import pandas as pd\n",
    "import numpy as np\n",
    "import matplotlib.pyplot as plt\n",
    "#%matplotlib inline"
   ]
  },
  {
   "cell_type": "markdown",
   "metadata": {},
   "source": [
    "### 5.1. Tratamiento de series temporales I"
   ]
  },
  {
   "cell_type": "markdown",
   "metadata": {},
   "source": [
    "**5.1.1.** Genera un vector de fechas con 15 periodos de frecuencia mensual que empiece el 2015-1-1."
   ]
  },
  {
   "cell_type": "code",
   "execution_count": null,
   "metadata": {},
   "outputs": [],
   "source": [
    "dates = pd.date_range(start = '2015-1-1', periods=15, freq='MS')\n",
    "dates"
   ]
  },
  {
   "cell_type": "markdown",
   "metadata": {},
   "source": [
    "**5.1.2.** A continuación, genera 4 columnas de números aleatorios - que sigan una distribución normal estándar centrada en 10 y con una desviación típica de 2 - de la misma longitud que el vector de fechas. Redondea los números aleatorios a 6 decimales. "
   ]
  },
  {
   "cell_type": "code",
   "execution_count": null,
   "metadata": {},
   "outputs": [],
   "source": [
    "dates.shape"
   ]
  },
  {
   "cell_type": "code",
   "execution_count": null,
   "metadata": {},
   "outputs": [],
   "source": [
    "cols = np.random.normal(loc=10, scale= 2, size=(dates.shape[0],4))\n",
    "cols"
   ]
  },
  {
   "cell_type": "markdown",
   "metadata": {},
   "source": [
    "**5.1.3.** Genera a partir de ambos inputs un DataFrame que tenga el vector de fechas como índice."
   ]
  },
  {
   "cell_type": "code",
   "execution_count": null,
   "metadata": {},
   "outputs": [],
   "source": [
    "data = pd.DataFrame(cols, index=dates)\n",
    "data"
   ]
  },
  {
   "cell_type": "markdown",
   "metadata": {},
   "source": [
    "**5.1.4.** Accede a todos los elementos del año 2015, a todos los datos de abril del mismo año, y a los datos que se encuentran entre abril y septiembre del mismo año."
   ]
  },
  {
   "cell_type": "code",
   "execution_count": null,
   "metadata": {},
   "outputs": [],
   "source": [
    "data.loc['2015']"
   ]
  },
  {
   "cell_type": "code",
   "execution_count": null,
   "metadata": {},
   "outputs": [],
   "source": [
    "data.loc['2015-04']"
   ]
  },
  {
   "cell_type": "code",
   "execution_count": null,
   "metadata": {},
   "outputs": [],
   "source": [
    "data.loc['2015-04':'2015-09']"
   ]
  },
  {
   "cell_type": "markdown",
   "metadata": {},
   "source": [
    "**5.1.5.** Convierte los siguientes strings en fechas que pandas pueda entender\n",
    "\n",
    "- 07-07-2015\n",
    "- 2015, 7, 3\n",
    "- 4th of July, 2015\n",
    "- 20150708\n",
    "- 2015-Jul-6\n",
    "- 12/11/1979"
   ]
  },
  {
   "cell_type": "code",
   "execution_count": null,
   "metadata": {},
   "outputs": [],
   "source": [
    "from datetime import datetime"
   ]
  },
  {
   "cell_type": "code",
   "execution_count": null,
   "metadata": {},
   "outputs": [],
   "source": [
    "dates = pd.to_datetime(['07-07-2015', datetime(2015, 7, 3), '4th of July, 2015',\n",
    "                       '20150708', '2015-Jul-6', '12/11/1979'])\n",
    "\n",
    "dates"
   ]
  },
  {
   "cell_type": "markdown",
   "metadata": {},
   "source": [
    "De necesitarlo, podemos indicar el formato de entrada (qué viene antes, el día, el mes, el año...)"
   ]
  },
  {
   "cell_type": "code",
   "execution_count": null,
   "metadata": {},
   "outputs": [],
   "source": [
    "pd.to_datetime('12/11/1979', format='%d/%m/%Y')"
   ]
  },
  {
   "cell_type": "markdown",
   "metadata": {},
   "source": [
    "**5.1.6.** Construye un rango de fechas que empiece el 1 de enero de 2020, tenga 10 periodos con su frecuencia sea cada 9 días laborables."
   ]
  },
  {
   "cell_type": "code",
   "execution_count": null,
   "metadata": {},
   "outputs": [],
   "source": [
    "pd.date_range('2020-01-01', periods=10, freq='9B')"
   ]
  },
  {
   "cell_type": "markdown",
   "metadata": {},
   "source": [
    "___\n",
    "### 5.2. Tratamiento de series temporales II"
   ]
  },
  {
   "cell_type": "markdown",
   "metadata": {},
   "source": [
    "**5.2.1.** Carga los csvs de datos ibex_div, ibex, NTGY, REE, SAN, pon la fecha como índice."
   ]
  },
  {
   "cell_type": "markdown",
   "metadata": {},
   "source": [
    "Esta sería una manera de hacerlo"
   ]
  },
  {
   "cell_type": "code",
   "execution_count": null,
   "metadata": {},
   "outputs": [],
   "source": [
    "san = pd.read_csv('SAN.csv', parse_dates=True, index_col=0)\n",
    "ree = pd.read_csv('REE.csv', parse_dates=True, index_col=0)\n",
    "ntgy = pd.read_csv('NTGY.csv', parse_dates=True, index_col=0)\n",
    "ibex = pd.read_csv('ibex.csv', parse_dates=True, index_col=0)\n",
    "ibex_div = pd.read_csv('ibex_div.csv', parse_dates=True, index_col=0)"
   ]
  },
  {
   "cell_type": "markdown",
   "metadata": {},
   "source": [
    "Esta sería otra manera de hacerlo (ojo, los activos no tienen lo mismos días cotizados)"
   ]
  },
  {
   "cell_type": "code",
   "execution_count": null,
   "metadata": {},
   "outputs": [],
   "source": [
    "df = pd.DataFrame(\n",
    "    {'san': pd.read_csv('SAN.csv', parse_dates=True, index_col=0).close,\n",
    "     'ree': pd.read_csv('REE.csv', parse_dates=True, index_col=0).close,\n",
    "     'ntgy': pd.read_csv('NTGY.csv', parse_dates=True, index_col=0).close,\n",
    "     'ibex': pd.read_csv('ibex.csv', parse_dates=True, index_col=0).close,\n",
    "     'ibex_div': pd.read_csv('ibex_div.csv', parse_dates=True, index_col=0).close,\n",
    "    }\n",
    ")\n",
    "\n",
    "df"
   ]
  },
  {
   "cell_type": "markdown",
   "metadata": {},
   "source": [
    "Quitamos las filas con NAs para que todos los activos tengan la misma longitud"
   ]
  },
  {
   "cell_type": "code",
   "execution_count": null,
   "metadata": {},
   "outputs": [],
   "source": [
    "df = df.dropna()\n",
    "df"
   ]
  },
  {
   "cell_type": "markdown",
   "metadata": {},
   "source": [
    "Si graficamos directamente el DF, las diferencias de escala no nos permiten ver bien el gráfico"
   ]
  },
  {
   "cell_type": "code",
   "execution_count": null,
   "metadata": {},
   "outputs": [],
   "source": [
    "df.plot()"
   ]
  },
  {
   "cell_type": "markdown",
   "metadata": {},
   "source": [
    "Podemos hacer que todas las series empiecen en el mismo punto, dividiendo cada valor de las columnas, por el valor que tienen en la 1ª fila (vemos los rendimientos)"
   ]
  },
  {
   "cell_type": "code",
   "execution_count": null,
   "metadata": {},
   "outputs": [],
   "source": [
    "ajustado = df / df.iloc[0]\n",
    "ajustado.plot()"
   ]
  },
  {
   "cell_type": "markdown",
   "metadata": {},
   "source": [
    "**5.2.2.**  Calcula el retorno anualizado del Ibex con dividendos y del Ibex."
   ]
  },
  {
   "cell_type": "markdown",
   "metadata": {},
   "source": [
    "Calculamos el número de años de la serie y el retorno total del Ibex"
   ]
  },
  {
   "cell_type": "code",
   "execution_count": null,
   "metadata": {},
   "outputs": [],
   "source": [
    "years = (ibex.index[-1]-ibex.index[0]).days / 365\n",
    "print(years)\n",
    "\n",
    "total_return = ibex.close[-1] / ibex.close[0] - 1\n",
    "total_return"
   ]
  },
  {
   "cell_type": "markdown",
   "metadata": {},
   "source": [
    "Calculamos el retorno anual del Ibex mediante capitalización compuesta"
   ]
  },
  {
   "cell_type": "code",
   "execution_count": null,
   "metadata": {},
   "outputs": [],
   "source": [
    "year_return_ibex = (1+total_return)**(1/years) - 1\n",
    "year_return_ibex"
   ]
  },
  {
   "cell_type": "markdown",
   "metadata": {},
   "source": [
    "Hacemos lo mismo para el Ibex con dividendos"
   ]
  },
  {
   "cell_type": "code",
   "execution_count": null,
   "metadata": {},
   "outputs": [],
   "source": [
    "years = (ibex_div.index[-1]-ibex_div.index[0]).days / 365\n",
    "print(years)\n",
    "\n",
    "total_return = ibex_div.close[-1] / ibex_div.close[0] - 1 \n",
    "total_return"
   ]
  },
  {
   "cell_type": "code",
   "execution_count": null,
   "metadata": {},
   "outputs": [],
   "source": [
    "return_ibex_div = (1 + total_return)**(1/years) - 1\n",
    "return_ibex_div"
   ]
  },
  {
   "cell_type": "markdown",
   "metadata": {},
   "source": [
    "Graficamos ambas series"
   ]
  },
  {
   "cell_type": "code",
   "execution_count": null,
   "metadata": {},
   "outputs": [],
   "source": [
    "ibex_div.close.plot()\n",
    "ibex.close.plot()"
   ]
  },
  {
   "cell_type": "markdown",
   "metadata": {},
   "source": [
    "Si queremos hacer lo mismo, pero usando el DF ya homogeneizado y limpito:"
   ]
  },
  {
   "cell_type": "code",
   "execution_count": null,
   "metadata": {},
   "outputs": [],
   "source": [
    "years = (df.index[-1]-df.index[0]).days / 365\n",
    "print(years)\n",
    "\n",
    "total_return = df.ibex[-1] / df.ibex[0] - 1 \n",
    "return_ibex = (1 + total_return)**(1/years) - 1\n",
    "print(return_ibex)\n",
    "\n",
    "total_return = df.ibex_div[-1] / df.ibex_div[0] - 1 \n",
    "return_ibex_div = (1 + total_return)**(1/years) - 1\n",
    "print(return_ibex_div)\n",
    "\n",
    "df.ibex.plot()\n",
    "df.ibex_div.plot()"
   ]
  },
  {
   "cell_type": "markdown",
   "metadata": {},
   "source": [
    "**5.2.3.**  Calcula la serie de retornos anuales  del Ibex con dividendos y del Ibex."
   ]
  },
  {
   "cell_type": "markdown",
   "metadata": {},
   "source": [
    "Sacamos el primer día de cada año con resample"
   ]
  },
  {
   "cell_type": "code",
   "execution_count": null,
   "metadata": {},
   "outputs": [],
   "source": [
    "first_day_year_value_ibex = ibex.close.resample('YS').first()\n",
    "first_day_year_value_ibex_div = ibex_div.close.resample('YS').first()\n",
    "\n",
    "first_day_year_value_ibex"
   ]
  },
  {
   "cell_type": "markdown",
   "metadata": {},
   "source": [
    "Calculamos los retornos anuales"
   ]
  },
  {
   "cell_type": "code",
   "execution_count": null,
   "metadata": {},
   "outputs": [],
   "source": [
    "returns_year_ibex = first_day_year_value_ibex.pct_change().dropna()\n",
    "returns_year_ibex_div = first_day_year_value_ibex_div.pct_change().dropna()\n",
    "\n",
    "returns_year_ibex"
   ]
  },
  {
   "cell_type": "markdown",
   "metadata": {},
   "source": [
    "Podemos hacer lo mismo con el DF limpito"
   ]
  },
  {
   "cell_type": "code",
   "execution_count": null,
   "metadata": {},
   "outputs": [],
   "source": [
    "first_day_year = df.resample('YS').first()\n",
    "returns_year = first_day_year.pct_change().dropna()\n",
    "returns_year"
   ]
  },
  {
   "cell_type": "markdown",
   "metadata": {},
   "source": [
    "**5.2.4.**  Realiza un gráfico de barras comparándolos."
   ]
  },
  {
   "cell_type": "markdown",
   "metadata": {},
   "source": [
    "Simplificamos la fecha para que al graficar solo aparezca el año y no toda la fecha a la hora de graficar"
   ]
  },
  {
   "cell_type": "code",
   "execution_count": null,
   "metadata": {},
   "outputs": [],
   "source": [
    "returns_year_ibex.index = returns_year_ibex.index.year \n",
    "returns_year_ibex_div.index = returns_year_ibex_div.index.year "
   ]
  },
  {
   "cell_type": "code",
   "execution_count": null,
   "metadata": {},
   "outputs": [],
   "source": [
    "data = pd.DataFrame({\n",
    "    'ibex': returns_year_ibex,\n",
    "    'ibex div': returns_year_ibex_div\n",
    "})\n",
    "\n",
    "data.plot.bar()"
   ]
  },
  {
   "cell_type": "markdown",
   "metadata": {},
   "source": [
    "Podemos aplicarlo a todo el DF"
   ]
  },
  {
   "cell_type": "code",
   "execution_count": null,
   "metadata": {},
   "outputs": [],
   "source": [
    "returns_year.index = returns_year.index.year \n",
    "returns_year.plot.bar(figsize=(20,10))"
   ]
  },
  {
   "cell_type": "markdown",
   "metadata": {},
   "source": [
    "**5.2.5.**  Compara los retornos anuales del Ibex con los de SAN."
   ]
  },
  {
   "cell_type": "code",
   "execution_count": null,
   "metadata": {},
   "outputs": [],
   "source": [
    "df_ibex_san = pd.DataFrame({\n",
    "    'san': returns_year.san,\n",
    "    'ibex': returns_year.ibex,\n",
    "})\n",
    "df_ibex_san.plot.bar()"
   ]
  },
  {
   "cell_type": "markdown",
   "metadata": {},
   "source": [
    "**5.2.6.**  Calcula la correlación del SAN, REE y NTGY con el IBEX con dividendos."
   ]
  },
  {
   "cell_type": "markdown",
   "metadata": {},
   "source": [
    "Primero calculamos los retornos logarítmicos"
   ]
  },
  {
   "cell_type": "code",
   "execution_count": null,
   "metadata": {},
   "outputs": [],
   "source": [
    "returns_data = np.log(df).diff().dropna()"
   ]
  },
  {
   "cell_type": "markdown",
   "metadata": {},
   "source": [
    "Y luego la correlación"
   ]
  },
  {
   "cell_type": "code",
   "execution_count": null,
   "metadata": {},
   "outputs": [],
   "source": [
    "returns_data.corr()"
   ]
  },
  {
   "cell_type": "markdown",
   "metadata": {},
   "source": [
    "**5.2.7.** Ahora calcula la correlación rolada de 100 días para los activos del ejercico anterior."
   ]
  },
  {
   "cell_type": "code",
   "execution_count": null,
   "metadata": {},
   "outputs": [],
   "source": [
    "rolling_corr = returns_data.rolling(100).corr(returns_data.ibex_div)\n",
    "rolling_corr"
   ]
  },
  {
   "cell_type": "code",
   "execution_count": null,
   "metadata": {},
   "outputs": [],
   "source": [
    "rolling_corr.plot(figsize=(20,10))"
   ]
  },
  {
   "cell_type": "markdown",
   "metadata": {},
   "source": [
    "**5.2.8.** Calcula la media movil de 30 y 200 dias de REE y realiza una figura junto con la serie de precios originales"
   ]
  },
  {
   "cell_type": "code",
   "execution_count": null,
   "metadata": {},
   "outputs": [],
   "source": [
    "SMA_30 = df.ree.rolling(30).mean()\n",
    "SMA_200 = df.ree.rolling(200).mean()\n",
    "\n",
    "df.ree.plot(figsize=(20,10))\n",
    "SMA_30.plot()\n",
    "SMA_200.plot()"
   ]
  },
  {
   "cell_type": "markdown",
   "metadata": {},
   "source": [
    "**5.2.9.**  Usando el precio de cierre del Ibex, calcula las velas mensuales y anuales."
   ]
  },
  {
   "cell_type": "code",
   "execution_count": null,
   "metadata": {},
   "outputs": [],
   "source": [
    "ibex_month_candle = df.ibex.resample('MS').ohlc()\n",
    "ibex_month_candle.head()"
   ]
  },
  {
   "cell_type": "code",
   "execution_count": null,
   "metadata": {},
   "outputs": [],
   "source": [
    "ibex_year_candle = df.ibex.resample('YS').ohlc()\n",
    "ibex_year_candle.head()"
   ]
  },
  {
   "cell_type": "markdown",
   "metadata": {},
   "source": [
    "**5.2.10.** Píntalas utilizando un gráfico de barras."
   ]
  },
  {
   "cell_type": "markdown",
   "metadata": {},
   "source": [
    "Esta sería una manera de hacerlo, con la función que vimos en el notebook de visualización"
   ]
  },
  {
   "cell_type": "code",
   "execution_count": null,
   "metadata": {
    "tags": []
   },
   "outputs": [],
   "source": [
    "from mpl_finance import candlestick_ohlc\n",
    "import matplotlib.dates as mdates\n",
    "\n",
    "def plot_candle(df, width=.5, figsize=(10, 7), tick_formater='%Y-%m'):        \n",
    "    m_data = df[['open', 'high', 'low', 'close']].values\n",
    "    days_m_dates_format = mdates.date2num(df.index.values) \n",
    "    data_plot = np.column_stack((days_m_dates_format, m_data))\n",
    "        \n",
    "    fig, ax = plt.subplots(figsize=figsize)\n",
    "    _ = candlestick_ohlc(ax,\n",
    "                         data_plot,\n",
    "                         width=width,\n",
    "                         colorup='green',\n",
    "                         colordown='red')\n",
    "    _ = ax.xaxis.set_major_formatter(mdates.DateFormatter(tick_formater))\n",
    "    return fig, ax"
   ]
  },
  {
   "cell_type": "code",
   "execution_count": null,
   "metadata": {},
   "outputs": [],
   "source": [
    "plot_candle(ibex_month_candle, width=10)"
   ]
  },
  {
   "cell_type": "code",
   "execution_count": null,
   "metadata": {},
   "outputs": [],
   "source": [
    "plot_candle(ibex_year_candle, width=100)"
   ]
  },
  {
   "cell_type": "markdown",
   "metadata": {},
   "source": [
    "Esta sería otra manera de hacerlo, usando directamente mplfinance"
   ]
  },
  {
   "cell_type": "code",
   "execution_count": null,
   "metadata": {},
   "outputs": [],
   "source": [
    "import mplfinance as fplt"
   ]
  },
  {
   "cell_type": "code",
   "execution_count": null,
   "metadata": {},
   "outputs": [],
   "source": [
    "fplt.plot(ibex_month_candle, type = 'candle', style = 'charles') # Style es para que nos las pinte en verde y en rojo"
   ]
  },
  {
   "cell_type": "code",
   "execution_count": null,
   "metadata": {},
   "outputs": [],
   "source": [
    "fplt.plot(ibex_year_candle, type = 'candle', style = 'charles')"
   ]
  },
  {
   "cell_type": "markdown",
   "metadata": {},
   "source": [
    "**5.2.11.**  Calcula la beta de los 3 activos NTGY, REE y SAN, Recuerda:\n",
    "\n",
    "$\\beta = \\frac{cov(R_m, R_s)}{var(R_m)}$\n",
    "\n",
    "Donde $R_m$ y $R_s$ son la serie de retornos del índice y de la acción."
   ]
  },
  {
   "cell_type": "code",
   "execution_count": null,
   "metadata": {},
   "outputs": [],
   "source": [
    "returns_data"
   ]
  },
  {
   "cell_type": "markdown",
   "metadata": {},
   "source": [
    "Calculamos la covarianza"
   ]
  },
  {
   "cell_type": "code",
   "execution_count": null,
   "metadata": {},
   "outputs": [],
   "source": [
    "cov_mat = returns_data.cov()"
   ]
  },
  {
   "cell_type": "code",
   "execution_count": null,
   "metadata": {},
   "outputs": [],
   "source": [
    "cov_mat"
   ]
  },
  {
   "cell_type": "code",
   "execution_count": null,
   "metadata": {},
   "outputs": [],
   "source": [
    "cov_mat / returns_data.ibex_div.var()"
   ]
  },
  {
   "cell_type": "markdown",
   "metadata": {},
   "source": [
    "De la manera anterior sacamos la matriz entera, cuando quiero únicamente la última columna. \n",
    "\n",
    "Adapto el código"
   ]
  },
  {
   "cell_type": "code",
   "execution_count": null,
   "metadata": {},
   "outputs": [],
   "source": [
    "cov_mat.loc[:,['ibex_div']] / returns_data.ibex_div.var()"
   ]
  },
  {
   "cell_type": "markdown",
   "metadata": {},
   "source": [
    "**5.2.12.** Ahora calcula la beta rolada de 100 días para los activos del ejercico **5.2.11.**"
   ]
  },
  {
   "cell_type": "markdown",
   "metadata": {},
   "source": [
    "Calculamos la covarianza rolada de los retornos de todos los activos, con respecto a los retornos del Ibex\n",
    "\n",
    "Calculamos la varianza rolada del ibex\n",
    "\n",
    "Calculamos la beta"
   ]
  },
  {
   "cell_type": "code",
   "execution_count": null,
   "metadata": {},
   "outputs": [],
   "source": [
    "rolling_cov = returns_data.rolling(100).cov(returns_data.loc[:,'ibex_div'])\n",
    "rolling_var = returns_data.loc[:,'ibex_div'].rolling(100).var() \n",
    "\n",
    "rolling_beta = rolling_cov / rolling_var"
   ]
  },
  {
   "cell_type": "code",
   "execution_count": null,
   "metadata": {},
   "outputs": [],
   "source": [
    "rolling_beta"
   ]
  },
  {
   "cell_type": "markdown",
   "metadata": {},
   "source": [
    "Si intentamos hacer la operación rolling_cov / rolling_var python no consigue hacerla bien (como podemos ver en la tabla de arriba)\n",
    "\n",
    "Por lo que lo hacemos paso a paso"
   ]
  },
  {
   "cell_type": "code",
   "execution_count": null,
   "metadata": {},
   "outputs": [],
   "source": [
    "beta_san = rolling_cov.san / rolling_var\n",
    "beta_ree = rolling_cov.ree / rolling_var\n",
    "beta_ntgy = rolling_cov.ntgy / rolling_var"
   ]
  },
  {
   "cell_type": "code",
   "execution_count": null,
   "metadata": {},
   "outputs": [],
   "source": [
    "beta_san.plot(figsize=(20,10))\n",
    "beta_ree.plot()\n",
    "beta_ntgy.plot()"
   ]
  }
 ],
 "metadata": {
  "kernelspec": {
   "display_name": "Python 3",
   "language": "python",
   "name": "python3"
  },
  "language_info": {
   "codemirror_mode": {
    "name": "ipython",
    "version": 3
   },
   "file_extension": ".py",
   "mimetype": "text/x-python",
   "name": "python",
   "nbconvert_exporter": "python",
   "pygments_lexer": "ipython3",
   "version": "3.7.6"
  }
 },
 "nbformat": 4,
 "nbformat_minor": 4
}

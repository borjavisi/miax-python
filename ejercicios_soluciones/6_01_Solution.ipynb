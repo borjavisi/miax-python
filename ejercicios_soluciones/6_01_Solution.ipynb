{
 "cells": [
  {
   "cell_type": "markdown",
   "metadata": {
    "tags": []
   },
   "source": [
    "# 6.1. Obtención de datos financieros"
   ]
  },
  {
   "cell_type": "code",
   "execution_count": null,
   "metadata": {},
   "outputs": [],
   "source": [
    "import pandas as pd\n",
    "import requests"
   ]
  },
  {
   "cell_type": "markdown",
   "metadata": {},
   "source": [
    "Vamos a conectarnos con un servicio web para obtener datos financieros"
   ]
  },
  {
   "cell_type": "markdown",
   "metadata": {},
   "source": [
    "1. Regístrate en iexcloud: https://iexcloud.io/\n",
    "\n",
    "IEX es la web de un agregador en donde podemos encontrar infinidad de datos\n",
    "\n",
    "Si hacemos un \"uso intensivo\", hay que pagar. Pero también tiene una serie de llamadas al mes, que son gratuítas. \n",
    "\n",
    "Para lo que vamos a hacer en el máster, es más que perfecto"
   ]
  },
  {
   "cell_type": "markdown",
   "metadata": {},
   "source": [
    "<center>\n",
    "<img src=\"./imgs/portada_iex.png\"  alt=\"drawing\" width=\"1000\"/>\n",
    "</center>"
   ]
  },
  {
   "cell_type": "markdown",
   "metadata": {},
   "source": [
    "A la hora de registrarte, hay una opción que es 9,99 al mes y otra que es gratuita. Elije esta última."
   ]
  },
  {
   "cell_type": "markdown",
   "metadata": {},
   "source": [
    "<center>\n",
    "<img src=\"./imgs/gratis.png\"  alt=\"drawing\" width=\"400\"/>\n",
    "</center>"
   ]
  },
  {
   "cell_type": "markdown",
   "metadata": {},
   "source": [
    "Una vez estéis registrados, tenéis que estar en una pantalla como esta"
   ]
  },
  {
   "cell_type": "markdown",
   "metadata": {},
   "source": [
    "<center>\n",
    "<img src=\"./imgs/registrado.png\"  alt=\"drawing\" width=\"1000\"/>\n",
    "</center>"
   ]
  },
  {
   "cell_type": "markdown",
   "metadata": {},
   "source": [
    "2. Genera y copia un token de acceso."
   ]
  },
  {
   "cell_type": "markdown",
   "metadata": {},
   "source": [
    "En el menú lateral, ve a la llave (access & security) \n",
    "\n",
    "<center>\n",
    "<img src=\"./imgs/acceess.png\"  alt=\"drawing\" width=\"800\"/>\n",
    "</center>\n",
    "\n",
    "El token es \"la contraseña\" que os dará acceso a la descarga de datos\n",
    "\n",
    "En cada petición que hagamos, deberemos incluir el token\n",
    "\n",
    "Si no tenéis uno ya creado por defecto, cread uno"
   ]
  },
  {
   "cell_type": "markdown",
   "metadata": {},
   "source": [
    "3. Observa la documentación, mira los datos que están disponibles.\n",
    "\n",
    "En la interrogación de arriba a la derecha, seleccionad API Docs\n",
    "\n",
    "<center>\n",
    "<img src=\"./imgs/api_doc.png\"  alt=\"drawing\" width=\"900\"/>\n",
    "</center>\n",
    "\n",
    "Un API es una dirección web. De hecho, primero haremos los ejemplos en el navegador, para después hacerlos desde python.\n",
    "\n",
    "Vamos a construir una dirección web, y vamos a añadir el token, para hacer una petición, que nos devolverá un json"
   ]
  },
  {
   "cell_type": "markdown",
   "metadata": {},
   "source": [
    "La dirección a la que tenemos que llamar es la subrayada\n",
    "\n",
    "<center>\n",
    "<img src=\"./imgs/direccion.png\"  alt=\"drawing\" width=\"400\"/>\n",
    "</center>"
   ]
  },
  {
   "cell_type": "markdown",
   "metadata": {},
   "source": [
    "Por ejemplo, en historical prices podemos obtener los datos históricos de cualquier stock\n",
    "\n",
    "<center>\n",
    "<img src=\"./imgs/historical.png\"  alt=\"drawing\" width=\"900\"/>\n",
    "</center>\n",
    "\n",
    "En todas las páginas, más abajo, podemos encontrar ejemplos sobre cómo hacer la llamada\n",
    "\n",
    "Si pinchamos sobre ellos, nos aparecerá una web indicando que el API KEY es necesaria\n",
    "\n",
    "Si queremos hacer la llamada, directamente sobre la web, debemos añadir nuestro token, poniendo al final de la dirección una interrogación + nuestro token\n",
    "\n",
    "<center>\n",
    "<img src=\"./imgs/direccion_token.png\"  alt=\"drawing\" width=\"900\"/>\n",
    "</center>"
   ]
  },
  {
   "cell_type": "markdown",
   "metadata": {},
   "source": [
    "Con el token incluido, podemos ver cómo nos ha traído todos los datos\n",
    "\n",
    "En Firefox se ve como en la imagen, en Chrome se ve menos bonito.\n",
    "\n",
    "<center>\n",
    "<img src=\"./imgs/datos_web.png\"  alt=\"drawing\" width=\"400\"/>\n",
    "</center>"
   ]
  },
  {
   "cell_type": "markdown",
   "metadata": {},
   "source": [
    "4. Explora y encuenta los endpoints con los que se obtienen las bolsas disponibles.\n",
    "\n"
   ]
  },
  {
   "cell_type": "markdown",
   "metadata": {},
   "source": [
    "<center>\n",
    "<img src=\"./imgs/reference_Data.png\"  alt=\"drawing\" width=\"200\"/>\n",
    "</center>\n",
    "\n",
    "En reference data podrás encontrar International Exchanges\n",
    "\n",
    "<center>\n",
    "<img src=\"./imgs/international_exchanges.png\"  alt=\"drawing\" width=\"400\"/>\n",
    "</center>"
   ]
  },
  {
   "cell_type": "markdown",
   "metadata": {},
   "source": [
    "5. Encuenta los endpoints con los que se obtienen los símbolos de los activos que cotizan en una bolsa\n",
    "\n",
    "<center>\n",
    "<img src=\"./imgs/international_symbols.png\"  alt=\"drawing\" width=\"600\"/>\n",
    "</center>"
   ]
  },
  {
   "cell_type": "markdown",
   "metadata": {},
   "source": [
    "Dedicad unos minutos a explorar la documentación y ver distintos ejemplos"
   ]
  },
  {
   "cell_type": "markdown",
   "metadata": {},
   "source": [
    "6. Prueba a obtener los datos de los últimos dos apartados desde el navegador. Hazlo, por ejemplo, para Bolsa de Madrid\n",
    "\n",
    "Para ello contruye una url de la siguiente manera: \n",
    "\n",
    "```https://cloud.iexapis.com/stable/------rellena lo que quieras pedir ----?token=TU_TOKEN```\n",
    "\n",
    "Ojo. Solo tenemos 50.000 datos gratuitos al mes: una llamada web también consume datos\n",
    "\n",
    "En la consola de inicio podéis ver cuantos datos lleváis consumidos\n",
    "\n",
    "<center>\n",
    "<img src=\"./imgs/uso.png\"  alt=\"drawing\" width=\"600\"/>\n",
    "</center>"
   ]
  },
  {
   "cell_type": "markdown",
   "metadata": {},
   "source": [
    "Para las bolsas internacionales necesitamos /ref-data/exchanges\n",
    "\n",
    "Bolsa de Madrid es XMAD\n",
    "\n",
    "<center>\n",
    "<img src=\"./imgs/bolsas_internacionales.png\"  alt=\"drawing\" width=\"900\"/>\n",
    "</center>\n",
    "\n",
    "<center>\n",
    "<img src=\"./imgs/bolsa_de_madrid.png\"  alt=\"drawing\" width=\"400\"/>\n",
    "</center>"
   ]
  },
  {
   "cell_type": "markdown",
   "metadata": {},
   "source": [
    "Para los símbolos internacionales necesitamos /ref-data/exchange/{exchange}/symbols\n",
    "\n",
    "Las llaves no hay que ponerlas. Hay que poner el símbolo del exchange de Madrid: XMAD\n",
    "\n",
    "<center>\n",
    "<img src=\"./imgs/activos_madrid.png\"  alt=\"drawing\" width=\"1000\"/>\n",
    "</center>"
   ]
  },
  {
   "cell_type": "markdown",
   "metadata": {},
   "source": [
    "7. Ahora pide lo mismo desde python usando la libreria requests de la siguiente forma:\n",
    "\n",
    "```python\n",
    "import requests\n",
    "url = f'https://cloud.iexapis.com/stable/------rellena lo que quieras pedir ----'\n",
    "r = requests.get(url, params={'token': TU_TOKEN})\n",
    "exchanges = pd.read_json(r.content)\n",
    "```"
   ]
  },
  {
   "cell_type": "markdown",
   "metadata": {},
   "source": [
    "Obtenemos las bolsas internacionales"
   ]
  },
  {
   "cell_type": "code",
   "execution_count": null,
   "metadata": {},
   "outputs": [],
   "source": [
    "TOKEN = 'TU_TOKEN'\n",
    "base_url = 'https://cloud.iexapis.com/stable' "
   ]
  },
  {
   "cell_type": "code",
   "execution_count": null,
   "metadata": {},
   "outputs": [],
   "source": [
    "url = f'{base_url}/ref-data/exchanges'\n",
    "r = requests.get(url, params={'token':TOKEN})\n",
    "exchanges = pd.DataFrame(r.json())"
   ]
  },
  {
   "cell_type": "code",
   "execution_count": null,
   "metadata": {},
   "outputs": [],
   "source": [
    "exchanges.head()"
   ]
  },
  {
   "cell_type": "markdown",
   "metadata": {},
   "source": [
    "Obtenemos los activos que cotizan en Bolsa de Madrid"
   ]
  },
  {
   "cell_type": "code",
   "execution_count": null,
   "metadata": {},
   "outputs": [],
   "source": [
    "exchange = 'XMAD'\n",
    "url = f\"{base_url}/ref-data/exchange/{exchange}/symbols\"\n",
    "r = requests.get(url, params={'token': TOKEN})\n",
    "symbols = pd.DataFrame(r.json())"
   ]
  },
  {
   "cell_type": "code",
   "execution_count": null,
   "metadata": {},
   "outputs": [],
   "source": [
    "symbols.shape"
   ]
  },
  {
   "cell_type": "code",
   "execution_count": null,
   "metadata": {
    "tags": []
   },
   "outputs": [],
   "source": [
    "symbols.head()"
   ]
  },
  {
   "cell_type": "markdown",
   "metadata": {},
   "source": [
    "8. Crea una función que retorne el open, high, low, close y volumen diario del último año, dado un ticker.\n",
    "\n",
    "Consulta la sección y ejemplos de historical prices\n",
    "\n",
    "Utiliza el ticker de Nvidia para invocar la función: 'nvda'"
   ]
  },
  {
   "cell_type": "code",
   "execution_count": null,
   "metadata": {},
   "outputs": [],
   "source": [
    "def get_data_iex(symbol, st_range='1y'):\n",
    "    url = f\"{base_url}/stock/{symbol}/chart/{st_range}\"\n",
    "    r = requests.get(url, params={'token': TOKEN})\n",
    "    data = pd.DataFrame(r.json())\n",
    "    data = data.set_index('date')\n",
    "    data.index = pd.to_datetime(data.index)\n",
    "    data.name = symbol\n",
    "    return data"
   ]
  },
  {
   "cell_type": "code",
   "execution_count": null,
   "metadata": {
    "tags": []
   },
   "outputs": [],
   "source": [
    "data_day = get_data_iex('nvda')\n",
    "data_day.head()"
   ]
  },
  {
   "cell_type": "code",
   "execution_count": null,
   "metadata": {},
   "outputs": [],
   "source": [
    "data_day_OLHC = data_day.loc[:, 'close':'open']\n",
    "data_day_OLHC.head()"
   ]
  },
  {
   "cell_type": "markdown",
   "metadata": {},
   "source": [
    "9. Crea una función que obtenga los datos, minuto a minuto, de un día completo, dado un ticker.\n",
    "\n",
    "Utiliza, por ejemplo, el ticker de Apple: 'aapl'"
   ]
  },
  {
   "cell_type": "code",
   "execution_count": null,
   "metadata": {},
   "outputs": [],
   "source": [
    "def datos_intradia(symbol, rango_temporal='minute'):    \n",
    "    url = f'https://cloud.iexapis.com/stable/stock/{symbol}/intraday-prices'\n",
    "    r = requests.get(url, params={'token': TOKEN})\n",
    "    data = pd.DataFrame(r.json())    \n",
    "    data['time'] = pd.to_datetime(data['date'] + ' ' + data['minute'])\n",
    "    data = data.drop(['date', rango_temporal], axis=1)\n",
    "    data = data.set_index('time')  \n",
    "    return data"
   ]
  },
  {
   "cell_type": "code",
   "execution_count": null,
   "metadata": {},
   "outputs": [],
   "source": [
    "data_intraday = datos_intradia(symbol=\"aapl\", rango_temporal='minute')\n",
    "data_intraday.head()"
   ]
  },
  {
   "cell_type": "code",
   "execution_count": null,
   "metadata": {},
   "outputs": [],
   "source": [
    "data_intraday_OLHC = data_intraday.loc[:, 'high':'close']\n",
    "data_intraday_OLHC.head()"
   ]
  },
  {
   "cell_type": "markdown",
   "metadata": {},
   "source": [
    "10. Pinta las figuras de velas correspondientes a los dos ejercicios anteriores"
   ]
  },
  {
   "cell_type": "code",
   "execution_count": null,
   "metadata": {},
   "outputs": [],
   "source": [
    "import mplfinance as mpf"
   ]
  },
  {
   "cell_type": "code",
   "execution_count": null,
   "metadata": {},
   "outputs": [],
   "source": [
    "mpf.plot(data_day_OLHC, type='candle')"
   ]
  },
  {
   "cell_type": "code",
   "execution_count": null,
   "metadata": {},
   "outputs": [],
   "source": [
    "mpf.plot(data_intraday_OLHC, type='candle')"
   ]
  },
  {
   "cell_type": "markdown",
   "metadata": {
    "tags": []
   },
   "source": [
    "## Otros"
   ]
  },
  {
   "cell_type": "markdown",
   "metadata": {},
   "source": [
    "### Investpy"
   ]
  },
  {
   "cell_type": "markdown",
   "metadata": {},
   "source": [
    "Para descargar datos de Investing\n",
    "\n",
    "investpy: https://investpy.readthedocs.io/\n",
    "\n",
    "<center>\n",
    "<img src=\"./imgs/investing.png\"  alt=\"drawing\" width=\"1000\"/>\n",
    "</center>\n",
    "\n",
    "Ojo. Lo que está haciendo esta librería es un webscraping. Por lo que si cambia la web, la fiabilidad de los datos sería muy cuestionable."
   ]
  },
  {
   "cell_type": "markdown",
   "metadata": {},
   "source": [
    "### Pandas Data Reader"
   ]
  },
  {
   "cell_type": "markdown",
   "metadata": {},
   "source": [
    "Pandas tiene una librería para descargar datos de multitud de fuentes\n",
    "\n",
    "pandas-datareader: https://pandas-datareader.readthedocs.io\n",
    "\n",
    "<center>\n",
    "<img src=\"./imgs/pandas_datareader.png\"  alt=\"drawing\" width=\"1000\"/>\n",
    "</center>\n",
    "\n",
    "Esta librería nos permite conectarnos con multitud de fuentes de datos: IEX, Alpha Vantage, Quandl...\n",
    "\n",
    "<center>\n",
    "<img src=\"./imgs/fuentes_pandas.png\"  alt=\"drawing\" width=\"1000\"/>\n",
    "</center>\n",
    "\n",
    "Por ejemplo, para conectarnos a IEX desde Pandas Data Reader\n",
    "\n",
    "<center>\n",
    "<img src=\"./imgs/iex_pandas.png\"  alt=\"drawing\" width=\"1000\"/>\n",
    "</center>"
   ]
  }
 ],
 "metadata": {
  "kernelspec": {
   "display_name": "Python 3 (ipykernel)",
   "language": "python",
   "name": "python3"
  },
  "language_info": {
   "codemirror_mode": {
    "name": "ipython",
    "version": 3
   },
   "file_extension": ".py",
   "mimetype": "text/x-python",
   "name": "python",
   "nbconvert_exporter": "python",
   "pygments_lexer": "ipython3",
   "version": "3.10.8"
  }
 },
 "nbformat": 4,
 "nbformat_minor": 4
}

{
 "cells": [
  {
   "cell_type": "markdown",
   "metadata": {
    "tags": []
   },
   "source": [
    "# 6.1. Obtención de datos financieros"
   ]
  },
  {
   "cell_type": "code",
   "execution_count": 3,
   "metadata": {},
   "outputs": [],
   "source": [
    "import pandas as pd\n",
    "import requests"
   ]
  },
  {
   "cell_type": "markdown",
   "metadata": {},
   "source": [
    "Vamos a conectarnos con un servicio web para obtener datos financieros"
   ]
  },
  {
   "cell_type": "markdown",
   "metadata": {},
   "source": [
    "1. Regístrate en iexcloud: https://iexcloud.io/\n",
    "\n",
    "IEX es la web de un agregador en donde podemos encontrar infinidad de datos\n",
    "\n",
    "Si hacemos un \"uso intensivo\", hay que pagar. Pero también tiene una serie de llamadas al mes, que son gratuítas. \n",
    "\n",
    "Para lo que vamos a hacer en el máster, es más que perfecto"
   ]
  },
  {
   "cell_type": "markdown",
   "metadata": {},
   "source": [
    "<center>\n",
    "<img src=\"./imgs/portada_iex.png\"  alt=\"drawing\" width=\"1000\"/>\n",
    "</center>"
   ]
  },
  {
   "cell_type": "markdown",
   "metadata": {},
   "source": [
    "A la hora de registrarte, hay una opción que es 9,99 al mes y otra que es gratuita. Elije esta última."
   ]
  },
  {
   "cell_type": "markdown",
   "metadata": {},
   "source": [
    "<center>\n",
    "<img src=\"./imgs/gratis.png\"  alt=\"drawing\" width=\"400\"/>\n",
    "</center>"
   ]
  },
  {
   "cell_type": "markdown",
   "metadata": {},
   "source": [
    "Una vez estéis registrados, tenéis que estar en una pantalla como esta"
   ]
  },
  {
   "cell_type": "markdown",
   "metadata": {},
   "source": [
    "<center>\n",
    "<img src=\"./imgs/registrado.png\"  alt=\"drawing\" width=\"1000\"/>\n",
    "</center>"
   ]
  },
  {
   "cell_type": "markdown",
   "metadata": {},
   "source": [
    "2. Genera y copia un token de acceso."
   ]
  },
  {
   "cell_type": "markdown",
   "metadata": {},
   "source": [
    "En el menú lateral, ve a la llave (access & security) \n",
    "\n",
    "<center>\n",
    "<img src=\"./imgs/acceess.png\"  alt=\"drawing\" width=\"800\"/>\n",
    "</center>\n",
    "\n",
    "El token es \"la contraseña\" que os dará acceso a la descarga de datos\n",
    "\n",
    "En cada petición que hagamos, deberemos incluir el token\n",
    "\n",
    "Si no tenéis uno ya creado por defecto, cread uno"
   ]
  },
  {
   "cell_type": "markdown",
   "metadata": {},
   "source": [
    "3. Observa la documentación, mira los datos que están disponibles.\n",
    "\n",
    "En la interrogación de arriba a la derecha, seleccionad API Docs\n",
    "\n",
    "<center>\n",
    "<img src=\"./imgs/api_doc.png\"  alt=\"drawing\" width=\"900\"/>\n",
    "</center>\n",
    "\n",
    "Un API es una dirección web. De hecho, primero haremos los ejemplos en el navegador, para después hacerlos desde python.\n",
    "\n",
    "Vamos a construir una dirección web, y vamos a añadir el token, para hacer una petición, que nos devolverá un json"
   ]
  },
  {
   "cell_type": "markdown",
   "metadata": {},
   "source": [
    "La dirección a la que tenemos que llamar es la subrayada\n",
    "\n",
    "<center>\n",
    "<img src=\"./imgs/direccion.png\"  alt=\"drawing\" width=\"400\"/>\n",
    "</center>"
   ]
  },
  {
   "cell_type": "markdown",
   "metadata": {},
   "source": [
    "Por ejemplo, en historical prices podemos obtener los datos históricos de cualquier stock\n",
    "\n",
    "<center>\n",
    "<img src=\"./imgs/historical.png\"  alt=\"drawing\" width=\"900\"/>\n",
    "</center>\n",
    "\n",
    "En todas las páginas, más abajo, podemos encontrar ejemplos sobre cómo hacer la llamada\n",
    "\n",
    "Si pinchamos sobre ellos, nos aparecerá una web indicando que el API KEY es necesaria\n",
    "\n",
    "Si queremos hacer la llamada, directamente sobre la web, debemos añadir nuestro token, poniendo al final de la dirección una interrogación + nuestro token\n",
    "\n",
    "<center>\n",
    "<img src=\"./imgs/direccion_token.png\"  alt=\"drawing\" width=\"900\"/>\n",
    "</center>"
   ]
  },
  {
   "cell_type": "markdown",
   "metadata": {},
   "source": [
    "Con el token incluido, podemos ver cómo nos ha traído todos los datos\n",
    "\n",
    "En Firefox se ve como en la imagen, en Chrome se ve menos bonito.\n",
    "\n",
    "<center>\n",
    "<img src=\"./imgs/datos_web.png\"  alt=\"drawing\" width=\"400\"/>\n",
    "</center>"
   ]
  },
  {
   "cell_type": "markdown",
   "metadata": {},
   "source": [
    "4. Explora y encuenta los endpoints con los que se obtienen las bolsas disponibles.\n",
    "\n"
   ]
  },
  {
   "cell_type": "markdown",
   "metadata": {},
   "source": [
    "<center>\n",
    "<img src=\"./imgs/reference_Data.png\"  alt=\"drawing\" width=\"200\"/>\n",
    "</center>\n",
    "\n",
    "En reference data podrás encontrar International Exchanges\n",
    "\n",
    "<center>\n",
    "<img src=\"./imgs/international_exchanges.png\"  alt=\"drawing\" width=\"400\"/>\n",
    "</center>"
   ]
  },
  {
   "cell_type": "markdown",
   "metadata": {},
   "source": [
    "5. Encuenta los endpoints con los que se obtienen los símbolos de los activos que cotizan en una bolsa\n",
    "\n",
    "<center>\n",
    "<img src=\"./imgs/international_symbols.png\"  alt=\"drawing\" width=\"600\"/>\n",
    "</center>"
   ]
  },
  {
   "cell_type": "markdown",
   "metadata": {},
   "source": [
    "Dedicad unos minutos a explorar la documentación y ver distintos ejemplos"
   ]
  },
  {
   "cell_type": "markdown",
   "metadata": {},
   "source": [
    "6. Prueba a obtener los datos de los últimos dos apartados desde el navegador. Hazlo, por ejemplo, para Bolsa de Madrid\n",
    "\n",
    "Para ello contruye una url de la siguiente manera: \n",
    "\n",
    "```https://cloud.iexapis.com/stable/------rellena lo que quieras pedir ----?token=TU_TOKEN```\n",
    "\n",
    "Ojo. Solo tenemos 50.000 datos gratuitos al mes: una llamada web también consume datos\n",
    "\n",
    "En la consola de inicio podéis ver cuantos datos lleváis consumidos\n",
    "\n",
    "<center>\n",
    "<img src=\"./imgs/uso.png\"  alt=\"drawing\" width=\"600\"/>\n",
    "</center>"
   ]
  },
  {
   "cell_type": "markdown",
   "metadata": {},
   "source": [
    "Para las bolsas internacionales necesitamos /ref-data/exchanges\n",
    "\n",
    "Bolsa de Madrid es XMAD\n",
    "\n",
    "<center>\n",
    "<img src=\"./imgs/bolsas_internacionales.png\"  alt=\"drawing\" width=\"900\"/>\n",
    "</center>\n",
    "\n",
    "<center>\n",
    "<img src=\"./imgs/bolsa_de_madrid.png\"  alt=\"drawing\" width=\"400\"/>\n",
    "</center>"
   ]
  },
  {
   "cell_type": "markdown",
   "metadata": {},
   "source": [
    "Para los símbolos internacionales necesitamos /ref-data/exchange/{exchange}/symbols\n",
    "\n",
    "Las llaves no hay que ponerlas. Hay que poner el símbolo del exchange de Madrid: XMAD\n",
    "\n",
    "<center>\n",
    "<img src=\"./imgs/activos_madrid.png\"  alt=\"drawing\" width=\"1000\"/>\n",
    "</center>"
   ]
  },
  {
   "cell_type": "markdown",
   "metadata": {},
   "source": [
    "7. Ahora pide lo mismo desde python usando la libreria requests de la siguiente forma:\n",
    "\n",
    "```python\n",
    "import requests\n",
    "url = f'https://cloud.iexapis.com/stable/------rellena lo que quieras pedir ----'\n",
    "r = requests.get(url, params={'token': TU_TOKEN})\n",
    "exchanges = pd.read_json(r.content)\n",
    "```"
   ]
  },
  {
   "cell_type": "markdown",
   "metadata": {},
   "source": [
    "Obtenemos las bolsas internacionales"
   ]
  },
  {
   "cell_type": "code",
   "execution_count": 4,
   "metadata": {},
   "outputs": [],
   "source": [
    "TOKEN = 'TU_TOKEN'"
   ]
  },
  {
   "cell_type": "code",
   "execution_count": 5,
   "metadata": {},
   "outputs": [],
   "source": [
    "base_url = 'https://cloud.iexapis.com/stable'\n",
    "url = f'{base_url}/ref-data/exchanges'\n",
    "r = requests.get(url, params={'token':TOKEN})\n",
    "exchanges = pd.read_json(r.content)"
   ]
  },
  {
   "cell_type": "code",
   "execution_count": 6,
   "metadata": {},
   "outputs": [
    {
     "data": {
      "text/html": [
       "<div>\n",
       "<style scoped>\n",
       "    .dataframe tbody tr th:only-of-type {\n",
       "        vertical-align: middle;\n",
       "    }\n",
       "\n",
       "    .dataframe tbody tr th {\n",
       "        vertical-align: top;\n",
       "    }\n",
       "\n",
       "    .dataframe thead th {\n",
       "        text-align: right;\n",
       "    }\n",
       "</style>\n",
       "<table border=\"1\" class=\"dataframe\">\n",
       "  <thead>\n",
       "    <tr style=\"text-align: right;\">\n",
       "      <th></th>\n",
       "      <th>exchange</th>\n",
       "      <th>region</th>\n",
       "      <th>description</th>\n",
       "      <th>mic</th>\n",
       "      <th>segment</th>\n",
       "      <th>segmentDescription</th>\n",
       "      <th>suffix</th>\n",
       "      <th>exchangeSuffix</th>\n",
       "    </tr>\n",
       "  </thead>\n",
       "  <tbody>\n",
       "    <tr>\n",
       "      <th>0</th>\n",
       "      <td>A2XX</td>\n",
       "      <td>ZA</td>\n",
       "      <td>A 2 X</td>\n",
       "      <td>A2XX</td>\n",
       "      <td>A2XX</td>\n",
       "      <td>A 2 X</td>\n",
       "      <td>AJ</td>\n",
       "      <td>AJ</td>\n",
       "    </tr>\n",
       "    <tr>\n",
       "      <th>1</th>\n",
       "      <td>AIXK</td>\n",
       "      <td>KZ</td>\n",
       "      <td>Astana International Exchange Ltd</td>\n",
       "      <td>AIXK</td>\n",
       "      <td>AIXK</td>\n",
       "      <td>Astana International Exchange Ltd</td>\n",
       "      <td>KX</td>\n",
       "      <td>KX</td>\n",
       "    </tr>\n",
       "    <tr>\n",
       "      <th>2</th>\n",
       "      <td>APXL</td>\n",
       "      <td>AU</td>\n",
       "      <td>Sydney Stock Exchange Limited</td>\n",
       "      <td>APXL</td>\n",
       "      <td>APXL</td>\n",
       "      <td>Sydney Stock Exchange Limited</td>\n",
       "      <td>PF</td>\n",
       "      <td>PF</td>\n",
       "    </tr>\n",
       "    <tr>\n",
       "      <th>3</th>\n",
       "      <td>ARCX</td>\n",
       "      <td>US</td>\n",
       "      <td>Nyse Arca</td>\n",
       "      <td>ARCX</td>\n",
       "      <td>ARCX</td>\n",
       "      <td>Nyse Arca</td>\n",
       "      <td></td>\n",
       "      <td></td>\n",
       "    </tr>\n",
       "    <tr>\n",
       "      <th>4</th>\n",
       "      <td>ASEX</td>\n",
       "      <td>GR</td>\n",
       "      <td>Athens Stock Exchange</td>\n",
       "      <td>ASEX</td>\n",
       "      <td>ASEX</td>\n",
       "      <td>Athens Stock Exchange</td>\n",
       "      <td>GA</td>\n",
       "      <td>GA</td>\n",
       "    </tr>\n",
       "  </tbody>\n",
       "</table>\n",
       "</div>"
      ],
      "text/plain": [
       "  exchange region                        description   mic segment  \\\n",
       "0     A2XX     ZA                              A 2 X  A2XX    A2XX   \n",
       "1     AIXK     KZ  Astana International Exchange Ltd  AIXK    AIXK   \n",
       "2     APXL     AU      Sydney Stock Exchange Limited  APXL    APXL   \n",
       "3     ARCX     US                          Nyse Arca  ARCX    ARCX   \n",
       "4     ASEX     GR              Athens Stock Exchange  ASEX    ASEX   \n",
       "\n",
       "                  segmentDescription suffix exchangeSuffix  \n",
       "0                              A 2 X     AJ             AJ  \n",
       "1  Astana International Exchange Ltd     KX             KX  \n",
       "2      Sydney Stock Exchange Limited     PF             PF  \n",
       "3                          Nyse Arca                        \n",
       "4              Athens Stock Exchange     GA             GA  "
      ]
     },
     "execution_count": 6,
     "metadata": {},
     "output_type": "execute_result"
    }
   ],
   "source": [
    "exchanges.head()"
   ]
  },
  {
   "cell_type": "markdown",
   "metadata": {},
   "source": [
    "Obtenemos los activos que cotizan en Bolsa de Madrid"
   ]
  },
  {
   "cell_type": "code",
   "execution_count": 7,
   "metadata": {},
   "outputs": [],
   "source": [
    "exchange = 'XMAD'\n",
    "url = f\"{base_url}/ref-data/exchange/{exchange}/symbols\"\n",
    "r = requests.get(url, params={'token': TOKEN})\n",
    "symbols = pd.read_json(r.content)"
   ]
  },
  {
   "cell_type": "code",
   "execution_count": 8,
   "metadata": {},
   "outputs": [
    {
     "data": {
      "text/plain": [
       "(173, 16)"
      ]
     },
     "execution_count": 8,
     "metadata": {},
     "output_type": "execute_result"
    }
   ],
   "source": [
    "symbols.shape"
   ]
  },
  {
   "cell_type": "code",
   "execution_count": 9,
   "metadata": {},
   "outputs": [
    {
     "data": {
      "text/html": [
       "<div>\n",
       "<style scoped>\n",
       "    .dataframe tbody tr th:only-of-type {\n",
       "        vertical-align: middle;\n",
       "    }\n",
       "\n",
       "    .dataframe tbody tr th {\n",
       "        vertical-align: top;\n",
       "    }\n",
       "\n",
       "    .dataframe thead th {\n",
       "        text-align: right;\n",
       "    }\n",
       "</style>\n",
       "<table border=\"1\" class=\"dataframe\">\n",
       "  <thead>\n",
       "    <tr style=\"text-align: right;\">\n",
       "      <th></th>\n",
       "      <th>symbol</th>\n",
       "      <th>exchange</th>\n",
       "      <th>exchangeSuffix</th>\n",
       "      <th>exchangeName</th>\n",
       "      <th>exchangeSegment</th>\n",
       "      <th>exchangeSegmentName</th>\n",
       "      <th>name</th>\n",
       "      <th>date</th>\n",
       "      <th>type</th>\n",
       "      <th>iexId</th>\n",
       "      <th>region</th>\n",
       "      <th>currency</th>\n",
       "      <th>isEnabled</th>\n",
       "      <th>figi</th>\n",
       "      <th>cik</th>\n",
       "      <th>lei</th>\n",
       "    </tr>\n",
       "  </thead>\n",
       "  <tbody>\n",
       "    <tr>\n",
       "      <th>0</th>\n",
       "      <td>A3M-SN</td>\n",
       "      <td>XMAD</td>\n",
       "      <td>SN</td>\n",
       "      <td>Bolsa De Madrid</td>\n",
       "      <td>XMAD</td>\n",
       "      <td>Bolsa De Madrid</td>\n",
       "      <td>Atresmedia Corporacion De Medios De Comunicaci...</td>\n",
       "      <td>2022-05-28</td>\n",
       "      <td>cs</td>\n",
       "      <td>NaN</td>\n",
       "      <td>ES</td>\n",
       "      <td>EUR</td>\n",
       "      <td>True</td>\n",
       "      <td>BBG000F5P2P2</td>\n",
       "      <td>1450460.0</td>\n",
       "      <td>95980020140005491929</td>\n",
       "    </tr>\n",
       "    <tr>\n",
       "      <th>1</th>\n",
       "      <td>ABG-SN</td>\n",
       "      <td>XMAD</td>\n",
       "      <td>SN</td>\n",
       "      <td>Bolsa De Madrid</td>\n",
       "      <td>XMAD</td>\n",
       "      <td>Bolsa De Madrid</td>\n",
       "      <td>Abengoa - Class A</td>\n",
       "      <td>2022-05-28</td>\n",
       "      <td>cs</td>\n",
       "      <td>NaN</td>\n",
       "      <td>ES</td>\n",
       "      <td>EUR</td>\n",
       "      <td>True</td>\n",
       "      <td>BBG000BM26X6</td>\n",
       "      <td>1161785.0</td>\n",
       "      <td>8ZQH7RR6DBQZIX8PEQ84</td>\n",
       "    </tr>\n",
       "    <tr>\n",
       "      <th>2</th>\n",
       "      <td>ABG.P-SN</td>\n",
       "      <td>XMAD</td>\n",
       "      <td>SN</td>\n",
       "      <td>Bolsa De Madrid</td>\n",
       "      <td>XMAD</td>\n",
       "      <td>Bolsa De Madrid</td>\n",
       "      <td>Abengoa - Class B</td>\n",
       "      <td>2022-05-28</td>\n",
       "      <td>cs</td>\n",
       "      <td>NaN</td>\n",
       "      <td>ES</td>\n",
       "      <td>EUR</td>\n",
       "      <td>True</td>\n",
       "      <td>BBG003BMYW77</td>\n",
       "      <td>1161785.0</td>\n",
       "      <td>8ZQH7RR6DBQZIX8PEQ84</td>\n",
       "    </tr>\n",
       "    <tr>\n",
       "      <th>3</th>\n",
       "      <td>ACS-SN</td>\n",
       "      <td>XMAD</td>\n",
       "      <td>SN</td>\n",
       "      <td>Bolsa De Madrid</td>\n",
       "      <td>XMAD</td>\n",
       "      <td>Bolsa De Madrid</td>\n",
       "      <td>ACS, Actividades de Construccion Y Servicios, ...</td>\n",
       "      <td>2022-05-28</td>\n",
       "      <td>cs</td>\n",
       "      <td>NaN</td>\n",
       "      <td>ES</td>\n",
       "      <td>EUR</td>\n",
       "      <td>True</td>\n",
       "      <td>BBG000BMW404</td>\n",
       "      <td>1448375.0</td>\n",
       "      <td>95980020140005558665</td>\n",
       "    </tr>\n",
       "    <tr>\n",
       "      <th>4</th>\n",
       "      <td>ACX-SN</td>\n",
       "      <td>XMAD</td>\n",
       "      <td>SN</td>\n",
       "      <td>Bolsa De Madrid</td>\n",
       "      <td>XMAD</td>\n",
       "      <td>Bolsa De Madrid</td>\n",
       "      <td>Acerinox - Registered Shares</td>\n",
       "      <td>2022-05-28</td>\n",
       "      <td>cs</td>\n",
       "      <td>NaN</td>\n",
       "      <td>ES</td>\n",
       "      <td>EUR</td>\n",
       "      <td>True</td>\n",
       "      <td>BBG000BB80F7</td>\n",
       "      <td>1438557.0</td>\n",
       "      <td>95980020140005582721</td>\n",
       "    </tr>\n",
       "  </tbody>\n",
       "</table>\n",
       "</div>"
      ],
      "text/plain": [
       "     symbol exchange exchangeSuffix     exchangeName exchangeSegment  \\\n",
       "0    A3M-SN     XMAD             SN  Bolsa De Madrid            XMAD   \n",
       "1    ABG-SN     XMAD             SN  Bolsa De Madrid            XMAD   \n",
       "2  ABG.P-SN     XMAD             SN  Bolsa De Madrid            XMAD   \n",
       "3    ACS-SN     XMAD             SN  Bolsa De Madrid            XMAD   \n",
       "4    ACX-SN     XMAD             SN  Bolsa De Madrid            XMAD   \n",
       "\n",
       "  exchangeSegmentName                                               name  \\\n",
       "0     Bolsa De Madrid  Atresmedia Corporacion De Medios De Comunicaci...   \n",
       "1     Bolsa De Madrid                                  Abengoa - Class A   \n",
       "2     Bolsa De Madrid                                  Abengoa - Class B   \n",
       "3     Bolsa De Madrid  ACS, Actividades de Construccion Y Servicios, ...   \n",
       "4     Bolsa De Madrid                       Acerinox - Registered Shares   \n",
       "\n",
       "        date type  iexId region currency  isEnabled          figi        cik  \\\n",
       "0 2022-05-28   cs    NaN     ES      EUR       True  BBG000F5P2P2  1450460.0   \n",
       "1 2022-05-28   cs    NaN     ES      EUR       True  BBG000BM26X6  1161785.0   \n",
       "2 2022-05-28   cs    NaN     ES      EUR       True  BBG003BMYW77  1161785.0   \n",
       "3 2022-05-28   cs    NaN     ES      EUR       True  BBG000BMW404  1448375.0   \n",
       "4 2022-05-28   cs    NaN     ES      EUR       True  BBG000BB80F7  1438557.0   \n",
       "\n",
       "                    lei  \n",
       "0  95980020140005491929  \n",
       "1  8ZQH7RR6DBQZIX8PEQ84  \n",
       "2  8ZQH7RR6DBQZIX8PEQ84  \n",
       "3  95980020140005558665  \n",
       "4  95980020140005582721  "
      ]
     },
     "execution_count": 9,
     "metadata": {},
     "output_type": "execute_result"
    }
   ],
   "source": [
    "symbols.head()"
   ]
  },
  {
   "cell_type": "markdown",
   "metadata": {},
   "source": [
    "8. Crea una función que retorne el open, high, low, close y volumen diario del último año, dado un ticker.\n",
    "\n",
    "Consulta la sección y ejemplos de historical prices\n",
    "\n",
    "Utiliza el ticker de Nvidia para invocar la función: 'nvda'"
   ]
  },
  {
   "cell_type": "code",
   "execution_count": 36,
   "metadata": {},
   "outputs": [],
   "source": [
    "def get_data_iex(symbol, st_range='1y'):\n",
    "    \n",
    "    url = f\"{base_url}/stock/{symbol}/chart/{st_range}\"\n",
    "    r = requests.get(url, params={'token': TOKEN})\n",
    "    data = pd.read_json(r.content)\n",
    "    \n",
    "    data = data.set_index('date')\n",
    "    data.name = symbol\n",
    "    \n",
    "    return data"
   ]
  },
  {
   "cell_type": "code",
   "execution_count": 37,
   "metadata": {},
   "outputs": [
    {
     "data": {
      "text/html": [
       "<div>\n",
       "<style scoped>\n",
       "    .dataframe tbody tr th:only-of-type {\n",
       "        vertical-align: middle;\n",
       "    }\n",
       "\n",
       "    .dataframe tbody tr th {\n",
       "        vertical-align: top;\n",
       "    }\n",
       "\n",
       "    .dataframe thead th {\n",
       "        text-align: right;\n",
       "    }\n",
       "</style>\n",
       "<table border=\"1\" class=\"dataframe\">\n",
       "  <thead>\n",
       "    <tr style=\"text-align: right;\">\n",
       "      <th></th>\n",
       "      <th>close</th>\n",
       "      <th>high</th>\n",
       "      <th>low</th>\n",
       "      <th>open</th>\n",
       "      <th>symbol</th>\n",
       "      <th>volume</th>\n",
       "      <th>id</th>\n",
       "      <th>key</th>\n",
       "      <th>subkey</th>\n",
       "      <th>updated</th>\n",
       "      <th>...</th>\n",
       "      <th>uLow</th>\n",
       "      <th>uVolume</th>\n",
       "      <th>fOpen</th>\n",
       "      <th>fClose</th>\n",
       "      <th>fHigh</th>\n",
       "      <th>fLow</th>\n",
       "      <th>fVolume</th>\n",
       "      <th>label</th>\n",
       "      <th>change</th>\n",
       "      <th>changePercent</th>\n",
       "    </tr>\n",
       "    <tr>\n",
       "      <th>date</th>\n",
       "      <th></th>\n",
       "      <th></th>\n",
       "      <th></th>\n",
       "      <th></th>\n",
       "      <th></th>\n",
       "      <th></th>\n",
       "      <th></th>\n",
       "      <th></th>\n",
       "      <th></th>\n",
       "      <th></th>\n",
       "      <th></th>\n",
       "      <th></th>\n",
       "      <th></th>\n",
       "      <th></th>\n",
       "      <th></th>\n",
       "      <th></th>\n",
       "      <th></th>\n",
       "      <th></th>\n",
       "      <th></th>\n",
       "      <th></th>\n",
       "      <th></th>\n",
       "    </tr>\n",
       "  </thead>\n",
       "  <tbody>\n",
       "    <tr>\n",
       "      <th>2021-05-27</th>\n",
       "      <td>154.8800</td>\n",
       "      <td>157.5000</td>\n",
       "      <td>154.6000</td>\n",
       "      <td>156.9975</td>\n",
       "      <td>NVDA</td>\n",
       "      <td>58147520</td>\n",
       "      <td>HISTORICAL_PRICES</td>\n",
       "      <td>NVDA</td>\n",
       "      <td></td>\n",
       "      <td>1.652532e+12</td>\n",
       "      <td>...</td>\n",
       "      <td>618.40</td>\n",
       "      <td>14536880</td>\n",
       "      <td>156.8879</td>\n",
       "      <td>154.7719</td>\n",
       "      <td>157.3901</td>\n",
       "      <td>154.4921</td>\n",
       "      <td>58147520</td>\n",
       "      <td>May 27, 21</td>\n",
       "      <td>0.0000</td>\n",
       "      <td>0.0000</td>\n",
       "    </tr>\n",
       "    <tr>\n",
       "      <th>2021-05-28</th>\n",
       "      <td>162.4450</td>\n",
       "      <td>162.7748</td>\n",
       "      <td>155.0100</td>\n",
       "      <td>155.0100</td>\n",
       "      <td>NVDA</td>\n",
       "      <td>64453560</td>\n",
       "      <td>HISTORICAL_PRICES</td>\n",
       "      <td>NVDA</td>\n",
       "      <td></td>\n",
       "      <td>1.652532e+12</td>\n",
       "      <td>...</td>\n",
       "      <td>620.04</td>\n",
       "      <td>16113390</td>\n",
       "      <td>154.9018</td>\n",
       "      <td>162.3316</td>\n",
       "      <td>162.6611</td>\n",
       "      <td>154.9018</td>\n",
       "      <td>64453560</td>\n",
       "      <td>May 28, 21</td>\n",
       "      <td>7.5650</td>\n",
       "      <td>0.0488</td>\n",
       "    </tr>\n",
       "    <tr>\n",
       "      <th>2021-06-01</th>\n",
       "      <td>162.6450</td>\n",
       "      <td>163.8813</td>\n",
       "      <td>159.0325</td>\n",
       "      <td>162.7000</td>\n",
       "      <td>NVDA</td>\n",
       "      <td>47280300</td>\n",
       "      <td>HISTORICAL_PRICES</td>\n",
       "      <td>NVDA</td>\n",
       "      <td></td>\n",
       "      <td>1.652532e+12</td>\n",
       "      <td>...</td>\n",
       "      <td>636.13</td>\n",
       "      <td>11820075</td>\n",
       "      <td>162.5864</td>\n",
       "      <td>162.5315</td>\n",
       "      <td>163.7669</td>\n",
       "      <td>158.9215</td>\n",
       "      <td>47280300</td>\n",
       "      <td>Jun 1, 21</td>\n",
       "      <td>0.2000</td>\n",
       "      <td>0.0012</td>\n",
       "    </tr>\n",
       "    <tr>\n",
       "      <th>2021-06-02</th>\n",
       "      <td>167.7825</td>\n",
       "      <td>169.1887</td>\n",
       "      <td>162.3550</td>\n",
       "      <td>162.5225</td>\n",
       "      <td>NVDA</td>\n",
       "      <td>59416756</td>\n",
       "      <td>HISTORICAL_PRICES</td>\n",
       "      <td>NVDA</td>\n",
       "      <td></td>\n",
       "      <td>1.652532e+12</td>\n",
       "      <td>...</td>\n",
       "      <td>649.42</td>\n",
       "      <td>14854189</td>\n",
       "      <td>162.4091</td>\n",
       "      <td>167.6654</td>\n",
       "      <td>169.0706</td>\n",
       "      <td>162.2417</td>\n",
       "      <td>59416756</td>\n",
       "      <td>Jun 2, 21</td>\n",
       "      <td>5.1375</td>\n",
       "      <td>0.0316</td>\n",
       "    </tr>\n",
       "    <tr>\n",
       "      <th>2021-06-03</th>\n",
       "      <td>169.6975</td>\n",
       "      <td>172.5900</td>\n",
       "      <td>165.8300</td>\n",
       "      <td>167.0075</td>\n",
       "      <td>NVDA</td>\n",
       "      <td>58000680</td>\n",
       "      <td>HISTORICAL_PRICES</td>\n",
       "      <td>NVDA</td>\n",
       "      <td></td>\n",
       "      <td>1.652532e+12</td>\n",
       "      <td>...</td>\n",
       "      <td>663.32</td>\n",
       "      <td>14500170</td>\n",
       "      <td>166.8909</td>\n",
       "      <td>169.5790</td>\n",
       "      <td>172.4695</td>\n",
       "      <td>165.7142</td>\n",
       "      <td>58000680</td>\n",
       "      <td>Jun 3, 21</td>\n",
       "      <td>1.9150</td>\n",
       "      <td>0.0114</td>\n",
       "    </tr>\n",
       "  </tbody>\n",
       "</table>\n",
       "<p>5 rows × 25 columns</p>\n",
       "</div>"
      ],
      "text/plain": [
       "               close      high       low      open symbol    volume  \\\n",
       "date                                                                  \n",
       "2021-05-27  154.8800  157.5000  154.6000  156.9975   NVDA  58147520   \n",
       "2021-05-28  162.4450  162.7748  155.0100  155.0100   NVDA  64453560   \n",
       "2021-06-01  162.6450  163.8813  159.0325  162.7000   NVDA  47280300   \n",
       "2021-06-02  167.7825  169.1887  162.3550  162.5225   NVDA  59416756   \n",
       "2021-06-03  169.6975  172.5900  165.8300  167.0075   NVDA  58000680   \n",
       "\n",
       "                           id   key subkey       updated  ...    uLow  \\\n",
       "date                                                      ...           \n",
       "2021-05-27  HISTORICAL_PRICES  NVDA         1.652532e+12  ...  618.40   \n",
       "2021-05-28  HISTORICAL_PRICES  NVDA         1.652532e+12  ...  620.04   \n",
       "2021-06-01  HISTORICAL_PRICES  NVDA         1.652532e+12  ...  636.13   \n",
       "2021-06-02  HISTORICAL_PRICES  NVDA         1.652532e+12  ...  649.42   \n",
       "2021-06-03  HISTORICAL_PRICES  NVDA         1.652532e+12  ...  663.32   \n",
       "\n",
       "             uVolume     fOpen    fClose     fHigh      fLow   fVolume  \\\n",
       "date                                                                     \n",
       "2021-05-27  14536880  156.8879  154.7719  157.3901  154.4921  58147520   \n",
       "2021-05-28  16113390  154.9018  162.3316  162.6611  154.9018  64453560   \n",
       "2021-06-01  11820075  162.5864  162.5315  163.7669  158.9215  47280300   \n",
       "2021-06-02  14854189  162.4091  167.6654  169.0706  162.2417  59416756   \n",
       "2021-06-03  14500170  166.8909  169.5790  172.4695  165.7142  58000680   \n",
       "\n",
       "                 label  change  changePercent  \n",
       "date                                           \n",
       "2021-05-27  May 27, 21  0.0000         0.0000  \n",
       "2021-05-28  May 28, 21  7.5650         0.0488  \n",
       "2021-06-01   Jun 1, 21  0.2000         0.0012  \n",
       "2021-06-02   Jun 2, 21  5.1375         0.0316  \n",
       "2021-06-03   Jun 3, 21  1.9150         0.0114  \n",
       "\n",
       "[5 rows x 25 columns]"
      ]
     },
     "execution_count": 37,
     "metadata": {},
     "output_type": "execute_result"
    }
   ],
   "source": [
    "data_day = get_data_iex('nvda')\n",
    "data_day.head()"
   ]
  },
  {
   "cell_type": "code",
   "execution_count": 44,
   "metadata": {},
   "outputs": [
    {
     "data": {
      "text/html": [
       "<div>\n",
       "<style scoped>\n",
       "    .dataframe tbody tr th:only-of-type {\n",
       "        vertical-align: middle;\n",
       "    }\n",
       "\n",
       "    .dataframe tbody tr th {\n",
       "        vertical-align: top;\n",
       "    }\n",
       "\n",
       "    .dataframe thead th {\n",
       "        text-align: right;\n",
       "    }\n",
       "</style>\n",
       "<table border=\"1\" class=\"dataframe\">\n",
       "  <thead>\n",
       "    <tr style=\"text-align: right;\">\n",
       "      <th></th>\n",
       "      <th>close</th>\n",
       "      <th>high</th>\n",
       "      <th>low</th>\n",
       "      <th>open</th>\n",
       "    </tr>\n",
       "    <tr>\n",
       "      <th>date</th>\n",
       "      <th></th>\n",
       "      <th></th>\n",
       "      <th></th>\n",
       "      <th></th>\n",
       "    </tr>\n",
       "  </thead>\n",
       "  <tbody>\n",
       "    <tr>\n",
       "      <th>2021-05-27</th>\n",
       "      <td>154.8800</td>\n",
       "      <td>157.5000</td>\n",
       "      <td>154.6000</td>\n",
       "      <td>156.9975</td>\n",
       "    </tr>\n",
       "    <tr>\n",
       "      <th>2021-05-28</th>\n",
       "      <td>162.4450</td>\n",
       "      <td>162.7748</td>\n",
       "      <td>155.0100</td>\n",
       "      <td>155.0100</td>\n",
       "    </tr>\n",
       "    <tr>\n",
       "      <th>2021-06-01</th>\n",
       "      <td>162.6450</td>\n",
       "      <td>163.8813</td>\n",
       "      <td>159.0325</td>\n",
       "      <td>162.7000</td>\n",
       "    </tr>\n",
       "    <tr>\n",
       "      <th>2021-06-02</th>\n",
       "      <td>167.7825</td>\n",
       "      <td>169.1887</td>\n",
       "      <td>162.3550</td>\n",
       "      <td>162.5225</td>\n",
       "    </tr>\n",
       "    <tr>\n",
       "      <th>2021-06-03</th>\n",
       "      <td>169.6975</td>\n",
       "      <td>172.5900</td>\n",
       "      <td>165.8300</td>\n",
       "      <td>167.0075</td>\n",
       "    </tr>\n",
       "  </tbody>\n",
       "</table>\n",
       "</div>"
      ],
      "text/plain": [
       "               close      high       low      open\n",
       "date                                              \n",
       "2021-05-27  154.8800  157.5000  154.6000  156.9975\n",
       "2021-05-28  162.4450  162.7748  155.0100  155.0100\n",
       "2021-06-01  162.6450  163.8813  159.0325  162.7000\n",
       "2021-06-02  167.7825  169.1887  162.3550  162.5225\n",
       "2021-06-03  169.6975  172.5900  165.8300  167.0075"
      ]
     },
     "execution_count": 44,
     "metadata": {},
     "output_type": "execute_result"
    }
   ],
   "source": [
    "data_day_OLHC = data_day.loc[:, 'close':'open']\n",
    "data_day_OLHC.head()"
   ]
  },
  {
   "cell_type": "markdown",
   "metadata": {},
   "source": [
    "9. Crea una función que obtenga los datos, minuto a minuto, de un día completo, dado un ticker.\n",
    "\n",
    "Utiliza, por ejemplo, el ticker de Apple: 'aapl'"
   ]
  },
  {
   "cell_type": "code",
   "execution_count": 38,
   "metadata": {},
   "outputs": [],
   "source": [
    "def datos_intradia(symbol, rango_temporal='minute'):\n",
    "    \n",
    "    url = f'https://cloud.iexapis.com/stable/stock/{symbol}/intraday-prices'\n",
    "    r = requests.get(url, params={'token': TOKEN})\n",
    "    data = pd.read_json(r.content)\n",
    "    \n",
    "    data['time'] = pd.to_datetime(data['date'].dt.strftime('%Y-%m-%d ') + data['minute'])\n",
    "    data = data.drop(['date', rango_temporal], axis=1)\n",
    "    data = data.set_index('time')\n",
    "    \n",
    "    return data"
   ]
  },
  {
   "cell_type": "code",
   "execution_count": 39,
   "metadata": {},
   "outputs": [
    {
     "data": {
      "text/html": [
       "<div>\n",
       "<style scoped>\n",
       "    .dataframe tbody tr th:only-of-type {\n",
       "        vertical-align: middle;\n",
       "    }\n",
       "\n",
       "    .dataframe tbody tr th {\n",
       "        vertical-align: top;\n",
       "    }\n",
       "\n",
       "    .dataframe thead th {\n",
       "        text-align: right;\n",
       "    }\n",
       "</style>\n",
       "<table border=\"1\" class=\"dataframe\">\n",
       "  <thead>\n",
       "    <tr style=\"text-align: right;\">\n",
       "      <th></th>\n",
       "      <th>label</th>\n",
       "      <th>high</th>\n",
       "      <th>low</th>\n",
       "      <th>open</th>\n",
       "      <th>close</th>\n",
       "      <th>average</th>\n",
       "      <th>volume</th>\n",
       "      <th>notional</th>\n",
       "      <th>numberOfTrades</th>\n",
       "    </tr>\n",
       "    <tr>\n",
       "      <th>time</th>\n",
       "      <th></th>\n",
       "      <th></th>\n",
       "      <th></th>\n",
       "      <th></th>\n",
       "      <th></th>\n",
       "      <th></th>\n",
       "      <th></th>\n",
       "      <th></th>\n",
       "      <th></th>\n",
       "    </tr>\n",
       "  </thead>\n",
       "  <tbody>\n",
       "    <tr>\n",
       "      <th>2022-05-27 09:30:00</th>\n",
       "      <td>09:30 AM</td>\n",
       "      <td>145.49</td>\n",
       "      <td>145.46</td>\n",
       "      <td>145.460</td>\n",
       "      <td>145.490</td>\n",
       "      <td>145.475</td>\n",
       "      <td>200.0</td>\n",
       "      <td>29095.0</td>\n",
       "      <td>2.0</td>\n",
       "    </tr>\n",
       "    <tr>\n",
       "      <th>2022-05-27 09:31:00</th>\n",
       "      <td>09:31 AM</td>\n",
       "      <td>146.08</td>\n",
       "      <td>145.61</td>\n",
       "      <td>145.630</td>\n",
       "      <td>146.000</td>\n",
       "      <td>145.781</td>\n",
       "      <td>6200.0</td>\n",
       "      <td>903844.5</td>\n",
       "      <td>44.0</td>\n",
       "    </tr>\n",
       "    <tr>\n",
       "      <th>2022-05-27 09:32:00</th>\n",
       "      <td>09:32 AM</td>\n",
       "      <td>NaN</td>\n",
       "      <td>NaN</td>\n",
       "      <td>NaN</td>\n",
       "      <td>NaN</td>\n",
       "      <td>NaN</td>\n",
       "      <td>NaN</td>\n",
       "      <td>NaN</td>\n",
       "      <td>NaN</td>\n",
       "    </tr>\n",
       "    <tr>\n",
       "      <th>2022-05-27 09:33:00</th>\n",
       "      <td>09:33 AM</td>\n",
       "      <td>146.19</td>\n",
       "      <td>146.04</td>\n",
       "      <td>146.140</td>\n",
       "      <td>146.045</td>\n",
       "      <td>146.107</td>\n",
       "      <td>10300.0</td>\n",
       "      <td>1504897.5</td>\n",
       "      <td>61.0</td>\n",
       "    </tr>\n",
       "    <tr>\n",
       "      <th>2022-05-27 09:34:00</th>\n",
       "      <td>09:34 AM</td>\n",
       "      <td>146.09</td>\n",
       "      <td>145.76</td>\n",
       "      <td>146.065</td>\n",
       "      <td>145.810</td>\n",
       "      <td>145.908</td>\n",
       "      <td>7500.0</td>\n",
       "      <td>1094312.0</td>\n",
       "      <td>59.0</td>\n",
       "    </tr>\n",
       "  </tbody>\n",
       "</table>\n",
       "</div>"
      ],
      "text/plain": [
       "                        label    high     low     open    close  average  \\\n",
       "time                                                                       \n",
       "2022-05-27 09:30:00  09:30 AM  145.49  145.46  145.460  145.490  145.475   \n",
       "2022-05-27 09:31:00  09:31 AM  146.08  145.61  145.630  146.000  145.781   \n",
       "2022-05-27 09:32:00  09:32 AM     NaN     NaN      NaN      NaN      NaN   \n",
       "2022-05-27 09:33:00  09:33 AM  146.19  146.04  146.140  146.045  146.107   \n",
       "2022-05-27 09:34:00  09:34 AM  146.09  145.76  146.065  145.810  145.908   \n",
       "\n",
       "                      volume   notional  numberOfTrades  \n",
       "time                                                     \n",
       "2022-05-27 09:30:00    200.0    29095.0             2.0  \n",
       "2022-05-27 09:31:00   6200.0   903844.5            44.0  \n",
       "2022-05-27 09:32:00      NaN        NaN             NaN  \n",
       "2022-05-27 09:33:00  10300.0  1504897.5            61.0  \n",
       "2022-05-27 09:34:00   7500.0  1094312.0            59.0  "
      ]
     },
     "execution_count": 39,
     "metadata": {},
     "output_type": "execute_result"
    }
   ],
   "source": [
    "data_intraday = datos_intradia(symbol=\"aapl\", rango_temporal='minute')\n",
    "data_intraday.head()"
   ]
  },
  {
   "cell_type": "code",
   "execution_count": 45,
   "metadata": {},
   "outputs": [
    {
     "data": {
      "text/html": [
       "<div>\n",
       "<style scoped>\n",
       "    .dataframe tbody tr th:only-of-type {\n",
       "        vertical-align: middle;\n",
       "    }\n",
       "\n",
       "    .dataframe tbody tr th {\n",
       "        vertical-align: top;\n",
       "    }\n",
       "\n",
       "    .dataframe thead th {\n",
       "        text-align: right;\n",
       "    }\n",
       "</style>\n",
       "<table border=\"1\" class=\"dataframe\">\n",
       "  <thead>\n",
       "    <tr style=\"text-align: right;\">\n",
       "      <th></th>\n",
       "      <th>high</th>\n",
       "      <th>low</th>\n",
       "      <th>open</th>\n",
       "      <th>close</th>\n",
       "    </tr>\n",
       "    <tr>\n",
       "      <th>time</th>\n",
       "      <th></th>\n",
       "      <th></th>\n",
       "      <th></th>\n",
       "      <th></th>\n",
       "    </tr>\n",
       "  </thead>\n",
       "  <tbody>\n",
       "    <tr>\n",
       "      <th>2022-05-27 09:30:00</th>\n",
       "      <td>145.49</td>\n",
       "      <td>145.46</td>\n",
       "      <td>145.460</td>\n",
       "      <td>145.490</td>\n",
       "    </tr>\n",
       "    <tr>\n",
       "      <th>2022-05-27 09:31:00</th>\n",
       "      <td>146.08</td>\n",
       "      <td>145.61</td>\n",
       "      <td>145.630</td>\n",
       "      <td>146.000</td>\n",
       "    </tr>\n",
       "    <tr>\n",
       "      <th>2022-05-27 09:32:00</th>\n",
       "      <td>NaN</td>\n",
       "      <td>NaN</td>\n",
       "      <td>NaN</td>\n",
       "      <td>NaN</td>\n",
       "    </tr>\n",
       "    <tr>\n",
       "      <th>2022-05-27 09:33:00</th>\n",
       "      <td>146.19</td>\n",
       "      <td>146.04</td>\n",
       "      <td>146.140</td>\n",
       "      <td>146.045</td>\n",
       "    </tr>\n",
       "    <tr>\n",
       "      <th>2022-05-27 09:34:00</th>\n",
       "      <td>146.09</td>\n",
       "      <td>145.76</td>\n",
       "      <td>146.065</td>\n",
       "      <td>145.810</td>\n",
       "    </tr>\n",
       "  </tbody>\n",
       "</table>\n",
       "</div>"
      ],
      "text/plain": [
       "                       high     low     open    close\n",
       "time                                                 \n",
       "2022-05-27 09:30:00  145.49  145.46  145.460  145.490\n",
       "2022-05-27 09:31:00  146.08  145.61  145.630  146.000\n",
       "2022-05-27 09:32:00     NaN     NaN      NaN      NaN\n",
       "2022-05-27 09:33:00  146.19  146.04  146.140  146.045\n",
       "2022-05-27 09:34:00  146.09  145.76  146.065  145.810"
      ]
     },
     "execution_count": 45,
     "metadata": {},
     "output_type": "execute_result"
    }
   ],
   "source": [
    "data_intraday_OLHC = data_intraday.loc[:, 'high':'close']\n",
    "data_intraday_OLHC.head()"
   ]
  },
  {
   "cell_type": "markdown",
   "metadata": {},
   "source": [
    "10. Pinta las figuras de velas correspondientes a los dos ejercicios anteriores"
   ]
  },
  {
   "cell_type": "code",
   "execution_count": 46,
   "metadata": {},
   "outputs": [],
   "source": [
    "import mplfinance as mpf"
   ]
  },
  {
   "cell_type": "code",
   "execution_count": 48,
   "metadata": {},
   "outputs": [
    {
     "data": {
      "image/png": "[encoded data removed]",
      "text/plain": [
       "<Figure size 800x575 with 2 Axes>"
      ]
     },
     "metadata": {},
     "output_type": "display_data"
    }
   ],
   "source": [
    "mpf.plot(data_day_OLHC, type='candle')"
   ]
  },
  {
   "cell_type": "code",
   "execution_count": 47,
   "metadata": {},
   "outputs": [
    {
     "data": {
      "image/png": "[encoded data removed]",
      "text/plain": [
       "<Figure size 800x575 with 2 Axes>"
      ]
     },
     "metadata": {},
     "output_type": "display_data"
    }
   ],
   "source": [
    "mpf.plot(data_intraday_OLHC, type='candle')"
   ]
  },
  {
   "cell_type": "markdown",
   "metadata": {
    "tags": []
   },
   "source": [
    "## Otros"
   ]
  },
  {
   "cell_type": "markdown",
   "metadata": {},
   "source": [
    "### Investpy"
   ]
  },
  {
   "cell_type": "markdown",
   "metadata": {},
   "source": [
    "Para descargar datos de Investing\n",
    "\n",
    "investpy: https://investpy.readthedocs.io/\n",
    "\n",
    "<center>\n",
    "<img src=\"./imgs/investing.png\"  alt=\"drawing\" width=\"1000\"/>\n",
    "</center>\n",
    "\n",
    "Ojo. Lo que está haciendo esta librería es un webscraping. Por lo que si cambia la web, la fiabilidad de los datos sería muy cuestionable."
   ]
  },
  {
   "cell_type": "markdown",
   "metadata": {},
   "source": [
    "### Pandas Data Reader"
   ]
  },
  {
   "cell_type": "markdown",
   "metadata": {},
   "source": [
    "Pandas tiene una librería para descargar datos de multitud de fuentes\n",
    "\n",
    "pandas-datareader: https://pandas-datareader.readthedocs.io\n",
    "\n",
    "<center>\n",
    "<img src=\"./imgs/pandas_datareader.png\"  alt=\"drawing\" width=\"1000\"/>\n",
    "</center>\n",
    "\n",
    "Esta librería nos permite conectarnos con multitud de fuentes de datos: IEX, Alpha Vantage, Quandl...\n",
    "\n",
    "<center>\n",
    "<img src=\"./imgs/fuentes_pandas.png\"  alt=\"drawing\" width=\"1000\"/>\n",
    "</center>\n",
    "\n",
    "Por ejemplo, para conectarnos a IEX desde Pandas Data Reader\n",
    "\n",
    "<center>\n",
    "<img src=\"./imgs/iex_pandas.png\"  alt=\"drawing\" width=\"1000\"/>\n",
    "</center>"
   ]
  }
 ],
 "metadata": {
  "kernelspec": {
   "display_name": "Python 3 (ipykernel)",
   "language": "python",
   "name": "python3"
  },
  "language_info": {
   "codemirror_mode": {
    "name": "ipython",
    "version": 3
   },
   "file_extension": ".py",
   "mimetype": "text/x-python",
   "name": "python",
   "nbconvert_exporter": "python",
   "pygments_lexer": "ipython3",
   "version": "3.10.8"
  }
 },
 "nbformat": 4,
 "nbformat_minor": 4
}

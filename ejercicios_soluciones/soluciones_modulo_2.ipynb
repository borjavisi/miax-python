{
 "cells": [
  {
   "cell_type": "markdown",
   "metadata": {},
   "source": [
    "___\n",
    "## Módulo 2: Introducción a las librería Numpy.\n",
    "___"
   ]
  },
  {
   "cell_type": "code",
   "execution_count": 2,
   "metadata": {},
   "outputs": [],
   "source": [
    "import numpy as np"
   ]
  },
  {
   "cell_type": "markdown",
   "metadata": {},
   "source": [
    "### 2.1. Introducción a NumPy I."
   ]
  },
  {
   "cell_type": "markdown",
   "metadata": {},
   "source": [
    "**2.1.1.**  Crea un vector con valores de 10 a 49 en pasos de 0.5."
   ]
  },
  {
   "cell_type": "code",
   "execution_count": null,
   "metadata": {},
   "outputs": [],
   "source": [
    "vect = np.arange(10, 49, 0.5)\n",
    "vect"
   ]
  },
  {
   "cell_type": "markdown",
   "metadata": {},
   "source": [
    "**2.1.2.** Muestra su dimensión y su tipo."
   ]
  },
  {
   "cell_type": "code",
   "execution_count": null,
   "metadata": {},
   "outputs": [],
   "source": [
    "vect.shape"
   ]
  },
  {
   "cell_type": "code",
   "execution_count": null,
   "metadata": {},
   "outputs": [],
   "source": [
    "vect.dtype"
   ]
  },
  {
   "cell_type": "markdown",
   "metadata": {},
   "source": [
    "**2.1.3.** Crea un array con los números que elijas de dimensiones 2x3."
   ]
  },
  {
   "cell_type": "code",
   "execution_count": null,
   "metadata": {},
   "outputs": [],
   "source": [
    "lista_para_arr = [\n",
    "    [1,2,3],\n",
    "    [1,4,2],\n",
    "]"
   ]
  },
  {
   "cell_type": "code",
   "execution_count": null,
   "metadata": {},
   "outputs": [],
   "source": [
    "np.array(lista_para_arr)"
   ]
  },
  {
   "cell_type": "markdown",
   "metadata": {},
   "source": [
    "**2.1.4.** Indexing y slicing:\n",
    "\n",
    "- Crea un array unidimensional de 10 elemento aleatorios.\n",
    "- Crea un array bidimensional de 10x10 elementos aletorios.\n",
    "- Accede al primer elemento y al penúltimo número de cada array. \n",
    "- Para el array unidimensional: muestra todos los elementos en posiciones pares desde la posición 6. \n",
    "- Para el array bidimensional: muestra una submatriz con las dos primeras filas y las tres primeras columnas.\n",
    "- Divide el array bidimensional en dos: uno con las 2 primera filas y otro con las siguientes"
   ]
  },
  {
   "cell_type": "code",
   "execution_count": null,
   "metadata": {},
   "outputs": [],
   "source": [
    "uni = np.random.rand(10)\n",
    "bi_dim = np.random.rand(10, 10)"
   ]
  },
  {
   "cell_type": "code",
   "execution_count": null,
   "metadata": {},
   "outputs": [],
   "source": [
    "uni.shape"
   ]
  },
  {
   "cell_type": "code",
   "execution_count": null,
   "metadata": {},
   "outputs": [],
   "source": [
    "bi_dim.shape"
   ]
  },
  {
   "cell_type": "code",
   "execution_count": null,
   "metadata": {},
   "outputs": [],
   "source": [
    "print(uni[0])\n",
    "print(uni[-2])"
   ]
  },
  {
   "cell_type": "code",
   "execution_count": null,
   "metadata": {},
   "outputs": [],
   "source": [
    "print(bi_dim[0, 0])\n",
    "print(bi_dim[-2,-2])"
   ]
  },
  {
   "cell_type": "code",
   "execution_count": null,
   "metadata": {},
   "outputs": [],
   "source": [
    "uni[6::2]"
   ]
  },
  {
   "cell_type": "code",
   "execution_count": null,
   "metadata": {},
   "outputs": [],
   "source": [
    "bi_dim[:2,:3]"
   ]
  },
  {
   "cell_type": "code",
   "execution_count": null,
   "metadata": {},
   "outputs": [],
   "source": [
    "vector = np.random.rand(1, 10)\n",
    "\n",
    "print(vector.shape)\n",
    "print(vector.T.shape)"
   ]
  },
  {
   "cell_type": "code",
   "execution_count": null,
   "metadata": {},
   "outputs": [],
   "source": [
    "bi_dim_a = bi_dim[:2,:]\n",
    "bi_dim_b = bi_dim[2:,:]"
   ]
  },
  {
   "cell_type": "code",
   "execution_count": null,
   "metadata": {},
   "outputs": [],
   "source": [
    "bi_dim_a"
   ]
  },
  {
   "cell_type": "code",
   "execution_count": null,
   "metadata": {},
   "outputs": [],
   "source": [
    "bi_dim_b"
   ]
  },
  {
   "cell_type": "markdown",
   "metadata": {},
   "source": [
    "**2.1.5.** Crea una función que reciba como parámetro un número n y devuelva una matriz cuadrada (dos dimensiones) de nxn donde los elementos de la diagonal principal valgan 5 y el resto valgan n."
   ]
  },
  {
   "cell_type": "code",
   "execution_count": null,
   "metadata": {},
   "outputs": [],
   "source": [
    "def fun(n):\n",
    "    return np.eye(n)*5"
   ]
  },
  {
   "cell_type": "code",
   "execution_count": null,
   "metadata": {},
   "outputs": [],
   "source": [
    "fun(3)"
   ]
  },
  {
   "cell_type": "markdown",
   "metadata": {},
   "source": [
    "**2.1.6.** Crea una función que genere un esquema de tablero de ajedrez (con valores 1 y 0, enteros) en base a dos parámetros: la dimensión (cuadrada) del tablero n y un flag que indique si el primer elemento de la primera fila debe ser un 1 (True) o un 0 (False)."
   ]
  },
  {
   "cell_type": "code",
   "execution_count": null,
   "metadata": {},
   "outputs": [],
   "source": [
    "n = 10"
   ]
  },
  {
   "cell_type": "code",
   "execution_count": null,
   "metadata": {},
   "outputs": [],
   "source": [
    "tablero = np.ones((n, n))\n",
    "tablero[::2, 1::2] = 0\n",
    "tablero[1::2, ::2] = 0"
   ]
  },
  {
   "cell_type": "code",
   "execution_count": null,
   "metadata": {},
   "outputs": [],
   "source": [
    "tablero"
   ]
  },
  {
   "cell_type": "code",
   "execution_count": null,
   "metadata": {},
   "outputs": [],
   "source": [
    "tablero = np.ones((n, n))\n",
    "tablero[::2, ::2] = 0\n",
    "tablero[1::2,1::2] = 0"
   ]
  },
  {
   "cell_type": "code",
   "execution_count": null,
   "metadata": {},
   "outputs": [],
   "source": [
    "tablero"
   ]
  },
  {
   "cell_type": "markdown",
   "metadata": {},
   "source": [
    "**2.1.7.** Crea una matriz de números aleatorios de 4*3 (no importa la distribución)\n",
    "\n",
    "- Localiza con una máscara booleana aquellos números que estén por encima del percentil 90\n",
    "- Usa la máscara booleana para convertir a 1 aquellos que estén por encima de dicho percentil\n",
    "- Usa la máscara booleana para convertir a 0 el resto"
   ]
  },
  {
   "cell_type": "code",
   "execution_count": null,
   "metadata": {},
   "outputs": [],
   "source": [
    "matriz = np.random.normal(size=(4, 3))\n",
    "print(matriz)\n",
    "\n",
    "limite = np.percentile(matriz, 90)\n",
    "mascara = matriz > limite\n",
    "\n",
    "matriz[mascara] = 1\n",
    "matriz[~mascara] = 0\n",
    "\n",
    "matriz"
   ]
  },
  {
   "cell_type": "markdown",
   "metadata": {},
   "source": [
    "**2.1.8.** Crea un vector de números de 1 a 10. \n",
    "\n",
    "- Extrae las posiciones 6 a 8 y guárdalas un un nuevo vector\n",
    "- Iguala el nuevo vector a ceros\n",
    "- Haz todo lo anterior, de tal forma, que no modifiques el vector original"
   ]
  },
  {
   "cell_type": "code",
   "execution_count": null,
   "metadata": {},
   "outputs": [],
   "source": [
    "original = np.arange(1,11)\n",
    "print(original)\n",
    "\n",
    "# copia = original[5:8] # Si lo hacemos así cambiamos ambos vectores\n",
    "# copia = original[::] # Funciona con listas, pero no funciona con np\n",
    "copia = original[5:8].copy()\n",
    "print(copia)\n",
    "\n",
    "copia[:] = 1\n",
    "print(copia)\n",
    "print(original)"
   ]
  },
  {
   "cell_type": "markdown",
   "metadata": {},
   "source": [
    "**2.1.9.** Genera una matriz de 3x3 de números aleatorios (da igual la distribución)\n",
    "\n",
    "- Extrae la tercera columna en un vector de 2 dimensiones\n",
    "- Extrae la tercera columna en un vector de 1 dimensión\n",
    "- Extrae el segundo y tercer elemento, de la segunda fila, en un vector de 2 dimensiones\n",
    "- Extrae el segundo y tercer elemento, de la segunda fila, en un vector de 1 dimensión"
   ]
  },
  {
   "cell_type": "code",
   "execution_count": null,
   "metadata": {},
   "outputs": [],
   "source": [
    "matriz = np.random.normal(size=(3, 3))\n",
    "\n",
    "print(matriz)\n",
    "\n",
    "ej1 = matriz[0:3, 2:3]\n",
    "print(ej1.shape)\n",
    "\n",
    "ej2 = matriz[:,2]\n",
    "print(ej2.shape)\n",
    "\n",
    "ej3 = matriz[1:2, 1:]\n",
    "print(ej3.shape)\n",
    "\n",
    "ej4 = matriz[1,1:]\n",
    "print(ej4.shape)"
   ]
  },
  {
   "cell_type": "markdown",
   "metadata": {},
   "source": [
    "___\n",
    "### 2.2. Introducción a NumPy II."
   ]
  },
  {
   "cell_type": "markdown",
   "metadata": {},
   "source": [
    "**2.2.1.**  Crea una función que reciba dos números n y m que definirán ancho y alto de una matriz de nxm elementos numéricos secuenciales y un booleano que definirá si se debe devolver la matriz generada (False) o su traspuesta (True)."
   ]
  },
  {
   "cell_type": "code",
   "execution_count": null,
   "metadata": {},
   "outputs": [],
   "source": [
    "def mi_fun(n=10, m=10, trp=True):\n",
    "    mat = np.arange(n*m).reshape((n, m))\n",
    "    if trp:\n",
    "        return mat.T\n",
    "    return mat"
   ]
  },
  {
   "cell_type": "code",
   "execution_count": null,
   "metadata": {},
   "outputs": [],
   "source": [
    "arr = mi_fun(10, 5, True)\n",
    "arr"
   ]
  },
  {
   "cell_type": "markdown",
   "metadata": {},
   "source": [
    "**2.2.2.**  Crea una función que reciba una matriz y chequee si hay o no algún valor negativo en la misma."
   ]
  },
  {
   "cell_type": "code",
   "execution_count": null,
   "metadata": {},
   "outputs": [],
   "source": [
    "def chequear_neg(matriz):\n",
    "    return (matriz<0).any()"
   ]
  },
  {
   "cell_type": "code",
   "execution_count": null,
   "metadata": {},
   "outputs": [],
   "source": [
    "matriz = np.random.randint(-10, 10, (5,5))\n",
    "print(matriz)\n",
    "\n",
    "chequear_neg(matriz)"
   ]
  },
  {
   "cell_type": "markdown",
   "metadata": {},
   "source": [
    "**2.2.3.** Crea una función que sume el valor absoluto de todos los elementos negativos de una matriz recibida como parámetro. O devuelva \"No hay negativos\" en caso de que no los haya."
   ]
  },
  {
   "cell_type": "code",
   "execution_count": null,
   "metadata": {},
   "outputs": [],
   "source": [
    "def suma_val_abs_neg(matriz):\n",
    "    return np.sum(np.abs(matriz[(matriz<0)]))"
   ]
  },
  {
   "cell_type": "code",
   "execution_count": null,
   "metadata": {},
   "outputs": [],
   "source": [
    "matriz = np.random.randint(-10, 10, (5,5))\n",
    "print(matriz)\n",
    "\n",
    "suma_val_abs_neg(matriz)"
   ]
  },
  {
   "cell_type": "markdown",
   "metadata": {},
   "source": [
    "**2.2.4.** Utiliza el ejercicio 2.1.9. Genera una matriz de 3x3 de números aleatorios (da igual la distribución)\n",
    "\n",
    "- Extrae la tercera columna en un vector de 2 dimensiones\n",
    "- Extrae la tercera columna en un vector de 1 dimensión\n",
    "- Extrae el segundo y tercer elemento, de la segunda fila, en un vector de 2 dimensiones\n",
    "- Extrae el segundo y tercer elemento, de la segunda fila, en un vector de 1 dimensión\n",
    "\n",
    "Calcula la traspuesta de los 4 apartados, imprímela y comenta los resultados"
   ]
  },
  {
   "cell_type": "code",
   "execution_count": null,
   "metadata": {},
   "outputs": [],
   "source": [
    "matriz = np.random.normal(size=(3, 3))\n",
    "\n",
    "print(matriz)\n",
    "\n",
    "ej1 = matriz[0:3, 2:3]\n",
    "print(ej1.shape)\n",
    "\n",
    "ej2 = matriz[:,2]\n",
    "print(ej2.shape)\n",
    "\n",
    "ej3 = matriz[1:2, 1:]\n",
    "print(ej3.shape)\n",
    "\n",
    "ej4 = matriz[1,1:]\n",
    "print(ej4.shape)"
   ]
  },
  {
   "cell_type": "code",
   "execution_count": null,
   "metadata": {},
   "outputs": [],
   "source": [
    "print(ej1)\n",
    "print(ej1.T)\n",
    "print(\"\")\n",
    "\n",
    "print(ej2)\n",
    "print(ej2.T)\n",
    "print(\"\")\n",
    "\n",
    "print(ej3)\n",
    "print(ej3.T)\n",
    "print(\"\")\n",
    "\n",
    "print(ej4)\n",
    "print(ej4.T)"
   ]
  },
  {
   "cell_type": "markdown",
   "metadata": {},
   "source": [
    "Cuando se trata de un vector, no es columna ni fila. El propio Python lo \"coloca\" cuando se realiza una multiplicación vector @ matriz. Por esto no se puede calcular la traspuesta. "
   ]
  },
  {
   "cell_type": "markdown",
   "metadata": {},
   "source": [
    "___\n",
    "### 2.3. Introducción a NumPy III."
   ]
  },
  {
   "cell_type": "markdown",
   "metadata": {},
   "source": [
    "**2.3.1.** Crea un vector de 30 elementos aleatorios y calcula su media."
   ]
  },
  {
   "cell_type": "code",
   "execution_count": 3,
   "metadata": {},
   "outputs": [],
   "source": [
    "vector = np.random.random(30)"
   ]
  },
  {
   "cell_type": "code",
   "execution_count": 4,
   "metadata": {},
   "outputs": [
    {
     "data": {
      "text/plain": [
       "0.4762089124894276"
      ]
     },
     "execution_count": 4,
     "metadata": {},
     "output_type": "execute_result"
    }
   ],
   "source": [
    "np.mean(vector)"
   ]
  },
  {
   "cell_type": "code",
   "execution_count": 5,
   "metadata": {},
   "outputs": [
    {
     "data": {
      "text/plain": [
       "0.4762089124894276"
      ]
     },
     "execution_count": 5,
     "metadata": {},
     "output_type": "execute_result"
    }
   ],
   "source": [
    "vector.mean()"
   ]
  },
  {
   "cell_type": "markdown",
   "metadata": {},
   "source": [
    "**2.3.2.**Crea una matriz de 8x10 aleatoria y substrae la media por columnas."
   ]
  },
  {
   "cell_type": "code",
   "execution_count": 6,
   "metadata": {},
   "outputs": [
    {
     "data": {
      "text/plain": [
       "array([[9, 3, 5, 3, 9, 7, 5, 9, 5, 7],\n",
       "       [1, 2, 6, 6, 9, 1, 4, 8, 1, 1],\n",
       "       [1, 9, 8, 4, 8, 9, 5, 3, 9, 8],\n",
       "       [2, 1, 8, 3, 4, 5, 8, 1, 3, 8],\n",
       "       [1, 3, 2, 8, 8, 9, 9, 4, 8, 5],\n",
       "       [1, 2, 8, 9, 8, 9, 4, 6, 8, 6],\n",
       "       [8, 1, 1, 1, 5, 4, 1, 9, 2, 6],\n",
       "       [1, 2, 2, 7, 1, 8, 6, 5, 8, 5]])"
      ]
     },
     "execution_count": 6,
     "metadata": {},
     "output_type": "execute_result"
    }
   ],
   "source": [
    "matriz = np.random.randint(1, 10, (8,10))\n",
    "matriz"
   ]
  },
  {
   "cell_type": "code",
   "execution_count": 7,
   "metadata": {},
   "outputs": [
    {
     "data": {
      "text/plain": [
       "(8, 10)"
      ]
     },
     "execution_count": 7,
     "metadata": {},
     "output_type": "execute_result"
    }
   ],
   "source": [
    "matriz.shape"
   ]
  },
  {
   "cell_type": "code",
   "execution_count": 13,
   "metadata": {},
   "outputs": [
    {
     "data": {
      "text/plain": [
       "array([3.   , 2.875, 5.   , 5.125, 6.5  , 6.5  , 5.25 , 5.625, 5.5  ,\n",
       "       5.75 ])"
      ]
     },
     "execution_count": 13,
     "metadata": {},
     "output_type": "execute_result"
    }
   ],
   "source": [
    "matriz.mean(axis=0)"
   ]
  },
  {
   "cell_type": "markdown",
   "metadata": {},
   "source": [
    "**2.3.3.** Crea una función que reciba dos enteros n y m, \n",
    "\n",
    "- Genere dos matrices aleatorias (normales 0,1) de dimensiones nxm y mxn\n",
    "- Haga el producto matricial de ambas para obtener una matriz nxn. "
   ]
  },
  {
   "cell_type": "code",
   "execution_count": 14,
   "metadata": {},
   "outputs": [],
   "source": [
    "def mxn(a,b):\n",
    "\n",
    "    x = np.random.rand(a, b)\n",
    "    y = np.random.rand(b, a)\n",
    "    \n",
    "    return np.dot(x,y)"
   ]
  },
  {
   "cell_type": "code",
   "execution_count": 15,
   "metadata": {},
   "outputs": [
    {
     "data": {
      "text/plain": [
       "array([[1.81513082, 1.85766995, 1.45510752, 2.03619213, 1.56466396],\n",
       "       [2.77420835, 2.68796942, 2.12581695, 2.36617271, 1.8047049 ],\n",
       "       [1.83065919, 2.0085336 , 1.82655089, 2.11626344, 2.21727789],\n",
       "       [2.51731932, 2.51943186, 1.58716631, 1.8833131 , 1.39616494],\n",
       "       [2.96169186, 3.03397983, 2.36471108, 2.61491079, 2.13350341]])"
      ]
     },
     "execution_count": 15,
     "metadata": {},
     "output_type": "execute_result"
    }
   ],
   "source": [
    "mxn(5,10)"
   ]
  },
  {
   "cell_type": "markdown",
   "metadata": {},
   "source": [
    "**2.3.4.** Crea una función que reciba dos matrices y devuelva la secuencia ordenada, de la unión, de los elementos únicos de ambas."
   ]
  },
  {
   "cell_type": "code",
   "execution_count": 16,
   "metadata": {},
   "outputs": [],
   "source": [
    "def func234(matriz1, matriz2):\n",
    "\n",
    "    np.unique(x)\n",
    "    np.unique(y)\n",
    "    inter = np.intersect1d(x,y)\n",
    "    inter.sort()\n",
    "    return inter    "
   ]
  },
  {
   "cell_type": "code",
   "execution_count": 17,
   "metadata": {},
   "outputs": [
    {
     "data": {
      "text/plain": [
       "array([1, 6, 7])"
      ]
     },
     "execution_count": 17,
     "metadata": {},
     "output_type": "execute_result"
    }
   ],
   "source": [
    "x = np.random.randint(1, 10, (2,2))\n",
    "y = np.random.randint(1, 10, (8,10))\n",
    "\n",
    "func234(x,y)"
   ]
  },
  {
   "cell_type": "markdown",
   "metadata": {},
   "source": [
    "**2.3.5.** Crea una matriz aleatoria normal de 5x10 y normalízala en media y varianza por columnas (resta la media y divide entre la desviación típica).\n",
    "\n",
    "- Procedimiento muy típico en ML para normalizar lo que vamos a introducir en la red neuronal"
   ]
  },
  {
   "cell_type": "code",
   "execution_count": 32,
   "metadata": {},
   "outputs": [
    {
     "name": "stdout",
     "output_type": "stream",
     "text": [
      "[[ 0.36438578 -0.43776253  1.11315043 -1.25131395 -1.04978863 -0.51487912\n",
      "   0.82481267 -0.71928599 -1.66949253 -0.75889013]\n",
      " [-1.12461279  1.90281949 -0.35238371  0.45511112  1.09066265  1.94488719\n",
      "   0.57634452 -0.09057385  0.66435102 -1.09325131]\n",
      " [-0.09213224 -0.72925139  1.10081305  1.67185346  0.88874788 -0.89741586\n",
      "   0.75551102  0.30251496 -0.42425082  1.657585  ]\n",
      " [-0.84478902  0.07091919 -0.34249028 -0.28192269 -1.32690943 -0.21564616\n",
      "  -1.81694946  1.71213213  0.18090667  0.5780969 ]\n",
      " [ 1.69714827 -0.80672476 -1.51908949 -0.59372794  0.39728752 -0.31694606\n",
      "  -0.33971875 -1.20478725  1.24848566 -0.38354047]]\n"
     ]
    }
   ],
   "source": [
    "x = np.random.rand(5, 10)\n",
    "\n",
    "y = x  - x.mean(axis=0)\n",
    "y = y / x.std(axis=0)\n",
    "print(y)"
   ]
  },
  {
   "cell_type": "code",
   "execution_count": 33,
   "metadata": {},
   "outputs": [
    {
     "name": "stdout",
     "output_type": "stream",
     "text": [
      "[[ 0.47321138 -0.92753693  1.56889388 -0.80058371 -1.05239472 -0.79784274\n",
      "   1.61178121 -0.70015554 -0.57262385 -1.23508001]\n",
      " [-0.74245343  1.15711552 -0.17407542  0.59263887  1.40324156  0.30556754\n",
      "   1.34623254 -0.26826472  1.15455893 -1.39312304]\n",
      " [ 0.10049585 -1.18715311  1.55422094  1.58605658  1.1715945  -0.96944236\n",
      "   1.53771554  0.00176577  0.34892894 -0.09288085]\n",
      " [-0.51399659 -0.47447672 -0.1623091  -0.00911749 -1.37032202 -0.6636118\n",
      "  -1.21158448  0.97009558  0.79678141 -0.60312422]\n",
      " [ 1.56132019 -1.25615521 -1.5616462  -0.26369305  0.60776579 -0.70905325\n",
      "   0.36719601 -1.03366833  1.58685325 -1.05766289]]\n"
     ]
    }
   ],
   "source": [
    "y = x  - x.mean()\n",
    "y = y / x.std()\n",
    "print(y)"
   ]
  },
  {
   "cell_type": "markdown",
   "metadata": {},
   "source": [
    "**2.3.6.** Calule el capital final de invertir 500€ mensuales durante 10 años, a un interés anual del 10%"
   ]
  },
  {
   "cell_type": "code",
   "execution_count": 29,
   "metadata": {},
   "outputs": [],
   "source": [
    "import numpy_financial as npf"
   ]
  },
  {
   "cell_type": "code",
   "execution_count": 30,
   "metadata": {},
   "outputs": [
    {
     "data": {
      "text/plain": [
       "-102422.48945173463"
      ]
     },
     "execution_count": 30,
     "metadata": {},
     "output_type": "execute_result"
    }
   ],
   "source": [
    "npf.fv(rate = 0.1/12, nper = 10*12, pmt = 500, pv = 0)"
   ]
  }
 ],
 "metadata": {
  "kernelspec": {
   "display_name": "Python 3",
   "language": "python",
   "name": "python3"
  },
  "language_info": {
   "codemirror_mode": {
    "name": "ipython",
    "version": 3
   },
   "file_extension": ".py",
   "mimetype": "text/x-python",
   "name": "python",
   "nbconvert_exporter": "python",
   "pygments_lexer": "ipython3",
   "version": "3.8.3"
  }
 },
 "nbformat": 4,
 "nbformat_minor": 4
}

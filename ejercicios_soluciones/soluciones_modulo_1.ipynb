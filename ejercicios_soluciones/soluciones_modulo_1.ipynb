{
 "cells": [
  {
   "cell_type": "markdown",
   "metadata": {},
   "source": [
    "___\n",
    "## Módulo 1: Fundamentos de programación.\n",
    "___"
   ]
  },
  {
   "cell_type": "markdown",
   "metadata": {},
   "source": [
    "### 1.1. Jupyter Notebooks"
   ]
  },
  {
   "cell_type": "markdown",
   "metadata": {},
   "source": [
    "**1.1.1.** Crea un notebook nuevo, añade 3 títulos diferentes, un texto y varias celdas de código definiendo y imprimiendo variables."
   ]
  },
  {
   "cell_type": "code",
   "execution_count": null,
   "metadata": {},
   "outputs": [],
   "source": []
  },
  {
   "cell_type": "markdown",
   "metadata": {},
   "source": [
    "___\n",
    "### 1.2. Sintaxis básica, operaciones y tipos básicos"
   ]
  },
  {
   "cell_type": "markdown",
   "metadata": {},
   "source": [
    "**1.2.1.** Escribe un código que solicite al usuario un número n y devuelva el resultado de n + nn + nnn. (Ejemplo: n = 5 daría como resultado 115)."
   ]
  },
  {
   "cell_type": "code",
   "execution_count": null,
   "metadata": {},
   "outputs": [],
   "source": [
    "input_str = input(\"n = \")\n",
    "n = int(input_str)\n",
    "print(\"resultado = \", n + n*n + n*n*n)"
   ]
  },
  {
   "cell_type": "markdown",
   "metadata": {},
   "source": [
    "**1.2.2.** Escribe un código que permita ver si un input introducido por el usuario es par. Pista: múltiplo de 2."
   ]
  },
  {
   "cell_type": "code",
   "execution_count": null,
   "metadata": {},
   "outputs": [],
   "source": [
    "input_str = input(\"n = \")\n",
    "n = int(input_str)\n",
    "print(\"Es par = \", n%2 == 0)"
   ]
  },
  {
   "cell_type": "markdown",
   "metadata": {},
   "source": [
    "**1.2.3.** Calcula el porcentaje necesario de subida para alcanzar el BEP dado un porcentaje de pérdida.\n",
    "\n",
    "Pista: $(1+r_{down})(1+r_{up}) = 1$"
   ]
  },
  {
   "cell_type": "code",
   "execution_count": null,
   "metadata": {},
   "outputs": [],
   "source": [
    "loss = -0.30\n",
    "win_bep = -loss/(1+loss)\n",
    "print(win_bep)"
   ]
  },
  {
   "cell_type": "markdown",
   "metadata": {},
   "source": [
    "___"
   ]
  },
  {
   "cell_type": "markdown",
   "metadata": {},
   "source": [
    "### 1.3. Strings"
   ]
  },
  {
   "cell_type": "markdown",
   "metadata": {},
   "source": [
    "**1.3.1.** Introduce la variable string_to_test = ’Python is an interesting and useful language for numerical computing!’. Usando slicing, extrae:\n",
    "    - Python\n",
    "    - !\n",
    "    - computing\n",
    "    - in\n",
    "    - !gnitupmoc laciremun rof egaugnal lufesu dna gnitseretni na si nohtyP - inverso\n",
    "    - nohtyP\n",
    "    - Pto sa neetn n sfllnug o ueia optn!"
   ]
  },
  {
   "cell_type": "code",
   "execution_count": null,
   "metadata": {},
   "outputs": [],
   "source": [
    "string_to_test = 'Python is an interesting and useful language for numerical computing!.' \n",
    "print(string_to_test[:6])\n",
    "print(string_to_test[-2])\n",
    "print(string_to_test[-11:-2])\n",
    "print(string_to_test[13:15])\n",
    "print(string_to_test[::-1])\n",
    "print(string_to_test[::2])"
   ]
  },
  {
   "cell_type": "markdown",
   "metadata": {},
   "source": [
    "**1.3.2.** Crea un string y cuenta el número de caracteres y las veces que aparece la letra a."
   ]
  },
  {
   "cell_type": "code",
   "execution_count": null,
   "metadata": {},
   "outputs": [],
   "source": [
    "string_to_test = 'hola que tal ?'\n",
    "string_to_test.count('a')"
   ]
  },
  {
   "cell_type": "markdown",
   "metadata": {},
   "source": [
    "**1.3.3.** Escriba un programa que “codifique” una frase modificando todas las vocales según el siguiente código: a por 4, e por 3, i por 1, o por 0 y u por el símbolo #. Por ejemplo, la frase: “Un perro del hortelano”, deberá devolverse: “#n p3rr0 d3l h0rt3l4n0”."
   ]
  },
  {
   "cell_type": "code",
   "execution_count": null,
   "metadata": {},
   "outputs": [],
   "source": [
    "string_to_test = 'Un perro del hortelano'\n",
    "string_to_test = string_to_test.replace('a', '4')\n",
    "string_to_test = string_to_test.replace('e', '3')\n",
    "string_to_test = string_to_test.replace('i', '1')\n",
    "string_to_test = string_to_test.replace('o', '0')\n",
    "string_to_test = string_to_test.replace('U', '#')\n",
    "string_to_test"
   ]
  },
  {
   "cell_type": "markdown",
   "metadata": {},
   "source": [
    "___"
   ]
  },
  {
   "cell_type": "markdown",
   "metadata": {},
   "source": [
    "### 1.4. Estructuras de datos: Lists y Tuples"
   ]
  },
  {
   "cell_type": "markdown",
   "metadata": {},
   "source": [
    "**1.4.1.** Construye una lista con 5 tickers de acciones españolas."
   ]
  },
  {
   "cell_type": "code",
   "execution_count": null,
   "metadata": {},
   "outputs": [],
   "source": [
    "tickers = ['SAN', 'TEF', 'OTRA']"
   ]
  },
  {
   "cell_type": "markdown",
   "metadata": {},
   "source": [
    "**1.4.2.** Asigna la lista del ejercicio anteior a x y después asignala a y = x. Cambia un elemneto de y por otro. ¿Qué le ocurre a x?."
   ]
  },
  {
   "cell_type": "code",
   "execution_count": null,
   "metadata": {},
   "outputs": [],
   "source": [
    "new_tickers = tickers\n",
    "new_tickers[0] = 'NTGY'\n",
    "print(tickers)\n",
    "print(new_tickers)"
   ]
  },
  {
   "cell_type": "markdown",
   "metadata": {},
   "source": [
    "**1.4.3.** Crea una lista con los números pares entre 1 al 100."
   ]
  },
  {
   "cell_type": "code",
   "execution_count": null,
   "metadata": {},
   "outputs": [],
   "source": [
    "list_1 = [x for x in range(100) if x%2==0]\n",
    "print(list_1)"
   ]
  },
  {
   "cell_type": "markdown",
   "metadata": {},
   "source": [
    "**1.4.4.** Crea una lista con los números pares entre 300 al 500."
   ]
  },
  {
   "cell_type": "code",
   "execution_count": null,
   "metadata": {},
   "outputs": [],
   "source": [
    "list_2 =[x for x in range(300, 500) if x%2==0]\n",
    "print(list_2)"
   ]
  },
  {
   "cell_type": "markdown",
   "metadata": {},
   "source": [
    "**1.4.5.** Junta las dos últimas listas."
   ]
  },
  {
   "cell_type": "code",
   "execution_count": null,
   "metadata": {},
   "outputs": [],
   "source": [
    "list_1.append(list_2)\n",
    "print(list_1)"
   ]
  },
  {
   "cell_type": "code",
   "execution_count": null,
   "metadata": {},
   "outputs": [],
   "source": [
    "list_all = [*list_1, *list_2]\n",
    "print(list_all)"
   ]
  },
  {
   "cell_type": "markdown",
   "metadata": {},
   "source": [
    "**1.4.6.** Construye una lista anidada que contenga la siguiente matriz de forma que el item [i][j], siendo i las y j las columnas, corresponde a la posición de la matriz:\n",
    "\\begin{bmatrix}\n",
    "    1 & .5 \\\\\n",
    "    .5 & 1\n",
    "  \\end{bmatrix}"
   ]
  },
  {
   "cell_type": "code",
   "execution_count": null,
   "metadata": {},
   "outputs": [],
   "source": [
    "matrix = [[1, 0.5],\n",
    "          [0.5, 1]]"
   ]
  },
  {
   "cell_type": "code",
   "execution_count": null,
   "metadata": {},
   "outputs": [],
   "source": [
    "matrix[1][0]"
   ]
  },
  {
   "cell_type": "markdown",
   "metadata": {},
   "source": [
    "___"
   ]
  },
  {
   "cell_type": "markdown",
   "metadata": {},
   "source": [
    "### 1.5. Estructuras de datos: Sets"
   ]
  },
  {
   "cell_type": "code",
   "execution_count": null,
   "metadata": {},
   "outputs": [],
   "source": []
  },
  {
   "cell_type": "markdown",
   "metadata": {},
   "source": [
    "___"
   ]
  },
  {
   "cell_type": "markdown",
   "metadata": {},
   "source": [
    "### 1.6. Estructuras de datos: Diccionarios."
   ]
  },
  {
   "cell_type": "markdown",
   "metadata": {},
   "source": [
    "**1.6.1.** Escribir un programa que pregunte al usuario su nombre, edad, dirección y teléfono y lo guarde en un diccionario. Despúes debe mostrar por pantalla el mensaje <nombre> tiene <edad> años, vive en <dirección> y su número de teléfono es <teléfono>."
   ]
  },
  {
   "cell_type": "code",
   "execution_count": null,
   "metadata": {},
   "outputs": [],
   "source": [
    "name = input('¿Cómo te llamas? ')\n",
    "age = input('¿Cuántos años tienes? ')\n",
    "address = input('¿Cuál es tu dirección? ')\n",
    "phone = input('¿Cuál es tu número de teléfono? ')\n",
    "\n",
    "person = {\n",
    "    'name': name,\n",
    "    'age': age,\n",
    "    'address': address,\n",
    "    'phone': phone,\n",
    "}\n",
    "print(f\"{person['name']} tiene {person['age']}\", \n",
    "      f\"años, vive en {person['address']}\"\n",
    "      f\"y su número de teléfono es {person['phone']}\")"
   ]
  },
  {
   "cell_type": "markdown",
   "metadata": {},
   "source": [
    "**1.6.3.** Escribir un programa que almacene el diccionario con los créditos de las asignaturas de un curso {'Matemáticas': 6, 'Física': 4, 'Química': 5} y después muestre por pantalla los créditos de cada asignatura en el formato <asignatura> tiene <créditos> créditos, donde <asignatura> es cada una de las asignaturas del curso, y <créditos> son sus créditos. Al final debe mostrar también el número total de créditos del curso."
   ]
  },
  {
   "cell_type": "code",
   "execution_count": null,
   "metadata": {},
   "outputs": [],
   "source": [
    "dict_asig = {'Matemáticas': 6, 'Física': 4, 'Química': 5}\n",
    "for key, val in dict_asig:\n",
    "    print(f)"
   ]
  },
  {
   "cell_type": "markdown",
   "metadata": {},
   "source": [
    "**1.6.2.** Escribir un programa que guarde en un diccionario los precios de las frutas de la tabla, pregunte al usuario por una fruta, un número de kilos y muestre por pantalla el precio de ese número de kilos de fruta. Si la fruta no está en el diccionario debe mostrar un mensaje informando de ello.\n",
    "\n",
    "\n",
    "|Fruta|Precio|\n",
    "|-|-|\n",
    "|Plátano|1.35|\n",
    "|Manzana|0.80|\n",
    "|Pera|0.85|\n",
    "|Naranja|0.70|\n"
   ]
  },
  {
   "cell_type": "code",
   "execution_count": null,
   "metadata": {},
   "outputs": [],
   "source": [
    "precios = {\n",
    "    'Plátano':1.35,\n",
    "    'Manzana':0.8,\n",
    "    'Pera':0.85,\n",
    "    'Naranja':0.70,\n",
    "}\n",
    "\n",
    "name = input('¿Fruta?')\n",
    "if name in precios:\n",
    "    kilos = input('¿Kilos? ')\n",
    "    precio = int(kilos)*precios[name]\n",
    "    print(f'A pagar {precio}')\n",
    "else:\n",
    "    print('No tengo')"
   ]
  },
  {
   "cell_type": "markdown",
   "metadata": {},
   "source": [
    "### 1.7. Control Flow."
   ]
  },
  {
   "cell_type": "markdown",
   "metadata": {},
   "source": [
    "**1.7.1.** Calcula la suma de todos los elementos, entre el 1 y el 200, que sean múltiplos de 3 o de 5."
   ]
  },
  {
   "cell_type": "code",
   "execution_count": null,
   "metadata": {},
   "outputs": [],
   "source": [
    "result_suma = 0\n",
    "for x in range(200):\n",
    "    if (x%3 == 0) or (x%5 == 0):\n",
    "        result_suma += x\n",
    "print(result_suma)"
   ]
  },
  {
   "cell_type": "markdown",
   "metadata": {},
   "source": [
    "**1.7.2.** Obten el siguiente triangulo:\n",
    "    \n",
    "1 \n",
    "\n",
    "2 2 \n",
    "\n",
    "3 3 3 \n",
    "\n",
    "4 4 4 4 \n",
    "\n",
    "5 5 5 5 5 "
   ]
  },
  {
   "cell_type": "code",
   "execution_count": null,
   "metadata": {},
   "outputs": [],
   "source": [
    "for num in range(10):\n",
    "    for i in range(num):\n",
    "        print (num, end=\" \")\n",
    "    print(\"\\n\")"
   ]
  },
  {
   "cell_type": "markdown",
   "metadata": {},
   "source": [
    "**1.7.3.** Con un bucle for opten el sigueinte triangulo de asteriscos."
   ]
  },
  {
   "cell_type": "code",
   "execution_count": null,
   "metadata": {},
   "outputs": [],
   "source": [
    "    * \n",
    "   * * \n",
    "  * * * \n",
    " * * * * \n",
    "* * * * * "
   ]
  },
  {
   "cell_type": "code",
   "execution_count": null,
   "metadata": {},
   "outputs": [],
   "source": [
    "n = 5\n",
    "for i in range(n): \n",
    "    print(\" \"*(n-1-i)+\"* \"*(i+1))"
   ]
  },
  {
   "cell_type": "markdown",
   "metadata": {},
   "source": [
    "**1.7.4.** Con un bucle while opten el sigueinte triangulo de asteriscos."
   ]
  },
  {
   "cell_type": "code",
   "execution_count": null,
   "metadata": {},
   "outputs": [],
   "source": [
    "    *\n",
    "   ***\n",
    "  *****\n",
    " *******\n",
    "*********"
   ]
  },
  {
   "cell_type": "code",
   "execution_count": null,
   "metadata": {},
   "outputs": [],
   "source": [
    "count = 0\n",
    "max_len = 9\n",
    "while count <= max_len:\n",
    "    if not count%2==0:\n",
    "        str_to_print = ' '*(max_len-count) + '* '*(count) \n",
    "        #str_to_print = aux.rjust(10)\n",
    "        print(str_to_print)\n",
    "    count += 1"
   ]
  },
  {
   "cell_type": "markdown",
   "metadata": {},
   "source": [
    "**1.7.5.** Crea una lista de enteros con 100 enteros, inicializándolos según valores aleatorios en el rango 1..20 y computa la media de los valores, el valor más alto y el más bajo (todo ello utilizando listas). Utiliza las funciones para generación de números aleatorios de Python (https://docs.python.org/dev/library/random.html)."
   ]
  },
  {
   "cell_type": "code",
   "execution_count": null,
   "metadata": {},
   "outputs": [],
   "source": [
    "import random\n",
    "\n",
    "lista_random = []\n",
    "\n",
    "for x in range(100):\n",
    "    lista_random.append(random.randint(1, 20))\n",
    "\n",
    "aux = 0\n",
    "for x in lista_random:\n",
    "    aux += x\n",
    "media = aux / len(lista_random)\n",
    "\n",
    "print(media)\n",
    "print(max(lista_random))\n",
    "print(min(lista_random))"
   ]
  },
  {
   "cell_type": "markdown",
   "metadata": {},
   "source": [
    "**1.7.6.** Escribe un código que inverta un dictionario, donde los valores sean las claves y las claves los valores, usa:\n",
    "``` python\n",
    "{ \"key1\" : \"value1\", \"key2\" : \"value2\", \"key3\" : \"value1\" }```\n",
    "para llegar a:\n",
    "```python \n",
    "{ \"value1\" : [\"key1\", \"key3\"], \"value2\" : [\"key2\"] }```"
   ]
  },
  {
   "cell_type": "code",
   "execution_count": null,
   "metadata": {},
   "outputs": [],
   "source": [
    "dict_orig = {\n",
    "    \"key1\": \"value1\", \n",
    "    \"key2\": \"value2\",\n",
    "    \"key3\": \"value1\",\n",
    "}"
   ]
  },
  {
   "cell_type": "code",
   "execution_count": null,
   "metadata": {},
   "outputs": [],
   "source": [
    "new_dict = dict()\n",
    "for key, ele in dict_orig.items():\n",
    "    if ele in new_dict:\n",
    "        new_dict[ele].append(key)\n",
    "    else:\n",
    "        new_dict[ele] = [key]\n",
    "print(new_dict)"
   ]
  },
  {
   "cell_type": "code",
   "execution_count": null,
   "metadata": {},
   "outputs": [],
   "source": [
    "new_dict = dict()\n",
    "for key, ele in dict_orig.items():\n",
    "    aux = new_dict.setdefault(ele, [])\n",
    "    aux.append(key)\n",
    "print(new_dict)"
   ]
  },
  {
   "cell_type": "markdown",
   "metadata": {},
   "source": [
    "**1.7.7.** Escribe un programa que pida al usuario un nombre de usuario y su contraseña, compruebe si esta en un dictionario y diga si esta registrado o no y si la contraseña es correcta. Use el siguiente diccionario de punto de partida:\n",
    "```python\n",
    "users_dict = {\n",
    "    \"user1\": \"password1\",\n",
    "    \"user2\": \"password2\",\n",
    "    \"user3\": \"password3\"\n",
    "}\n",
    "```"
   ]
  },
  {
   "cell_type": "code",
   "execution_count": null,
   "metadata": {},
   "outputs": [],
   "source": [
    "users_dict = {\n",
    "    \"user1\": \"password1\",\n",
    "    \"user2\": \"password2\",\n",
    "    \"user3\": \"password3\",\n",
    "}\n",
    "\n",
    "user = input('Username: ')\n",
    "if user in users:\n",
    "    password = input('Password: ')\n",
    "    if password == users[user]:\n",
    "        print('Logged')\n",
    "    else:\n",
    "        print('Incorrect Pass')\n",
    "else:\n",
    "    print('No registed')"
   ]
  },
  {
   "cell_type": "markdown",
   "metadata": {},
   "source": [
    "**1.7.8.** Implementa una función que a partir de la base imponibe calcule la retención y el tipo marginal teniendo en cuenta los siguientes tramos del IRPF:\n",
    "\n",
    "| Base imponible       | Retención|\n",
    "| ------------- |-------------|\n",
    "| 0 € - 12.450 €      | 19 % |\n",
    "| 12.450 € - 20.200 €      | 24 %    |\n",
    "| 20.200 € - 35.200 € | 30 %   |\n",
    "| 35.200 € - 60.000 € | 37 %    |\n",
    "| Más de 60.000 €| 45 %|"
   ]
  },
  {
   "cell_type": "code",
   "execution_count": null,
   "metadata": {},
   "outputs": [],
   "source": [
    "tramos = [12450, 20200, 35200, 60000, 'MAX']\n",
    "pcts = [0.19, 0.24, 0.3, 0.37, 0.45]\n",
    "enteros = [12450, (20200-12450), (35200-20200), (60000-35200)]\n",
    "\n",
    "def calculo_irpf(b_imponible):\n",
    "    restante = b_imponible\n",
    "    a_pagar = 0\n",
    "    for i, tramo in enumerate(tramos):\n",
    "        if tramo == 'MAX':\n",
    "            break\n",
    "        if b_imponible >= tramo:\n",
    "            a_pagar = a_pagar + enteros[i]*pct[i]\n",
    "            restante = restante - enteros[i]\n",
    "        else:\n",
    "            break\n",
    "    a_pagar = a_pagar + restante*pcts[i]\n",
    "    marginal = a_pagar/b_imponible\n",
    "    return a_pagar, marginal"
   ]
  },
  {
   "cell_type": "code",
   "execution_count": null,
   "metadata": {},
   "outputs": [],
   "source": [
    "b_imponible = 49000\n",
    "calculo_irpf(b_imponible)"
   ]
  },
  {
   "cell_type": "markdown",
   "metadata": {},
   "source": [
    "___\n",
    "### 1.8. Dict and List comprehensions."
   ]
  },
  {
   "cell_type": "markdown",
   "metadata": {},
   "source": [
    "**1.8.1.** Calcula la suma de todos los elementos, entre el 1 y el 200, que sean múltiplos de 3 o de 5."
   ]
  },
  {
   "cell_type": "code",
   "execution_count": null,
   "metadata": {},
   "outputs": [],
   "source": []
  },
  {
   "cell_type": "markdown",
   "metadata": {},
   "source": [
    "**1.8.2.** Crea una lista de enteros pares con 100 enteros, inicializándolos según valores aleatorios en el rango 1..20"
   ]
  },
  {
   "cell_type": "code",
   "execution_count": null,
   "metadata": {},
   "outputs": [],
   "source": [
    "lista_random = [\n",
    "    random.randint(1, 20) for x in range(100)\n",
    "]"
   ]
  },
  {
   "cell_type": "markdown",
   "metadata": {},
   "source": [
    "___"
   ]
  },
  {
   "cell_type": "markdown",
   "metadata": {},
   "source": [
    "### 1.9. Exceptions"
   ]
  },
  {
   "cell_type": "markdown",
   "metadata": {},
   "source": [
    "**1.9.1.** Usando el código del ejercicio **1.6.2.** añada una excepción para cuando el número de kilos no se pueda convertir."
   ]
  },
  {
   "cell_type": "code",
   "execution_count": null,
   "metadata": {},
   "outputs": [],
   "source": [
    "precios = {\n",
    "    'Plátano':1.35,\n",
    "    'Manzana':0.8,\n",
    "    'Pera':0.85,\n",
    "    'Naranja':0.70,\n",
    "}\n",
    "name = input('¿Fruta?')\n",
    "if name in precios:\n",
    "    kilos = input('¿Kilos? ')\n",
    "    try:\n",
    "        conv = float(kilos)\n",
    "        precio = float(kilos)*precios[name]\n",
    "        print(f'A pagar {precio}')\n",
    "    except ValueError:\n",
    "        print(f'No se puede convertir {kilos}')\n",
    "else:\n",
    "    print('No tengo')"
   ]
  },
  {
   "cell_type": "markdown",
   "metadata": {},
   "source": [
    "___\n",
    "### 1.10. Funciones."
   ]
  },
  {
   "cell_type": "markdown",
   "metadata": {},
   "source": [
    "**1.10.1.** Escribe una función Python que a partir de una cierta cantidad en euros y del tipo de cambio del día, retorne el equivalente en libras teniendo en cuenta que la casa de cambio retiene una comisión del 2% sobre el total de la operación. Nota: EUR/GBP = 0.8624"
   ]
  },
  {
   "cell_type": "code",
   "execution_count": null,
   "metadata": {},
   "outputs": [],
   "source": [
    "def eur_to_gbp(euros, tipo, comision=0.02):\n",
    "    tasa = euros*comision\n",
    "    a_cambiar = euros-tasa\n",
    "    total_gpd = a_cambiar*tipo\n",
    "    return total_gpd"
   ]
  },
  {
   "cell_type": "markdown",
   "metadata": {},
   "source": [
    "**1.10.2.** Escribe (y utiliza) una función que calcule el área de un círculo recibiendo como parámetro (opcional de valor por defecto 1) su radio. El módulo math de Python contiene una constante para PI.\n"
   ]
  },
  {
   "cell_type": "code",
   "execution_count": null,
   "metadata": {},
   "outputs": [],
   "source": [
    "import math\n",
    "\n",
    "def area_circulo(r=1):\n",
    "    return math.pi*(r**2)"
   ]
  },
  {
   "cell_type": "code",
   "execution_count": null,
   "metadata": {},
   "outputs": [],
   "source": [
    "print(area_circulo())\n",
    "print(area_circulo(10))\n",
    "print(area_circulo(r=15))"
   ]
  },
  {
   "cell_type": "markdown",
   "metadata": {},
   "source": [
    "**1.10.3.** Escribe una función que devuelva una lista con n (recibido como parámetro obligatorio) números aleatorios entre 0 y 10 generados con una distribución uniforme. El módulo random de Python contiene una función uniform."
   ]
  },
  {
   "cell_type": "code",
   "execution_count": null,
   "metadata": {},
   "outputs": [],
   "source": [
    "import random\n",
    "\n",
    "def lista_uniforme(n):\n",
    "    lista_un = [random.uniform(0,10) for x in range(n)]\n",
    "    return lista_un"
   ]
  },
  {
   "cell_type": "code",
   "execution_count": null,
   "metadata": {},
   "outputs": [],
   "source": [
    "def aleatorio(n):\n",
    "    lista_al = []\n",
    "    for _ in range(n):\n",
    "        n_al = random.uniform(0, 10)\n",
    "        lista_al.append(n_al)\n",
    "    return lista_al"
   ]
  },
  {
   "cell_type": "code",
   "execution_count": null,
   "metadata": {},
   "outputs": [],
   "source": [
    "lista_uniforme(10)"
   ]
  },
  {
   "cell_type": "markdown",
   "metadata": {},
   "source": [
    "___\n",
    "### 1.11. Modulos y Scripts."
   ]
  },
  {
   "cell_type": "markdown",
   "metadata": {},
   "source": [
    "**1.11.1.** Incluye las dos últimas funciones en un módulo, impórtalas y úsalas."
   ]
  },
  {
   "cell_type": "code",
   "execution_count": null,
   "metadata": {},
   "outputs": [],
   "source": [
    "from my_module import area_circulo\n",
    "from my_module import lista_uniforme\n",
    "print(area_circulo())\n",
    "print(lista_uniforme(10))"
   ]
  },
  {
   "cell_type": "code",
   "execution_count": null,
   "metadata": {},
   "outputs": [],
   "source": [
    "from my_module import area_circulo as area_circulo_modulo\n",
    "from my_module import lista_uniforme as lista_uniforme_modulo\n",
    "print(area_circulo_modulo())\n",
    "print(lista_uniforme_modulo(10))"
   ]
  },
  {
   "cell_type": "markdown",
   "metadata": {},
   "source": [
    "**1.11.2.** Crea un script que importe el modulo anterior y use las funciones."
   ]
  },
  {
   "cell_type": "code",
   "execution_count": null,
   "metadata": {},
   "outputs": [],
   "source": [
    "# Esta en my_module.py"
   ]
  },
  {
   "cell_type": "markdown",
   "metadata": {},
   "source": [
    "___\n",
    "### 1.12. Escritura de ficheros de texto y guardado de variables."
   ]
  },
  {
   "cell_type": "markdown",
   "metadata": {},
   "source": [
    "**1.12.1.** Abre el fichero tickers.txt y obten los tickers únicos. Guarda el resultado en otro fichero."
   ]
  },
  {
   "cell_type": "code",
   "execution_count": null,
   "metadata": {},
   "outputs": [],
   "source": [
    "with open('tickers.txt', 'r') as f:\n",
    "    x = f.readlines()\n",
    "tickers = [l.rstrip('\\n') for l in x]"
   ]
  },
  {
   "cell_type": "code",
   "execution_count": null,
   "metadata": {},
   "outputs": [],
   "source": [
    "unique_ticker = set(tickers)"
   ]
  },
  {
   "cell_type": "code",
   "execution_count": null,
   "metadata": {},
   "outputs": [],
   "source": [
    "with open('tickers_unique.txt', 'w') as f:\n",
    "    for item in unique_ticker:\n",
    "        f.write(f\"{item} \\n\")"
   ]
  },
  {
   "cell_type": "markdown",
   "metadata": {},
   "source": [
    "**1.12.2.** Carga el fichero ibex_div.csv y calcula su precio máximo, mínimo y medio. Guarda los resultados en un pickle."
   ]
  },
  {
   "cell_type": "code",
   "execution_count": null,
   "metadata": {},
   "outputs": [],
   "source": [
    "import pickle"
   ]
  },
  {
   "cell_type": "code",
   "execution_count": null,
   "metadata": {},
   "outputs": [],
   "source": [
    "with open(\"ibex_div.csv\", \"r\") as f: #ahdgkabskv\n",
    "    lines = f.readlines()\n",
    "lines = lines[1:]    "
   ]
  },
  {
   "cell_type": "code",
   "execution_count": null,
   "metadata": {},
   "outputs": [],
   "source": [
    "close = [float(l.split(',')[1]) for l in lines]\n",
    "\n",
    "result = {\n",
    "    'ib_max': max(close),\n",
    "    'ib_min': min(close),\n",
    "    'ib_mean': sum(close)/len(close),\n",
    "}"
   ]
  },
  {
   "cell_type": "code",
   "execution_count": null,
   "metadata": {},
   "outputs": [],
   "source": [
    "with open('eje_result.pkl', 'wb') as f:\n",
    "    pickle.dump(result, f)"
   ]
  }
 ],
 "metadata": {
  "kernelspec": {
   "display_name": "Python 3",
   "language": "python",
   "name": "python3"
  },
  "language_info": {
   "codemirror_mode": {
    "name": "ipython",
    "version": 3
   },
   "file_extension": ".py",
   "mimetype": "text/x-python",
   "name": "python",
   "nbconvert_exporter": "python",
   "pygments_lexer": "ipython3",
   "version": "3.7.3"
  }
 },
 "nbformat": 4,
 "nbformat_minor": 2
}

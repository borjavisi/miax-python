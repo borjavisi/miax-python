{
 "cells": [
  {
   "cell_type": "markdown",
   "metadata": {},
   "source": [
    "# 6.1. Obtención de datos financieros\n",
    "- Regístrate en iexcloud: https://iexcloud.io/c\n",
    "- Ve los datos que están disponibles.\n",
    "- Mira las bolsas disponibles.\n",
    "- En una de ellas mira los símbolos."
   ]
  },
  {
   "cell_type": "markdown",
   "metadata": {},
   "source": [
    "- Crea dos funciones:\n",
    " - Una que retorne el open, high, low, close y volumen diario de todos los datos disponibles.\n",
    " - Otra que de los datos diarios de un día completo.\n",
    " - Pinta en una figura de velas ambas."
   ]
  },
  {
   "cell_type": "code",
   "execution_count": null,
   "metadata": {},
   "outputs": [],
   "source": [
    "import urllib\n",
    "import pandas as pd\n",
    "import urllib.request"
   ]
  },
  {
   "cell_type": "code",
   "execution_count": null,
   "metadata": {},
   "outputs": [],
   "source": [
    "TOKEN = 'PON_AQUI_TU TOKEN'\n",
    "base_url = 'https://cloud.iexapis.com/stable'"
   ]
  },
  {
   "cell_type": "markdown",
   "metadata": {},
   "source": [
    "____"
   ]
  },
  {
   "cell_type": "code",
   "execution_count": null,
   "metadata": {},
   "outputs": [],
   "source": [
    "url = f'{base_url}/ref-data/exchanges?token={TOKEN}'"
   ]
  },
  {
   "cell_type": "code",
   "execution_count": null,
   "metadata": {},
   "outputs": [],
   "source": [
    "url = f'{base_url}/ref-data/exchanges?token={TOKEN}'\n",
    "contents = urllib.request.urlopen(url).read()\n",
    "exchanges = pd.read_json(contents)"
   ]
  },
  {
   "cell_type": "code",
   "execution_count": null,
   "metadata": {},
   "outputs": [],
   "source": [
    "symbols.shape"
   ]
  },
  {
   "cell_type": "code",
   "execution_count": null,
   "metadata": {},
   "outputs": [],
   "source": [
    "exchanges.head()"
   ]
  },
  {
   "cell_type": "code",
   "execution_count": null,
   "metadata": {},
   "outputs": [],
   "source": [
    "url = f'{base_url}/ref-data/symbols?token={TOKEN}'\n",
    "contents = urllib.request.urlopen(url).read()\n",
    "symbols = pd.read_json(contents)"
   ]
  },
  {
   "cell_type": "code",
   "execution_count": null,
   "metadata": {},
   "outputs": [],
   "source": [
    "symbols.shape"
   ]
  },
  {
   "cell_type": "code",
   "execution_count": null,
   "metadata": {},
   "outputs": [],
   "source": [
    "symbols.head()"
   ]
  },
  {
   "cell_type": "code",
   "execution_count": null,
   "metadata": {},
   "outputs": [],
   "source": [
    "exchange = 'LON'\n",
    "url = f'{base_url}/ref-data/exchange/{exchange}/symbols?token={TOKEN}'\n",
    "contents = urllib.request.urlopen(url).read()\n",
    "symbols = pd.read_json(contents)"
   ]
  },
  {
   "cell_type": "code",
   "execution_count": null,
   "metadata": {},
   "outputs": [],
   "source": [
    "symbols.shape"
   ]
  },
  {
   "cell_type": "code",
   "execution_count": null,
   "metadata": {},
   "outputs": [],
   "source": [
    "symbols.head()"
   ]
  },
  {
   "cell_type": "markdown",
   "metadata": {},
   "source": [
    "___\n",
    "### Day data"
   ]
  },
  {
   "cell_type": "code",
   "execution_count": null,
   "metadata": {},
   "outputs": [],
   "source": [
    "# De pagar cuando llegas a  500000 msg\n",
    "base_url = 'https://cloud.iexapis.com/stable'\n",
    "symbol = 'aapl'\n",
    "st_range = 'max'\n",
    "url = f'{base_url}/stock/{symbol}/chart/{st_range}?token={TOKEN}'\n",
    "contents = urllib.request.urlopen(url).read()\n",
    "data = pd.read_json(contents)\n",
    "data = data[['date', 'open', 'high', 'low', 'close']]\n",
    "data = data.set_index('date', drop=True)"
   ]
  },
  {
   "cell_type": "code",
   "execution_count": null,
   "metadata": {},
   "outputs": [],
   "source": [
    "# No pagas hasta junio\n",
    "base_url = 'https://api.iextrading.com/1.0/'\n",
    "url = f'{base_url}/ref-data/symbols'\n",
    "contents = urllib.request.urlopen(url).read()\n",
    "data = pd.read_json(contents)\n",
    "data"
   ]
  },
  {
   "cell_type": "markdown",
   "metadata": {},
   "source": [
    "Lo ponenmos en una función:"
   ]
  },
  {
   "cell_type": "code",
   "execution_count": null,
   "metadata": {},
   "outputs": [],
   "source": [
    "import pandas as pd \n",
    "import urllib \n",
    "\n",
    "def get_data_iex(symbol, st_range = '5y'):\n",
    "    base_url = 'https://api.iextrading.com/1.0'\n",
    "    url = f'{base_url}/stock/{symbol}/chart/{st_range}'\n",
    "    contents = urllib.request.urlopen(url).read()\n",
    "    data = pd.read_json(contents)\n",
    "    data = data[['date', 'open', 'high', 'low', 'close']]\n",
    "    data = data.set_index('date', drop=True)\n",
    "    return data"
   ]
  },
  {
   "cell_type": "code",
   "execution_count": null,
   "metadata": {},
   "outputs": [],
   "source": [
    "get_data_iex('nvda').head()"
   ]
  },
  {
   "cell_type": "markdown",
   "metadata": {},
   "source": [
    "Creamos un módulo utils.py y añadimos la función"
   ]
  },
  {
   "cell_type": "code",
   "execution_count": null,
   "metadata": {},
   "outputs": [],
   "source": [
    "import utils"
   ]
  },
  {
   "cell_type": "code",
   "execution_count": null,
   "metadata": {},
   "outputs": [],
   "source": [
    "utils.get_data_iex('nvda').head()"
   ]
  },
  {
   "cell_type": "markdown",
   "metadata": {},
   "source": [
    "### Intraday"
   ]
  },
  {
   "cell_type": "code",
   "execution_count": null,
   "metadata": {},
   "outputs": [],
   "source": [
    "url = f'https://cloud.iexapis.com/stable/stock/aapl/intraday-prices?token={token}'\n",
    "contents = urllib.request.urlopen(url).read()\n",
    "data = pd.read_json(contents)"
   ]
  },
  {
   "cell_type": "code",
   "execution_count": null,
   "metadata": {},
   "outputs": [],
   "source": [
    "data = data[['date', 'label', 'open', 'high', 'low', 'close']]"
   ]
  },
  {
   "cell_type": "markdown",
   "metadata": {},
   "source": [
    "### Otros:\n",
    "- Podemos usar la libreria: https://pypi.org/project/iexfinance/\n",
    "- Datos tick a tick: https://iextrading.com/trading/market-data/\n",
    "- Usar la libreria: \n",
    "    - https://github.com/timpalpant/go-iex"
   ]
  }
 ],
 "metadata": {
  "kernelspec": {
   "display_name": "Python 3",
   "language": "python",
   "name": "python3"
  },
  "language_info": {
   "codemirror_mode": {
    "name": "ipython",
    "version": 3
   },
   "file_extension": ".py",
   "mimetype": "text/x-python",
   "name": "python",
   "nbconvert_exporter": "python",
   "pygments_lexer": "ipython3",
   "version": "3.7.3"
  }
 },
 "nbformat": 4,
 "nbformat_minor": 2
}

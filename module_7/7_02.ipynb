{
 "cells": [
  {
   "cell_type": "markdown",
   "metadata": {},
   "source": [
    "# 7.2. Introducción a la programación orientada a objetos."
   ]
  },
  {
   "cell_type": "markdown",
   "metadata": {},
   "source": [
    "## Clases"
   ]
  },
  {
   "cell_type": "markdown",
   "metadata": {},
   "source": [
    "- Las variables, listas, diccionarios, etc. en python son objetos.\n",
    "- Sin entrar en la teoría vamos a ver qué son.\n",
    "- Un clase se declara como:"
   ]
  },
  {
   "cell_type": "markdown",
   "metadata": {},
   "source": [
    "```python\n",
    "class class_name:\n",
    "    methods (functions)```\n"
   ]
  },
  {
   "cell_type": "code",
   "execution_count": null,
   "metadata": {
    "tags": []
   },
   "outputs": [],
   "source": [
    "class Coche:\n",
    "    \"This is an empty class\"\n",
    "    pass"
   ]
  },
  {
   "cell_type": "markdown",
   "metadata": {},
   "source": [
    "- **pass** en python significa no hacer nada. \n",
    "- El String define la documentación, accesible desde `help(FirstClass)`."
   ]
  },
  {
   "cell_type": "markdown",
   "metadata": {},
   "source": [
    "- A continuación, instanciamos un objeto de clase **\"Coche\"**: emp, que tendrá todas las funcionalidades de la clase \"Coche\", por lo que coche_javi será una instancia de la clase Coche:"
   ]
  },
  {
   "cell_type": "code",
   "execution_count": null,
   "metadata": {
    "collapsed": false,
    "jupyter": {
     "outputs_hidden": false
    }
   },
   "outputs": [],
   "source": [
    "coche_javi = Coche()"
   ]
  },
  {
   "cell_type": "markdown",
   "metadata": {},
   "source": [
    "- \"coche_javi\" es una instancia de \"Coche\".\n",
    "- Podemos ver su tipo:"
   ]
  },
  {
   "cell_type": "code",
   "execution_count": null,
   "metadata": {
    "collapsed": false,
    "jupyter": {
     "outputs_hidden": false
    }
   },
   "outputs": [],
   "source": [
    "type(coche_javi)"
   ]
  },
  {
   "cell_type": "markdown",
   "metadata": {},
   "source": [
    "### Constructores\n",
    "\n",
    "Las clases disponen de una función llamada **\"\\_\\_init\\_\\_\"**. Es uno de los llamados métodos mágicos. Con este método, se inicializan variables de clase o cualquier algoritmo inicial que sea aplicable a todos los métodos. A las variables dentro de una clase se las llama atributos, como en otros lenguajes POO."
   ]
  },
  {
   "cell_type": "markdown",
   "metadata": {},
   "source": [
    "Estos métodos, ayudan en el proceso de inicialización de la instancia. Así, si no tuviéramos estos **constructores**, habría que llamar a un método aparte que inicializara todo."
   ]
  },
  {
   "cell_type": "markdown",
   "metadata": {},
   "source": [
    "Sin embargo, cuando se ha definido un constructor, **\\_\\_init\\_\\_** se le llamará al inicializar la instancia creada. "
   ]
  },
  {
   "cell_type": "code",
   "execution_count": null,
   "metadata": {},
   "outputs": [],
   "source": [
    "class Coche:\n",
    "    def __init__(self, matricula): #constructor de la clase\n",
    "        self.matricula = matricula"
   ]
  },
  {
   "cell_type": "markdown",
   "metadata": {},
   "source": [
    "- En Python es obligatorio que el primer parámetro de un método de clase sea **self**.\n",
    "- **Self** hace referencia a todo lo que contiene una clase. Pero siempre desde el punto de vista de una instancia. Por ejemplo se usa self para dar valor a los atributos de la clase"
   ]
  },
  {
   "cell_type": "markdown",
   "metadata": {},
   "source": [
    "### Instancia de una clase\n",
    "\n",
    "Una instancia se podría decir que es como una copia personalizada de una clase\n",
    "Para crear una instancia, basta con llamar al constructor. En este caso, creamos dos instancias de la clase con dos argumentos:"
   ]
  },
  {
   "cell_type": "code",
   "execution_count": null,
   "metadata": {},
   "outputs": [],
   "source": [
    "coche_javi = Coche(matricula='1234ABC')\n",
    "coche_fer = Coche(matricula='1234ZZZ')"
   ]
  },
  {
   "cell_type": "code",
   "execution_count": null,
   "metadata": {},
   "outputs": [],
   "source": [
    "print(coche_javi.matricula)\n",
    "print(coche_fer.matricula)"
   ]
  },
  {
   "cell_type": "markdown",
   "metadata": {},
   "source": [
    "- Pulsando el tabulador podemos saber que atributos tenemos disponibles."
   ]
  },
  {
   "cell_type": "markdown",
   "metadata": {},
   "source": [
    "- Los objeots pueden almacenar otros atributos no definidos en el constructor.\n",
    "- Por ejemplo:"
   ]
  },
  {
   "cell_type": "code",
   "execution_count": null,
   "metadata": {},
   "outputs": [],
   "source": [
    "coche_javi.color = 'azul'"
   ]
  },
  {
   "cell_type": "code",
   "execution_count": null,
   "metadata": {},
   "outputs": [],
   "source": [
    "coche_javi.color"
   ]
  },
  {
   "cell_type": "code",
   "execution_count": null,
   "metadata": {},
   "outputs": [],
   "source": [
    "coche_fer.color"
   ]
  },
  {
   "cell_type": "markdown",
   "metadata": {},
   "source": [
    "### Métodos"
   ]
  },
  {
   "cell_type": "markdown",
   "metadata": {},
   "source": [
    "- Podemos definir otros métodos no constructores a Coche que realicen otro tipo de operaciones.\n",
    "- El self como primer parámetro del método nos permite acceder a los atributos y cambiar su valor."
   ]
  },
  {
   "cell_type": "code",
   "execution_count": null,
   "metadata": {},
   "outputs": [],
   "source": [
    "class Coche:\n",
    "\n",
    "    def __init__(self, matricula):\n",
    "        self.matricula = matricula\n",
    "        self.ruedas = 4\n",
    "        self.estado = False\n",
    "    \n",
    "    def arrancar(self):\n",
    "        if not self.estado:\n",
    "            print('Brummmm')\n",
    "            self.estado = True\n",
    "        else:\n",
    "            print('ya estoy')\n",
    "    \n",
    "    def apagar(self):\n",
    "        self.estado = False\n"
   ]
  },
  {
   "cell_type": "code",
   "execution_count": null,
   "metadata": {},
   "outputs": [],
   "source": [
    "coche_javi = Coche('1234ABC')\n",
    "coche_fer = Coche('1234ZZZ')"
   ]
  },
  {
   "cell_type": "code",
   "execution_count": null,
   "metadata": {},
   "outputs": [],
   "source": [
    "coche_javi.estado"
   ]
  },
  {
   "cell_type": "code",
   "execution_count": null,
   "metadata": {},
   "outputs": [],
   "source": [
    "coche_javi.arrancar()"
   ]
  },
  {
   "cell_type": "code",
   "execution_count": null,
   "metadata": {},
   "outputs": [],
   "source": [
    "coche_javi.estado"
   ]
  },
  {
   "cell_type": "code",
   "execution_count": null,
   "metadata": {},
   "outputs": [],
   "source": [
    "coche_fer.estado"
   ]
  },
  {
   "cell_type": "code",
   "execution_count": null,
   "metadata": {},
   "outputs": [],
   "source": [
    "coche_fer.apagar()"
   ]
  },
  {
   "cell_type": "markdown",
   "metadata": {
    "tags": []
   },
   "source": [
    "### Herencia"
   ]
  },
  {
   "cell_type": "markdown",
   "metadata": {},
   "source": [
    "Al igual que otros lenguajes en POO, Python soporta el concepto de herencia. En el cual una nueva clase puede heredar las características previas de otra clase anterior.\n",
    "\n",
    "En nuestro ejemplo, todos los Coches, son Vehiculos, por lo que podremos decir que tendrán la funcionalidad de arrancar y parar."
   ]
  },
  {
   "cell_type": "code",
   "execution_count": null,
   "metadata": {},
   "outputs": [],
   "source": [
    "class Vehiculo():\n",
    "        \n",
    "    def __init__(self):\n",
    "        self.estado = False\n",
    "    \n",
    "    def arrancar(self):\n",
    "        if not self.estado:\n",
    "            print('Brummmm')\n",
    "            self.estado = True\n",
    "        else:\n",
    "            print('ya estoy')\n",
    "    \n",
    "    def apagar(self):\n",
    "        self.estado = False\n"
   ]
  },
  {
   "cell_type": "markdown",
   "metadata": {},
   "source": [
    "- Al definir el coche podemos hacer que herede de Vehiculo:"
   ]
  },
  {
   "cell_type": "code",
   "execution_count": null,
   "metadata": {},
   "outputs": [],
   "source": [
    "class Coche(Vehiculo):  #Coche heredará los métodos y atributos de la clase Vehiculo.\n",
    "    def __init__(self, matricula):\n",
    "        self.matricula = matricula"
   ]
  },
  {
   "cell_type": "code",
   "execution_count": null,
   "metadata": {},
   "outputs": [],
   "source": [
    "coche_javi = Coche('1234ABC')\n",
    "coche_fer = Coche('1234ZZZ')"
   ]
  },
  {
   "cell_type": "code",
   "execution_count": null,
   "metadata": {},
   "outputs": [],
   "source": [
    "coche_javi.arrancar()"
   ]
  },
  {
   "cell_type": "markdown",
   "metadata": {},
   "source": [
    "- Como ves falla, esto se debe a que tenemos que inicializar la clase padre:\n",
    "- Super() es una función que nos permite invocar a métodos y atributos de la clase padre."
   ]
  },
  {
   "cell_type": "code",
   "execution_count": null,
   "metadata": {},
   "outputs": [],
   "source": [
    "class Coche(Vehiculo):  #Coche heredará los métodos y atributos de la clase Vehiculo.\n",
    "    def __init__(self, matricula):\n",
    "        super().__init__()\n",
    "        self.matricula = matricula"
   ]
  },
  {
   "cell_type": "code",
   "execution_count": null,
   "metadata": {},
   "outputs": [],
   "source": [
    "coche_javi = Coche('1234ABC')"
   ]
  },
  {
   "cell_type": "code",
   "execution_count": null,
   "metadata": {},
   "outputs": [],
   "source": [
    "coche_javi.arrancar()"
   ]
  },
  {
   "cell_type": "markdown",
   "metadata": {},
   "source": [
    "- Podemos poner la matrícula en la clase padre dado que todos los Vehiculo la tienen."
   ]
  },
  {
   "cell_type": "code",
   "execution_count": null,
   "metadata": {},
   "outputs": [],
   "source": [
    "class Botones(Empleado): #Botones heredará los métodos y atributos de la clase Empleado.\n",
    "    def trabaja(self, trabajo):\n",
    "        self.trabajo = trabajo\n",
    "        print (self.obtener_nombre(),\" es un \", self.trabajo)\n",
    "    def obtener_nombre(self):  \n",
    "        return 'Nombre: '+self.nombre+','"
   ]
  },
  {
   "cell_type": "code",
   "execution_count": null,
   "metadata": {},
   "outputs": [],
   "source": [
    "bot2 = Botones('Diego Flores', 3342423, 20000)\n",
    "bot2.trabaja('botones segundo')"
   ]
  },
  {
   "cell_type": "markdown",
   "metadata": {},
   "source": [
    "#### Super()\n",
    "\n",
    "Super() es una función que nos permite invocar a métodos y atributos de la clase padre.\n",
    "\n",
    "Por ejemplo, si hiciéramos otra clase que heredase de Empleado, pero el constructor fuera distinto:"
   ]
  },
  {
   "cell_type": "code",
   "execution_count": null,
   "metadata": {},
   "outputs": [],
   "source": [
    "class Directivo(Empleado):\n",
    "    def __init__(self, horas, libres):\n",
    "        self.horas = horas\n",
    "        self.libres = libres"
   ]
  },
  {
   "cell_type": "code",
   "execution_count": null,
   "metadata": {},
   "outputs": [],
   "source": [
    "dir1 = Directivo('Diego Flores',3342423, 45,36)"
   ]
  },
  {
   "cell_type": "markdown",
   "metadata": {},
   "source": [
    "Para poder definir el nombre y la edad de la clase Ingeniero que hereda, deberíamos escribir en el método constructor:"
   ]
  },
  {
   "cell_type": "code",
   "execution_count": null,
   "metadata": {},
   "outputs": [],
   "source": [
    "class Directivo(Empleado):\n",
    "    def __init__(self, nombreD, ssocialD, sueldoD, horas):\n",
    "        super().__init__(nombreD, ssocialD, sueldoD) # super().__init__ es el constructor del padre, así cogemos sus atributos\n",
    "        self.horas = horas\n",
    "# y a la hora de instanciar:\n",
    "director_general = Directivo(\"Pedro Pérez\",6534232,60000,40)\n",
    "# También está claro que si hubiera métodos de la clase Empleado que tuviéramos que sobreescribir\n",
    "# se haría también con super()\n",
    "print(director_general.nombre, director_general.obtener_ssocial(), director_general.obtener_sueldo())\n",
    "dir(director_general)"
   ]
  },
  {
   "cell_type": "code",
   "execution_count": null,
   "metadata": {},
   "outputs": [],
   "source": []
  },
  {
   "cell_type": "code",
   "execution_count": null,
   "metadata": {},
   "outputs": [],
   "source": [
    "class Vehiculo():\n",
    "        \n",
    "    def __init__(self, matricula):\n",
    "        self.estado = False\n",
    "        self.matricula = matricula\n",
    "    \n",
    "    def arrancar(self):\n",
    "        if not self.estado:\n",
    "            print('Brummmm')\n",
    "            self.estado = True\n",
    "        else:\n",
    "            print('ya estoy')\n",
    "    \n",
    "    def apagar(self):\n",
    "        self.estado = False\n"
   ]
  },
  {
   "cell_type": "code",
   "execution_count": null,
   "metadata": {},
   "outputs": [],
   "source": [
    "class Coche(Vehiculo):  #Coche heredará los métodos y atributos de la clase Vehiculo.\n",
    "    def __init__(self, matricula):\n",
    "        super().__init__(matricula)"
   ]
  },
  {
   "cell_type": "code",
   "execution_count": null,
   "metadata": {},
   "outputs": [],
   "source": [
    "coche_javi = Coche('1234ABC')"
   ]
  },
  {
   "cell_type": "code",
   "execution_count": null,
   "metadata": {},
   "outputs": [],
   "source": [
    "coche_javi.matricula"
   ]
  },
  {
   "cell_type": "markdown",
   "metadata": {
    "tags": []
   },
   "source": [
    "### Método __str__ y __rpl__"
   ]
  },
  {
   "cell_type": "code",
   "execution_count": null,
   "metadata": {},
   "outputs": [],
   "source": [
    "class Coche(Vehiculo):  #Coche heredará los métodos y atributos de la clase Vehiculo.\n",
    "    def __init__(self, matricula):\n",
    "        super().__init__(matricula)\n",
    "    \n",
    "    def __str__(self):\n",
    "        return f'Soy un coche con {self.matricula}'"
   ]
  },
  {
   "cell_type": "code",
   "execution_count": null,
   "metadata": {},
   "outputs": [],
   "source": [
    "coche_javi = Coche('1234ABC')"
   ]
  },
  {
   "cell_type": "code",
   "execution_count": null,
   "metadata": {},
   "outputs": [],
   "source": [
    "str(coche_javi)"
   ]
  },
  {
   "cell_type": "code",
   "execution_count": null,
   "metadata": {},
   "outputs": [],
   "source": [
    "coche_javi"
   ]
  },
  {
   "cell_type": "code",
   "execution_count": null,
   "metadata": {},
   "outputs": [],
   "source": [
    "class Coche(Vehiculo):  #Coche heredará los métodos y atributos de la clase Vehiculo.\n",
    "    def __init__(self, matricula):\n",
    "        super().__init__(matricula)\n",
    "    \n",
    "    def __str__(self):\n",
    "        return f'Soy un coche con matricula: {self.matricula}'\n",
    "    \n",
    "    def __repr__(self):\n",
    "        return f'Soy un coche con matricula: {self.matricula}'"
   ]
  },
  {
   "cell_type": "code",
   "execution_count": null,
   "metadata": {},
   "outputs": [],
   "source": [
    "coche_javi = Coche('1234ABC')"
   ]
  },
  {
   "cell_type": "code",
   "execution_count": null,
   "metadata": {},
   "outputs": [],
   "source": [
    "coche_javi"
   ]
  },
  {
   "cell_type": "markdown",
   "metadata": {
    "tags": []
   },
   "source": [
    "# Ejercicios\n",
    "**7.3.1** Crea una clase vehiculo que tenga los atributos: color, matrícula, numero de ruedas, con la funcionalidad de parar y arrancar."
   ]
  },
  {
   "cell_type": "code",
   "execution_count": null,
   "metadata": {},
   "outputs": [],
   "source": []
  },
  {
   "cell_type": "markdown",
   "metadata": {},
   "source": [
    "**7.3.2** Crea 4 clases distintas que heredan de vehiculo: Coche, Camioneta, Bicicleta y Moto, define para todos ellos atributos especificos de cada clase."
   ]
  },
  {
   "cell_type": "code",
   "execution_count": null,
   "metadata": {},
   "outputs": [],
   "source": []
  },
  {
   "cell_type": "markdown",
   "metadata": {},
   "source": [
    "**7.3.3** Crea una lista con objetos de las disitintas clases."
   ]
  },
  {
   "cell_type": "code",
   "execution_count": null,
   "metadata": {},
   "outputs": [],
   "source": []
  },
  {
   "cell_type": "markdown",
   "metadata": {},
   "source": [
    "**7.3.4** Define una funcion que pasandole una lista de vehiculos genere por pantalla un informe. Puedes añadir el método ``__str__`` a cada clase para facilitar el proceso."
   ]
  },
  {
   "cell_type": "code",
   "execution_count": null,
   "metadata": {},
   "outputs": [],
   "source": []
  },
  {
   "cell_type": "markdown",
   "metadata": {},
   "source": [
    "**7.3.5** Añade un argumento a la funcion para que solo informe de los vehiculos con un número determinado de ruedas pasado por parámetro."
   ]
  },
  {
   "cell_type": "code",
   "execution_count": null,
   "metadata": {},
   "outputs": [],
   "source": []
  }
 ],
 "metadata": {
  "kernelspec": {
   "display_name": "Python 3 (ipykernel)",
   "language": "python",
   "name": "python3"
  },
  "language_info": {
   "codemirror_mode": {
    "name": "ipython",
    "version": 3
   },
   "file_extension": ".py",
   "mimetype": "text/x-python",
   "name": "python",
   "nbconvert_exporter": "python",
   "pygments_lexer": "ipython3",
   "version": "3.7.3"
  }
 },
 "nbformat": 4,
 "nbformat_minor": 4
}

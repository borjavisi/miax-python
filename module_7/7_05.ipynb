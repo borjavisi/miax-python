{
 "cells": [
  {
   "cell_type": "markdown",
   "metadata": {},
   "source": [
    "# 7.5. Operador ternario"
   ]
  },
  {
   "cell_type": "markdown",
   "metadata": {},
   "source": [
    "En Python, al igual que en otros lenguajes, existe el operador ternario, para simplificar la escritura de instrucciones de control de flujo.\n",
    "\n",
    "### Operador ternario condicional\n",
    "\n",
    "Es el más habitual y lo tienen muchos lenguajes (incluído excel). Su sintaxis es:\n",
    "\n",
    "```python\n",
    "expresion_si_cierto if expresion_condicional else expresion_si_falso\n",
    "```"
   ]
  },
  {
   "cell_type": "code",
   "execution_count": null,
   "metadata": {},
   "outputs": [],
   "source": [
    "pronostico = input (\"Introduzca que tiempo va a hacer: (lluvia/sol/nublado/claros): \")\n",
    "print(\"Vamos a ir a\", 'la playa' if pronostico in ['sol','claros'] else 'la biblioteca')"
   ]
  },
  {
   "cell_type": "markdown",
   "metadata": {},
   "source": [
    "Hay que tener cuidado con el operador ternario en cuando a asignaciones, ya que si los paréntesis no son adecuados, podemos tergiversar la solución:"
   ]
  },
  {
   "cell_type": "code",
   "execution_count": null,
   "metadata": {},
   "outputs": [],
   "source": [
    "x = y = 40\n",
    "z = 1 + x if x > y else y + 2\n",
    "z\n",
    "\n",
    "# antes de ejecutar, ¿Qué resultado da? 42 (40+2) o 43 (1+40+2)"
   ]
  },
  {
   "cell_type": "code",
   "execution_count": null,
   "metadata": {},
   "outputs": [],
   "source": [
    "# esto está mejor:\n",
    "x = y = 40\n",
    "z = (1 + x) if x > y else (y + 2)\n",
    "z"
   ]
  },
  {
   "cell_type": "code",
   "execution_count": null,
   "metadata": {},
   "outputs": [],
   "source": [
    "# porque en algunos casos, se podría entender esto\n",
    "x = y = 40\n",
    "z = 1 + (x if x > y else y) + 2\n",
    "z"
   ]
  },
  {
   "cell_type": "code",
   "execution_count": null,
   "metadata": {},
   "outputs": [],
   "source": [
    "edad = input(\"Introduzca su edad: \")\n",
    "if 0<int(edad)<100:\n",
    "    print(\"La edad es correcta\")"
   ]
  },
  {
   "cell_type": "markdown",
   "metadata": {},
   "source": [
    "Para validar esa condicional, primero analiza la parte izquierda de la operación y si es True, evalúa la parte derecha. De hecho los operadores no tienen por qué ser iguales."
   ]
  },
  {
   "cell_type": "code",
   "execution_count": null,
   "metadata": {},
   "outputs": [],
   "source": [
    "otra = 'hola'\n",
    "palabra = 'adios'\n",
    "if otra > palabra == 'adios':\n",
    "    print(\"correcto\")"
   ]
  },
  {
   "cell_type": "code",
   "execution_count": null,
   "metadata": {},
   "outputs": [],
   "source": [
    "lista = ['Pedro','Juan','maite','Antonio','jose']\n",
    "lista_min = [x for x in lista if x==x.lower()]\n",
    "print(lista_min)"
   ]
  },
  {
   "cell_type": "markdown",
   "metadata": {},
   "source": [
    "Si queremos hacer un programa que nos calcule si un año es bisiesto, o no. \n",
    "\n",
    "Podemos hacerlo sin operdor ternario:"
   ]
  },
  {
   "cell_type": "code",
   "execution_count": null,
   "metadata": {},
   "outputs": [],
   "source": [
    "año = int(input('Introduce un año: '))\n",
    "\n",
    "# Código para hallar si un año bisiesto\n",
    "esbisiesto = False\n",
    "if año % 4 == 0:\n",
    "    if año % 100 == 0:\n",
    "        if año % 400 == 0:\n",
    "            esbisiesto = True\n",
    "        else:\n",
    "            esbisiesto = False\n",
    "    else:\n",
    "        esbisiesto = True\n",
    "else:\n",
    "    esbisiesto = False\n",
    "    \n",
    "print(\"Original:\", esbisiesto)      "
   ]
  },
  {
   "cell_type": "markdown",
   "metadata": {},
   "source": [
    "O con operador ternario: "
   ]
  },
  {
   "cell_type": "code",
   "execution_count": null,
   "metadata": {},
   "outputs": [],
   "source": [
    "año = int(input('Introduce un año: '))\n",
    "\n",
    "esbisiesto2 = False if año%4!=0 else True if año%100!=0 else False if año%400!=0 else True\n",
    "\n",
    "print(\"OTernario:\", esbisiesto2)  "
   ]
  }
 ],
 "metadata": {
  "kernelspec": {
   "display_name": "Python 3 (ipykernel)",
   "language": "python",
   "name": "python3"
  },
  "language_info": {
   "codemirror_mode": {
    "name": "ipython",
    "version": 3
   },
   "file_extension": ".py",
   "mimetype": "text/x-python",
   "name": "python",
   "nbconvert_exporter": "python",
   "pygments_lexer": "ipython3",
   "version": "3.10.8"
  }
 },
 "nbformat": 4,
 "nbformat_minor": 4
}

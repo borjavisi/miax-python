{
 "cells": [
  {
   "cell_type": "markdown",
   "metadata": {},
   "source": [
    "# INTRO PYTHON\n",
    "- Fernando de la Calle Silos\n",
    "- fcalle@grupobme.es\n",
    "___"
   ]
  },
  {
   "cell_type": "markdown",
   "metadata": {},
   "source": [
    "<img src=\"imgs/python.png\"  alt=\"drawing\" width=\"400\"/>"
   ]
  },
  {
   "cell_type": "markdown",
   "metadata": {},
   "source": [
    "## Día 1\n",
    "* [1.0](1_00.ipynb) Motivación.\n",
    "* [1.1](1_01.ipynb) Jupyter Notebooks.\n",
    "* [1.2](1_02.ipynb) Sintaxis básica, operaciones y tipos básicos.\n",
    "* [1.3](1_03.ipynb) Strings.\n",
    "* [1.4](1_04.ipynb) Estructuras de datos: Lists, Tuples y Sets.\n",
    "* [1.5](1_05.ipynb) Estructuras de datos: Diccionarios.\n",
    "* [1.6](1_06.ipynb) Control Flow.\n",
    "* [1.7](1_07.ipynb) Funciones y Módulos.\n",
    "* [1.8](1_08.ipynb) Escritura de ficheros de texto y guardado de variables."
   ]
  },
  {
   "cell_type": "markdown",
   "metadata": {},
   "source": [
    "### Librerías más usadas\n",
    "<img src=\"imgs/scipy_ecosystem.png\"  alt=\"drawing\" width=\"600\"/>"
   ]
  },
  {
   "cell_type": "markdown",
   "metadata": {},
   "source": [
    "### Instalación Python"
   ]
  },
  {
   "cell_type": "markdown",
   "metadata": {},
   "source": [
    "From the Python Software Foundation:\n",
    "Version 3.6.7\n",
    "\n",
    "https://www.python.org/\n",
    "\n",
    "https://www.python.org/downloads/\n",
    "\n",
    "Alternative:\n",
    "https://www.anaconda.com/distribution/"
   ]
  },
  {
   "cell_type": "markdown",
   "metadata": {},
   "source": [
    "### Library installation"
   ]
  },
  {
   "cell_type": "markdown",
   "metadata": {},
   "source": [
    "<img src=\"imgs/python_environment.png\"  alt=\"drawing\" width=\"500\"/>"
   ]
  },
  {
   "cell_type": "markdown",
   "metadata": {},
   "source": [
    "### Virtual enviroments\n",
    "\n",
    "<img src=\"imgs/venv_2.png\"  alt=\"drawing\" width=\"600\"/>\n",
    "\n",
    "\n",
    "1. Creación del virtual enviroment:\n",
    "```\n",
    "python3 -m venv tutorial-env\n",
    "```\n",
    "2. Activar el virtual enviroment:\n",
    " * En Windows, run:\n",
    "```\n",
    "tutorial-env\\Scripts\\activate.bat\n",
    "```\n",
    " * En Unix or MacOS, run:\n",
    "```\n",
    "source tutorial-env/bin/activate\n",
    "```\n",
    "3. Instalar las libs en el virtualenviroment.\n",
    " * Para instalar una librería:\n",
    "```\n",
    "pip install pandas\n",
    "```\n",
    " * Para instalar todas las requeridas para el proyecto:\n",
    "```\n",
    "pip install -r requirements.txt\n",
    "```\n",
    " * Ver todas las librerías instaladas:\n",
    "```\n",
    " pip freeze\n",
    "```\n",
    " * Guardar las instaladas en un fichero:\n",
    "```\n",
    " pip freeze > requirements.txt\n",
    "```"
   ]
  },
  {
   "cell_type": "markdown",
   "metadata": {},
   "source": [
    "### Recursos\n",
    "- \"Python for Data Analysis\" by Wes McKinney \n",
    "\n",
    "<img src=\"imgs/wes.jpg\"  alt=\"drawing\" width=\"300\"/>\n",
    "\n",
    "- Python tutorial: https://docs.python.org/3/tutorial/index.html\n",
    "- Python documentation: https://docs.python.org/3.6/index.html\n",
    "- https://gto76.github.io/python-cheatsheet/\n",
    "- https://ehmatthes.github.io/pcc/cheatsheets/README.html"
   ]
  }
 ],
 "metadata": {
  "kernelspec": {
   "display_name": "Python 3",
   "language": "python",
   "name": "python3"
  },
  "language_info": {
   "codemirror_mode": {
    "name": "ipython",
    "version": 3
   },
   "file_extension": ".py",
   "mimetype": "text/x-python",
   "name": "python",
   "nbconvert_exporter": "python",
   "pygments_lexer": "ipython3",
   "version": "3.6.5"
  }
 },
 "nbformat": 4,
 "nbformat_minor": 2
}

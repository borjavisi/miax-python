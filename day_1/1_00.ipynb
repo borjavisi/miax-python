{
 "cells": [
  {
   "cell_type": "markdown",
   "metadata": {},
   "source": [
    "# Introducción a Python aplicado a Finanzas Cuantitativas.\n",
    "\n",
    "<center>\n",
    "<img src=\"imgs/python-logo.png\"  alt=\"drawing\" width=\"500\"/>\n",
    "</center>\n",
    "\n",
    "- Fernando de la Calle Silos\n",
    "- fcalle@grupobme.es\n",
    "___"
   ]
  },
  {
   "cell_type": "markdown",
   "metadata": {},
   "source": [
    "<center>\n",
    "<img src=\"imgs/python.png\"  alt=\"drawing\" width=\"400\"/>\n",
    "</center>"
   ]
  },
  {
   "cell_type": "code",
   "execution_count": null,
   "metadata": {},
   "outputs": [],
   "source": [
    "import this"
   ]
  },
  {
   "cell_type": "markdown",
   "metadata": {},
   "source": [
    "## Syllabus\n",
    "- Día 1: Fundamentos de programación.\n",
    "    - Instalación y creación de virtual environments.\n",
    "    - Elementos de programación en Python.\n",
    "    - Estructuras de datos y control del flujo.\n",
    "    - Módulos y funciones.\n",
    "    - Ficheros.\n",
    "\n",
    "\n",
    "- Día 2: Introducción a las librerías Numpy y Pandas.\n",
    "    - Introducción a Numpy\n",
    "    - Introducción a Pandas\n",
    "\n",
    "\n",
    "- Día 3: Visualización y tratamiento de datos\n",
    "    - Visualización de datos y gráficos con matplotlib y pandas.\n",
    "    - Carga y almacenamiento de datos.\n",
    "    - Limpieza, preparación y homogeneización.\n",
    "    - Tratamiento de series temporales.\n",
    "\n",
    "\n",
    "- Día 4: Temas avanzados.\n",
    "    - Introducción a la programación orientada a objetos.\n",
    "    - Procesamiento en paralelo con multiprocessing.\n",
    "    - Visualizaciones interactivas con plotly.\n",
    "    - Web scraping con beautifulsoup.\n",
    "    - Editores y flujo de trabajo.\n",
    "    - Nociones básicas de control de versiones con git.\n",
    "\n",
    "\n",
    "- Día 5: Aplicaciones específicas en mercados financieros.\n",
    "    - Obtención de datos financieros de distintas fuentes.\n",
    "    - Simulación para medición de riesgos (VaR).\n",
    "    - Valoración de opciones financieras.\n",
    "    - Estrategias de inversión.\n",
    "\n",
    "Práctica: Análisis de series temporales bursátiles."
   ]
  },
  {
   "cell_type": "markdown",
   "metadata": {},
   "source": [
    "## Día 1\n",
    "* [1.0](1_00.ipynb) Motivación.\n",
    "* [1.1](1_01.ipynb) Jupyter Notebooks.\n",
    "* [1.2](1_02.ipynb) Sintaxis básica, operaciones y tipos básicos.\n",
    "* [1.3](1_03.ipynb) Strings.\n",
    "* [1.4](1_04.ipynb) Estructuras de datos: Lists, Tuples y Sets.\n",
    "* [1.5](1_05.ipynb) Estructuras de datos: Diccionarios.\n",
    "* [1.6](1_06.ipynb) Control Flow.\n",
    "* [1.7](1_07.ipynb) Funciones y Módulos.\n",
    "* [1.8](1_08.ipynb) Escritura de ficheros de texto y guardado de variables."
   ]
  },
  {
   "cell_type": "markdown",
   "metadata": {},
   "source": [
    "## Librerías más usadas\n",
    "<center>\n",
    "<img src=\"imgs/scipy_ecosystem.png\"  alt=\"drawing\" width=\"600\"/>\n",
    "</center>"
   ]
  },
  {
   "cell_type": "markdown",
   "metadata": {},
   "source": [
    "## Instalación Python"
   ]
  },
  {
   "cell_type": "markdown",
   "metadata": {},
   "source": [
    "\n",
    "\n",
    "\n",
    "- Más facil desde Anconda.\n",
    " -https://www.anaconda.com/distribution/\n",
    "<center>\n",
    "<img src=\"imgs/anaconda.png\"  alt=\"drawing\" width=\"500\"/>\n",
    "</center>\n",
    "\n",
    "- Desde Python Software Foundation: Versión 3.6 o 3.7\n",
    " - https://www.python.org/downloads/\n",
    "<center>\n",
    "<img src=\"imgs/python_web.png\"  alt=\"drawing\" width=\"500\"/>\n",
    "</center>"
   ]
  },
  {
   "cell_type": "markdown",
   "metadata": {},
   "source": [
    "## Instalación de librerias y entorno de programación"
   ]
  },
  {
   "cell_type": "markdown",
   "metadata": {},
   "source": [
    "<center>\n",
    "<img src=\"imgs/python_environment.png\"  alt=\"drawing\" width=\"500\"/>\n",
    "</center>"
   ]
  },
  {
   "cell_type": "markdown",
   "metadata": {},
   "source": [
    "### Virtual enviroment\n",
    "\n",
    "<center>\n",
    "<img src=\"imgs/venv_2.png\"  alt=\"drawing\" width=\"600\"/>\n",
    "</center>\n",
    "\n",
    "1. Creación del virtual enviroment:\n",
    " * ```\n",
    "python3 -m venv tutorial-env\n",
    "```\n",
    "2. Activar el virtual enviroment:\n",
    " * En Windows, run:\n",
    "```\n",
    "tutorial-env\\Scripts\\activate.bat\n",
    "```\n",
    " * En Unix or MacOS, run:\n",
    "```\n",
    "source tutorial-env/bin/activate\n",
    "```\n",
    "3. Aparecera: (tutorial-env) a la izquierda.\n",
    "4. Instalar las libs en el virtualenviroment:\n",
    " * Para instalar jupyterlab:\n",
    "```\n",
    "pip install jupyterlab\n",
    "```\n",
    "5. Para iniciar jupyterlab:\n",
    "```\n",
    "jupyter-lab\n",
    "```\n",
    "\n",
    "\n",
    "### Requirements file\n",
    "- Para instalar todas las requeridas para el proyecto:\n",
    "```\n",
    "pip install -r requirements.txt\n",
    "```\n",
    "- Ver todas las librerías instaladas:\n",
    "```\n",
    " pip freeze\n",
    "```\n",
    "- Guardar las instaladas en un fichero:\n",
    "```\n",
    " pip freeze > requirements.txt\n",
    "```"
   ]
  },
  {
   "cell_type": "markdown",
   "metadata": {},
   "source": [
    "## Recursos\n",
    "- \"Python for Data Analysis\" by Wes McKinney.\n",
    "<center>\n",
    "<img src=\"imgs/wes.jpg\"  alt=\"drawing\" width=\"300\"/>\n",
    "</center>\n",
    "- Python tutorial: https://docs.python.org/3/tutorial/index.html\n",
    "- Python documentation: https://docs.python.org/3.6/index.html\n",
    "- PEP8:\n",
    "    - https://www.python.org/dev/peps/pep-0008/\n",
    "    - https://pep8.org/\n",
    "- https://gto76.github.io/python-cheatsheet/\n",
    "- https://ehmatthes.github.io/pcc/cheatsheets/README.html"
   ]
  }
 ],
 "metadata": {
  "kernelspec": {
   "display_name": "Python 3",
   "language": "python",
   "name": "python3"
  },
  "language_info": {
   "codemirror_mode": {
    "name": "ipython",
    "version": 3
   },
   "file_extension": ".py",
   "mimetype": "text/x-python",
   "name": "python",
   "nbconvert_exporter": "python",
   "pygments_lexer": "ipython3",
   "version": "3.6.5"
  }
 },
 "nbformat": 4,
 "nbformat_minor": 2
}

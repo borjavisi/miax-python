{
 "cells": [
  {
   "cell_type": "markdown",
   "metadata": {},
   "source": [
    "# Ejercicios Día 1"
   ]
  },
  {
   "cell_type": "markdown",
   "metadata": {},
   "source": [
    "### 1.1. Jupyter Notebooks"
   ]
  },
  {
   "cell_type": "markdown",
   "metadata": {},
   "source": [
    "1.1.1. Crea un notebook nuevo, añade 3 títulos diferentes, un texto y varias celdas de código definiendo y imprimiendo variables."
   ]
  },
  {
   "cell_type": "code",
   "execution_count": null,
   "metadata": {},
   "outputs": [],
   "source": []
  },
  {
   "cell_type": "markdown",
   "metadata": {},
   "source": [
    "___\n",
    "### 1.2. Sintaxis básica, operaciones y tipos básicos"
   ]
  },
  {
   "cell_type": "markdown",
   "metadata": {},
   "source": [
    "**1.2.1.** Escribe un código que solicite al usuario un número n y devuelva el resultado de n + nn + nnn. (Ejemplo: n = 5 daría como resultado 615)."
   ]
  },
  {
   "cell_type": "code",
   "execution_count": null,
   "metadata": {},
   "outputs": [],
   "source": []
  },
  {
   "cell_type": "markdown",
   "metadata": {},
   "source": [
    "**1.2.2.** Escribe un código que permita ver si un input introducido por el usuario es par. Pista: múltiplo de 2."
   ]
  },
  {
   "cell_type": "code",
   "execution_count": null,
   "metadata": {},
   "outputs": [],
   "source": []
  },
  {
   "cell_type": "markdown",
   "metadata": {},
   "source": [
    "**1.2.3.** Calcula el porcentaje necesario de subida para alcanzar el BEP dado un porcentaje de pérdida.\n",
    "\n",
    "Pista: $(1+r_{down})(1+r_{up}) = 1$"
   ]
  },
  {
   "cell_type": "code",
   "execution_count": null,
   "metadata": {},
   "outputs": [],
   "source": []
  },
  {
   "cell_type": "markdown",
   "metadata": {},
   "source": [
    "___"
   ]
  },
  {
   "cell_type": "markdown",
   "metadata": {},
   "source": [
    "### 1.3. Strings"
   ]
  },
  {
   "cell_type": "markdown",
   "metadata": {},
   "source": [
    "**1.3.1.** Introduce la variable ex = ’Python is an interesting and useful language for numerical computing!’. Usando slicing, extrae:\n",
    "    - Python\n",
    "    - !\n",
    "    - computing\n",
    "    - in\n",
    "    - !gnitupmoc laciremun rof egaugnal lufesu dna gnitseretni na si nohtyP - inverso\n",
    "    - nohtyP\n",
    "    - Pto sa neetn n sfllnug o ueia optn!"
   ]
  },
  {
   "cell_type": "code",
   "execution_count": null,
   "metadata": {},
   "outputs": [],
   "source": []
  },
  {
   "cell_type": "markdown",
   "metadata": {},
   "source": [
    "**1.3.2.** Crea un string y cuenta el número de caracteres y las veces que aparece la letra a."
   ]
  },
  {
   "cell_type": "code",
   "execution_count": null,
   "metadata": {},
   "outputs": [],
   "source": []
  },
  {
   "cell_type": "markdown",
   "metadata": {},
   "source": [
    "**1.3.3.** Escriba un programa que “codifique” una frase modificando todas las vocales según el siguiente código: a por 4, e por 3, i por 1, o por 0 y u por el símbolo #. Por ejemplo, la frase: “Un perro del hortelano”, deberá devolverse: “#n p3rr0 d3l h0rt3l4n0”."
   ]
  },
  {
   "cell_type": "code",
   "execution_count": null,
   "metadata": {},
   "outputs": [],
   "source": []
  },
  {
   "cell_type": "markdown",
   "metadata": {},
   "source": [
    "___"
   ]
  },
  {
   "cell_type": "markdown",
   "metadata": {},
   "source": [
    "### 1.4. Estructuras de datos: Lists, Tuples y Sets."
   ]
  },
  {
   "cell_type": "markdown",
   "metadata": {},
   "source": [
    "**1.4.1.** Construye una lista con 5 tickers de acciones españolas."
   ]
  },
  {
   "cell_type": "code",
   "execution_count": null,
   "metadata": {},
   "outputs": [],
   "source": []
  },
  {
   "cell_type": "markdown",
   "metadata": {},
   "source": [
    "**1.4.2.** Asigna la lista del ejercicio anteior a x y después asignala a y = x. Cambia un elemneto de y por otro. ¿Qué le ocurre a x?."
   ]
  },
  {
   "cell_type": "code",
   "execution_count": null,
   "metadata": {},
   "outputs": [],
   "source": []
  },
  {
   "cell_type": "markdown",
   "metadata": {},
   "source": [
    "**1.4.3.** Crea una lista con los números pares entre 1 al 100."
   ]
  },
  {
   "cell_type": "code",
   "execution_count": null,
   "metadata": {},
   "outputs": [],
   "source": []
  },
  {
   "cell_type": "markdown",
   "metadata": {},
   "source": [
    "**1.4.4.** Crea una lista con los números pares entre 300 al 500."
   ]
  },
  {
   "cell_type": "code",
   "execution_count": null,
   "metadata": {},
   "outputs": [],
   "source": []
  },
  {
   "cell_type": "markdown",
   "metadata": {},
   "source": [
    "**1.4.5.** Junta las dos últimas listas."
   ]
  },
  {
   "cell_type": "code",
   "execution_count": null,
   "metadata": {},
   "outputs": [],
   "source": []
  },
  {
   "cell_type": "markdown",
   "metadata": {},
   "source": [
    "**1.4.6.** Construye una lista anidada que contenga la siguiente matriz de forma que el item [i][j] corresponde a la posición de la matriz:\n",
    "\\begin{bmatrix}\n",
    "    1 & .5 \\\\\n",
    "    .5 & 1\n",
    "  \\end{bmatrix}"
   ]
  },
  {
   "cell_type": "code",
   "execution_count": null,
   "metadata": {},
   "outputs": [],
   "source": []
  },
  {
   "cell_type": "markdown",
   "metadata": {},
   "source": [
    "___"
   ]
  },
  {
   "cell_type": "markdown",
   "metadata": {},
   "source": [
    "### 1.5. Estructuras de datos: Diccionarios."
   ]
  },
  {
   "cell_type": "code",
   "execution_count": null,
   "metadata": {},
   "outputs": [],
   "source": []
  },
  {
   "cell_type": "code",
   "execution_count": null,
   "metadata": {},
   "outputs": [],
   "source": []
  },
  {
   "cell_type": "code",
   "execution_count": null,
   "metadata": {},
   "outputs": [],
   "source": []
  },
  {
   "cell_type": "markdown",
   "metadata": {},
   "source": [
    "### 1.6. Control Flow."
   ]
  },
  {
   "cell_type": "markdown",
   "metadata": {},
   "source": [
    "**1.6.1.** Calcula la suma de todos los elementos, entre el 1 y el 200, que sean múltiplos de 3 o de 5."
   ]
  },
  {
   "cell_type": "code",
   "execution_count": null,
   "metadata": {},
   "outputs": [],
   "source": []
  },
  {
   "cell_type": "markdown",
   "metadata": {},
   "source": [
    "**1.6.2.** Crea una lista de enteros, inicializándolos según valores aleatorios en el rango 1..20 y computa la media de los valores, el valor más alto y el más bajo (todo ello utilizando listas). Utiliza las funciones para generación de números aleatorios de Python (https://docs.python.org/dev/library/random.html)."
   ]
  },
  {
   "cell_type": "code",
   "execution_count": null,
   "metadata": {},
   "outputs": [],
   "source": []
  },
  {
   "cell_type": "markdown",
   "metadata": {},
   "source": [
    "**1.6.3.** Implementa una función que a partir de la base imponibe calcule la retención y el tipo marginal teniendo en cuenta los siguientes tramos del IRPF:\n",
    "\n",
    "| Base imponible       | Retención|\n",
    "| ------------- |-------------|\n",
    "| 0 € - 12.450 €      | 19 % |\n",
    "| 12.450 € - 20.200 €      | 24 %    |\n",
    "| 20.200 € - 35.200 € | 30 %   |\n",
    "| 35.200 € - 60.000 € | 37 %    |\n",
    "| Más de 60.000 €| 45 %|"
   ]
  },
  {
   "cell_type": "code",
   "execution_count": null,
   "metadata": {},
   "outputs": [],
   "source": []
  },
  {
   "cell_type": "markdown",
   "metadata": {},
   "source": [
    "### 1.7. Funciones y Módulos."
   ]
  },
  {
   "cell_type": "markdown",
   "metadata": {},
   "source": [
    "**1.7.1.** Escribe una función Python que a partir de una cierta cantidad en euros y del tipo de cambio del día, retorne el equivalente en libras teniendo en cuenta que la casa de cambio retiene una comisión del 2% sobre el total de la operación."
   ]
  },
  {
   "cell_type": "code",
   "execution_count": null,
   "metadata": {},
   "outputs": [],
   "source": []
  },
  {
   "cell_type": "markdown",
   "metadata": {},
   "source": [
    "**1.7.2.** Escribe (y utiliza) una función que calcule el área de un círculo recibiendo como parámetro (opcional de valor por defecto 1) su radio. El módulo math de Python contiene una constante para PI.\n"
   ]
  },
  {
   "cell_type": "code",
   "execution_count": null,
   "metadata": {},
   "outputs": [],
   "source": []
  },
  {
   "cell_type": "markdown",
   "metadata": {},
   "source": [
    "**1.7.3.** Escribe una función que devuelva una lista con n (recibido como parámetro obligatorio) números aleatorios entre 0 y 1 generados con una distribución uniforme. El módulo random de Python contiene una función uniform."
   ]
  },
  {
   "cell_type": "code",
   "execution_count": null,
   "metadata": {},
   "outputs": [],
   "source": []
  },
  {
   "cell_type": "markdown",
   "metadata": {},
   "source": [
    "**1.7.4.** Incluye las dos últimas funciones en un módulo y importalas."
   ]
  },
  {
   "cell_type": "code",
   "execution_count": null,
   "metadata": {},
   "outputs": [],
   "source": []
  },
  {
   "cell_type": "markdown",
   "metadata": {},
   "source": [
    "### 1.8. Escritura de ficheros de texto y guardado de variables."
   ]
  },
  {
   "cell_type": "markdown",
   "metadata": {},
   "source": [
    "**1.8.1.** Abre el fichero tickers.txt y obten los tickers únicos."
   ]
  },
  {
   "cell_type": "code",
   "execution_count": null,
   "metadata": {},
   "outputs": [],
   "source": []
  },
  {
   "cell_type": "markdown",
   "metadata": {},
   "source": [
    "**1.8.2.** Obten el precio y volumen de la cotización de Apple en los últimos 5 años y calcula su precio máximo, mínimo y medio; usa para ello las librerías urllib y json, Guarda los resultados en un pickle. Utiliza los datos de https://api.iextrading.com/1.0/stock/aapl/chart/5y"
   ]
  },
  {
   "cell_type": "code",
   "execution_count": null,
   "metadata": {},
   "outputs": [],
   "source": []
  }
 ],
 "metadata": {
  "kernelspec": {
   "display_name": "Python 3",
   "language": "python",
   "name": "python3"
  },
  "language_info": {
   "codemirror_mode": {
    "name": "ipython",
    "version": 3
   },
   "file_extension": ".py",
   "mimetype": "text/x-python",
   "name": "python",
   "nbconvert_exporter": "python",
   "pygments_lexer": "ipython3",
   "version": "3.6.5"
  }
 },
 "nbformat": 4,
 "nbformat_minor": 2
}

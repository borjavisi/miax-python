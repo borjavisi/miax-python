{
 "cells": [
  {
   "cell_type": "markdown",
   "metadata": {},
   "source": [
    "#  1.4. Estructuras de datos: Lists, Tuples y Sets."
   ]
  },
  {
   "cell_type": "markdown",
   "metadata": {},
   "source": [
    "- Son estructuras para almacenar objetos."
   ]
  },
  {
   "cell_type": "markdown",
   "metadata": {},
   "source": [
    "## Lists"
   ]
  },
  {
   "cell_type": "markdown",
   "metadata": {},
   "source": [
    "- Las listas son la estructura más usada.\n",
    "- Secuencia de datos separados por coma entre corchetes.\n",
    "- Se pude acceder a estos datos a partir de índice.\n",
    "- Se declaran con 'list' o '[]'."
   ]
  },
  {
   "cell_type": "code",
   "execution_count": null,
   "metadata": {
    "collapsed": false
   },
   "outputs": [],
   "source": [
    "a = []"
   ]
  },
  {
   "cell_type": "code",
   "execution_count": null,
   "metadata": {
    "collapsed": false
   },
   "outputs": [],
   "source": [
    "type(a)"
   ]
  },
  {
   "cell_type": "code",
   "execution_count": null,
   "metadata": {},
   "outputs": [],
   "source": [
    "a = list()"
   ]
  },
  {
   "cell_type": "code",
   "execution_count": null,
   "metadata": {},
   "outputs": [],
   "source": [
    "type(a)"
   ]
  },
  {
   "cell_type": "markdown",
   "metadata": {},
   "source": [
    "- Se puede asignar directamente los datos:"
   ]
  },
  {
   "cell_type": "code",
   "execution_count": null,
   "metadata": {
    "collapsed": false
   },
   "outputs": [],
   "source": [
    "x = ['apple', 'orange']"
   ]
  },
  {
   "cell_type": "markdown",
   "metadata": {},
   "source": [
    "### Indexing"
   ]
  },
  {
   "cell_type": "markdown",
   "metadata": {},
   "source": [
    "- El índice empieza con 0 como en los strings."
   ]
  },
  {
   "cell_type": "code",
   "execution_count": null,
   "metadata": {
    "collapsed": false
   },
   "outputs": [],
   "source": [
    "x[0]"
   ]
  },
  {
   "cell_type": "code",
   "execution_count": null,
   "metadata": {},
   "outputs": [],
   "source": [
    "x[1]"
   ]
  },
  {
   "cell_type": "markdown",
   "metadata": {},
   "source": [
    "- Puede accederse en orden inverso\n",
    "- El último elemento se puede acceder el primero."
   ]
  },
  {
   "cell_type": "code",
   "execution_count": null,
   "metadata": {
    "collapsed": false
   },
   "outputs": [],
   "source": [
    "x[-1]"
   ]
  },
  {
   "cell_type": "code",
   "execution_count": null,
   "metadata": {},
   "outputs": [],
   "source": [
    "x[-2]"
   ]
  },
  {
   "cell_type": "markdown",
   "metadata": {},
   "source": [
    "- Observa que: x[0] = x[-2], x[1] = x[-1].\n",
    "- Este comportamiento es válido para todos los elementos."
   ]
  },
  {
   "cell_type": "markdown",
   "metadata": {},
   "source": [
    "- Las listas pueden tener otras listas dento. A este concepto se le denomina: *nested lists*\n",
    "- Esta manera es como veremos la forma de declarar arrays en numpy."
   ]
  },
  {
   "cell_type": "code",
   "execution_count": null,
   "metadata": {
    "collapsed": false
   },
   "outputs": [],
   "source": [
    "y = ['carrot','potato']"
   ]
  },
  {
   "cell_type": "code",
   "execution_count": null,
   "metadata": {
    "collapsed": false
   },
   "outputs": [],
   "source": [
    "z  = [x, y]\n",
    "print(z)"
   ]
  },
  {
   "cell_type": "markdown",
   "metadata": {},
   "source": [
    "- Indexing en nested lists puede ser confuso.\n",
    "- En la primera lista, índice 0, tenemos x: ['apple','orange']  y en la segunda, índice 1 tenemos y: ['carrot','potato']."
   ]
  },
  {
   "cell_type": "code",
   "execution_count": null,
   "metadata": {
    "collapsed": false
   },
   "outputs": [],
   "source": [
    "print(z[0][1])"
   ]
  },
  {
   "cell_type": "code",
   "execution_count": null,
   "metadata": {},
   "outputs": [],
   "source": [
    "print(z[1][1])"
   ]
  },
  {
   "cell_type": "markdown",
   "metadata": {},
   "source": [
    "- Las listas no tienen por que ser homogeneas.\n",
    "- Cada elemento puede ser de un tipo diferente."
   ]
  },
  {
   "cell_type": "code",
   "execution_count": null,
   "metadata": {
    "collapsed": false
   },
   "outputs": [],
   "source": [
    "[\"this is a valid list\", 2, 3.6, (1+2j), [\"a\", \"sublist\"]]"
   ]
  },
  {
   "cell_type": "markdown",
   "metadata": {},
   "source": [
    "- La forma correcta de partir las listas según PEP es la siguinte:"
   ]
  },
  {
   "cell_type": "code",
   "execution_count": null,
   "metadata": {},
   "outputs": [],
   "source": [
    "lista = [\n",
    "    \"this is a valid list\",\n",
    "    2,\n",
    "    3.6,\n",
    "    (1+2j), \n",
    "    [\"a\", \"sublist\"],\n",
    "]"
   ]
  },
  {
   "cell_type": "markdown",
   "metadata": {},
   "source": [
    "### Slicing"
   ]
  },
  {
   "cell_type": "markdown",
   "metadata": {},
   "source": [
    "- Indexing no está limitado a un solo elemento.\n",
    "- Slicing permite acceder a una sequencia de datos del interior de la lista.\n",
    "- Se realiza definiendo el índice del primer y el último elemento que requerimos.\n",
    "- Se escribe de la siguiente manera: [ a : b ], donde a y b son los índices del primer y último (sin incluir) que queremos extraer.\n",
    "- Si no se definen a o b, se considera el primero y el último."
   ]
  },
  {
   "cell_type": "code",
   "execution_count": null,
   "metadata": {
    "collapsed": false
   },
   "outputs": [],
   "source": [
    "num = [0, 1, 2, 3, 4, 5, 6, 7, 8, 9, 10]\n",
    "print(num[0:4])\n",
    "print(num[4:])"
   ]
  },
  {
   "cell_type": "markdown",
   "metadata": {},
   "source": [
    "- Se puede incluir un tercer parámetro [a:step:b] para ir extrayendo los elementos con saltos de longitud step."
   ]
  },
  {
   "cell_type": "code",
   "execution_count": null,
   "metadata": {
    "collapsed": false
   },
   "outputs": [],
   "source": [
    "num[1:9:3]"
   ]
  },
  {
   "cell_type": "markdown",
   "metadata": {},
   "source": [
    "### Unpacking\n",
    "- Podemos sacar los objetos de dentro de la lista a variables indivudalmente.\n",
    "- A esta operación se la denomina *unpacking*"
   ]
  },
  {
   "cell_type": "code",
   "execution_count": null,
   "metadata": {},
   "outputs": [],
   "source": [
    "a, b, c = [1, 2, 3]"
   ]
  },
  {
   "cell_type": "code",
   "execution_count": null,
   "metadata": {},
   "outputs": [],
   "source": [
    "print(a, b, c)"
   ]
  },
  {
   "cell_type": "markdown",
   "metadata": {},
   "source": [
    "### Range function\n",
    "- La función **range()** sirve para generar listas de números enteros.\n",
    "* range(n) =  0, 1, ..., n-1\n",
    "* range(m,n)= m, m+1, ..., n-1\n",
    "* range(m,n,s)= m, m+s, m+2s, ..., m + ((n-m-1)//s) * s\n",
    "\n",
    "```python\n",
    "<range> = range(to_exclusive)\n",
    "<range> = range(from_inclusive, to_exclusive)\n",
    "<range> = range(from_inclusive, to_exclusive, ±step_size)\n",
    "```"
   ]
  },
  {
   "cell_type": "code",
   "execution_count": null,
   "metadata": {},
   "outputs": [],
   "source": [
    "range(10)"
   ]
  },
  {
   "cell_type": "code",
   "execution_count": null,
   "metadata": {},
   "outputs": [],
   "source": [
    "list(range(10))"
   ]
  },
  {
   "cell_type": "code",
   "execution_count": null,
   "metadata": {},
   "outputs": [],
   "source": [
    "list(range(2, 10))"
   ]
  },
  {
   "cell_type": "code",
   "execution_count": null,
   "metadata": {},
   "outputs": [],
   "source": [
    "list(range(3, 10, 3))"
   ]
  },
  {
   "cell_type": "markdown",
   "metadata": {},
   "source": [
    "### Built in List Functions"
   ]
  },
  {
   "cell_type": "markdown",
   "metadata": {},
   "source": [
    "```python\n",
    "<list> = <list>[from_inclusive : to_exclusive : ±step_size]\n",
    "```\n",
    "\n",
    "```python\n",
    "<list>.append(<el>)            # Or: <list> += [<el>]\n",
    "<list>.extend(<collection>)    # Or: <list> += <collection>\n",
    "```\n",
    "\n",
    "```python\n",
    "<list>.sort()\n",
    "<list>.reverse()\n",
    "<list> = sorted(<collection>)\n",
    "<iter> = reversed(<list>)\n",
    "```\n",
    "\n",
    "```python\n",
    "sum_of_elements  = sum(<collection>)\n",
    "elementwise_sum  = [sum(pair) for pair in zip(list_a, list_b)]\n",
    "sorted_by_second = sorted(<collection>, key=lambda el: el[1])\n",
    "sorted_by_both   = sorted(<collection>, key=lambda el: (el[1], el[0]))\n",
    "flatter_list     = list(itertools.chain.from_iterable(<list>))\n",
    "product_of_elems = functools.reduce(lambda out, x: out * x, <collection>)\n",
    "list_of_chars    = list(<str>)\n",
    "```\n",
    "\n",
    "```python\n",
    "index = <list>.index(<el>)     # Returns first index of item.\n",
    "<list>.insert(index, <el>)     # Inserts item at index and moves the rest to the right.\n",
    "<el> = <list>.pop([index])     # Removes and returns item at index or from the end.\n",
    "<list>.remove(<el>)            # Removes first occurrence of item or raises ValueError.\n",
    "<list>.clear()                 # Removes all items.\n",
    "```\n"
   ]
  },
  {
   "cell_type": "markdown",
   "metadata": {},
   "source": [
    "- **len(x)** para obtener el número de elementos en la lista."
   ]
  },
  {
   "cell_type": "code",
   "execution_count": null,
   "metadata": {
    "collapsed": false
   },
   "outputs": [],
   "source": [
    "len(num)"
   ]
  },
  {
   "cell_type": "markdown",
   "metadata": {},
   "source": [
    "- Si la lista está compuesta de números enteros:\n",
    " - **min( )** y **max( )** devuelve el máximo y mínimo valor.\n",
    " - **sum** suma todos los elementos."
   ]
  },
  {
   "cell_type": "code",
   "execution_count": null,
   "metadata": {
    "collapsed": false
   },
   "outputs": [],
   "source": [
    "print(\"min =\", min(num),\"  max =\", max(num), \"  total =\", sum(num))"
   ]
  },
  {
   "cell_type": "code",
   "execution_count": null,
   "metadata": {
    "collapsed": false
   },
   "outputs": [],
   "source": [
    "max(num)"
   ]
  },
  {
   "cell_type": "markdown",
   "metadata": {},
   "source": [
    "- Las listas se pueden concatenar con '+'.\n",
    "- Otra opción para concatenar, serí utilizar el operador *unpacking* [*list_1, *list_2]\n",
    "- El resultado no es una *nested list*."
   ]
  },
  {
   "cell_type": "code",
   "execution_count": null,
   "metadata": {
    "collapsed": false
   },
   "outputs": [],
   "source": [
    "[1, 2, 3] + [5, 4, 7]"
   ]
  },
  {
   "cell_type": "code",
   "execution_count": null,
   "metadata": {},
   "outputs": [],
   "source": [
    "a = [1, 2, 3]\n",
    "b = [5, 4, 7]\n",
    "[*a, *b]"
   ]
  },
  {
   "cell_type": "markdown",
   "metadata": {},
   "source": [
    "- Para saber si un elemento está en una lista podemos usar el operador **in**."
   ]
  },
  {
   "cell_type": "code",
   "execution_count": null,
   "metadata": {
    "collapsed": false
   },
   "outputs": [],
   "source": [
    "names = ['Earth', 'Air', 'Fire', 'Water']"
   ]
  },
  {
   "cell_type": "code",
   "execution_count": null,
   "metadata": {
    "collapsed": false
   },
   "outputs": [],
   "source": [
    "'Fire' in names"
   ]
  },
  {
   "cell_type": "code",
   "execution_count": null,
   "metadata": {
    "collapsed": false
   },
   "outputs": [],
   "source": [
    "'Space' in names"
   ]
  },
  {
   "cell_type": "markdown",
   "metadata": {},
   "source": [
    "- Si la lista es de string.\n",
    " - **max(list)** y **min(list)** retornar el primer y último elemento en orden léxico (por valor ASCII)"
   ]
  },
  {
   "cell_type": "code",
   "execution_count": null,
   "metadata": {
    "collapsed": false
   },
   "outputs": [],
   "source": [
    "mlist = ['bzaa', 'ds', 'nc', 'az', 'z', 'klm', 'zz']\n",
    "print(\"max =\", max(mlist))\n",
    "print(\"min =\", min(mlist))"
   ]
  },
  {
   "cell_type": "markdown",
   "metadata": {},
   "source": [
    "- Si los números son strings sigue funcionando."
   ]
  },
  {
   "cell_type": "code",
   "execution_count": null,
   "metadata": {
    "collapsed": false
   },
   "outputs": [],
   "source": [
    "nlist = ['1', '94', '93', '1000']\n",
    "print(\"max =\", max(nlist))\n",
    "print('min =', min(nlist))"
   ]
  },
  {
   "cell_type": "markdown",
   "metadata": {},
   "source": [
    "- **max(list, key=fun)**  tiene un parámetro key, donde se especifica una función que retorne una clave.\n",
    "- Para encontra el elemento más largo podemos usar `len`."
   ]
  },
  {
   "cell_type": "code",
   "execution_count": null,
   "metadata": {
    "collapsed": false
   },
   "outputs": [],
   "source": [
    "print('longest =', max(mlist, key=len))\n",
    "print('shortest =', min(mlist, key=len))"
   ]
  },
  {
   "cell_type": "markdown",
   "metadata": {},
   "source": [
    "- **list.sort()** ordena los elementos de la lista.\n",
    "- Se le puede pasar también una funcíon con el argumento **key**, **list.sort(key=fun)**.\n",
    "- La operación se realiza inplace, la función no devuelve nada, la lista se ordena internamente."
   ]
  },
  {
   "cell_type": "code",
   "execution_count": null,
   "metadata": {},
   "outputs": [],
   "source": [
    "mlist.sort()"
   ]
  },
  {
   "cell_type": "code",
   "execution_count": null,
   "metadata": {},
   "outputs": [],
   "source": [
    "mlist"
   ]
  },
  {
   "cell_type": "code",
   "execution_count": null,
   "metadata": {},
   "outputs": [],
   "source": [
    "mlist.sort(key=len)"
   ]
  },
  {
   "cell_type": "code",
   "execution_count": null,
   "metadata": {},
   "outputs": [],
   "source": [
    "mlist"
   ]
  },
  {
   "cell_type": "markdown",
   "metadata": {},
   "source": [
    "- Un string se puede convertir a una lista usando el operador **list()**\n",
    "- El método de la clase string **string.split()**, da una lista con los string separados por espacio o con el separador que se le pase: **string.split(sep)**"
   ]
  },
  {
   "cell_type": "code",
   "execution_count": null,
   "metadata": {},
   "outputs": [],
   "source": [
    "list('hello world !')"
   ]
  },
  {
   "cell_type": "code",
   "execution_count": null,
   "metadata": {},
   "outputs": [],
   "source": [
    "'Hello   World !!'.split()"
   ]
  },
  {
   "cell_type": "code",
   "execution_count": null,
   "metadata": {
    "collapsed": false
   },
   "outputs": [],
   "source": [
    "'Hello   World !!'.split('l')"
   ]
  },
  {
   "cell_type": "markdown",
   "metadata": {},
   "source": [
    "- **list.append(list)** para añadir un elemento al final de la lista."
   ]
  },
  {
   "cell_type": "code",
   "execution_count": null,
   "metadata": {
    "collapsed": false
   },
   "outputs": [],
   "source": [
    "lst = [1, 1, 4, 8, 7]\n",
    "lst.append(1)\n",
    "print(lst)"
   ]
  },
  {
   "cell_type": "markdown",
   "metadata": {},
   "source": [
    "- Añadir una lista a otra con *append* crea una nested list.\n",
    "- Para evitar este comportamiente usar  **list.extend(list)** "
   ]
  },
  {
   "cell_type": "code",
   "execution_count": null,
   "metadata": {},
   "outputs": [],
   "source": [
    "list_1 = [1, 1, 4, 8, 7]\n",
    "list_2 = [10, 11, 12]"
   ]
  },
  {
   "cell_type": "code",
   "execution_count": null,
   "metadata": {},
   "outputs": [],
   "source": [
    "list_1.append(list_2)"
   ]
  },
  {
   "cell_type": "code",
   "execution_count": null,
   "metadata": {},
   "outputs": [],
   "source": [
    "list_1"
   ]
  },
  {
   "cell_type": "code",
   "execution_count": null,
   "metadata": {},
   "outputs": [],
   "source": [
    "list_1 = [1, 1, 4, 8, 7]\n",
    "list_2 = [10, 11, 12]"
   ]
  },
  {
   "cell_type": "code",
   "execution_count": null,
   "metadata": {},
   "outputs": [],
   "source": [
    "list_1.extend(list_2)"
   ]
  },
  {
   "cell_type": "code",
   "execution_count": null,
   "metadata": {
    "collapsed": false
   },
   "outputs": [],
   "source": [
    "list_1"
   ]
  },
  {
   "cell_type": "markdown",
   "metadata": {},
   "source": [
    "- **count(list_1)** cuenta el número de veces que el elementos aparece en la lista."
   ]
  },
  {
   "cell_type": "code",
   "execution_count": null,
   "metadata": {
    "collapsed": false
   },
   "outputs": [],
   "source": [
    "list_1.count(1)"
   ]
  },
  {
   "cell_type": "markdown",
   "metadata": {},
   "source": [
    "- **list.index(val)** se usa para encontrar el índice del elemento **val** en la lista.\n",
    "- Si hay múltiples elementos con el mismo valor da el índice del primero."
   ]
  },
  {
   "cell_type": "code",
   "execution_count": null,
   "metadata": {
    "collapsed": false
   },
   "outputs": [],
   "source": [
    "lst.index(1)"
   ]
  },
  {
   "cell_type": "markdown",
   "metadata": {},
   "source": [
    "- **list.insert(ele, pos)** inserta un elemento, **ele** en la posición **pos**.\n",
    "- **list.append(ele)** es equivalente a  **list.insert(ele, len(list))** "
   ]
  },
  {
   "cell_type": "code",
   "execution_count": null,
   "metadata": {
    "collapsed": false
   },
   "outputs": [],
   "source": [
    "lst.insert(5, 'name')\n",
    "print(lst)"
   ]
  },
  {
   "cell_type": "markdown",
   "metadata": {},
   "source": [
    "- **list.insert(ele, pos)** no remplaza.\n",
    "- Para remplazar **list[pos] = ele**\n"
   ]
  },
  {
   "cell_type": "code",
   "execution_count": null,
   "metadata": {
    "collapsed": false
   },
   "outputs": [],
   "source": [
    "lst[5] = 'Python'\n",
    "print(lst)"
   ]
  },
  {
   "cell_type": "markdown",
   "metadata": {},
   "source": [
    "- **list.pop()** devuelve el último elemento de la lista.\n",
    "- El elemento se elimina de la lista.\n",
    "- Se puede especificar un índice **list.pop(idx)**"
   ]
  },
  {
   "cell_type": "code",
   "execution_count": null,
   "metadata": {
    "collapsed": false
   },
   "outputs": [],
   "source": [
    "lst.pop()"
   ]
  },
  {
   "cell_type": "code",
   "execution_count": null,
   "metadata": {},
   "outputs": [],
   "source": [
    "lst"
   ]
  },
  {
   "cell_type": "markdown",
   "metadata": {},
   "source": [
    "- Se puede eliminar un elemento en concreto con **list.remove(ele)**\n",
    "- Se puede eliminar un elemento sabiendo el índice con del lst[1]."
   ]
  },
  {
   "cell_type": "code",
   "execution_count": null,
   "metadata": {},
   "outputs": [],
   "source": [
    "lst = ['Python', 'rocks!']"
   ]
  },
  {
   "cell_type": "code",
   "execution_count": null,
   "metadata": {
    "collapsed": false
   },
   "outputs": [],
   "source": [
    "lst.remove('Python')\n",
    "print(lst)"
   ]
  },
  {
   "cell_type": "code",
   "execution_count": null,
   "metadata": {
    "collapsed": false
   },
   "outputs": [],
   "source": [
    "del lst[0]\n",
    "print(lst)"
   ]
  },
  {
   "cell_type": "markdown",
   "metadata": {},
   "source": [
    "- Los elementos de la lista pueden ser revertidos usando **list.reverse()**.\n",
    "- Las nested list se tratan como un único elemento."
   ]
  },
  {
   "cell_type": "code",
   "execution_count": null,
   "metadata": {},
   "outputs": [],
   "source": [
    "lst = list(range(10))\n",
    "print(lst)"
   ]
  },
  {
   "cell_type": "code",
   "execution_count": null,
   "metadata": {
    "collapsed": false
   },
   "outputs": [],
   "source": [
    "lst.reverse()\n",
    "print(lst)"
   ]
  },
  {
   "cell_type": "markdown",
   "metadata": {},
   "source": [
    "- **list.sort()** ordena la lista de manera ascendente.\n",
    "- **list.sort(reverse=True)** ordena la lista de manera descendente.\n",
    "- **list.sort(key=fun)** se puede pasar una función para ordenar.\n",
    "- La operación es *inplace*.\n",
    "- Para obtener una copia ordenanda usar **sorted(list)**, también con parámetros **key** y **reverse**."
   ]
  },
  {
   "cell_type": "code",
   "execution_count": null,
   "metadata": {
    "collapsed": false
   },
   "outputs": [],
   "source": [
    "lst.sort()\n",
    "print(lst)"
   ]
  },
  {
   "cell_type": "code",
   "execution_count": null,
   "metadata": {},
   "outputs": [],
   "source": [
    "print(sorted([3, 2, 1]))"
   ]
  },
  {
   "cell_type": "code",
   "execution_count": null,
   "metadata": {
    "collapsed": false
   },
   "outputs": [],
   "source": [
    "lst.sort(reverse=True)\n",
    "print(lst)"
   ]
  },
  {
   "cell_type": "markdown",
   "metadata": {},
   "source": [
    "- Para listas que contienen strings  **sort( )** ordena los elementos de forma ascendente por valor ASCII."
   ]
  },
  {
   "cell_type": "code",
   "execution_count": null,
   "metadata": {},
   "outputs": [],
   "source": [
    "names = ['Air', 'Earth', 'Fire', 'Water']"
   ]
  },
  {
   "cell_type": "code",
   "execution_count": null,
   "metadata": {
    "collapsed": false
   },
   "outputs": [],
   "source": [
    "names.sort()\n",
    "print(names)"
   ]
  },
  {
   "cell_type": "code",
   "execution_count": null,
   "metadata": {},
   "outputs": [],
   "source": [
    "names.sort(reverse=True)\n",
    "print(names)"
   ]
  },
  {
   "cell_type": "code",
   "execution_count": null,
   "metadata": {
    "collapsed": false
   },
   "outputs": [],
   "source": [
    "names.sort(key=len)\n",
    "print(names)"
   ]
  },
  {
   "cell_type": "code",
   "execution_count": null,
   "metadata": {},
   "outputs": [],
   "source": [
    "print(sorted(names,key=len,reverse=True))"
   ]
  },
  {
   "cell_type": "markdown",
   "metadata": {},
   "source": [
    "### Copia de listas"
   ]
  },
  {
   "cell_type": "markdown",
   "metadata": {},
   "source": [
    "- La asignación de una lista a una variable no implica la copia de la misma.\n",
    "- Una variable es una referencia a la lista.\n",
    "- Induce a errores al principio."
   ]
  },
  {
   "cell_type": "code",
   "execution_count": null,
   "metadata": {
    "collapsed": false
   },
   "outputs": [],
   "source": [
    "list_a = [2, 1, 4, 3]\n",
    "list_b = list_a"
   ]
  },
  {
   "cell_type": "code",
   "execution_count": null,
   "metadata": {},
   "outputs": [],
   "source": [
    "print(list_a)"
   ]
  },
  {
   "cell_type": "code",
   "execution_count": null,
   "metadata": {},
   "outputs": [],
   "source": [
    "print(list_b)"
   ]
  },
  {
   "cell_type": "code",
   "execution_count": null,
   "metadata": {},
   "outputs": [],
   "source": [
    "# realizamos operaciones el list_a\n",
    "list_a.sort()\n",
    "list_a.pop()\n",
    "list_a.append(9)"
   ]
  },
  {
   "cell_type": "code",
   "execution_count": null,
   "metadata": {
    "collapsed": false
   },
   "outputs": [],
   "source": [
    "print(f\"A = {list_a}\")\n",
    "print(f\"B = {list_b}\")"
   ]
  },
  {
   "cell_type": "markdown",
   "metadata": {},
   "source": [
    "- Ambas listas han cambiado.\n",
    "- Las dos variables están asignadas al mismo espacio de la memoria.\n",
    "- Uno de los métodos para copiar es usar un *slide* completo de la lista: **list_b = list_a[:]**\n"
   ]
  },
  {
   "cell_type": "code",
   "execution_count": null,
   "metadata": {
    "collapsed": false
   },
   "outputs": [],
   "source": [
    "list_a = [2, 1, 4, 3]\n",
    "list_b = list_a[:] # make a copy by taking a slice from beginning to end\n",
    "print(\"Starting with:\")\n",
    "print(f\"A = {list_a}\")\n",
    "print(f\"B = {list_b}\")\n",
    "list_a.sort()\n",
    "list_a.pop()\n",
    "list_a.append(9)\n",
    "print(\"Finnished with:\")\n",
    "print(f\"A = {list_a}\")\n",
    "print(f\"B = {list_b}\")"
   ]
  },
  {
   "cell_type": "markdown",
   "metadata": {},
   "source": [
    "### List comprehension\n",
    "- Una opción de Python muy potente y usada para definir listas (también aplicable para tuplas y dicts) es la posibilidad de definir listas usado *list comprehension*.\n",
    "- Usamos un bucle para definir la lista."
   ]
  },
  {
   "cell_type": "code",
   "execution_count": null,
   "metadata": {
    "collapsed": false
   },
   "outputs": [],
   "source": [
    "# definimos una lista a partir de otra iterándola y elevando al cuadrado cada elemento\n",
    "[i**2 for i in [1, 2, 3]]"
   ]
  },
  {
   "cell_type": "markdown",
   "metadata": {},
   "source": [
    "- Incluso podemos filtrar con un **if** despues del **for**."
   ]
  },
  {
   "cell_type": "code",
   "execution_count": null,
   "metadata": {},
   "outputs": [],
   "source": [
    "[i**2 for i in [1, 2, 3] if i > 1]"
   ]
  },
  {
   "cell_type": "markdown",
   "metadata": {},
   "source": [
    "- Podemos realizar esta iteración sobre más de un objeto."
   ]
  },
  {
   "cell_type": "code",
   "execution_count": null,
   "metadata": {
    "collapsed": false
   },
   "outputs": [],
   "source": [
    "[10*i+j for i in [1, 2, 3] for j in [5, 7]]"
   ]
  },
  {
   "cell_type": "code",
   "execution_count": null,
   "metadata": {
    "collapsed": false
   },
   "outputs": [],
   "source": [
    "[10*i+j for i in [1,2,3] if i%2==1 for j in [4,5,7] if j >= i+4] # keep odd i and  j larger than i+3 only"
   ]
  },
  {
   "cell_type": "markdown",
   "metadata": {},
   "source": [
    "## Tuples"
   ]
  },
  {
   "cell_type": "markdown",
   "metadata": {},
   "source": [
    "- Las tuplas son como las lisas, con la diferencia de ser inmutables.\n",
    "- Los elementos de la lista no pueden ser modificados.\n",
    "- Piensa en situaciones donde los elementos no deben de ser cambiados (ej: resultados de una función).\n",
    "- Para definirlas: **()** o **tuple**."
   ]
  },
  {
   "cell_type": "code",
   "execution_count": null,
   "metadata": {
    "collapsed": false
   },
   "outputs": [],
   "source": [
    "tup_1 = ()\n",
    "tup_2 = tuple()"
   ]
  },
  {
   "cell_type": "code",
   "execution_count": null,
   "metadata": {},
   "outputs": [],
   "source": [
    "type(tup_1)"
   ]
  },
  {
   "cell_type": "markdown",
   "metadata": {},
   "source": [
    "- Con una coma al final del objeto se genera también una tupla."
   ]
  },
  {
   "cell_type": "code",
   "execution_count": null,
   "metadata": {
    "collapsed": false
   },
   "outputs": [],
   "source": [
    "27,"
   ]
  },
  {
   "cell_type": "markdown",
   "metadata": {},
   "source": [
    "- Si multiplicamos la expresión se crea una tupla con tantas veces ese valor."
   ]
  },
  {
   "cell_type": "code",
   "execution_count": null,
   "metadata": {
    "collapsed": false
   },
   "outputs": [],
   "source": [
    "2*(27,)"
   ]
  },
  {
   "cell_type": "markdown",
   "metadata": {},
   "source": [
    "- Podemos asignar valores como en las listas."
   ]
  },
  {
   "cell_type": "code",
   "execution_count": null,
   "metadata": {},
   "outputs": [],
   "source": [
    "tup_3 = (1, 2, 3)\n",
    "print(tup_3)"
   ]
  },
  {
   "cell_type": "code",
   "execution_count": null,
   "metadata": {},
   "outputs": [],
   "source": [
    "tup_4 = tuple([1, 2, 3])\n",
    "print(tup_4)"
   ]
  },
  {
   "cell_type": "code",
   "execution_count": null,
   "metadata": {
    "collapsed": false,
    "scrolled": true
   },
   "outputs": [],
   "source": [
    "tup_5 = tuple('Hello')\n",
    "print(tup4)"
   ]
  },
  {
   "cell_type": "markdown",
   "metadata": {},
   "source": [
    "- Sigue las mismas reglas de *indexing* y *slicing* que las listas."
   ]
  },
  {
   "cell_type": "code",
   "execution_count": null,
   "metadata": {
    "collapsed": false
   },
   "outputs": [],
   "source": [
    "print(tup_3[1])\n",
    "tup_6 = tup_5[:3]\n",
    "print(tup_6)"
   ]
  },
  {
   "cell_type": "markdown",
   "metadata": {},
   "source": [
    "### Mapping tuplas\n",
    "- Las tuplas pueden ser usadas en la derecha de una asignación.\n",
    "- Tienen que tener la longitud correcta."
   ]
  },
  {
   "cell_type": "code",
   "execution_count": null,
   "metadata": {},
   "outputs": [],
   "source": [
    "(a, b, c) = ('alpha', 'beta', 'gamma') # are optional\n",
    "print(a,b,c)\n",
    "a, b, c = 'alpha', 'beta', 'gamma' # The same as the above \n",
    "print(a,b,c)"
   ]
  },
  {
   "cell_type": "code",
   "execution_count": null,
   "metadata": {
    "collapsed": false
   },
   "outputs": [],
   "source": [
    "# can assign lists\n",
    "a, b, c = ['Alpha', 'Beta', 'Gamma'] \n",
    "print(a, b, c)\n",
    "# even this is OK - Not Recomended\n",
    "[a, b, c]=('this', 'is', 'ok') \n",
    "print(a, b, c)"
   ]
  },
  {
   "cell_type": "code",
   "execution_count": null,
   "metadata": {},
   "outputs": [],
   "source": [
    "# El más usado\n",
    "a, b, c = 'alpha', 'beta', 'gamma'"
   ]
  },
  {
   "cell_type": "code",
   "execution_count": null,
   "metadata": {
    "collapsed": false
   },
   "outputs": [],
   "source": [
    "# podemos usar unpackings más complicados obteniendo todos los valores posibles\n",
    "(w, (x, y), z)=(1,(2,3),4)\n",
    "print(w, x, y, z)\n",
    "(w, xy, z)=(1, (2,3), 4)\n",
    "print(w, xy, z) # notice that xy is now a tuple"
   ]
  },
  {
   "cell_type": "markdown",
   "metadata": {},
   "source": [
    "- Con *_ podemos obtener el primero, el último o ambos.\n",
    "- Muy útil para funciones que devuelven valores que no necesitamos."
   ]
  },
  {
   "cell_type": "code",
   "execution_count": null,
   "metadata": {},
   "outputs": [],
   "source": [
    "a, b, c, d = 'alpha', 'beta', 'gamma', 'delta'\n",
    "print(a, b, c, d)"
   ]
  },
  {
   "cell_type": "code",
   "execution_count": null,
   "metadata": {},
   "outputs": [],
   "source": [
    "first, *_ = 'alpha', 'beta', 'gamma', 'delta'\n",
    "print(a)"
   ]
  },
  {
   "cell_type": "code",
   "execution_count": null,
   "metadata": {},
   "outputs": [],
   "source": [
    "*_, last = 'alpha', 'beta', 'gamma', 'delta'\n",
    "print(last)"
   ]
  },
  {
   "cell_type": "code",
   "execution_count": null,
   "metadata": {},
   "outputs": [],
   "source": [
    "first, *_, last = 'alpha', 'beta', 'gamma', 'delta'\n",
    "print(f'First: {first} Last: {last}')"
   ]
  },
  {
   "cell_type": "markdown",
   "metadata": {},
   "source": [
    "### Built In Tuple functions"
   ]
  },
  {
   "cell_type": "markdown",
   "metadata": {},
   "source": [
    "- Similares a las listas, menos los que modifican.\n",
    "- **tuple.count(ele)** cuenta el número de elementos **ele**."
   ]
  },
  {
   "cell_type": "code",
   "execution_count": null,
   "metadata": {
    "collapsed": false
   },
   "outputs": [],
   "source": [
    "d = tuple('a string with many \"a\"s')\n",
    "d.count('a')"
   ]
  },
  {
   "cell_type": "markdown",
   "metadata": {},
   "source": [
    "- **tuple.index(ele)** da el índice del elemento **ele**."
   ]
  },
  {
   "cell_type": "code",
   "execution_count": null,
   "metadata": {
    "collapsed": false
   },
   "outputs": [],
   "source": [
    "d.index('a')"
   ]
  },
  {
   "cell_type": "markdown",
   "metadata": {},
   "source": [
    "## Strings"
   ]
  },
  {
   "cell_type": "markdown",
   "metadata": {},
   "source": [
    "- Los strings puden ser tratados como listas o tuplas."
   ]
  },
  {
   "cell_type": "code",
   "execution_count": null,
   "metadata": {},
   "outputs": [],
   "source": [
    "str_1 = 'Taj Mahal is beautiful'"
   ]
  },
  {
   "cell_type": "code",
   "execution_count": null,
   "metadata": {},
   "outputs": [],
   "source": [
    "# list of lower case charactes\n",
    "print([x for x in str_1 if x.islower()])"
   ]
  },
  {
   "cell_type": "code",
   "execution_count": null,
   "metadata": {},
   "outputs": [],
   "source": [
    "# list of words\n",
    "words = str_1.split() \n",
    "print(f\"Words are: {words}\")"
   ]
  },
  {
   "cell_type": "code",
   "execution_count": null,
   "metadata": {},
   "outputs": [],
   "source": [
    "# add -- between words \n",
    "print(\"--\".join(words))"
   ]
  },
  {
   "cell_type": "code",
   "execution_count": null,
   "metadata": {},
   "outputs": [],
   "source": [
    "# capitalise words\n",
    "cap_words = [w.capitalize() for w in words]\n",
    "cap_str = \" \".join(cap_words) \n",
    "print(cap_str)"
   ]
  },
  {
   "cell_type": "markdown",
   "metadata": {},
   "source": [
    "- String *Indexing* y *Slicing* similar a las listas."
   ]
  },
  {
   "cell_type": "code",
   "execution_count": null,
   "metadata": {},
   "outputs": [],
   "source": [
    "print(str_1[4])\n",
    "print(str_1[4:])"
   ]
  },
  {
   "cell_type": "markdown",
   "metadata": {},
   "source": [
    "## Sets"
   ]
  },
  {
   "cell_type": "markdown",
   "metadata": {},
   "source": [
    "- Los sets se usan para eliminar los elementos repetidos en una sequencia/lista.\n",
    "- Se pueden realizar operacioness sobre ellos como unión, intersección, etc.\n",
    "- Declarados con `set()`, `{}` o `set([sequence])`\n"
   ]
  },
  {
   "cell_type": "code",
   "execution_count": null,
   "metadata": {
    "collapsed": false
   },
   "outputs": [],
   "source": [
    "set_0 = set()\n",
    "print(type(set_0))"
   ]
  },
  {
   "cell_type": "code",
   "execution_count": null,
   "metadata": {},
   "outputs": [],
   "source": [
    "set_1 = {1, 2, 2, 3, 3, 4} \n",
    "print(set_1)"
   ]
  },
  {
   "cell_type": "code",
   "execution_count": null,
   "metadata": {
    "collapsed": false
   },
   "outputs": [],
   "source": [
    "set_2 = set([1, 2, 2, 3, 3, 4])\n",
    "print(set_2)"
   ]
  },
  {
   "cell_type": "markdown",
   "metadata": {},
   "source": [
    "- Los elementos repetidos solo se introducen una vez.\n",
    "- Cada elemento del set es distinto.\n",
    "- Precaución:  **{}** vacio  **NO** es un set es un diccionario."
   ]
  },
  {
   "cell_type": "code",
   "execution_count": null,
   "metadata": {
    "collapsed": false
   },
   "outputs": [],
   "source": [
    "type({})"
   ]
  },
  {
   "cell_type": "code",
   "execution_count": null,
   "metadata": {},
   "outputs": [],
   "source": [
    "type({1})"
   ]
  },
  {
   "cell_type": "markdown",
   "metadata": {},
   "source": [
    "### Built-in Functions"
   ]
  },
  {
   "cell_type": "markdown",
   "metadata": {},
   "source": [
    "|Function| Description|\n",
    "|----|--- |\n",
    "|`<set> = set()`||\n"
   ]
  },
  {
   "cell_type": "markdown",
   "metadata": {},
   "source": [
    "\n",
    "```python\n",
    "<set>.add(<el>)                               # Or: <set> |= {<el>}\n",
    "<set>.update(<collection>)                    # Or: <set> |= <set>\n",
    "```\n",
    "\n",
    "```python\n",
    "<set>  = <set>.union(<coll.>)                 # Or: <set> | <set>\n",
    "<set>  = <set>.intersection(<coll.>)          # Or: <set> & <set>\n",
    "<set>  = <set>.difference(<coll.>)            # Or: <set> - <set>\n",
    "<set>  = <set>.symmetric_difference(<coll.>)  # Or: <set> ^ <set>\n",
    "<bool> = <set>.issubset(<coll.>)              # Or: <set> <= <set>\n",
    "<bool> = <set>.issuperset(<coll.>)            # Or: <set> >= <set>\n",
    "```\n",
    "\n",
    "```python\n",
    "<set>.remove(<el>)                            # Raises KeyError.\n",
    "<set>.discard(<el>)                           # Doesn't raise an error.\n",
    "```"
   ]
  },
  {
   "cell_type": "code",
   "execution_count": null,
   "metadata": {
    "collapsed": false
   },
   "outputs": [],
   "source": [
    "set_1 = set([1, 2, 3])"
   ]
  },
  {
   "cell_type": "code",
   "execution_count": null,
   "metadata": {
    "collapsed": false
   },
   "outputs": [],
   "source": [
    "set_2 = set([2, 3, 4, 5])"
   ]
  },
  {
   "cell_type": "markdown",
   "metadata": {},
   "source": [
    "- **set.pop()** elimina un elemento arbitrario del set."
   ]
  },
  {
   "cell_type": "code",
   "execution_count": null,
   "metadata": {},
   "outputs": [],
   "source": [
    "ele = set_1.pop()\n",
    "print(f\"{ele} {set_1}\")"
   ]
  },
  {
   "cell_type": "markdown",
   "metadata": {},
   "source": [
    "- **set.remove(ele)** elimina un elemento específico del set."
   ]
  },
  {
   "cell_type": "code",
   "execution_count": null,
   "metadata": {},
   "outputs": [],
   "source": [
    "set_1.remove(2)\n",
    "set_1"
   ]
  },
  {
   "cell_type": "markdown",
   "metadata": {},
   "source": [
    "- **set.clear( )** elimina todos los elementos del set."
   ]
  },
  {
   "cell_type": "code",
   "execution_count": null,
   "metadata": {},
   "outputs": [],
   "source": [
    "set_1.clear()\n",
    "set_1"
   ]
  },
  {
   "cell_type": "markdown",
   "metadata": {},
   "source": [
    "- **set.add(ele)**  añade un elemento al set, el índice del elemento añadido es arbitrario."
   ]
  },
  {
   "cell_type": "code",
   "execution_count": null,
   "metadata": {
    "collapsed": false
   },
   "outputs": [],
   "source": [
    "set_1.add(0)\n",
    "set_1"
   ]
  },
  {
   "cell_type": "markdown",
   "metadata": {},
   "source": [
    "- **set_1.union(set_2)** da un set que contiene los elementos presentes en los dos sets."
   ]
  },
  {
   "cell_type": "code",
   "execution_count": null,
   "metadata": {
    "collapsed": false
   },
   "outputs": [],
   "source": [
    "set_1.union(set_2)"
   ]
  },
  {
   "cell_type": "markdown",
   "metadata": {},
   "source": [
    "- **set_1.intersection(set_2)** da un set que contiene los elementos presentes en ambos sets."
   ]
  },
  {
   "cell_type": "code",
   "execution_count": null,
   "metadata": {
    "collapsed": false
   },
   "outputs": [],
   "source": [
    "set_1.intersection(set_2)"
   ]
  },
  {
   "cell_type": "markdown",
   "metadata": {},
   "source": [
    "- **set_1.difference(set_2)** da un set con los elementos presentes en el set_1 y no en set_2"
   ]
  },
  {
   "cell_type": "code",
   "execution_count": null,
   "metadata": {
    "collapsed": false
   },
   "outputs": [],
   "source": [
    "set_1.difference(set_2)"
   ]
  },
  {
   "cell_type": "markdown",
   "metadata": {},
   "source": [
    "- **set_1.issubset(set_2)** da True/False si el set_1 es subset de set_2. \n",
    "- **set_1.issuperset(set_2)** lo mismo para superset."
   ]
  },
  {
   "cell_type": "code",
   "execution_count": null,
   "metadata": {
    "collapsed": false
   },
   "outputs": [],
   "source": [
    "set_1.issubset(set_2)"
   ]
  },
  {
   "cell_type": "code",
   "execution_count": null,
   "metadata": {
    "collapsed": false
   },
   "outputs": [],
   "source": [
    "set_1.issuperset(set_2)"
   ]
  }
 ],
 "metadata": {
  "kernelspec": {
   "display_name": "Python 3",
   "language": "python",
   "name": "python3"
  },
  "language_info": {
   "codemirror_mode": {
    "name": "ipython",
    "version": 3
   },
   "file_extension": ".py",
   "mimetype": "text/x-python",
   "name": "python",
   "nbconvert_exporter": "python",
   "pygments_lexer": "ipython3",
   "version": "3.6.5"
  }
 },
 "nbformat": 4,
 "nbformat_minor": 2
}

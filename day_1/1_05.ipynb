{
 "cells": [
  {
   "cell_type": "markdown",
   "metadata": {},
   "source": [
    "#  1.5. Estructuras de datos: Diccionarios"
   ]
  },
  {
   "cell_type": "markdown",
   "metadata": {},
   "source": [
    "- Los diccionarios son tablas hash que mapean un par clave-valor.\n",
    "- Se pueden pensar como sets en los que se guarda un objeto asociado a cada elemento del set.\n",
    "- Se define con **{}** o **dict()**.\n",
    "- Con {key: value} \n",
    "- La clave puede ser qualquier objeto hasheable."
   ]
  },
  {
   "cell_type": "code",
   "execution_count": null,
   "metadata": {},
   "outputs": [],
   "source": [
    "d = dict() # or equivalently d={}\n",
    "print(type(d))"
   ]
  },
  {
   "cell_type": "code",
   "execution_count": null,
   "metadata": {
    "collapsed": false
   },
   "outputs": [],
   "source": [
    "# Add elements\n",
    "d['abc'] = 3\n",
    "d[4] = \"A string\"\n",
    "print(d)"
   ]
  },
  {
   "cell_type": "code",
   "execution_count": null,
   "metadata": {},
   "outputs": [],
   "source": [
    "d['abc']"
   ]
  },
  {
   "cell_type": "code",
   "execution_count": null,
   "metadata": {
    "collapsed": false
   },
   "outputs": [],
   "source": [
    "d = {1: 'One', 2: 'Two', 100: 'Hundred'}"
   ]
  },
  {
   "cell_type": "code",
   "execution_count": null,
   "metadata": {},
   "outputs": [],
   "source": [
    "d"
   ]
  },
  {
   "cell_type": "code",
   "execution_count": null,
   "metadata": {},
   "outputs": [],
   "source": [
    "len(d)"
   ]
  },
  {
   "cell_type": "code",
   "execution_count": null,
   "metadata": {},
   "outputs": [],
   "source": [
    "# PEP8 syntax\n",
    "dict_pep = {\n",
    "    1: 'One', \n",
    "    2: 'Two', \n",
    "    100: 'Hundred',\n",
    "}"
   ]
  },
  {
   "cell_type": "code",
   "execution_count": null,
   "metadata": {},
   "outputs": [],
   "source": [
    "d = {\n",
    "    'Fer': [28, 'Madrid'],\n",
    "    'Juan': [50, 'Asturias'],\n",
    "}"
   ]
  },
  {
   "cell_type": "code",
   "execution_count": null,
   "metadata": {},
   "outputs": [],
   "source": [
    "d['Juan']"
   ]
  },
  {
   "cell_type": "markdown",
   "metadata": {},
   "source": [
    "- Para acceder a un único elemento:"
   ]
  },
  {
   "cell_type": "code",
   "execution_count": null,
   "metadata": {
    "collapsed": false
   },
   "outputs": [],
   "source": [
    "print(d['Fer'])"
   ]
  },
  {
   "cell_type": "markdown",
   "metadata": {},
   "source": [
    "- Se pueden formar a partir de una lista de tuplas del tipo `(key,value)`.\n",
    "- Usando **dict()** se crea el diccionario."
   ]
  },
  {
   "cell_type": "code",
   "execution_count": null,
   "metadata": {},
   "outputs": [],
   "source": [
    "list_of_tuples = [\n",
    "  ('One', 1), ('Two', 2), ('Three', 3), ('Four', 4), ('Five', 5)   \n",
    "]"
   ]
  },
  {
   "cell_type": "code",
   "execution_count": null,
   "metadata": {},
   "outputs": [],
   "source": [
    "list_of_tuples"
   ]
  },
  {
   "cell_type": "code",
   "execution_count": null,
   "metadata": {},
   "outputs": [],
   "source": [
    "dict(list_of_tuples)"
   ]
  },
  {
   "cell_type": "markdown",
   "metadata": {},
   "source": [
    "- El orden no es en función del orden de insertado.\n",
    "- El orden está basado en el hash de cada objeto.\n",
    "- No asumir el orden al iterar."
   ]
  },
  {
   "cell_type": "markdown",
   "metadata": {},
   "source": [
    "- Usando Tuplas como clave podemos crear una matriz sparse."
   ]
  },
  {
   "cell_type": "code",
   "execution_count": null,
   "metadata": {
    "collapsed": false
   },
   "outputs": [],
   "source": [
    "matrix = {\n",
    "    (0,1): 3.5, \n",
    "    (2,17): 0.1\n",
    "}\n",
    "matrix[2,2] = matrix[0,1] + matrix[2,17]\n",
    "print(matrix)"
   ]
  },
  {
   "cell_type": "markdown",
   "metadata": {},
   "source": [
    "### Built-in Functions"
   ]
  },
  {
   "cell_type": "markdown",
   "metadata": {},
   "source": [
    "- Algunas de las funciones más usadas:\n",
    "```python\n",
    "<view> = <dict>.keys()                          # Coll. of keys that reflects changes.\n",
    "<view> = <dict>.values()                        # Coll. of values that reflects changes.\n",
    "<view> = <dict>.items()                         # Coll. of key-value tuples.\n",
    "```\n",
    "\n",
    "```python\n",
    "value  = <dict>.get(key, default=None)          # Returns default if key does not exist.\n",
    "value  = <dict>.setdefault(key, default=None)   # Same, but also adds default to dict.\n",
    "<dict> = collections.defaultdict(<type>)        # Creates a dict with default value of type.\n",
    "<dict> = collections.defaultdict(lambda: 1)     # Creates a dict with default value 1.\n",
    "```\n",
    "\n",
    "```python\n",
    "<dict>.update(<dict>)\n",
    "<dict> = dict(<collection>)                     # Creates a dict from coll. of key-value pairs.\n",
    "<dict> = dict(zip(keys, values))                # Creates a dict from two collections.\n",
    "<dict> = dict.fromkeys(keys [, value])          # Creates a dict from collection of keys.\n",
    "```\n",
    "\n",
    "```python\n",
    "value = <dict>.pop(key)                         # Removes item from dictionary.\n",
    "{k: v for k, v in <dict>.items() if k in keys}  # Filters dictionary by keys.\n",
    "```"
   ]
  },
  {
   "cell_type": "code",
   "execution_count": null,
   "metadata": {},
   "outputs": [],
   "source": [
    "d = {\n",
    "    'Fer': [28, 'Madrid'],\n",
    "    'Juan': [50, 'Asturias'],\n",
    "}"
   ]
  },
  {
   "cell_type": "markdown",
   "metadata": {},
   "source": [
    "- **len()** function y  **in** operator"
   ]
  },
  {
   "cell_type": "code",
   "execution_count": null,
   "metadata": {
    "collapsed": false
   },
   "outputs": [],
   "source": [
    "print(f\"d has {len(d)} elements\")\n",
    "print(f\"One is in a1 {'Fer' in d} but not Fernando {'Fernando' in d}\")"
   ]
  },
  {
   "cell_type": "markdown",
   "metadata": {},
   "source": [
    "- **get(key, default=None)** da el valor, si no está presente devuelve None o default."
   ]
  },
  {
   "cell_type": "code",
   "execution_count": null,
   "metadata": {},
   "outputs": [],
   "source": [
    "d"
   ]
  },
  {
   "cell_type": "code",
   "execution_count": null,
   "metadata": {},
   "outputs": [],
   "source": [
    "d['pepe']"
   ]
  },
  {
   "cell_type": "code",
   "execution_count": null,
   "metadata": {},
   "outputs": [],
   "source": [
    "d.get('pepe')"
   ]
  },
  {
   "cell_type": "code",
   "execution_count": null,
   "metadata": {},
   "outputs": [],
   "source": [
    "d.get('pepe', 'nada')"
   ]
  },
  {
   "cell_type": "markdown",
   "metadata": {},
   "source": [
    "- **pop( )** se usa para obtener y eliminar un elemento particular."
   ]
  },
  {
   "cell_type": "code",
   "execution_count": null,
   "metadata": {
    "collapsed": false
   },
   "outputs": [],
   "source": [
    "val = d.pop('Fer')\n",
    "print(d)\n",
    "print(\"Removed\", val)"
   ]
  },
  {
   "cell_type": "markdown",
   "metadata": {},
   "source": [
    "- Para juntar  dos diccionarios:"
   ]
  },
  {
   "cell_type": "code",
   "execution_count": null,
   "metadata": {},
   "outputs": [],
   "source": [
    "d_1 = {'one': 1, 'four': 4}\n",
    "d_2 = {'ten': 10, 'five': 5}"
   ]
  },
  {
   "cell_type": "code",
   "execution_count": null,
   "metadata": {},
   "outputs": [],
   "source": [
    "d_1.update(d_2)\n",
    "d_1"
   ]
  },
  {
   "cell_type": "code",
   "execution_count": null,
   "metadata": {},
   "outputs": [],
   "source": [
    "d_new = {**d_1, **d_2}\n",
    "d_new"
   ]
  },
  {
   "cell_type": "markdown",
   "metadata": {},
   "source": [
    "- **clear( )** elimina todos los elementos."
   ]
  },
  {
   "cell_type": "code",
   "execution_count": null,
   "metadata": {},
   "outputs": [],
   "source": [
    "d.clear()\n",
    "print(d)"
   ]
  }
 ],
 "metadata": {
  "celltoolbar": "Raw Cell Format",
  "kernelspec": {
   "display_name": "Python 3",
   "language": "python",
   "name": "python3"
  },
  "language_info": {
   "codemirror_mode": {
    "name": "ipython",
    "version": 3
   },
   "file_extension": ".py",
   "mimetype": "text/x-python",
   "name": "python",
   "nbconvert_exporter": "python",
   "pygments_lexer": "ipython3",
   "version": "3.7.3"
  }
 },
 "nbformat": 4,
 "nbformat_minor": 2
}

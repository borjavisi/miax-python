{
 "cells": [
  {
   "cell_type": "markdown",
   "metadata": {},
   "source": [
    "#  1.5. Estructuras de datos: Diccionarios"
   ]
  },
  {
   "cell_type": "markdown",
   "metadata": {},
   "source": [
    "- Los diccionarios son tablas hash que mapean un par clave-valor.\n",
    "- Se pueden pensar como sets en los que se guarda un objeto asociado a cada elemento del set.\n",
    "- Se define con **{}** o **dict()**.\n",
    "- Con {key: value} \n",
    "- La clave puede ser qualquier objeto hasheable."
   ]
  },
  {
   "cell_type": "code",
   "execution_count": 2,
   "metadata": {},
   "outputs": [
    {
     "name": "stdout",
     "output_type": "stream",
     "text": [
      "<class 'dict'>\n"
     ]
    }
   ],
   "source": [
    "d = dict() # or equivalently d={}\n",
    "print(type(d))"
   ]
  },
  {
   "cell_type": "code",
   "execution_count": 3,
   "metadata": {
    "collapsed": false
   },
   "outputs": [
    {
     "name": "stdout",
     "output_type": "stream",
     "text": [
      "{'abc': 3, 4: 'A string'}\n"
     ]
    }
   ],
   "source": [
    "# Add elements\n",
    "d['abc'] = 3\n",
    "d[4] = \"A string\"\n",
    "print(d)"
   ]
  },
  {
   "cell_type": "code",
   "execution_count": 6,
   "metadata": {
    "collapsed": false
   },
   "outputs": [
    {
     "data": {
      "text/plain": [
       "3"
      ]
     },
     "execution_count": 6,
     "metadata": {},
     "output_type": "execute_result"
    }
   ],
   "source": [
    "d = {1: 'One', 2: 'Two', 100: 'Hundred'}\n",
    "len(d)"
   ]
  },
  {
   "cell_type": "code",
   "execution_count": 5,
   "metadata": {},
   "outputs": [],
   "source": [
    "# Pep syntax\n",
    "dict_pep = {\n",
    "    1: 'One', \n",
    "    2: 'Two', \n",
    "    100: 'Hundred',\n",
    "}"
   ]
  },
  {
   "cell_type": "code",
   "execution_count": 6,
   "metadata": {},
   "outputs": [],
   "source": [
    "d = {\n",
    "    'Fer': [28, 'Madrid'],\n",
    "    'Juan': [50, 'Asturias'],\n",
    "}"
   ]
  },
  {
   "cell_type": "markdown",
   "metadata": {},
   "source": [
    "- Para acceder a un único elemento:"
   ]
  },
  {
   "cell_type": "code",
   "execution_count": 8,
   "metadata": {
    "collapsed": false
   },
   "outputs": [
    {
     "name": "stdout",
     "output_type": "stream",
     "text": [
      "[28, 'Madrid']\n"
     ]
    }
   ],
   "source": [
    "print(d['Fer'])"
   ]
  },
  {
   "cell_type": "markdown",
   "metadata": {},
   "source": [
    "- Se pueden formar a partir de una lista de tuplas del tipo `(key,value)`.\n",
    "- A partir de dos listas usando **zip()**  y list comprensihon,  podemos formar esta lista.\n",
    "- Usando **dict()** se crea el dictionario."
   ]
  },
  {
   "cell_type": "code",
   "execution_count": 9,
   "metadata": {
    "collapsed": false
   },
   "outputs": [
    {
     "data": {
      "text/plain": [
       "[('One', 1), ('Two', 2), ('Three', 3), ('Four', 4), ('Five', 5)]"
      ]
     },
     "execution_count": 9,
     "metadata": {},
     "output_type": "execute_result"
    }
   ],
   "source": [
    "names = ['One', 'Two', 'Three', 'Four', 'Five']\n",
    "numbers = [1, 2, 3, 4, 5]\n",
    "[(name,number) for name,number in zip(names, numbers)] # create (name,number) pairs"
   ]
  },
  {
   "cell_type": "code",
   "execution_count": 21,
   "metadata": {
    "collapsed": false
   },
   "outputs": [
    {
     "name": "stdout",
     "output_type": "stream",
     "text": [
      "{'Three': 3, 'Four': 4, 'Five': 5, 'One': 1, 'Two': 2}\n"
     ]
    }
   ],
   "source": [
    "a1 = dict((name, number) for name,number in zip(names, numbers))\n",
    "print(a1)"
   ]
  },
  {
   "cell_type": "markdown",
   "metadata": {},
   "source": [
    "- El orden no es en función del orden de insertado.\n",
    "- El orden está basado en el hash de cada objeto.\n",
    "- No asumir el orden al iterar."
   ]
  },
  {
   "cell_type": "markdown",
   "metadata": {},
   "source": [
    "- Usando Tuplas como clave podemos crear una matriz sparse."
   ]
  },
  {
   "cell_type": "code",
   "execution_count": 13,
   "metadata": {
    "collapsed": false
   },
   "outputs": [
    {
     "name": "stdout",
     "output_type": "stream",
     "text": [
      "{(0, 1): 3.5, (2, 17): 0.1, (2, 2): 3.6}\n"
     ]
    }
   ],
   "source": [
    "matrix = {\n",
    "    (0,1): 3.5, \n",
    "    (2,17): 0.1\n",
    "}\n",
    "matrix[2,2] = matrix[0,1] + matrix[2,17]\n",
    "print(matrix)"
   ]
  },
  {
   "cell_type": "markdown",
   "metadata": {},
   "source": [
    "- Se pueden crear también usando dict comprehension."
   ]
  },
  {
   "cell_type": "code",
   "execution_count": 4,
   "metadata": {
    "collapsed": false
   },
   "outputs": [
    {
     "ename": "NameError",
     "evalue": "name 'names' is not defined",
     "output_type": "error",
     "traceback": [
      "\u001b[0;31m---------------------------------------------------------------------------\u001b[0m",
      "\u001b[0;31mNameError\u001b[0m                                 Traceback (most recent call last)",
      "\u001b[0;32m<ipython-input-4-d9db4fb4201a>\u001b[0m in \u001b[0;36m<module>\u001b[0;34m\u001b[0m\n\u001b[0;32m----> 1\u001b[0;31m \u001b[0ma2\u001b[0m \u001b[0;34m=\u001b[0m \u001b[0;34m{\u001b[0m\u001b[0mname\u001b[0m\u001b[0;34m:\u001b[0m \u001b[0mlen\u001b[0m\u001b[0;34m(\u001b[0m\u001b[0mname\u001b[0m\u001b[0;34m)\u001b[0m \u001b[0;32mfor\u001b[0m \u001b[0mname\u001b[0m \u001b[0;32min\u001b[0m \u001b[0mnames\u001b[0m\u001b[0;34m}\u001b[0m\u001b[0;34m\u001b[0m\u001b[0m\n\u001b[0m\u001b[1;32m      2\u001b[0m \u001b[0mprint\u001b[0m\u001b[0;34m(\u001b[0m\u001b[0ma2\u001b[0m\u001b[0;34m)\u001b[0m\u001b[0;34m\u001b[0m\u001b[0m\n",
      "\u001b[0;31mNameError\u001b[0m: name 'names' is not defined"
     ]
    }
   ],
   "source": [
    "a2 = {name: len(name) for name in names}\n",
    "print(a2)"
   ]
  },
  {
   "cell_type": "markdown",
   "metadata": {},
   "source": [
    "### Built-in Functions"
   ]
  },
  {
   "cell_type": "markdown",
   "metadata": {},
   "source": [
    "- Algunas de las funciones más usadas:\n",
    "```python\n",
    "<view> = <dict>.keys()                          # Coll. of keys that reflects changes.\n",
    "<view> = <dict>.values()                        # Coll. of values that reflects changes.\n",
    "<view> = <dict>.items()                         # Coll. of key-value tuples.\n",
    "```\n",
    "\n",
    "```python\n",
    "value  = <dict>.get(key, default=None)          # Returns default if key does not exist.\n",
    "value  = <dict>.setdefault(key, default=None)   # Same, but also adds default to dict.\n",
    "<dict> = collections.defaultdict(<type>)        # Creates a dict with default value of type.\n",
    "<dict> = collections.defaultdict(lambda: 1)     # Creates a dict with default value 1.\n",
    "```\n",
    "\n",
    "```python\n",
    "<dict>.update(<dict>)\n",
    "<dict> = dict(<collection>)                     # Creates a dict from coll. of key-value pairs.\n",
    "<dict> = dict(zip(keys, values))                # Creates a dict from two collections.\n",
    "<dict> = dict.fromkeys(keys [, value])          # Creates a dict from collection of keys.\n",
    "```\n",
    "\n",
    "```python\n",
    "value = <dict>.pop(key)                         # Removes item from dictionary.\n",
    "{k: v for k, v in <dict>.items() if k in keys}  # Filters dictionary by keys.\n",
    "```"
   ]
  },
  {
   "cell_type": "code",
   "execution_count": 19,
   "metadata": {},
   "outputs": [],
   "source": [
    "d = {\n",
    "    'Fer': [28, 'Madrid'],\n",
    "    'Juan': [50, 'Asturias'],\n",
    "}"
   ]
  },
  {
   "cell_type": "markdown",
   "metadata": {},
   "source": [
    "- **len()** function y  **in** operator"
   ]
  },
  {
   "cell_type": "code",
   "execution_count": 12,
   "metadata": {
    "collapsed": false
   },
   "outputs": [
    {
     "name": "stdout",
     "output_type": "stream",
     "text": [
      "d has 2 elements\n",
      "One is in a1 True but not Fernando False\n"
     ]
    }
   ],
   "source": [
    "print(f\"d has {len(d)} elements\")\n",
    "print(f\"One is in a1 {'Fer' in d} but not Fernando {'Fernando' in d}\")"
   ]
  },
  {
   "cell_type": "markdown",
   "metadata": {},
   "source": [
    "- **values( )** function da un iterador con los elementos del diccionario.\n",
    "- Necesitamos iterar para crear la lista, tupla o otra colección."
   ]
  },
  {
   "cell_type": "code",
   "execution_count": 23,
   "metadata": {
    "collapsed": false
   },
   "outputs": [
    {
     "data": {
      "text/plain": [
       "[3, 4, 5, 1, 2]"
      ]
     },
     "execution_count": 23,
     "metadata": {},
     "output_type": "execute_result"
    }
   ],
   "source": [
    "[v for v in d.values()]"
   ]
  },
  {
   "cell_type": "markdown",
   "metadata": {},
   "source": [
    "- **keys( )** function retorna todas las claves."
   ]
  },
  {
   "cell_type": "code",
   "execution_count": 24,
   "metadata": {
    "collapsed": false
   },
   "outputs": [
    {
     "data": {
      "text/plain": [
       "{'Five', 'Four', 'One', 'Three', 'Two'}"
      ]
     },
     "execution_count": 24,
     "metadata": {},
     "output_type": "execute_result"
    }
   ],
   "source": [
    "{k for k in d.keys()}"
   ]
  },
  {
   "cell_type": "markdown",
   "metadata": {},
   "source": [
    "- **items( )** retorna una tupla conteniendo el par clave-valor."
   ]
  },
  {
   "cell_type": "code",
   "execution_count": 21,
   "metadata": {},
   "outputs": [
    {
     "name": "stdout",
     "output_type": "stream",
     "text": [
      "Juan: [50, 'Asturias']\n"
     ]
    }
   ],
   "source": [
    "for key, value in d.items():\n",
    "    print(f\"{key}: {value}\")"
   ]
  },
  {
   "cell_type": "code",
   "execution_count": 26,
   "metadata": {
    "collapsed": false
   },
   "outputs": [
    {
     "data": {
      "text/plain": [
       "'Three = 3,  Four = 4,  Five = 5,  One = 1,  Two = 2'"
      ]
     },
     "execution_count": 26,
     "metadata": {},
     "output_type": "execute_result"
    }
   ],
   "source": [
    "\",  \".join(\"%s = %d\" % (name,val) for key, value in a1.items())"
   ]
  },
  {
   "cell_type": "markdown",
   "metadata": {},
   "source": [
    "- **pop( )** se usa para eliminar un elemento particular."
   ]
  },
  {
   "cell_type": "code",
   "execution_count": 20,
   "metadata": {
    "collapsed": false
   },
   "outputs": [
    {
     "name": "stdout",
     "output_type": "stream",
     "text": [
      "{'Juan': [50, 'Asturias']}\n",
      "Removed [28, 'Madrid']\n"
     ]
    }
   ],
   "source": [
    "val = d.pop('Fer')\n",
    "print(d)\n",
    "print(\"Removed\", val)"
   ]
  },
  {
   "cell_type": "markdown",
   "metadata": {},
   "source": [
    "- Para juntar  dos dictionarios:"
   ]
  },
  {
   "cell_type": "code",
   "execution_count": 28,
   "metadata": {},
   "outputs": [],
   "source": [
    "d_1 = {'one': 1, 'four': 4}\n",
    "d_2 = {'ten': 10, 'five': 5}"
   ]
  },
  {
   "cell_type": "code",
   "execution_count": 25,
   "metadata": {},
   "outputs": [
    {
     "data": {
      "text/plain": [
       "{'one': 1, 'four': 4, 'ten': 10, 'five': 5}"
      ]
     },
     "execution_count": 25,
     "metadata": {},
     "output_type": "execute_result"
    }
   ],
   "source": [
    "d_1.update(d_2)\n",
    "d_1"
   ]
  },
  {
   "cell_type": "code",
   "execution_count": 29,
   "metadata": {},
   "outputs": [
    {
     "data": {
      "text/plain": [
       "{'one': 1, 'four': 4, 'ten': 10, 'five': 5}"
      ]
     },
     "execution_count": 29,
     "metadata": {},
     "output_type": "execute_result"
    }
   ],
   "source": [
    "d_new = {**d_1, **d_2}\n",
    "d_new"
   ]
  },
  {
   "cell_type": "markdown",
   "metadata": {},
   "source": [
    "- **clear( )** elimina todos los elementos."
   ]
  },
  {
   "cell_type": "code",
   "execution_count": 17,
   "metadata": {},
   "outputs": [
    {
     "name": "stdout",
     "output_type": "stream",
     "text": [
      "{}\n"
     ]
    }
   ],
   "source": [
    "d.clear()\n",
    "print(d)"
   ]
  }
 ],
 "metadata": {
  "celltoolbar": "Raw Cell Format",
  "kernelspec": {
   "display_name": "Python 3",
   "language": "python",
   "name": "python3"
  },
  "language_info": {
   "codemirror_mode": {
    "name": "ipython",
    "version": 3
   },
   "file_extension": ".py",
   "mimetype": "text/x-python",
   "name": "python",
   "nbconvert_exporter": "python",
   "pygments_lexer": "ipython3",
   "version": "3.6.5"
  }
 },
 "nbformat": 4,
 "nbformat_minor": 2
}

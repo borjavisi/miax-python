{
 "cells": [
  {
   "cell_type": "markdown",
   "metadata": {},
   "source": [
    "#  1.3. Strings\n",
    "\n",
    "## La función print"
   ]
  },
  {
   "cell_type": "markdown",
   "metadata": {},
   "source": [
    "- Como ya hemps visto,  **print()** imprime todos los argumentos por pantalla separados por espacios.\n",
    "    - print(\"Hello World\")\n",
    "    - print(\"Hello\",'World')\n",
    "    - print(\"Hello\", <Variable Containing the String>)"
   ]
  },
  {
   "cell_type": "code",
   "execution_count": 2,
   "metadata": {},
   "outputs": [
    {
     "name": "stdout",
     "output_type": "stream",
     "text": [
      "Hello World\n"
     ]
    }
   ],
   "source": [
    "print(\"Hello\", \"World\")"
   ]
  },
  {
   "cell_type": "markdown",
   "metadata": {},
   "source": [
    "- Este comportamiento se puede cambiar, usando  `sep`  para el separador (default space) y `end` (end charcter)."
   ]
  },
  {
   "cell_type": "code",
   "execution_count": 3,
   "metadata": {},
   "outputs": [
    {
     "name": "stdout",
     "output_type": "stream",
     "text": [
      "Hello...World!!"
     ]
    }
   ],
   "source": [
    "print(\"Hello\", \"World\", sep='...', end='!!')"
   ]
  },
  {
   "cell_type": "code",
   "execution_count": null,
   "metadata": {},
   "outputs": [],
   "source": [
    "print(\"Hello\", end=' ')\n",
    "print(\"Hello\", end=' ')"
   ]
  },
  {
   "cell_type": "markdown",
   "metadata": {},
   "source": [
    "## Strings\n",
    "- Se puden definir con \" o con ' indistintamente.\n",
    "- Si dentro queremos poner \" usar ' y viceversa."
   ]
  },
  {
   "cell_type": "code",
   "execution_count": 82,
   "metadata": {},
   "outputs": [
    {
     "name": "stdout",
     "output_type": "stream",
     "text": [
      "hola\n",
      "hola\n",
      "hola 'u'\n",
      "hola \"u\"\n"
     ]
    }
   ],
   "source": [
    "print('hola')\n",
    "print(\"hola\")\n",
    "print(\"hola 'u'\")\n",
    "print('hola \"u\"')"
   ]
  },
  {
   "cell_type": "markdown",
   "metadata": {},
   "source": [
    "## String Formating\n",
    "- Exiten muchos métodos para formatear y manipular strings.\n",
    "- El mejor y más moderno es utilizar los llamados f strings.\n",
    "- Para concatenar se pude usar '+'."
   ]
  },
  {
   "cell_type": "code",
   "execution_count": 26,
   "metadata": {},
   "outputs": [
    {
     "data": {
      "text/plain": [
       "'World!'"
      ]
     },
     "execution_count": 26,
     "metadata": {},
     "output_type": "execute_result"
    }
   ],
   "source": [
    "string_1 = 'World'\n",
    "string_2 = '!'\n",
    "string_1 + string_2"
   ]
  },
  {
   "cell_type": "markdown",
   "metadata": {},
   "source": [
    "- Para introducir el valor de las variables dentro de un string, lo más fácil es utilizar format strings.\n",
    "```python\n",
    "<str> = f'{<el_1>}, {<el_2>}'\n",
    "```\n",
    "- Se añade una f antes del \" o ' y dentro del string entre llaves la varaible a incluir.\n",
    "- Podemos realizar operaciones dentro del string."
   ]
  },
  {
   "cell_type": "code",
   "execution_count": 30,
   "metadata": {},
   "outputs": [
    {
     "name": "stdout",
     "output_type": "stream",
     "text": [
      "a es: 1 b es: hola a mas 1 es: 2\n"
     ]
    }
   ],
   "source": [
    "a = 1\n",
    "b = 'hola'\n",
    "print(f'a es: {a} b es: {b} a mas 1 es: {a+1}')"
   ]
  },
  {
   "cell_type": "markdown",
   "metadata": {},
   "source": [
    "- Se pude formatear el string especificando el formato entre las llaves despues de : ej: {variable:formato}\n",
    "- Ejemplos de formatos:\n",
    "\n",
    "|Number|Format|Output|Description|\n",
    "|----|---|---|---|\n",
    "|3.1415926|{:.2f}|3.14|float of the number|\n",
    "|8|{:o}|10|Octal equivalent of the number|\n",
    "|255|{:x}| ff |Hexadecimal equivalent of the number |\n",
    "|100|{:e}| '1.000000e+02' |Exponential equivalent of the number |\n",
    "|100|{:.2e}| '1.00e+02' |Exponential equivalent of the number with 2 decimal places|\n",
    "|3|{:f}| '3.000000'|float equivalent of the number |\n",
    "|3.1415926|{:.2f}|3.14|2 decimal places|\n",
    "|3.1415926|{:+.2f}|+3.14|2 decimal places with sign|\n",
    "|1|{:+.2f}|1.00|2|decimal places with sign|\n",
    "|2.71828|{:.0f}|3|No decimal places|\n",
    "|5|{:0>2d}|05|Pad number with zeros (left padding, width 2)|\n",
    "|5|{:x<4d}|5xxx|Pad number with x’s (right padding, width 4)|\n",
    "|10|{:x<4d}|10xx|Pad number with x’s (right padding, width 4)|\n",
    "|1000000|{:,}|1,000,000|Number format with comma separator|\n",
    "|0.25|{:.2%}|25.00%|Format percentage|\n",
    "|1000000000|{:.2e}|1.00e+09|Exponent notation|\n",
    "|13|{:10d}|13|Right aligned (default, width 10)|\n",
    "|13|{:<10d}|13|Left aligned (width 10)|\n",
    "|13|{:^10d}|13|Center aligned (width 10)|"
   ]
  },
  {
   "cell_type": "code",
   "execution_count": 32,
   "metadata": {},
   "outputs": [],
   "source": [
    "pi = 3.1416"
   ]
  },
  {
   "cell_type": "code",
   "execution_count": 33,
   "metadata": {},
   "outputs": [
    {
     "data": {
      "text/plain": [
       "'3.14'"
      ]
     },
     "execution_count": 33,
     "metadata": {},
     "output_type": "execute_result"
    }
   ],
   "source": [
    "f'{pi:.2f}'"
   ]
  },
  {
   "cell_type": "code",
   "execution_count": 34,
   "metadata": {},
   "outputs": [
    {
     "data": {
      "text/plain": [
       "'+3.14'"
      ]
     },
     "execution_count": 34,
     "metadata": {},
     "output_type": "execute_result"
    }
   ],
   "source": [
    "f'{pi:+.2f}'"
   ]
  },
  {
   "cell_type": "code",
   "execution_count": null,
   "metadata": {},
   "outputs": [],
   "source": [
    "f'{pi:+.2f}'"
   ]
  },
  {
   "cell_type": "code",
   "execution_count": 63,
   "metadata": {},
   "outputs": [],
   "source": [
    "a = 3"
   ]
  },
  {
   "cell_type": "code",
   "execution_count": 66,
   "metadata": {},
   "outputs": [
    {
     "data": {
      "text/plain": [
       "'upa         3'"
      ]
     },
     "execution_count": 66,
     "metadata": {},
     "output_type": "execute_result"
    }
   ],
   "source": [
    "f'upa{a:10d}'"
   ]
  },
  {
   "cell_type": "markdown",
   "metadata": {},
   "source": [
    "## String Methods"
   ]
  },
  {
   "cell_type": "code",
   "execution_count": 9,
   "metadata": {},
   "outputs": [
    {
     "data": {
      "text/plain": [
       "'Hello World! Hello World! Hello World! Hello World! Hello World! '"
      ]
     },
     "execution_count": 9,
     "metadata": {},
     "output_type": "execute_result"
    }
   ],
   "source": [
    "\"Hello World! \"*5"
   ]
  },
  {
   "cell_type": "markdown",
   "metadata": {},
   "source": [
    "- Strings se puede transformar de muchas maneras:\n",
    "\n",
    "\n",
    "```python\n",
    "<str>  = <str>.strip()                       # Strips all whitespace characters from both ends.\n",
    "<str>  = <str>.strip('<chars>')              # Strips all passed characters from both ends.\n",
    "```\n",
    "\n",
    "```python\n",
    "<list> = <str>.split()                       # Splits on any whitespace character.\n",
    "<list> = <str>.split(sep=None, maxsplit=-1)  # Splits on 'sep' str at most 'maxsplit' times.\n",
    "<str>  = <str>.join(<collection>)            # Joins elements using string as separator.\n",
    "```\n",
    "\n",
    "```python\n",
    "<str>  = <str>.replace(old, new [, count])   # Replaces 'old' with 'new' at most 'count' times.\n",
    "<bool> = <str>.startswith(<sub_str>)         # Pass tuple of strings for multiple options.\n",
    "<bool> = <str>.endswith(<sub_str>)           # Pass tuple of strings for multiple options.\n",
    "<int>  = <str>.index(<sub_str>)              # Returns start index of first match.\n",
    "```\n",
    "\n",
    "```python\n",
    "<bool> = <str>.isnumeric()                   # True if str contains only numeric characters.\n",
    "<list> = textwrap.wrap(<str>, width)         # Nicely breaks string into lines.\n",
    "```"
   ]
  },
  {
   "cell_type": "code",
   "execution_count": 10,
   "metadata": {},
   "outputs": [],
   "source": [
    "s=\"hello wOrld\""
   ]
  },
  {
   "cell_type": "code",
   "execution_count": 14,
   "metadata": {},
   "outputs": [
    {
     "name": "stdout",
     "output_type": "stream",
     "text": [
      "Hello world\n",
      "HELLO WORLD\n",
      "hello world\n",
      "         Hello World          \n",
      "lots of space\n",
      "Hello Class\n"
     ]
    }
   ],
   "source": [
    "print(s.capitalize())\n",
    "print(s.upper())\n",
    "print(s.lower())\n",
    " # center in 30 characters\n",
    "print(\"Hello World\".center(30))\n",
    " # remove leading and trailing whitespace\n",
    "print(\"     lots of space             \".strip())\n",
    "print(\"Hello World\".replace(\"World\",\"Class\"))"
   ]
  },
  {
   "cell_type": "code",
   "execution_count": 24,
   "metadata": {},
   "outputs": [
    {
     "name": "stdout",
     "output_type": "stream",
     "text": [
      "The length of hello wOrld is 11\n",
      "False\n",
      "There are 3 l but only 0 World in hello wOrld\n",
      "el is at index 1 in hello wOrld\n"
     ]
    }
   ],
   "source": [
    "print(f\"The length of {s} is {len(s)}\") # len() gives length\n",
    "print(s.startswith(\"Hello\") and s.endswith(\"World\")) # check start/end\n",
    "print(f\"There are {s.count('l')} l but only {s.count('World')} World in {s}\")\n",
    "print(f\"el is at index {s.find('el')} in {s}\")"
   ]
  },
  {
   "cell_type": "markdown",
   "metadata": {},
   "source": [
    "## Comparacion de Strings\n",
    "- Strings se comparan por orden alfabético.\n",
    "- El operador `in`  checks substrings:"
   ]
  },
  {
   "cell_type": "code",
   "execution_count": 1,
   "metadata": {},
   "outputs": [
    {
     "data": {
      "text/plain": [
       "False"
      ]
     },
     "execution_count": 1,
     "metadata": {},
     "output_type": "execute_result"
    }
   ],
   "source": [
    "'a' > 'b'"
   ]
  },
  {
   "cell_type": "code",
   "execution_count": 2,
   "metadata": {},
   "outputs": [
    {
     "data": {
      "text/plain": [
       "True"
      ]
     },
     "execution_count": 2,
     "metadata": {},
     "output_type": "execute_result"
    }
   ],
   "source": [
    "'z' > 'b'"
   ]
  },
  {
   "cell_type": "code",
   "execution_count": 29,
   "metadata": {},
   "outputs": [
    {
     "data": {
      "text/plain": [
       "True"
      ]
     },
     "execution_count": 29,
     "metadata": {},
     "output_type": "execute_result"
    }
   ],
   "source": [
    "'abc' < 'bbc' <= 'bbc'"
   ]
  },
  {
   "cell_type": "code",
   "execution_count": 30,
   "metadata": {},
   "outputs": [
    {
     "data": {
      "text/plain": [
       "True"
      ]
     },
     "execution_count": 30,
     "metadata": {},
     "output_type": "execute_result"
    }
   ],
   "source": [
    "\"ABC\" in \"This is the ABC of Python\""
   ]
  },
  {
   "cell_type": "markdown",
   "metadata": {},
   "source": [
    "## String slicing"
   ]
  },
  {
   "cell_type": "markdown",
   "metadata": {},
   "source": [
    "- Strings se pueden indexar usando corchete. \n",
    "- Los índices empiezan por cero en Python.\n",
    "- **len()** nos da la longitud."
   ]
  },
  {
   "cell_type": "code",
   "execution_count": 72,
   "metadata": {},
   "outputs": [
    {
     "name": "stdout",
     "output_type": "stream",
     "text": [
      "First charcter of 123456789 is 1\n",
      "Last charcter of 123456789 is 9\n"
     ]
    }
   ],
   "source": [
    "s = '123456789'\n",
    "print(f'First charcter of {s} is {s[0]}')\n",
    "print(f'Last charcter of {s} is {s[len(s)-1]}')"
   ]
  },
  {
   "cell_type": "markdown",
   "metadata": {},
   "source": [
    "- Índices negativos se pueden usar para empezar por atrás"
   ]
  },
  {
   "cell_type": "code",
   "execution_count": 74,
   "metadata": {},
   "outputs": [
    {
     "name": "stdout",
     "output_type": "stream",
     "text": [
      "First charcter of 123456789 is 1\n",
      "Last charcter of 123456789 is 9\n"
     ]
    }
   ],
   "source": [
    "print(f'First charcter of {s} is {s[-len(s)]}')\n",
    "print(f'Last charcter of {s} is {s[-1]}')"
   ]
  },
  {
   "cell_type": "markdown",
   "metadata": {},
   "source": [
    "- Un substring se puede especificar usando $a:b$ para especifar los caracteres de $a,a+1,\\ldots,b-1$. \n",
    "- El último no está incluido:\n",
    "\n",
    "<img src=\"imgs/string_slide.png\"  alt=\"drawing\" width=\"600\"/>"
   ]
  },
  {
   "cell_type": "code",
   "execution_count": 4,
   "metadata": {},
   "outputs": [
    {
     "name": "stdout",
     "output_type": "stream",
     "text": [
      "First three charcters 123\n",
      "Next three characters 456\n"
     ]
    }
   ],
   "source": [
    "print(f\"First three charcters {s[0:3]}\")\n",
    "print(f\"Next three characters {s[3:6]}\")"
   ]
  },
  {
   "cell_type": "markdown",
   "metadata": {},
   "source": [
    "- Un principio o final en el rango vacio se considera el principio final del string."
   ]
  },
  {
   "cell_type": "code",
   "execution_count": 75,
   "metadata": {},
   "outputs": [
    {
     "name": "stdout",
     "output_type": "stream",
     "text": [
      "First three characters 123\n",
      "Last three characters 789\n"
     ]
    }
   ],
   "source": [
    "print(f\"First three characters {s[:3]}\")\n",
    "print(f\"Last three characters {s[-3:]}\")"
   ]
  },
  {
   "cell_type": "markdown",
   "metadata": {},
   "source": [
    "## Los Strings son immutables\n",
    "\n",
    "- Los strings son inmutables, no se puden modificar una vez creados."
   ]
  },
  {
   "cell_type": "code",
   "execution_count": 83,
   "metadata": {},
   "outputs": [
    {
     "name": "stdout",
     "output_type": "stream",
     "text": [
      "creating new string 01X345 OK\n",
      "01X345 still OK\n"
     ]
    }
   ],
   "source": [
    "s = '012345'\n",
    "s_new = s[:2] + 'X' + s[3:] # this creates a new string with 2 replaced by X\n",
    "print(\"creating new string\", s_new, \"OK\")\n",
    "s_new = s.replace('2', 'X') # the same thing\n",
    "print(s_new, \"still OK\")"
   ]
  },
  {
   "cell_type": "code",
   "execution_count": 77,
   "metadata": {
    "collapsed": true
   },
   "outputs": [
    {
     "ename": "TypeError",
     "evalue": "'str' object does not support item assignment",
     "output_type": "error",
     "traceback": [
      "\u001b[0;31m---------------------------------------------------------------------------\u001b[0m",
      "\u001b[0;31mTypeError\u001b[0m                                 Traceback (most recent call last)",
      "\u001b[0;32m<ipython-input-77-c3ec2472a330>\u001b[0m in \u001b[0;36m<module>\u001b[0;34m\u001b[0m\n\u001b[0;32m----> 1\u001b[0;31m \u001b[0ms\u001b[0m\u001b[0;34m[\u001b[0m\u001b[0;36m2\u001b[0m\u001b[0;34m]\u001b[0m \u001b[0;34m=\u001b[0m \u001b[0;34m'X'\u001b[0m \u001b[0;31m# an error!!!\u001b[0m\u001b[0;34m\u001b[0m\u001b[0m\n\u001b[0m",
      "\u001b[0;31mTypeError\u001b[0m: 'str' object does not support item assignment"
     ]
    }
   ],
   "source": [
    "s[2] = 'X' # an error!!!"
   ]
  }
 ],
 "metadata": {
  "kernelspec": {
   "display_name": "Python 3",
   "language": "python",
   "name": "python3"
  },
  "language_info": {
   "codemirror_mode": {
    "name": "ipython",
    "version": 3
   },
   "file_extension": ".py",
   "mimetype": "text/x-python",
   "name": "python",
   "nbconvert_exporter": "python",
   "pygments_lexer": "ipython3",
   "version": "3.6.5"
  }
 },
 "nbformat": 4,
 "nbformat_minor": 2
}

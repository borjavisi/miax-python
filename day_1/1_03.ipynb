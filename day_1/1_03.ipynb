{
 "cells": [
  {
   "cell_type": "markdown",
   "metadata": {},
   "source": [
    "#  1.3. Strings\n",
    "\n",
    "## La función print()"
   ]
  },
  {
   "cell_type": "markdown",
   "metadata": {},
   "source": [
    "- Como ya hemps visto,  **print()** imprime todos los argumentos por pantalla separados por espacios.\n",
    "    - print(\"Hello World\")\n",
    "    - print(\"Hello\",'World')\n",
    "    - print(\"Hello\", <Variable Containing the String>)"
   ]
  },
  {
   "cell_type": "code",
   "execution_count": null,
   "metadata": {},
   "outputs": [],
   "source": [
    "print(\"Hello\", \"World\")"
   ]
  },
  {
   "cell_type": "markdown",
   "metadata": {},
   "source": [
    "- Este comportamiento se puede cambiar, usando  `sep`  para el separador (default space) y `end` (end charcter)."
   ]
  },
  {
   "cell_type": "code",
   "execution_count": null,
   "metadata": {},
   "outputs": [],
   "source": [
    "print(\"Hello\", \"World\", sep='...', end='!!')"
   ]
  },
  {
   "cell_type": "code",
   "execution_count": null,
   "metadata": {},
   "outputs": [],
   "source": [
    "print(\"Hello\", end=' ')\n",
    "print(\"Hello\", end=' ')"
   ]
  },
  {
   "cell_type": "markdown",
   "metadata": {},
   "source": [
    "## Strings\n",
    "- Se puden definir con \" o con ' indistintamente.\n",
    "- Con \"\"\" podemos definir string de varias lineas\n",
    "- Si dentro queremos poner \" usar ' y viceversa."
   ]
  },
  {
   "cell_type": "code",
   "execution_count": null,
   "metadata": {},
   "outputs": [],
   "source": [
    "print('hola')\n",
    "print(\"hola\")\n",
    "print(\"hola 'u'\")\n",
    "print('hola \"u\"')"
   ]
  },
  {
   "cell_type": "code",
   "execution_count": null,
   "metadata": {},
   "outputs": [],
   "source": [
    "c = \"\"\"\n",
    "This is a longer string that\n",
    "spans multiple lines\n",
    "\"\"\"\n",
    "print(c)"
   ]
  },
  {
   "cell_type": "markdown",
   "metadata": {},
   "source": [
    "### String Formating\n",
    "- Exiten muchos métodos para formatear y manipular strings.\n",
    "- El mejor y más moderno es utilizar los llamados f strings.\n",
    "- Para concatenar se pude usar '+'."
   ]
  },
  {
   "cell_type": "code",
   "execution_count": null,
   "metadata": {},
   "outputs": [],
   "source": [
    "'Hello' + ' ' + 'World'"
   ]
  },
  {
   "cell_type": "code",
   "execution_count": null,
   "metadata": {},
   "outputs": [],
   "source": [
    "string_1 = 'World'\n",
    "string_2 = '!'\n",
    "string_1 + string_2"
   ]
  },
  {
   "cell_type": "code",
   "execution_count": null,
   "metadata": {},
   "outputs": [],
   "source": [
    "a = 1"
   ]
  },
  {
   "cell_type": "code",
   "execution_count": null,
   "metadata": {},
   "outputs": [],
   "source": [
    "'Hola a es: ' + str(a) + '!'"
   ]
  },
  {
   "cell_type": "markdown",
   "metadata": {},
   "source": [
    "- Para introducir el valor de las variables dentro de un string, lo más fácil es utilizar format strings.\n",
    "```python\n",
    "<str> = f'{<el_1>}, {<el_2>}'\n",
    "```\n",
    "- Se añade una f antes del \" o ' y dentro del string entre llaves la varaible a incluir.\n",
    "- Podemos realizar operaciones dentro del string."
   ]
  },
  {
   "cell_type": "code",
   "execution_count": null,
   "metadata": {},
   "outputs": [],
   "source": [
    "a = 1.172481935692659"
   ]
  },
  {
   "cell_type": "code",
   "execution_count": null,
   "metadata": {},
   "outputs": [],
   "source": [
    "f\"a es {a+1:.2f}\""
   ]
  },
  {
   "cell_type": "code",
   "execution_count": null,
   "metadata": {},
   "outputs": [],
   "source": [
    "a = 1\n",
    "b = 'hola'\n",
    "print(f'a es: {a} b es: {b} a mas 1 es: {a+1}')"
   ]
  },
  {
   "cell_type": "markdown",
   "metadata": {},
   "source": [
    "- Se pude formatear el string especificando el formato entre las llaves despues de : ej: {variable:formato}\n",
    "- Ejemplos de formatos:\n",
    "\n",
    "|Number|Format|Output|Description|\n",
    "|----|---|---|---|\n",
    "|3.1415926|{:.2f}|3.14|float of the number|\n",
    "|8|{:o}|10|Octal equivalent of the number|\n",
    "|255|{:x}| ff |Hexadecimal equivalent of the number |\n",
    "|100|{:e}| '1.000000e+02' |Exponential equivalent of the number |\n",
    "|100|{:.2e}| '1.00e+02' |Exponential equivalent of the number with 2 decimal places|\n",
    "|3|{:f}| '3.000000'|float equivalent of the number |\n",
    "|3.1415926|{:.2f}|3.14|2 decimal places|\n",
    "|3.1415926|{:+.2f}|+3.14|2 decimal places with sign|\n",
    "|1|{:+.2f}|1.00|2|decimal places with sign|\n",
    "|2.71828|{:.0f}|3|No decimal places|\n",
    "|5|{:0>2d}|05|Pad number with zeros (left padding, width 2)|\n",
    "|5|{:x<4d}|5xxx|Pad number with x’s (right padding, width 4)|\n",
    "|10|{:x<4d}|10xx|Pad number with x’s (right padding, width 4)|\n",
    "|1000000|{:,}|1,000,000|Number format with comma separator|\n",
    "|0.25|{:.2%}|25.00%|Format percentage|\n",
    "|1000000000|{:.2e}|1.00e+09|Exponent notation|\n",
    "|13|{:10d}|13|Right aligned (default, width 10)|\n",
    "|13|{:<10d}|13|Left aligned (width 10)|\n",
    "|13|{:^10d}|13|Center aligned (width 10)|"
   ]
  },
  {
   "cell_type": "code",
   "execution_count": null,
   "metadata": {},
   "outputs": [],
   "source": [
    "pi = 3.1416"
   ]
  },
  {
   "cell_type": "code",
   "execution_count": null,
   "metadata": {},
   "outputs": [],
   "source": [
    "f'Con 2 decimales: {pi:.2f}'"
   ]
  },
  {
   "cell_type": "code",
   "execution_count": null,
   "metadata": {},
   "outputs": [],
   "source": [
    "f'Con 2 decimales y signo: {pi:+.2f}'"
   ]
  },
  {
   "cell_type": "code",
   "execution_count": null,
   "metadata": {},
   "outputs": [],
   "source": [
    "f'En notacion cientifica: {pi:e}'"
   ]
  },
  {
   "cell_type": "code",
   "execution_count": null,
   "metadata": {},
   "outputs": [],
   "source": [
    "f'En notacion cientifica con 2 decimales: {pi:.2e}'"
   ]
  },
  {
   "cell_type": "code",
   "execution_count": null,
   "metadata": {},
   "outputs": [],
   "source": [
    "aux = 10\n",
    "f'con diez espacios {aux:10d}'"
   ]
  },
  {
   "cell_type": "markdown",
   "metadata": {},
   "source": [
    "### String Methods"
   ]
  },
  {
   "cell_type": "markdown",
   "metadata": {},
   "source": [
    "- Los Strings se puede transformar de muchas maneras:\n",
    "\n",
    "\n",
    "```python\n",
    "<str>  = <str>.strip()                       # Strips all whitespace characters from both ends.\n",
    "<str>  = <str>.strip('<chars>')              # Strips all passed characters from both ends.\n",
    "```\n",
    "\n",
    "```python\n",
    "<list> = <str>.split()                       # Splits on any whitespace character.\n",
    "<list> = <str>.split(sep=None, maxsplit=-1)  # Splits on 'sep' str at most 'maxsplit' times.\n",
    "<str>  = <str>.join(<collection>)            # Joins elements using string as separator.\n",
    "```\n",
    "\n",
    "```python\n",
    "<str>  = <str>.replace(old, new [, count])   # Replaces 'old' with 'new' at most 'count' times.\n",
    "<bool> = <str>.startswith(<sub_str>)         # Pass tuple of strings for multiple options.\n",
    "<bool> = <str>.endswith(<sub_str>)           # Pass tuple of strings for multiple options.\n",
    "<int>  = <str>.index(<sub_str>)              # Returns start index of first match.\n",
    "```\n",
    "\n",
    "```python\n",
    "<bool> = <str>.isnumeric()                   # True if str contains only numeric characters.\n",
    "<list> = textwrap.wrap(<str>, width)         # Nicely breaks string into lines.\n",
    "```"
   ]
  },
  {
   "cell_type": "code",
   "execution_count": null,
   "metadata": {},
   "outputs": [],
   "source": [
    "s=\"hello wOrld\""
   ]
  },
  {
   "cell_type": "code",
   "execution_count": null,
   "metadata": {},
   "outputs": [],
   "source": [
    "s.capitalize()"
   ]
  },
  {
   "cell_type": "code",
   "execution_count": null,
   "metadata": {},
   "outputs": [],
   "source": [
    "s.upper()"
   ]
  },
  {
   "cell_type": "code",
   "execution_count": null,
   "metadata": {},
   "outputs": [],
   "source": [
    "s.lower()"
   ]
  },
  {
   "cell_type": "code",
   "execution_count": null,
   "metadata": {},
   "outputs": [],
   "source": [
    " # center in 30 characters\n",
    "\"Hello World\".center(30)"
   ]
  },
  {
   "cell_type": "code",
   "execution_count": null,
   "metadata": {},
   "outputs": [],
   "source": [
    "# remove leading and trailing whitespace\n",
    "\"     lots of space             \".strip()"
   ]
  },
  {
   "cell_type": "code",
   "execution_count": null,
   "metadata": {},
   "outputs": [],
   "source": [
    "\"Hello World\".replace(\"World\", \"Class\")"
   ]
  },
  {
   "cell_type": "code",
   "execution_count": null,
   "metadata": {},
   "outputs": [],
   "source": [
    "s*5"
   ]
  },
  {
   "cell_type": "code",
   "execution_count": null,
   "metadata": {},
   "outputs": [],
   "source": [
    "f\"The length of '{s}' is {len(s)}\""
   ]
  },
  {
   "cell_type": "code",
   "execution_count": null,
   "metadata": {},
   "outputs": [],
   "source": [
    "s.startswith(\"hello\")"
   ]
  },
  {
   "cell_type": "code",
   "execution_count": null,
   "metadata": {},
   "outputs": [],
   "source": [
    "s.endswith(\"World\")"
   ]
  },
  {
   "cell_type": "code",
   "execution_count": null,
   "metadata": {},
   "outputs": [],
   "source": [
    "f\"There are {s.count('l')} l but only {s.count('World')} World in {s}\""
   ]
  },
  {
   "cell_type": "code",
   "execution_count": null,
   "metadata": {},
   "outputs": [],
   "source": [
    "f\"el is at index {s.find('el')} in {s}\""
   ]
  },
  {
   "cell_type": "markdown",
   "metadata": {},
   "source": [
    "## Comparación de Strings\n",
    "- Strings se comparan por orden alfabético.\n",
    "- El operador `in`  checks substrings:"
   ]
  },
  {
   "cell_type": "code",
   "execution_count": null,
   "metadata": {},
   "outputs": [],
   "source": [
    "'a' > 'b'"
   ]
  },
  {
   "cell_type": "code",
   "execution_count": null,
   "metadata": {},
   "outputs": [],
   "source": [
    "'z' > 'b'"
   ]
  },
  {
   "cell_type": "code",
   "execution_count": null,
   "metadata": {},
   "outputs": [],
   "source": [
    "'abc' < 'bbc' <= 'bbc'"
   ]
  },
  {
   "cell_type": "code",
   "execution_count": null,
   "metadata": {},
   "outputs": [],
   "source": [
    "\"ABC\" in \"This is the ABC of Python\""
   ]
  },
  {
   "cell_type": "markdown",
   "metadata": {},
   "source": [
    "## String slicing"
   ]
  },
  {
   "cell_type": "markdown",
   "metadata": {},
   "source": [
    "- Strings se pueden indexar usando corchete. \n",
    "- Los índices empiezan por cero en Python.\n",
    "- **len()** nos da la longitud."
   ]
  },
  {
   "cell_type": "code",
   "execution_count": null,
   "metadata": {},
   "outputs": [],
   "source": [
    "s = '123456789'"
   ]
  },
  {
   "cell_type": "code",
   "execution_count": null,
   "metadata": {},
   "outputs": [],
   "source": [
    "# First charcter \n",
    "s[0]"
   ]
  },
  {
   "cell_type": "code",
   "execution_count": null,
   "metadata": {},
   "outputs": [],
   "source": [
    "# Last charcter\n",
    "s[len(s)-1]"
   ]
  },
  {
   "cell_type": "code",
   "execution_count": null,
   "metadata": {},
   "outputs": [],
   "source": [
    "s[len(s)]"
   ]
  },
  {
   "cell_type": "markdown",
   "metadata": {},
   "source": [
    "- Índices negativos se pueden usar para empezar por atrás"
   ]
  },
  {
   "cell_type": "code",
   "execution_count": null,
   "metadata": {},
   "outputs": [],
   "source": [
    "s"
   ]
  },
  {
   "cell_type": "code",
   "execution_count": null,
   "metadata": {},
   "outputs": [],
   "source": [
    "s[-1]"
   ]
  },
  {
   "cell_type": "code",
   "execution_count": null,
   "metadata": {},
   "outputs": [],
   "source": [
    "s[-len(s)]"
   ]
  },
  {
   "cell_type": "markdown",
   "metadata": {},
   "source": [
    "- Un substring se puede especificar usando $a:b$ para especifar los caracteres de $a,a+1,\\ldots,b-1$. \n",
    "- El último no está incluido:\n",
    "\n",
    "<center>\n",
    "<img src=\"imgs/string_slide.png\"  alt=\"drawing\" width=\"600\"/>\n",
    "</center>"
   ]
  },
  {
   "cell_type": "code",
   "execution_count": null,
   "metadata": {},
   "outputs": [],
   "source": [
    "# First three charcters\n",
    "s[0:3]"
   ]
  },
  {
   "cell_type": "code",
   "execution_count": null,
   "metadata": {},
   "outputs": [],
   "source": [
    "# Next three characters \n",
    "s[3:6]"
   ]
  },
  {
   "cell_type": "markdown",
   "metadata": {},
   "source": [
    "- Un principio o final en el rango vacio se considera el principio final del string."
   ]
  },
  {
   "cell_type": "code",
   "execution_count": null,
   "metadata": {},
   "outputs": [],
   "source": [
    "# First three characters\n",
    "s[:3]"
   ]
  },
  {
   "cell_type": "code",
   "execution_count": null,
   "metadata": {},
   "outputs": [],
   "source": [
    "#Last three characters\n",
    "s[-3:]"
   ]
  },
  {
   "cell_type": "code",
   "execution_count": null,
   "metadata": {},
   "outputs": [],
   "source": [
    "s[:]"
   ]
  },
  {
   "cell_type": "markdown",
   "metadata": {},
   "source": [
    "- Podemos pasar un tercer elmento para ir extrayendo los elementos de paso en paso.\n",
    "- **string[start:end:step]**"
   ]
  },
  {
   "cell_type": "code",
   "execution_count": null,
   "metadata": {},
   "outputs": [],
   "source": [
    "s[2:-1:2]"
   ]
  },
  {
   "cell_type": "code",
   "execution_count": null,
   "metadata": {},
   "outputs": [],
   "source": [
    "s[::2]"
   ]
  },
  {
   "cell_type": "code",
   "execution_count": null,
   "metadata": {},
   "outputs": [],
   "source": [
    "s[::-1]"
   ]
  },
  {
   "cell_type": "markdown",
   "metadata": {},
   "source": [
    "## Los Strings son immutables\n",
    "\n",
    "- Los strings son inmutables, no se puden modificar una vez creados."
   ]
  },
  {
   "cell_type": "code",
   "execution_count": null,
   "metadata": {},
   "outputs": [],
   "source": [
    "s = '012345'\n",
    "s_new = s[:2] + 'X' + s[3:] # this creates a new string with 2 replaced by X\n",
    "print(\"creating new string\", s_new, \"OK\")\n",
    "s_new = s.replace('2', 'X') # the same thing\n",
    "print(s_new, \"still OK\")"
   ]
  },
  {
   "cell_type": "code",
   "execution_count": null,
   "metadata": {},
   "outputs": [],
   "source": [
    "s"
   ]
  },
  {
   "cell_type": "code",
   "execution_count": null,
   "metadata": {},
   "outputs": [],
   "source": [
    "s[2]"
   ]
  },
  {
   "cell_type": "code",
   "execution_count": null,
   "metadata": {},
   "outputs": [],
   "source": [
    "s = s.replace('2', 'X')"
   ]
  }
 ],
 "metadata": {
  "kernelspec": {
   "display_name": "Python 3",
   "language": "python",
   "name": "python3"
  },
  "language_info": {
   "codemirror_mode": {
    "name": "ipython",
    "version": 3
   },
   "file_extension": ".py",
   "mimetype": "text/x-python",
   "name": "python",
   "nbconvert_exporter": "python",
   "pygments_lexer": "ipython3",
   "version": "3.7.3"
  }
 },
 "nbformat": 4,
 "nbformat_minor": 2
}

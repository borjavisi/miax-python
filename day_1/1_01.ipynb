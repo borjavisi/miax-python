{
 "cells": [
  {
   "cell_type": "markdown",
   "metadata": {},
   "source": [
    "# 1.1. Jupyter Notebooks"
   ]
  },
  {
   "cell_type": "markdown",
   "metadata": {},
   "source": [
    "- Los notebooks son simplemente documentos JSON que contienen texto, código fuente y metadatos.\n",
    "- Los notebooks están formados por celdas. \n",
    "- Cada celda puede contener código Python (marcado en el desplegable de arriba como \"Code\"), texto (marcado como \"Markdown\") o incluso código que no será ejecutado por el notebook (\"Raw NBConvert\")\n",
    "- Esto es una celda"
   ]
  },
  {
   "cell_type": "code",
   "execution_count": null,
   "metadata": {
    "collapsed": true
   },
   "outputs": [],
   "source": [
    "# Esto es una celda"
   ]
  },
  {
   "cell_type": "markdown",
   "metadata": {},
   "source": [
    "- Se  guardan pulsando el botón de guardado, con el comando Ctrl + S o de forma automática.\n",
    "- Los notebooks permiten ejecutar código de Python.\n",
    "- Cerrar el notebook no para la ejecución del mismo, se pueden ver los abiertos en running.\n",
    "- Para detenerlos, selecciónalos y pulsa el botón \"Shutdown\"."
   ]
  },
  {
   "cell_type": "markdown",
   "metadata": {},
   "source": [
    "Otros comandos interesantes en notebooks:\n",
    "- Alt + Enter: insertar una nueva celda a continuación de la actual.\n",
    "- m: convierte la celda actual en Markdown\n",
    "- a: inserta una celda encima de la actual\n",
    "- b: inserta una celda abajo de la actual\n",
    "- d: borra la celda actual\n",
    "- Tab: muestra los atributos de un objeto\n",
    "- Shift + Tab: muestra ayuda sobre cualquier función"
   ]
  },
  {
   "cell_type": "markdown",
   "metadata": {},
   "source": [
    "## Código"
   ]
  },
  {
   "cell_type": "markdown",
   "metadata": {},
   "source": [
    "Cada celda de código se puede ejecutar de forma independiente. También podemos ejecutar un notebook entero de una sola vez, aunque hay que tener en cualquier caso, si una línea da un error no controlado, la ejecución del código se detendrá (si se han ejecutado varias celdas, la ejecución se parará igualmente).\n",
    "Para ejecutarla:\n",
    "- Pulsa el botón \"Run\" situado arriba\n",
    "- Pusa Ctrl + Enter (se quedará seleccionada la celda en la que te encuentres)\n",
    "- Pulsa Shift + Enter (se ejecutará y pasará a seleccionarse la siguiente celda)\n",
    "Una celda sin ejecutar aparecerá con un \"In [ ]:\" a su izquierda.\n",
    "Mientras se ejecuta, entre los corchetes veremos un asterisco, así [*].\n",
    "Una vez ejecutados, los corchetes se rellenarán con un número.\n",
    "Si el código de la celda está diseñado para devolver algún output, debajo del código aparecerá en rojo \"Out [número del input]: \" seguido de la salida del código.\n",
    "Si una celda se ejecuta de nuevo, el número asociado cambiará."
   ]
  },
  {
   "cell_type": "code",
   "execution_count": null,
   "metadata": {
    "collapsed": false
   },
   "outputs": [],
   "source": [
    "# Esto es un pequeño código en Python, insertado en este notebook\n",
    "# En concreto, esto son comentarios en Python\n",
    "# Para ejecutarlo, selecciónalo y pulsa el botón \"run\" situado arriba\n",
    "# O pulsa Ctrl + Enter\n",
    "# Verás el resultado de usar Python como calculadora\n",
    "2 + 3"
   ]
  },
  {
   "cell_type": "markdown",
   "metadata": {},
   "source": [
    "Sólo veremos la respuesta de la última línea que imprima por pantalla"
   ]
  },
  {
   "cell_type": "code",
   "execution_count": null,
   "metadata": {
    "collapsed": false
   },
   "outputs": [],
   "source": [
    "2 + 3\n",
    "10 + 4"
   ]
  },
  {
   "cell_type": "markdown",
   "metadata": {},
   "source": [
    "La función print() que imprime por pantalla, la veremos detenidamente más adelante:"
   ]
  },
  {
   "cell_type": "code",
   "execution_count": null,
   "metadata": {
    "collapsed": false
   },
   "outputs": [],
   "source": [
    "print(2 + 3)\n",
    "10 + 4"
   ]
  },
  {
   "cell_type": "code",
   "execution_count": null,
   "metadata": {
    "collapsed": false
   },
   "outputs": [],
   "source": [
    "print(2 + 3)\n",
    "print(10 + 4)"
   ]
  },
  {
   "cell_type": "markdown",
   "metadata": {},
   "source": [
    "Si tenemos una variable:"
   ]
  },
  {
   "cell_type": "code",
   "execution_count": 1,
   "metadata": {
    "collapsed": true
   },
   "outputs": [],
   "source": [
    "x = 2 + 3"
   ]
  },
  {
   "cell_type": "markdown",
   "metadata": {},
   "source": [
    "Podemos ver que contiene:"
   ]
  },
  {
   "cell_type": "code",
   "execution_count": 2,
   "metadata": {},
   "outputs": [
    {
     "data": {
      "text/plain": [
       "5"
      ]
     },
     "execution_count": 2,
     "metadata": {},
     "output_type": "execute_result"
    }
   ],
   "source": [
    "x"
   ]
  },
  {
   "cell_type": "code",
   "execution_count": 3,
   "metadata": {
    "collapsed": false
   },
   "outputs": [
    {
     "name": "stdout",
     "output_type": "stream",
     "text": [
      "5\n"
     ]
    }
   ],
   "source": [
    "print(x)"
   ]
  },
  {
   "cell_type": "markdown",
   "metadata": {},
   "source": [
    "Para ver todas las variables instanciadas en el notebook podemos usar dir"
   ]
  },
  {
   "cell_type": "code",
   "execution_count": 4,
   "metadata": {
    "collapsed": false
   },
   "outputs": [
    {
     "data": {
      "text/plain": [
       "['In',\n",
       " 'Out',\n",
       " '_',\n",
       " '_2',\n",
       " '__',\n",
       " '___',\n",
       " '__builtin__',\n",
       " '__builtins__',\n",
       " '__doc__',\n",
       " '__loader__',\n",
       " '__name__',\n",
       " '__package__',\n",
       " '__spec__',\n",
       " '_dh',\n",
       " '_i',\n",
       " '_i1',\n",
       " '_i2',\n",
       " '_i3',\n",
       " '_i4',\n",
       " '_ih',\n",
       " '_ii',\n",
       " '_iii',\n",
       " '_oh',\n",
       " 'exit',\n",
       " 'get_ipython',\n",
       " 'quit',\n",
       " 'x']"
      ]
     },
     "execution_count": 4,
     "metadata": {},
     "output_type": "execute_result"
    }
   ],
   "source": [
    "dir()"
   ]
  },
  {
   "cell_type": "markdown",
   "metadata": {},
   "source": [
    "- Al ejecutar cada celda de código que devuelve un output, ese output queda almacenado en una variable definida con una barra baja seguida del número del Output.\n",
    "- Ejemplo: '_6'. haz una prueba."
   ]
  },
  {
   "cell_type": "code",
   "execution_count": 9,
   "metadata": {},
   "outputs": [],
   "source": [
    "# Imprime alguno de los outputs de las celdas anteriores"
   ]
  },
  {
   "cell_type": "code",
   "execution_count": null,
   "metadata": {},
   "outputs": [],
   "source": []
  },
  {
   "cell_type": "markdown",
   "metadata": {},
   "source": [
    "### Markdown"
   ]
  },
  {
   "cell_type": "markdown",
   "metadata": {},
   "source": [
    "Se pueden poner títulos:\n",
    "#### Esto es un título insertado en el notebook con markdown"
   ]
  },
  {
   "cell_type": "markdown",
   "metadata": {},
   "source": [
    "Esto es texto insertado en el notebook con markdown. Para editarlo, haz doble click sobre este párrafo.\n",
    "Puedes introducir texto de muchas maneras:\n",
    "Como *cursiva*, **negrita**\n",
    "- Listas.\n",
    "\n",
    "Si haces click [aqui](https://github.com/adam-p/markdown-here/wiki/Markdown-Cheatsheet) puedes ver una cheatsheet con formatos de markdown\n"
   ]
  },
  {
   "cell_type": "markdown",
   "metadata": {},
   "source": [
    "### Desventajas\n",
    "\n",
    "- Son muy buenos para aprender y clases, pero no tanto para proyectos grandes.\n",
    "- Mejor usar otros editores tipo Rstudio y ficheros py.\n",
    "- Las variables se mantienen y puede dar lugar a errores \"raros\", si no se ejecutan las celdas en orden."
   ]
  },
  {
   "cell_type": "code",
   "execution_count": null,
   "metadata": {},
   "outputs": [],
   "source": [
    "a = 1 "
   ]
  },
  {
   "cell_type": "code",
   "execution_count": null,
   "metadata": {},
   "outputs": [],
   "source": [
    "a = 2"
   ]
  },
  {
   "cell_type": "code",
   "execution_count": null,
   "metadata": {},
   "outputs": [],
   "source": [
    "a"
   ]
  }
 ],
 "metadata": {
  "kernelspec": {
   "display_name": "Python 3",
   "language": "python",
   "name": "python3"
  },
  "language_info": {
   "codemirror_mode": {
    "name": "ipython",
    "version": 3
   },
   "file_extension": ".py",
   "mimetype": "text/x-python",
   "name": "python",
   "nbconvert_exporter": "python",
   "pygments_lexer": "ipython3",
   "version": "3.6.5"
  }
 },
 "nbformat": 4,
 "nbformat_minor": 2
}

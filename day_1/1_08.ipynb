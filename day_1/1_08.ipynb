{
 "cells": [
  {
   "cell_type": "markdown",
   "metadata": {},
   "source": [
    "# 1.8. Escritura de ficheros de texto y guardado de variables\n",
    "## Escritura de ficheros de texto "
   ]
  },
  {
   "cell_type": "markdown",
   "metadata": {},
   "source": [
    "- Se abre el fichero con **open()**, modos de apertura:\n",
    " * **`'r'`  - Read (default).** \n",
    " * **`'w'`  - Write (truncate).**\n",
    " * **`'x'`  - Write or fail if the file already exists.**\n",
    " * **`'a'`  - Append.**\n",
    " * **`'w+'` - Read and write (truncate).**\n",
    " * **`'r+'` - Read and write from the start.**\n",
    " * **`'a+'` - Read and write from the end.**\n",
    " * **`'t'`  - Text mode (default).**\n",
    " * **`'b'`  - Binary mode.**\n",
    "- Cierre del fichero una vez se ha finalizado el trabajo con el mismo."
   ]
  },
  {
   "cell_type": "code",
   "execution_count": 1,
   "metadata": {},
   "outputs": [],
   "source": [
    "f = open(\"prueba.txt\", \"w\")\n",
    "f.write(\"Esto\\n\")\n",
    "f.write(\"es\\n\")\n",
    "f.write(\"una\\n\")\n",
    "f.write(\"prueba\\n\")\n",
    "f.close()"
   ]
  },
  {
   "cell_type": "markdown",
   "metadata": {},
   "source": [
    "- Idealmente se utilizan un context manager para no tener que cerrar el ficher explícitamente."
   ]
  },
  {
   "cell_type": "code",
   "execution_count": 4,
   "metadata": {},
   "outputs": [],
   "source": [
    "with open(\"prueba.txt\", \"w\") as f:\n",
    "    f.write(\"Esto\\n\")\n",
    "    f.write(\"es\\n\")\n",
    "    f.write(\"una\\n\")\n",
    "    f.write(\"prueba\\n\")"
   ]
  },
  {
   "cell_type": "markdown",
   "metadata": {},
   "source": [
    "- Para leer podemos usar los métodos read() o readlines():"
   ]
  },
  {
   "cell_type": "code",
   "execution_count": 6,
   "metadata": {},
   "outputs": [
    {
     "name": "stdout",
     "output_type": "stream",
     "text": [
      "Esto\n",
      "\n"
     ]
    }
   ],
   "source": [
    "with open(\"prueba.txt\", \"r\") as f:\n",
    "    line = f.readline()\n",
    "print(line)"
   ]
  },
  {
   "cell_type": "code",
   "execution_count": 7,
   "metadata": {},
   "outputs": [
    {
     "name": "stdout",
     "output_type": "stream",
     "text": [
      "['Esto\\n', 'es\\n', 'una\\n', 'prueba\\n']\n"
     ]
    }
   ],
   "source": [
    "with open(\"prueba.txt\", \"r\") as f:\n",
    "    lines = f.readlines()\n",
    "print(lines)"
   ]
  },
  {
   "cell_type": "markdown",
   "metadata": {},
   "source": [
    "## Guardado de variables"
   ]
  },
  {
   "cell_type": "markdown",
   "metadata": {},
   "source": [
    "- Las variables se pueden guardar de forma serializada utilizando la librería pickle.\n",
    "- Para guardar:"
   ]
  },
  {
   "cell_type": "code",
   "execution_count": 11,
   "metadata": {},
   "outputs": [],
   "source": [
    "import pickle"
   ]
  },
  {
   "cell_type": "code",
   "execution_count": 17,
   "metadata": {},
   "outputs": [],
   "source": [
    "v_to_save = ['hola', 'me', 'guardo']"
   ]
  },
  {
   "cell_type": "code",
   "execution_count": 33,
   "metadata": {},
   "outputs": [],
   "source": [
    "with open('mis_variables.pkl', 'wb') as f:\n",
    "    pickle.dump(v_to_save, f)"
   ]
  },
  {
   "cell_type": "markdown",
   "metadata": {},
   "source": [
    "- Para leer:"
   ]
  },
  {
   "cell_type": "code",
   "execution_count": 34,
   "metadata": {},
   "outputs": [],
   "source": [
    "with open('mis_variables.pkl', 'rb') as f:\n",
    "    guardada = pickle.load(f)"
   ]
  },
  {
   "cell_type": "code",
   "execution_count": 35,
   "metadata": {},
   "outputs": [
    {
     "data": {
      "text/plain": [
       "['hola', 'me', 'guardo']"
      ]
     },
     "execution_count": 35,
     "metadata": {},
     "output_type": "execute_result"
    }
   ],
   "source": [
    "guardada"
   ]
  }
 ],
 "metadata": {
  "kernelspec": {
   "display_name": "Python 3",
   "language": "python",
   "name": "python3"
  },
  "language_info": {
   "codemirror_mode": {
    "name": "ipython",
    "version": 3
   },
   "file_extension": ".py",
   "mimetype": "text/x-python",
   "name": "python",
   "nbconvert_exporter": "python",
   "pygments_lexer": "ipython3",
   "version": "3.6.5"
  }
 },
 "nbformat": 4,
 "nbformat_minor": 2
}

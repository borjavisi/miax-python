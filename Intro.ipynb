{
 "cells": [
  {
   "cell_type": "markdown",
   "metadata": {},
   "source": [
    "# Introducción a Python Aplicado a Finanzas Cuantitativas.\n",
    "\n",
    "<center>\n",
    "<img src=\"day_1/imgs/python-logo.png\"  alt=\"drawing\" width=\"500\"/>\n",
    "</center>\n",
    "\n",
    "- Fernando de la Calle Silos\n",
    "- fcalle@grupobme.es\n",
    "___\n",
    "\n",
    "<center>\n",
    "<img src=\"day_1/imgs/python.png\"  alt=\"drawing\" width=\"400\"/>\n",
    "</center>"
   ]
  },
  {
   "cell_type": "markdown",
   "metadata": {},
   "source": [
    "## Syllabus\n",
    "## Día 1: Fundamentos de programación.\n",
    "* [1.0.](day_1/1_00.ipynb) Instalación.\n",
    "* [1.1.](day_1/1_01.ipynb) Jupyter Notebooks.\n",
    "* [1.2.](day_1/1_02.ipynb) Sintaxis básica, operaciones y tipos básicos.\n",
    "* [1.3.](day_1/1_03.ipynb) Strings.\n",
    "* [1.4.](day_1/1_04.ipynb) Estructuras de datos: Lists, Tuples y Sets.\n",
    "* [1.5.](day_1/1_05.ipynb) Estructuras de datos: Diccionarios.\n",
    "* [1.6.](day_1/1_06.ipynb) Control Flow.\n",
    "\n",
    "## Día 2: Introducción a las librerías Numpy y Pandas.\n",
    "* [2.1.](day_2/2_01.ipynb) Funciones.\n",
    "* [2.2.](day_2/2_02.ipynb) Modulos y Scripts.\n",
    "* [2.3.](day_2/2_03.ipynb) Escritura de ficheros de texto y guardado de variables.\n",
    "* [2.4.](day_2/2_04.ipynb) Introducción a NumPy I.\n",
    "* [2.5.](day_2/2_05.ipynb) Introducción a NumPy II.\n",
    "* [2.6.](day_2/2_06.ipynb) Introducción a NumPy III.\n",
    "* [2.7.](day_2/2_07.ipynb) Introducción a Pandas I.\n",
    "* [2.8.](day_2/2_08.ipynb) Introducción a Pandas II.\n",
    "* [2.9.](day_2/2_09.ipynb) Introducción a Pandas III.\n",
    "\n",
    "## Dia 3: Visualización y tratamiento de datos\n",
    "* [3.1.](day_3/3_01.ipynb) Visualización de datos.\n",
    "* [3.2.](day_3/3_02.ipynb) Adquisición y guardado de datos.\n",
    "* [3.3.](day_3/3_03.ipynb) Limpieza y preparación de datos.\n",
    "* [3.4.](day_3/3_04.ipynb) Operaciones de combinar, juntar y agrupar.\n",
    "* [3.5.](day_3/3_05.ipynb) Tratamiento de series temporales I.\n",
    "* [3.5.](day_3/3_05.ipynb) Tratamiento de series temporales II.\n",
    "\n",
    "\n",
    "## Día 4: Temas avanzados.\n",
    "* Introducción a la programación orientada a objetos.\n",
    "* Procesamiento en paralelo con multiprocessing. Itertools.\n",
    "* Visualizaciones interactivas con interact.\n",
    "* Web scraping con beautifulsoup.\n",
    "* Editores y flujo de trabajo.\n",
    "\n",
    "\n",
    "## Día 5: Aplicaciones específicas en mercados financieros.\n",
    "* Obtención de datos financieros de distintas fuentes.\n",
    "* Simulación para medición de riesgos (VaR).\n",
    "* Valoración de opciones financieras.\n",
    "* Estrategias de inversión.\n",
    "\n",
    "Práctica: Análisis de series temporales bursátiles.\n",
    "\n"
   ]
  },
  {
   "cell_type": "markdown",
   "metadata": {},
   "source": [
    "## Recursos\n",
    "- \"Python for Data Analysis\" by Wes McKinney.\n",
    "<center>\n",
    "<img src=\"day_1/imgs/wes.jpg\"  alt=\"drawing\" width=\"300\"/>\n",
    "</center>\n",
    "- Python tutorial: https://docs.python.org/3/tutorial/index.html\n",
    "- Python documentation: https://docs.python.org/3.6/index.html\n",
    "- PEP8:\n",
    "    - https://www.python.org/dev/peps/pep-0008/\n",
    "    - https://pep8.org/\n",
    "- https://gto76.github.io/python-cheatsheet/\n",
    "- https://ehmatthes.github.io/pcc/cheatsheets/README.html"
   ]
  }
 ],
 "metadata": {
  "kernelspec": {
   "display_name": "Python 3",
   "language": "python",
   "name": "python3"
  },
  "language_info": {
   "codemirror_mode": {
    "name": "ipython",
    "version": 3
   },
   "file_extension": ".py",
   "mimetype": "text/x-python",
   "name": "python",
   "nbconvert_exporter": "python",
   "pygments_lexer": "ipython3",
   "version": "3.6.7"
  }
 },
 "nbformat": 4,
 "nbformat_minor": 2
}

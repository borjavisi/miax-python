{
 "cells": [
  {
   "cell_type": "markdown",
   "metadata": {},
   "source": [
    "# Introducción a Python Aplicado a Finanzas Cuantitativas.\n",
    "\n",
    "<center>\n",
    "<img src=\"day_1/imgs/python-logo.png\"  alt=\"drawing\" width=\"500\"/>\n",
    "</center>\n",
    "\n",
    "- Fernando de la Calle Silos\n",
    "- fcalle@grupobme.es\n",
    "___\n",
    "\n",
    "<center>\n",
    "<img src=\"day_1/imgs/python.png\"  alt=\"drawing\" width=\"400\"/>\n",
    "</center>\n",
    "\n",
    "## Syllabus\n",
    "- Día 1: Fundamentos de programación.\n",
    "    - Instalación y creación de virtual environments.\n",
    "    - Elementos de programación en Python.\n",
    "    - Estructuras de datos y control del flujo.\n",
    "    - Módulos y funciones.\n",
    "    - Ficheros.\n",
    "\n",
    "\n",
    "- Día 2: Introducción a las librerías Numpy y Pandas.\n",
    "    - Introducción a Numpy\n",
    "    - Introducción a Pandas\n",
    "\n",
    "\n",
    "- Día 3: Visualización y tratamiento de datos\n",
    "    - Visualización de datos y gráficos con matplotlib y pandas.\n",
    "    - Carga y almacenamiento de datos.\n",
    "    - Limpieza, preparación y homogenización.\n",
    "    - Tratamiento de series temporales.\n",
    "\n",
    "\n",
    "- Día 4: Temas avanzados.\n",
    "    - Introducción a la programación orientada a objetos.\n",
    "    - Procesamiento en paralelo con multiprocessing.\n",
    "    - Visualizaciones interactivas con plotly y interact.\n",
    "    - Web scraping con beautifulsoup.\n",
    "    - Editores y flujo de trabajo.\n",
    "\n",
    "- Día 5: Aplicaciones específicas en mercados financieros.\n",
    "    - Obtención de datos financieros de distintas fuentes.\n",
    "    - Simulación para medición de riesgos (VaR).\n",
    "    - Valoración de opciones financieras.\n",
    "    - Estrategias de inversión.\n",
    "\n",
    "Práctica: Análisis de series temporales bursátiles."
   ]
  },
  {
   "cell_type": "markdown",
   "metadata": {},
   "source": [
    "## Día 1\n",
    "* [1.0](day_1/1_00.ipynb) Instalación.\n",
    "* [1.1](day_1/1_01.ipynb) Jupyter Notebooks.\n",
    "* [1.2](day_1/1_02.ipynb) Sintaxis básica, operaciones y tipos básicos.\n",
    "* [1.3](day_1/1_03.ipynb) Strings.\n",
    "* [1.4](day_1/1_04.ipynb) Estructuras de datos: Lists, Tuples y Sets.\n",
    "* [1.5](day_1/1_05.ipynb) Estructuras de datos: Diccionarios.\n",
    "* [1.6](day_1/1_06.ipynb) Control Flow.\n",
    "\n",
    "## Día 2\n",
    "* [2.1](day_2/2_01.ipynb) Funciones.\n",
    "* [2.1](day_2/2_02.ipynb) Modulos y Scripts.\n",
    "* [2.3](day_2/2_03.ipynb) Escritura de ficheros de texto y guardado de variables.\n",
    "\n",
    "\n",
    "\n",
    "\n",
    "## Dia 3\n",
    "\n"
   ]
  },
  {
   "cell_type": "markdown",
   "metadata": {},
   "source": [
    "## Recursos\n",
    "- \"Python for Data Analysis\" by Wes McKinney.\n",
    "<center>\n",
    "<img src=\"day_1/imgs/wes.jpg\"  alt=\"drawing\" width=\"300\"/>\n",
    "</center>\n",
    "- Python tutorial: https://docs.python.org/3/tutorial/index.html\n",
    "- Python documentation: https://docs.python.org/3.6/index.html\n",
    "- PEP8:\n",
    "    - https://www.python.org/dev/peps/pep-0008/\n",
    "    - https://pep8.org/\n",
    "- https://gto76.github.io/python-cheatsheet/\n",
    "- https://ehmatthes.github.io/pcc/cheatsheets/README.html"
   ]
  }
 ],
 "metadata": {
  "kernelspec": {
   "display_name": "Python 3",
   "language": "python",
   "name": "python3"
  },
  "language_info": {
   "codemirror_mode": {
    "name": "ipython",
    "version": 3
   },
   "file_extension": ".py",
   "mimetype": "text/x-python",
   "name": "python",
   "nbconvert_exporter": "python",
   "pygments_lexer": "ipython3",
   "version": "3.7.3"
  }
 },
 "nbformat": 4,
 "nbformat_minor": 2
}

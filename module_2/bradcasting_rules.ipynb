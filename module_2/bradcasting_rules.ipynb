{
 "cells": [
  {
   "cell_type": "code",
   "execution_count": 1,
   "id": "6c7af92e-7e7b-4fb4-a676-4755e2f2a37a",
   "metadata": {},
   "outputs": [],
   "source": [
    "import numpy as np"
   ]
  },
  {
   "cell_type": "code",
   "execution_count": 2,
   "id": "323d56f8-1df7-4670-9352-caef28f9229e",
   "metadata": {},
   "outputs": [
    {
     "data": {
      "text/plain": [
       "array([[5, 5, 7, 5, 6, 8, 3, 6, 3, 2],\n",
       "       [7, 1, 9, 4, 1, 2, 4, 4, 0, 1],\n",
       "       [4, 7, 8, 3, 4, 5, 4, 0, 1, 1],\n",
       "       [9, 2, 6, 5, 3, 7, 6, 9, 3, 3],\n",
       "       [8, 7, 3, 0, 6, 3, 1, 2, 1, 5],\n",
       "       [1, 8, 9, 8, 1, 3, 1, 3, 9, 3],\n",
       "       [0, 7, 3, 4, 6, 7, 6, 1, 5, 0],\n",
       "       [4, 4, 0, 8, 3, 8, 3, 2, 2, 3]])"
      ]
     },
     "execution_count": 2,
     "metadata": {},
     "output_type": "execute_result"
    }
   ],
   "source": [
    "mat = np.random.randint(0, 10, size=(8, 10))\n",
    "mat"
   ]
  },
  {
   "cell_type": "markdown",
   "id": "bf24604a-9e30-4011-a79c-c36fe2d8bf56",
   "metadata": {},
   "source": [
    "___"
   ]
  },
  {
   "cell_type": "code",
   "execution_count": 6,
   "id": "c4d7fd48-5c9e-45cd-9132-2d42e68900d8",
   "metadata": {},
   "outputs": [
    {
     "data": {
      "text/plain": [
       "array([4.75 , 5.125, 5.625, 4.625, 3.75 , 5.375, 3.5  , 3.375, 3.   ,\n",
       "       2.25 ])"
      ]
     },
     "execution_count": 6,
     "metadata": {},
     "output_type": "execute_result"
    }
   ],
   "source": [
    "media_col = mat.mean(axis=0)\n",
    "media_col"
   ]
  },
  {
   "cell_type": "code",
   "execution_count": 4,
   "id": "d6e669e3-21e0-418f-aee7-2546af674bdc",
   "metadata": {},
   "outputs": [
    {
     "name": "stdout",
     "output_type": "stream",
     "text": [
      "(8, 10) (10,)\n"
     ]
    }
   ],
   "source": [
    "print(mat.shape, media_col.shape)"
   ]
  },
  {
   "cell_type": "code",
   "execution_count": 5,
   "id": "28443bd9-0fa5-4b83-8cf4-9e35a1c1747f",
   "metadata": {},
   "outputs": [
    {
     "data": {
      "text/plain": [
       "array([[ 0.25 , -0.125,  1.375,  0.375,  2.25 ,  2.625, -0.5  ,  2.625,\n",
       "         0.   , -0.25 ],\n",
       "       [ 2.25 , -4.125,  3.375, -0.625, -2.75 , -3.375,  0.5  ,  0.625,\n",
       "        -3.   , -1.25 ],\n",
       "       [-0.75 ,  1.875,  2.375, -1.625,  0.25 , -0.375,  0.5  , -3.375,\n",
       "        -2.   , -1.25 ],\n",
       "       [ 4.25 , -3.125,  0.375,  0.375, -0.75 ,  1.625,  2.5  ,  5.625,\n",
       "         0.   ,  0.75 ],\n",
       "       [ 3.25 ,  1.875, -2.625, -4.625,  2.25 , -2.375, -2.5  , -1.375,\n",
       "        -2.   ,  2.75 ],\n",
       "       [-3.75 ,  2.875,  3.375,  3.375, -2.75 , -2.375, -2.5  , -0.375,\n",
       "         6.   ,  0.75 ],\n",
       "       [-4.75 ,  1.875, -2.625, -0.625,  2.25 ,  1.625,  2.5  , -2.375,\n",
       "         2.   , -2.25 ],\n",
       "       [-0.75 , -1.125, -5.625,  3.375, -0.75 ,  2.625, -0.5  , -1.375,\n",
       "        -1.   ,  0.75 ]])"
      ]
     },
     "execution_count": 5,
     "metadata": {},
     "output_type": "execute_result"
    }
   ],
   "source": [
    "mat - media_col"
   ]
  },
  {
   "cell_type": "markdown",
   "id": "55bf6bcb-520d-4d32-8ecb-f305db806fc8",
   "metadata": {},
   "source": [
    "___"
   ]
  },
  {
   "cell_type": "code",
   "execution_count": 8,
   "id": "37d5b107-3d89-46a7-ab1c-8b31b9199bcb",
   "metadata": {},
   "outputs": [
    {
     "data": {
      "text/plain": [
       "array([5. , 3.3, 3.7, 5.3, 3.6, 4.6, 3.9, 3.7])"
      ]
     },
     "execution_count": 8,
     "metadata": {},
     "output_type": "execute_result"
    }
   ],
   "source": [
    "media_row = mat.mean(axis=1)\n",
    "media_row"
   ]
  },
  {
   "cell_type": "code",
   "execution_count": 9,
   "id": "66e9c74b-591f-4f8f-8b78-5377ec16c559",
   "metadata": {},
   "outputs": [
    {
     "name": "stdout",
     "output_type": "stream",
     "text": [
      "(8, 10) (8,)\n"
     ]
    }
   ],
   "source": [
    "print(mat.shape, media_row.shape)"
   ]
  },
  {
   "cell_type": "code",
   "execution_count": 10,
   "id": "46e956d5-ff65-4566-b95d-9b495a13c050",
   "metadata": {},
   "outputs": [
    {
     "ename": "ValueError",
     "evalue": "operands could not be broadcast together with shapes (8,10) (8,) ",
     "output_type": "error",
     "traceback": [
      "\u001b[0;31m---------------------------------------------------------------------------\u001b[0m",
      "\u001b[0;31mValueError\u001b[0m                                Traceback (most recent call last)",
      "Cell \u001b[0;32mIn [10], line 1\u001b[0m\n\u001b[0;32m----> 1\u001b[0m \u001b[43mmat\u001b[49m\u001b[43m \u001b[49m\u001b[38;5;241;43m-\u001b[39;49m\u001b[43m \u001b[49m\u001b[43mmedia_row\u001b[49m\n",
      "\u001b[0;31mValueError\u001b[0m: operands could not be broadcast together with shapes (8,10) (8,) "
     ]
    }
   ],
   "source": [
    "mat - media_row"
   ]
  },
  {
   "cell_type": "code",
   "execution_count": 11,
   "id": "2c8f6117-bf62-4d62-b2d3-437983328bfc",
   "metadata": {},
   "outputs": [
    {
     "name": "stdout",
     "output_type": "stream",
     "text": [
      "(10, 8) (8,)\n"
     ]
    }
   ],
   "source": [
    "print(mat.T.shape, media_row.shape)"
   ]
  },
  {
   "cell_type": "code",
   "execution_count": 12,
   "id": "3e0e1cd8-cc3f-442b-97ed-7471a7282130",
   "metadata": {},
   "outputs": [
    {
     "data": {
      "text/plain": [
       "array([[ 0. ,  3.7,  0.3,  3.7,  4.4, -3.6, -3.9,  0.3],\n",
       "       [ 0. , -2.3,  3.3, -3.3,  3.4,  3.4,  3.1,  0.3],\n",
       "       [ 2. ,  5.7,  4.3,  0.7, -0.6,  4.4, -0.9, -3.7],\n",
       "       [ 0. ,  0.7, -0.7, -0.3, -3.6,  3.4,  0.1,  4.3],\n",
       "       [ 1. , -2.3,  0.3, -2.3,  2.4, -3.6,  2.1, -0.7],\n",
       "       [ 3. , -1.3,  1.3,  1.7, -0.6, -1.6,  3.1,  4.3],\n",
       "       [-2. ,  0.7,  0.3,  0.7, -2.6, -3.6,  2.1, -0.7],\n",
       "       [ 1. ,  0.7, -3.7,  3.7, -1.6, -1.6, -2.9, -1.7],\n",
       "       [-2. , -3.3, -2.7, -2.3, -2.6,  4.4,  1.1, -1.7],\n",
       "       [-3. , -2.3, -2.7, -2.3,  1.4, -1.6, -3.9, -0.7]])"
      ]
     },
     "execution_count": 12,
     "metadata": {},
     "output_type": "execute_result"
    }
   ],
   "source": [
    "mat.T - media_row"
   ]
  },
  {
   "cell_type": "code",
   "execution_count": 14,
   "id": "71a3236a-72ed-4749-af44-39118bf92eb9",
   "metadata": {},
   "outputs": [
    {
     "data": {
      "text/plain": [
       "array([[5, 5, 7, 5, 6, 8, 3, 6, 3, 2],\n",
       "       [7, 1, 9, 4, 1, 2, 4, 4, 0, 1],\n",
       "       [4, 7, 8, 3, 4, 5, 4, 0, 1, 1],\n",
       "       [9, 2, 6, 5, 3, 7, 6, 9, 3, 3],\n",
       "       [8, 7, 3, 0, 6, 3, 1, 2, 1, 5],\n",
       "       [1, 8, 9, 8, 1, 3, 1, 3, 9, 3],\n",
       "       [0, 7, 3, 4, 6, 7, 6, 1, 5, 0],\n",
       "       [4, 4, 0, 8, 3, 8, 3, 2, 2, 3]])"
      ]
     },
     "execution_count": 14,
     "metadata": {},
     "output_type": "execute_result"
    }
   ],
   "source": [
    "mat"
   ]
  },
  {
   "cell_type": "code",
   "execution_count": 13,
   "id": "3fb57c52-5461-4522-ace2-4e618a1ed34c",
   "metadata": {},
   "outputs": [
    {
     "data": {
      "text/plain": [
       "array([[ 0. ,  0. ,  2. ,  0. ,  1. ,  3. , -2. ,  1. , -2. , -3. ],\n",
       "       [ 3.7, -2.3,  5.7,  0.7, -2.3, -1.3,  0.7,  0.7, -3.3, -2.3],\n",
       "       [ 0.3,  3.3,  4.3, -0.7,  0.3,  1.3,  0.3, -3.7, -2.7, -2.7],\n",
       "       [ 3.7, -3.3,  0.7, -0.3, -2.3,  1.7,  0.7,  3.7, -2.3, -2.3],\n",
       "       [ 4.4,  3.4, -0.6, -3.6,  2.4, -0.6, -2.6, -1.6, -2.6,  1.4],\n",
       "       [-3.6,  3.4,  4.4,  3.4, -3.6, -1.6, -3.6, -1.6,  4.4, -1.6],\n",
       "       [-3.9,  3.1, -0.9,  0.1,  2.1,  3.1,  2.1, -2.9,  1.1, -3.9],\n",
       "       [ 0.3,  0.3, -3.7,  4.3, -0.7,  4.3, -0.7, -1.7, -1.7, -0.7]])"
      ]
     },
     "execution_count": 13,
     "metadata": {},
     "output_type": "execute_result"
    }
   ],
   "source": [
    "(mat.T - media_row).T"
   ]
  },
  {
   "cell_type": "markdown",
   "id": "c67ee045-7af3-4ed7-9921-adc5ffd48f77",
   "metadata": {},
   "source": [
    "___"
   ]
  },
  {
   "cell_type": "code",
   "execution_count": 16,
   "id": "3efcc2f0-3752-4cd9-87cb-9cbb7b0db93c",
   "metadata": {},
   "outputs": [
    {
     "data": {
      "text/plain": [
       "(8,)"
      ]
     },
     "execution_count": 16,
     "metadata": {},
     "output_type": "execute_result"
    }
   ],
   "source": [
    "media_row.shape"
   ]
  },
  {
   "cell_type": "code",
   "execution_count": 29,
   "id": "074086fb-b154-4bb5-bb63-d9998bb48020",
   "metadata": {},
   "outputs": [],
   "source": [
    "media_row = mat.mean(axis=1)"
   ]
  },
  {
   "cell_type": "code",
   "execution_count": 30,
   "id": "ea53a3dd-4dbf-4cbb-aa1f-4349b98b3528",
   "metadata": {},
   "outputs": [
    {
     "data": {
      "text/plain": [
       "array([5. , 3.3, 3.7, 5.3, 3.6, 4.6, 3.9, 3.7])"
      ]
     },
     "execution_count": 30,
     "metadata": {},
     "output_type": "execute_result"
    }
   ],
   "source": [
    "media_row"
   ]
  },
  {
   "cell_type": "code",
   "execution_count": 25,
   "id": "529fd185-614d-46d9-bfb5-4513539b23a8",
   "metadata": {},
   "outputs": [
    {
     "data": {
      "text/plain": [
       "(8,)"
      ]
     },
     "execution_count": 25,
     "metadata": {},
     "output_type": "execute_result"
    }
   ],
   "source": [
    "media_row.shape"
   ]
  },
  {
   "cell_type": "code",
   "execution_count": 31,
   "id": "2d1378cc-fb2f-487e-bb30-c795c49a5076",
   "metadata": {},
   "outputs": [
    {
     "data": {
      "text/plain": [
       "array([[5. , 3.3, 3.7, 5.3, 3.6, 4.6, 3.9, 3.7]])"
      ]
     },
     "execution_count": 31,
     "metadata": {},
     "output_type": "execute_result"
    }
   ],
   "source": [
    "media_row[np.newaxis, :]"
   ]
  },
  {
   "cell_type": "code",
   "execution_count": 26,
   "id": "050d34e0-c006-45fb-8481-31ba5220b1bd",
   "metadata": {},
   "outputs": [],
   "source": [
    "media_row = media_row[:, np.newaxis]"
   ]
  },
  {
   "cell_type": "code",
   "execution_count": 27,
   "id": "206f4d80-c4d2-492b-8e72-d4e8138c87ec",
   "metadata": {},
   "outputs": [
    {
     "data": {
      "text/plain": [
       "array([[5. ],\n",
       "       [3.3],\n",
       "       [3.7],\n",
       "       [5.3],\n",
       "       [3.6],\n",
       "       [4.6],\n",
       "       [3.9],\n",
       "       [3.7]])"
      ]
     },
     "execution_count": 27,
     "metadata": {},
     "output_type": "execute_result"
    }
   ],
   "source": [
    "media_row"
   ]
  },
  {
   "cell_type": "code",
   "execution_count": 21,
   "id": "846c44f9-5c0c-4ddb-ac52-3d936f58d1ca",
   "metadata": {},
   "outputs": [
    {
     "data": {
      "text/plain": [
       "array([[5. ],\n",
       "       [3.3],\n",
       "       [3.7],\n",
       "       [5.3],\n",
       "       [3.6],\n",
       "       [4.6],\n",
       "       [3.9],\n",
       "       [3.7]])"
      ]
     },
     "execution_count": 21,
     "metadata": {},
     "output_type": "execute_result"
    }
   ],
   "source": [
    "media_row"
   ]
  },
  {
   "cell_type": "code",
   "execution_count": 18,
   "id": "73007ec3-45f0-42df-93ad-b02c0bae65a6",
   "metadata": {},
   "outputs": [
    {
     "data": {
      "text/plain": [
       "(8, 1)"
      ]
     },
     "execution_count": 18,
     "metadata": {},
     "output_type": "execute_result"
    }
   ],
   "source": [
    "media_row.shape"
   ]
  },
  {
   "cell_type": "code",
   "execution_count": 19,
   "id": "9fae0a2e-e104-4d4a-abeb-d6580b54cafa",
   "metadata": {},
   "outputs": [
    {
     "data": {
      "text/plain": [
       "(8, 10)"
      ]
     },
     "execution_count": 19,
     "metadata": {},
     "output_type": "execute_result"
    }
   ],
   "source": [
    "mat.shape"
   ]
  },
  {
   "cell_type": "code",
   "execution_count": 20,
   "id": "14e60cd2-f836-44ca-95b2-890d2d984d5a",
   "metadata": {},
   "outputs": [
    {
     "data": {
      "text/plain": [
       "array([[ 0. ,  0. ,  2. ,  0. ,  1. ,  3. , -2. ,  1. , -2. , -3. ],\n",
       "       [ 3.7, -2.3,  5.7,  0.7, -2.3, -1.3,  0.7,  0.7, -3.3, -2.3],\n",
       "       [ 0.3,  3.3,  4.3, -0.7,  0.3,  1.3,  0.3, -3.7, -2.7, -2.7],\n",
       "       [ 3.7, -3.3,  0.7, -0.3, -2.3,  1.7,  0.7,  3.7, -2.3, -2.3],\n",
       "       [ 4.4,  3.4, -0.6, -3.6,  2.4, -0.6, -2.6, -1.6, -2.6,  1.4],\n",
       "       [-3.6,  3.4,  4.4,  3.4, -3.6, -1.6, -3.6, -1.6,  4.4, -1.6],\n",
       "       [-3.9,  3.1, -0.9,  0.1,  2.1,  3.1,  2.1, -2.9,  1.1, -3.9],\n",
       "       [ 0.3,  0.3, -3.7,  4.3, -0.7,  4.3, -0.7, -1.7, -1.7, -0.7]])"
      ]
     },
     "execution_count": 20,
     "metadata": {},
     "output_type": "execute_result"
    }
   ],
   "source": [
    "mat - media_row"
   ]
  },
  {
   "cell_type": "markdown",
   "id": "7c8073bd-647b-4a69-a27a-47aa8a48d7b5",
   "metadata": {},
   "source": [
    "___"
   ]
  },
  {
   "cell_type": "code",
   "execution_count": 32,
   "id": "cc721130-f59a-4e26-8ab0-db4916983a20",
   "metadata": {},
   "outputs": [
    {
     "name": "stdout",
     "output_type": "stream",
     "text": [
      "(8, 10) (8,)\n"
     ]
    }
   ],
   "source": [
    "media_row = mat.mean(axis=1)\n",
    "\n",
    "print(mat.shape, media_row.shape)"
   ]
  },
  {
   "cell_type": "code",
   "execution_count": 33,
   "id": "320c7c9d-5c31-414a-bb76-d11adf90024a",
   "metadata": {},
   "outputs": [],
   "source": [
    "media_row = np.expand_dims(media_row, axis=1)"
   ]
  },
  {
   "cell_type": "code",
   "execution_count": 34,
   "id": "e1efc1a4-1362-42d0-aae9-7c6b933d6b4a",
   "metadata": {},
   "outputs": [
    {
     "name": "stdout",
     "output_type": "stream",
     "text": [
      "(8, 10) (8, 1)\n"
     ]
    }
   ],
   "source": [
    "print(mat.shape, media_row.shape)"
   ]
  },
  {
   "cell_type": "code",
   "execution_count": 35,
   "id": "18732ad1-5690-420f-a59e-e8de1b937d7f",
   "metadata": {},
   "outputs": [
    {
     "data": {
      "text/plain": [
       "array([[ 0. ,  0. ,  2. ,  0. ,  1. ,  3. , -2. ,  1. , -2. , -3. ],\n",
       "       [ 3.7, -2.3,  5.7,  0.7, -2.3, -1.3,  0.7,  0.7, -3.3, -2.3],\n",
       "       [ 0.3,  3.3,  4.3, -0.7,  0.3,  1.3,  0.3, -3.7, -2.7, -2.7],\n",
       "       [ 3.7, -3.3,  0.7, -0.3, -2.3,  1.7,  0.7,  3.7, -2.3, -2.3],\n",
       "       [ 4.4,  3.4, -0.6, -3.6,  2.4, -0.6, -2.6, -1.6, -2.6,  1.4],\n",
       "       [-3.6,  3.4,  4.4,  3.4, -3.6, -1.6, -3.6, -1.6,  4.4, -1.6],\n",
       "       [-3.9,  3.1, -0.9,  0.1,  2.1,  3.1,  2.1, -2.9,  1.1, -3.9],\n",
       "       [ 0.3,  0.3, -3.7,  4.3, -0.7,  4.3, -0.7, -1.7, -1.7, -0.7]])"
      ]
     },
     "execution_count": 35,
     "metadata": {},
     "output_type": "execute_result"
    }
   ],
   "source": [
    "mat - media_row"
   ]
  },
  {
   "cell_type": "code",
   "execution_count": 36,
   "id": "1fbb02a0-2aba-4595-968e-ce24eca6a98e",
   "metadata": {},
   "outputs": [
    {
     "data": {
      "text/plain": [
       "(8, 1)"
      ]
     },
     "execution_count": 36,
     "metadata": {},
     "output_type": "execute_result"
    }
   ],
   "source": [
    "media_row.shape"
   ]
  },
  {
   "cell_type": "code",
   "execution_count": 37,
   "id": "c536d99f-8d82-4656-944d-aabd37304af6",
   "metadata": {},
   "outputs": [
    {
     "data": {
      "text/plain": [
       "(8,)"
      ]
     },
     "execution_count": 37,
     "metadata": {},
     "output_type": "execute_result"
    }
   ],
   "source": [
    "media_row.squeeze().shape"
   ]
  },
  {
   "cell_type": "code",
   "execution_count": null,
   "id": "522692d5-f7ac-4b76-ac38-08c0e476def5",
   "metadata": {},
   "outputs": [],
   "source": []
  }
 ],
 "metadata": {
  "kernelspec": {
   "display_name": "Python 3 (ipykernel)",
   "language": "python",
   "name": "python3"
  },
  "language_info": {
   "codemirror_mode": {
    "name": "ipython",
    "version": 3
   },
   "file_extension": ".py",
   "mimetype": "text/x-python",
   "name": "python",
   "nbconvert_exporter": "python",
   "pygments_lexer": "ipython3",
   "version": "3.10.8"
  }
 },
 "nbformat": 4,
 "nbformat_minor": 5
}

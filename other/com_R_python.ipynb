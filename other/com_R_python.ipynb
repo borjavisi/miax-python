{
 "cells": [
  {
   "cell_type": "code",
   "execution_count": null,
   "metadata": {},
   "outputs": [],
   "source": [
    "import numpy as np"
   ]
  },
  {
   "cell_type": "markdown",
   "metadata": {},
   "source": [
    "### 50.000 combinaciones de lotería. Objetivo: Análisis de rendimiento del programa."
   ]
  },
  {
   "cell_type": "markdown",
   "metadata": {},
   "source": [
    "___"
   ]
  },
  {
   "cell_type": "code",
   "execution_count": null,
   "metadata": {},
   "outputs": [],
   "source": [
    "combinaciones = 50000\n",
    "n_bolas = 5"
   ]
  },
  {
   "cell_type": "markdown",
   "metadata": {},
   "source": [
    "### Solo usando modulos del lenguaje "
   ]
  },
  {
   "cell_type": "code",
   "execution_count": null,
   "metadata": {},
   "outputs": [],
   "source": [
    "import random"
   ]
  },
  {
   "cell_type": "code",
   "execution_count": null,
   "metadata": {},
   "outputs": [],
   "source": [
    "def sacar_bola_slow(combi, n_bola):\n",
    "    \"esta forma pued creo que puede producir bolas repetidas\"\n",
    "    bola = random.randint(0, 50)\n",
    "    for bola_comp in range(n_bola):\n",
    "        if bola == combi[bola_comp]:\n",
    "            bola = random.randint(0, 50)\n",
    "    return bola"
   ]
  },
  {
   "cell_type": "code",
   "execution_count": null,
   "metadata": {},
   "outputs": [],
   "source": [
    "%%time\n",
    "combi_ganadora = []\n",
    "for i in range(n_bolas):\n",
    "    combi_ganadora.append(sacar_bola_slow(combi_ganadora, i))\n",
    "\n",
    "apuestas = []\n",
    "aciertos = []\n",
    "\n",
    "for combinancion in range(combinaciones):\n",
    "    combi_apostada = []\n",
    "    for n_bola in range(n_bolas):\n",
    "        combi_apostada.append(sacar_bola_slow(combi_apostada, n_bola))\n",
    "    apuestas.append(combi_apostada)\n",
    "    \n",
    "    aciertos_combinacion = 0\n",
    "    for bola_ganadora in combi_ganadora:\n",
    "        for bola_apostada in combi_apostada:\n",
    "            if bola_ganadora == bola_apostada:\n",
    "                aciertos_combinacion += 1\n",
    "    aciertos.append(aciertos_combinacion)\n",
    "\n",
    "for num_aciertos in range(n_bolas):\n",
    "    print(f\"{num_aciertos} : {aciertos.count(num_aciertos)}\")"
   ]
  },
  {
   "cell_type": "markdown",
   "metadata": {},
   "source": [
    "### Podemos mejorar la funcion sacar bola con recursion"
   ]
  },
  {
   "cell_type": "code",
   "execution_count": null,
   "metadata": {},
   "outputs": [],
   "source": [
    "def sacar_bola(combi):\n",
    "    \"usa recursion, mo produce repetias\"\n",
    "    bola = random.randint(0, 50)\n",
    "    if bola in combi:\n",
    "        bola = sacar_bola(combi)\n",
    "    return bola"
   ]
  },
  {
   "cell_type": "code",
   "execution_count": null,
   "metadata": {},
   "outputs": [],
   "source": [
    "%%time\n",
    "combi_ganadora = []\n",
    "for i in range(n_bolas):\n",
    "    combi_ganadora.append(sacar_bola(combi_ganadora))\n",
    "\n",
    "apuestas = []\n",
    "aciertos = []\n",
    "\n",
    "for combinancion in range(combinaciones):\n",
    "    combi_apostada = []\n",
    "    for n_bola in range(n_bolas):\n",
    "        combi_apostada.append(sacar_bola(combi_apostada))\n",
    "    apuestas.append(combi_apostada)\n",
    "    \n",
    "    aciertos_combinacion = 0\n",
    "    for bola_ganadora in combi_ganadora:\n",
    "        for bola_apostada in combi_apostada:\n",
    "            if bola_ganadora == bola_apostada:\n",
    "                aciertos_combinacion += 1\n",
    "    aciertos.append(aciertos_combinacion)\n",
    "\n",
    "for num_aciertos in range(n_bolas):\n",
    "    print(f\"{num_aciertos} : {aciertos.count(num_aciertos)}\")"
   ]
  },
  {
   "cell_type": "markdown",
   "metadata": {},
   "source": [
    "#### Podemos sustituir por sets los dos bucles del final"
   ]
  },
  {
   "cell_type": "code",
   "execution_count": null,
   "metadata": {},
   "outputs": [],
   "source": [
    "%%time\n",
    "combi_ganadora = []\n",
    "for i in range(5):\n",
    "    combi_ganadora.append(sacar_bola(combi_ganadora))\n",
    "\n",
    "apuestas = []\n",
    "aciertos = []\n",
    "\n",
    "for combinancion in range(combinaciones):\n",
    "    combi_apostada = []\n",
    "    for n_bola in range(5):\n",
    "        combi_apostada.append(sacar_bola(combi_apostada))\n",
    "    apuestas.append(combi_apostada)\n",
    "    \n",
    "    aciertos_combinacion = len(set(combi_apostada).intersection(combi_ganadora))\n",
    "    aciertos.append(aciertos_combinacion)\n",
    "\n",
    "for num_aciertos in range(5):\n",
    "    print(f\"{num_aciertos} : {aciertos.count(num_aciertos)}\")"
   ]
  },
  {
   "cell_type": "markdown",
   "metadata": {},
   "source": [
    "### Con numpy"
   ]
  },
  {
   "cell_type": "code",
   "execution_count": null,
   "metadata": {},
   "outputs": [],
   "source": [
    "import numpy as np"
   ]
  },
  {
   "cell_type": "code",
   "execution_count": null,
   "metadata": {},
   "outputs": [],
   "source": [
    "%%time\n",
    "combinacion = np.random.choice(50, 5, replace=True)\n",
    "combi_ganadora = np.zeros(50)\n",
    "combi_ganadora[combinacion] = 1\n",
    "\n",
    "aciertos = np.zeros(combinaciones)\n",
    "\n",
    "for i in range(combinaciones):\n",
    "    combinacion = np.random.choice(50, 5, replace=True)\n",
    "    combi_apostada = np.zeros(50)\n",
    "    combi_apostada[combinacion] = 1\n",
    "    \n",
    "    aciertos[i] = combi_ganadora@combi_apostada\n",
    "\n",
    "unique, counts = np.unique(aciertos, return_counts=True)\n",
    "print(f\"{unique} {counts}\")"
   ]
  },
  {
   "cell_type": "markdown",
   "metadata": {},
   "source": [
    "Podemos definir las apuestas antes:"
   ]
  },
  {
   "cell_type": "code",
   "execution_count": null,
   "metadata": {},
   "outputs": [],
   "source": [
    "combinacion = np.random.choice(50, 5, replace=True)\n",
    "combi_ganadora = np.zeros(50)\n",
    "combi_ganadora[combinacion] = 1\n",
    "\n",
    "apuestas = np.zeros((combinaciones, 50))\n",
    "apuestas[:, :5] = 1\n",
    "[np.random.shuffle(apuesta) for apuesta in apuestas]\n",
    "\n",
    "num_aciertos = apuestas @ combi_ganadora\n",
    "unique, counts = np.unique(num_aciertos, return_counts=True)\n",
    "print(f\"{unique} {counts}\")"
   ]
  },
  {
   "cell_type": "markdown",
   "metadata": {},
   "source": [
    "aun así sigue siendo lento"
   ]
  },
  {
   "cell_type": "markdown",
   "metadata": {},
   "source": [
    "### Lo mas eficiente que se puede hacer con numpy es de la siguiente forma:"
   ]
  },
  {
   "cell_type": "code",
   "execution_count": null,
   "metadata": {},
   "outputs": [],
   "source": [
    "%%time\n",
    "combinacion = np.random.choice(50, 5, replace=True)\n",
    "combi_ganadora = np.zeros(50)\n",
    "combi_ganadora[combinacion] = 1\n",
    "\n",
    "apuestas = np.zeros((combinaciones, 50))\n",
    "apuestas_num = np.random.rand(combinaciones, 50).argpartition(5,axis=1)[:,:5]\n",
    "index = np.tile(np.expand_dims(np.arange(combinaciones), axis=0).transpose(), (1, 5))\n",
    "apuestas[index, apuestas_num] = 1\n",
    "\n",
    "num_aciertos = apuestas @ combi_ganadora\n",
    "unique, counts = np.unique(num_aciertos, return_counts=True)"
   ]
  },
  {
   "cell_type": "code",
   "execution_count": null,
   "metadata": {},
   "outputs": [],
   "source": [
    "print(f\"{unique} {counts}\")"
   ]
  },
  {
   "cell_type": "markdown",
   "metadata": {},
   "source": [
    "Podemos medirlo varias veces"
   ]
  },
  {
   "cell_type": "code",
   "execution_count": null,
   "metadata": {},
   "outputs": [],
   "source": [
    "%%timeit\n",
    "combinacion = np.random.choice(50, 5, replace=True)\n",
    "combi_ganadora = np.zeros(50)\n",
    "combi_ganadora[combinacion] = 1\n",
    "\n",
    "apuestas = np.zeros((combinaciones, 50))\n",
    "apuestas_num = np.random.rand(combinaciones, 50).argpartition(5,axis=1)[:,:5]\n",
    "index = np.tile(np.expand_dims(np.arange(combinaciones), axis=0).transpose(), (1, 5))\n",
    "apuestas[index, apuestas_num] = 1\n",
    "\n",
    "num_aciertos = apuestas @ combi_ganadora\n",
    "unique, counts = np.unique(num_aciertos, return_counts=True)"
   ]
  },
  {
   "cell_type": "markdown",
   "metadata": {},
   "source": [
    "133ms en mi ordenador aprox"
   ]
  }
 ],
 "metadata": {
  "kernelspec": {
   "display_name": "Python 3",
   "language": "python",
   "name": "python3"
  },
  "language_info": {
   "codemirror_mode": {
    "name": "ipython",
    "version": 3
   },
   "file_extension": ".py",
   "mimetype": "text/x-python",
   "name": "python",
   "nbconvert_exporter": "python",
   "pygments_lexer": "ipython3",
   "version": "3.7.3"
  }
 },
 "nbformat": 4,
 "nbformat_minor": 2
}
